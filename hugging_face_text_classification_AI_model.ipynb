{
  "nbformat": 4,
  "nbformat_minor": 0,
  "metadata": {
    "colab": {
      "provenance": [],
      "gpuType": "T4",
      "authorship_tag": "ABX9TyM+v/AqMJlU6RWac67hSVyN",
      "include_colab_link": true
    },
    "kernelspec": {
      "name": "python3",
      "display_name": "Python 3"
    },
    "language_info": {
      "name": "python"
    },
    "accelerator": "GPU",
    "widgets": {
      "application/vnd.jupyter.widget-state+json": {
        "e068c4a2dfae465b8ef35bd0ed10d372": {
          "model_module": "@jupyter-widgets/controls",
          "model_name": "HBoxModel",
          "model_module_version": "1.5.0",
          "state": {
            "_dom_classes": [],
            "_model_module": "@jupyter-widgets/controls",
            "_model_module_version": "1.5.0",
            "_model_name": "HBoxModel",
            "_view_count": null,
            "_view_module": "@jupyter-widgets/controls",
            "_view_module_version": "1.5.0",
            "_view_name": "HBoxView",
            "box_style": "",
            "children": [
              "IPY_MODEL_5b47e9f0b1634a4ab8aa921ca69401f3",
              "IPY_MODEL_0c36a0d7d05d4bb4b5ce63ba6c7404d5",
              "IPY_MODEL_3ead1cb172664cc99476b7e380da664c"
            ],
            "layout": "IPY_MODEL_18bcb129a49f44a48e8bbfee0edad115"
          }
        },
        "5b47e9f0b1634a4ab8aa921ca69401f3": {
          "model_module": "@jupyter-widgets/controls",
          "model_name": "HTMLModel",
          "model_module_version": "1.5.0",
          "state": {
            "_dom_classes": [],
            "_model_module": "@jupyter-widgets/controls",
            "_model_module_version": "1.5.0",
            "_model_name": "HTMLModel",
            "_view_count": null,
            "_view_module": "@jupyter-widgets/controls",
            "_view_module_version": "1.5.0",
            "_view_name": "HTMLView",
            "description": "",
            "description_tooltip": null,
            "layout": "IPY_MODEL_1e2344b56cb842b3af702183e84d1874",
            "placeholder": "​",
            "style": "IPY_MODEL_8fb7cdb5e00b414db6dd5c22eed0ff01",
            "value": "README.md: 100%"
          }
        },
        "0c36a0d7d05d4bb4b5ce63ba6c7404d5": {
          "model_module": "@jupyter-widgets/controls",
          "model_name": "FloatProgressModel",
          "model_module_version": "1.5.0",
          "state": {
            "_dom_classes": [],
            "_model_module": "@jupyter-widgets/controls",
            "_model_module_version": "1.5.0",
            "_model_name": "FloatProgressModel",
            "_view_count": null,
            "_view_module": "@jupyter-widgets/controls",
            "_view_module_version": "1.5.0",
            "_view_name": "ProgressView",
            "bar_style": "success",
            "description": "",
            "description_tooltip": null,
            "layout": "IPY_MODEL_13907cab47544b3baa64e85e370330ab",
            "max": 1324,
            "min": 0,
            "orientation": "horizontal",
            "style": "IPY_MODEL_0e74eee5306a4f768a49b48f32e437f7",
            "value": 1324
          }
        },
        "3ead1cb172664cc99476b7e380da664c": {
          "model_module": "@jupyter-widgets/controls",
          "model_name": "HTMLModel",
          "model_module_version": "1.5.0",
          "state": {
            "_dom_classes": [],
            "_model_module": "@jupyter-widgets/controls",
            "_model_module_version": "1.5.0",
            "_model_name": "HTMLModel",
            "_view_count": null,
            "_view_module": "@jupyter-widgets/controls",
            "_view_module_version": "1.5.0",
            "_view_name": "HTMLView",
            "description": "",
            "description_tooltip": null,
            "layout": "IPY_MODEL_ea28c3b2548549b7a18d1276ffe088e8",
            "placeholder": "​",
            "style": "IPY_MODEL_1e3dd9fa20954196b2039be68828bfc0",
            "value": " 1.32k/1.32k [00:00&lt;00:00, 30.9kB/s]"
          }
        },
        "18bcb129a49f44a48e8bbfee0edad115": {
          "model_module": "@jupyter-widgets/base",
          "model_name": "LayoutModel",
          "model_module_version": "1.2.0",
          "state": {
            "_model_module": "@jupyter-widgets/base",
            "_model_module_version": "1.2.0",
            "_model_name": "LayoutModel",
            "_view_count": null,
            "_view_module": "@jupyter-widgets/base",
            "_view_module_version": "1.2.0",
            "_view_name": "LayoutView",
            "align_content": null,
            "align_items": null,
            "align_self": null,
            "border": null,
            "bottom": null,
            "display": null,
            "flex": null,
            "flex_flow": null,
            "grid_area": null,
            "grid_auto_columns": null,
            "grid_auto_flow": null,
            "grid_auto_rows": null,
            "grid_column": null,
            "grid_gap": null,
            "grid_row": null,
            "grid_template_areas": null,
            "grid_template_columns": null,
            "grid_template_rows": null,
            "height": null,
            "justify_content": null,
            "justify_items": null,
            "left": null,
            "margin": null,
            "max_height": null,
            "max_width": null,
            "min_height": null,
            "min_width": null,
            "object_fit": null,
            "object_position": null,
            "order": null,
            "overflow": null,
            "overflow_x": null,
            "overflow_y": null,
            "padding": null,
            "right": null,
            "top": null,
            "visibility": null,
            "width": null
          }
        },
        "1e2344b56cb842b3af702183e84d1874": {
          "model_module": "@jupyter-widgets/base",
          "model_name": "LayoutModel",
          "model_module_version": "1.2.0",
          "state": {
            "_model_module": "@jupyter-widgets/base",
            "_model_module_version": "1.2.0",
            "_model_name": "LayoutModel",
            "_view_count": null,
            "_view_module": "@jupyter-widgets/base",
            "_view_module_version": "1.2.0",
            "_view_name": "LayoutView",
            "align_content": null,
            "align_items": null,
            "align_self": null,
            "border": null,
            "bottom": null,
            "display": null,
            "flex": null,
            "flex_flow": null,
            "grid_area": null,
            "grid_auto_columns": null,
            "grid_auto_flow": null,
            "grid_auto_rows": null,
            "grid_column": null,
            "grid_gap": null,
            "grid_row": null,
            "grid_template_areas": null,
            "grid_template_columns": null,
            "grid_template_rows": null,
            "height": null,
            "justify_content": null,
            "justify_items": null,
            "left": null,
            "margin": null,
            "max_height": null,
            "max_width": null,
            "min_height": null,
            "min_width": null,
            "object_fit": null,
            "object_position": null,
            "order": null,
            "overflow": null,
            "overflow_x": null,
            "overflow_y": null,
            "padding": null,
            "right": null,
            "top": null,
            "visibility": null,
            "width": null
          }
        },
        "8fb7cdb5e00b414db6dd5c22eed0ff01": {
          "model_module": "@jupyter-widgets/controls",
          "model_name": "DescriptionStyleModel",
          "model_module_version": "1.5.0",
          "state": {
            "_model_module": "@jupyter-widgets/controls",
            "_model_module_version": "1.5.0",
            "_model_name": "DescriptionStyleModel",
            "_view_count": null,
            "_view_module": "@jupyter-widgets/base",
            "_view_module_version": "1.2.0",
            "_view_name": "StyleView",
            "description_width": ""
          }
        },
        "13907cab47544b3baa64e85e370330ab": {
          "model_module": "@jupyter-widgets/base",
          "model_name": "LayoutModel",
          "model_module_version": "1.2.0",
          "state": {
            "_model_module": "@jupyter-widgets/base",
            "_model_module_version": "1.2.0",
            "_model_name": "LayoutModel",
            "_view_count": null,
            "_view_module": "@jupyter-widgets/base",
            "_view_module_version": "1.2.0",
            "_view_name": "LayoutView",
            "align_content": null,
            "align_items": null,
            "align_self": null,
            "border": null,
            "bottom": null,
            "display": null,
            "flex": null,
            "flex_flow": null,
            "grid_area": null,
            "grid_auto_columns": null,
            "grid_auto_flow": null,
            "grid_auto_rows": null,
            "grid_column": null,
            "grid_gap": null,
            "grid_row": null,
            "grid_template_areas": null,
            "grid_template_columns": null,
            "grid_template_rows": null,
            "height": null,
            "justify_content": null,
            "justify_items": null,
            "left": null,
            "margin": null,
            "max_height": null,
            "max_width": null,
            "min_height": null,
            "min_width": null,
            "object_fit": null,
            "object_position": null,
            "order": null,
            "overflow": null,
            "overflow_x": null,
            "overflow_y": null,
            "padding": null,
            "right": null,
            "top": null,
            "visibility": null,
            "width": null
          }
        },
        "0e74eee5306a4f768a49b48f32e437f7": {
          "model_module": "@jupyter-widgets/controls",
          "model_name": "ProgressStyleModel",
          "model_module_version": "1.5.0",
          "state": {
            "_model_module": "@jupyter-widgets/controls",
            "_model_module_version": "1.5.0",
            "_model_name": "ProgressStyleModel",
            "_view_count": null,
            "_view_module": "@jupyter-widgets/base",
            "_view_module_version": "1.2.0",
            "_view_name": "StyleView",
            "bar_color": null,
            "description_width": ""
          }
        },
        "ea28c3b2548549b7a18d1276ffe088e8": {
          "model_module": "@jupyter-widgets/base",
          "model_name": "LayoutModel",
          "model_module_version": "1.2.0",
          "state": {
            "_model_module": "@jupyter-widgets/base",
            "_model_module_version": "1.2.0",
            "_model_name": "LayoutModel",
            "_view_count": null,
            "_view_module": "@jupyter-widgets/base",
            "_view_module_version": "1.2.0",
            "_view_name": "LayoutView",
            "align_content": null,
            "align_items": null,
            "align_self": null,
            "border": null,
            "bottom": null,
            "display": null,
            "flex": null,
            "flex_flow": null,
            "grid_area": null,
            "grid_auto_columns": null,
            "grid_auto_flow": null,
            "grid_auto_rows": null,
            "grid_column": null,
            "grid_gap": null,
            "grid_row": null,
            "grid_template_areas": null,
            "grid_template_columns": null,
            "grid_template_rows": null,
            "height": null,
            "justify_content": null,
            "justify_items": null,
            "left": null,
            "margin": null,
            "max_height": null,
            "max_width": null,
            "min_height": null,
            "min_width": null,
            "object_fit": null,
            "object_position": null,
            "order": null,
            "overflow": null,
            "overflow_x": null,
            "overflow_y": null,
            "padding": null,
            "right": null,
            "top": null,
            "visibility": null,
            "width": null
          }
        },
        "1e3dd9fa20954196b2039be68828bfc0": {
          "model_module": "@jupyter-widgets/controls",
          "model_name": "DescriptionStyleModel",
          "model_module_version": "1.5.0",
          "state": {
            "_model_module": "@jupyter-widgets/controls",
            "_model_module_version": "1.5.0",
            "_model_name": "DescriptionStyleModel",
            "_view_count": null,
            "_view_module": "@jupyter-widgets/base",
            "_view_module_version": "1.2.0",
            "_view_name": "StyleView",
            "description_width": ""
          }
        },
        "78dfecd7a1fb4d83b454f3afea29eb7f": {
          "model_module": "@jupyter-widgets/controls",
          "model_name": "HBoxModel",
          "model_module_version": "1.5.0",
          "state": {
            "_dom_classes": [],
            "_model_module": "@jupyter-widgets/controls",
            "_model_module_version": "1.5.0",
            "_model_name": "HBoxModel",
            "_view_count": null,
            "_view_module": "@jupyter-widgets/controls",
            "_view_module_version": "1.5.0",
            "_view_name": "HBoxView",
            "box_style": "",
            "children": [
              "IPY_MODEL_bb3a25d98937458698f73dd4b0f9b05e",
              "IPY_MODEL_c2d0a636fb2640e5b5ef96aaa983b4ce",
              "IPY_MODEL_fe96c2704a3c43ff9d06352ade4a976e"
            ],
            "layout": "IPY_MODEL_2c3be6e0541e4fa7babe335368c63c8f"
          }
        },
        "bb3a25d98937458698f73dd4b0f9b05e": {
          "model_module": "@jupyter-widgets/controls",
          "model_name": "HTMLModel",
          "model_module_version": "1.5.0",
          "state": {
            "_dom_classes": [],
            "_model_module": "@jupyter-widgets/controls",
            "_model_module_version": "1.5.0",
            "_model_name": "HTMLModel",
            "_view_count": null,
            "_view_module": "@jupyter-widgets/controls",
            "_view_module_version": "1.5.0",
            "_view_name": "HTMLView",
            "description": "",
            "description_tooltip": null,
            "layout": "IPY_MODEL_d8bcafd074a54ae8a6f204ef780e91f8",
            "placeholder": "​",
            "style": "IPY_MODEL_734c675735344b04b6486ff07de36828",
            "value": "train-00000-of-00001.parquet: 100%"
          }
        },
        "c2d0a636fb2640e5b5ef96aaa983b4ce": {
          "model_module": "@jupyter-widgets/controls",
          "model_name": "FloatProgressModel",
          "model_module_version": "1.5.0",
          "state": {
            "_dom_classes": [],
            "_model_module": "@jupyter-widgets/controls",
            "_model_module_version": "1.5.0",
            "_model_name": "FloatProgressModel",
            "_view_count": null,
            "_view_module": "@jupyter-widgets/controls",
            "_view_module_version": "1.5.0",
            "_view_name": "ProgressView",
            "bar_style": "success",
            "description": "",
            "description_tooltip": null,
            "layout": "IPY_MODEL_b8b50ada3ddf42c3a2cd4d4dd9c427b6",
            "max": 11945,
            "min": 0,
            "orientation": "horizontal",
            "style": "IPY_MODEL_e9afb117797b4ef09d182ac25951d642",
            "value": 11945
          }
        },
        "fe96c2704a3c43ff9d06352ade4a976e": {
          "model_module": "@jupyter-widgets/controls",
          "model_name": "HTMLModel",
          "model_module_version": "1.5.0",
          "state": {
            "_dom_classes": [],
            "_model_module": "@jupyter-widgets/controls",
            "_model_module_version": "1.5.0",
            "_model_name": "HTMLModel",
            "_view_count": null,
            "_view_module": "@jupyter-widgets/controls",
            "_view_module_version": "1.5.0",
            "_view_name": "HTMLView",
            "description": "",
            "description_tooltip": null,
            "layout": "IPY_MODEL_3b2a463bdcfd4fde896fe3366783634b",
            "placeholder": "​",
            "style": "IPY_MODEL_efe12d83d1824bb5b742c01a828c4645",
            "value": " 11.9k/11.9k [00:00&lt;00:00, 269kB/s]"
          }
        },
        "2c3be6e0541e4fa7babe335368c63c8f": {
          "model_module": "@jupyter-widgets/base",
          "model_name": "LayoutModel",
          "model_module_version": "1.2.0",
          "state": {
            "_model_module": "@jupyter-widgets/base",
            "_model_module_version": "1.2.0",
            "_model_name": "LayoutModel",
            "_view_count": null,
            "_view_module": "@jupyter-widgets/base",
            "_view_module_version": "1.2.0",
            "_view_name": "LayoutView",
            "align_content": null,
            "align_items": null,
            "align_self": null,
            "border": null,
            "bottom": null,
            "display": null,
            "flex": null,
            "flex_flow": null,
            "grid_area": null,
            "grid_auto_columns": null,
            "grid_auto_flow": null,
            "grid_auto_rows": null,
            "grid_column": null,
            "grid_gap": null,
            "grid_row": null,
            "grid_template_areas": null,
            "grid_template_columns": null,
            "grid_template_rows": null,
            "height": null,
            "justify_content": null,
            "justify_items": null,
            "left": null,
            "margin": null,
            "max_height": null,
            "max_width": null,
            "min_height": null,
            "min_width": null,
            "object_fit": null,
            "object_position": null,
            "order": null,
            "overflow": null,
            "overflow_x": null,
            "overflow_y": null,
            "padding": null,
            "right": null,
            "top": null,
            "visibility": null,
            "width": null
          }
        },
        "d8bcafd074a54ae8a6f204ef780e91f8": {
          "model_module": "@jupyter-widgets/base",
          "model_name": "LayoutModel",
          "model_module_version": "1.2.0",
          "state": {
            "_model_module": "@jupyter-widgets/base",
            "_model_module_version": "1.2.0",
            "_model_name": "LayoutModel",
            "_view_count": null,
            "_view_module": "@jupyter-widgets/base",
            "_view_module_version": "1.2.0",
            "_view_name": "LayoutView",
            "align_content": null,
            "align_items": null,
            "align_self": null,
            "border": null,
            "bottom": null,
            "display": null,
            "flex": null,
            "flex_flow": null,
            "grid_area": null,
            "grid_auto_columns": null,
            "grid_auto_flow": null,
            "grid_auto_rows": null,
            "grid_column": null,
            "grid_gap": null,
            "grid_row": null,
            "grid_template_areas": null,
            "grid_template_columns": null,
            "grid_template_rows": null,
            "height": null,
            "justify_content": null,
            "justify_items": null,
            "left": null,
            "margin": null,
            "max_height": null,
            "max_width": null,
            "min_height": null,
            "min_width": null,
            "object_fit": null,
            "object_position": null,
            "order": null,
            "overflow": null,
            "overflow_x": null,
            "overflow_y": null,
            "padding": null,
            "right": null,
            "top": null,
            "visibility": null,
            "width": null
          }
        },
        "734c675735344b04b6486ff07de36828": {
          "model_module": "@jupyter-widgets/controls",
          "model_name": "DescriptionStyleModel",
          "model_module_version": "1.5.0",
          "state": {
            "_model_module": "@jupyter-widgets/controls",
            "_model_module_version": "1.5.0",
            "_model_name": "DescriptionStyleModel",
            "_view_count": null,
            "_view_module": "@jupyter-widgets/base",
            "_view_module_version": "1.2.0",
            "_view_name": "StyleView",
            "description_width": ""
          }
        },
        "b8b50ada3ddf42c3a2cd4d4dd9c427b6": {
          "model_module": "@jupyter-widgets/base",
          "model_name": "LayoutModel",
          "model_module_version": "1.2.0",
          "state": {
            "_model_module": "@jupyter-widgets/base",
            "_model_module_version": "1.2.0",
            "_model_name": "LayoutModel",
            "_view_count": null,
            "_view_module": "@jupyter-widgets/base",
            "_view_module_version": "1.2.0",
            "_view_name": "LayoutView",
            "align_content": null,
            "align_items": null,
            "align_self": null,
            "border": null,
            "bottom": null,
            "display": null,
            "flex": null,
            "flex_flow": null,
            "grid_area": null,
            "grid_auto_columns": null,
            "grid_auto_flow": null,
            "grid_auto_rows": null,
            "grid_column": null,
            "grid_gap": null,
            "grid_row": null,
            "grid_template_areas": null,
            "grid_template_columns": null,
            "grid_template_rows": null,
            "height": null,
            "justify_content": null,
            "justify_items": null,
            "left": null,
            "margin": null,
            "max_height": null,
            "max_width": null,
            "min_height": null,
            "min_width": null,
            "object_fit": null,
            "object_position": null,
            "order": null,
            "overflow": null,
            "overflow_x": null,
            "overflow_y": null,
            "padding": null,
            "right": null,
            "top": null,
            "visibility": null,
            "width": null
          }
        },
        "e9afb117797b4ef09d182ac25951d642": {
          "model_module": "@jupyter-widgets/controls",
          "model_name": "ProgressStyleModel",
          "model_module_version": "1.5.0",
          "state": {
            "_model_module": "@jupyter-widgets/controls",
            "_model_module_version": "1.5.0",
            "_model_name": "ProgressStyleModel",
            "_view_count": null,
            "_view_module": "@jupyter-widgets/base",
            "_view_module_version": "1.2.0",
            "_view_name": "StyleView",
            "bar_color": null,
            "description_width": ""
          }
        },
        "3b2a463bdcfd4fde896fe3366783634b": {
          "model_module": "@jupyter-widgets/base",
          "model_name": "LayoutModel",
          "model_module_version": "1.2.0",
          "state": {
            "_model_module": "@jupyter-widgets/base",
            "_model_module_version": "1.2.0",
            "_model_name": "LayoutModel",
            "_view_count": null,
            "_view_module": "@jupyter-widgets/base",
            "_view_module_version": "1.2.0",
            "_view_name": "LayoutView",
            "align_content": null,
            "align_items": null,
            "align_self": null,
            "border": null,
            "bottom": null,
            "display": null,
            "flex": null,
            "flex_flow": null,
            "grid_area": null,
            "grid_auto_columns": null,
            "grid_auto_flow": null,
            "grid_auto_rows": null,
            "grid_column": null,
            "grid_gap": null,
            "grid_row": null,
            "grid_template_areas": null,
            "grid_template_columns": null,
            "grid_template_rows": null,
            "height": null,
            "justify_content": null,
            "justify_items": null,
            "left": null,
            "margin": null,
            "max_height": null,
            "max_width": null,
            "min_height": null,
            "min_width": null,
            "object_fit": null,
            "object_position": null,
            "order": null,
            "overflow": null,
            "overflow_x": null,
            "overflow_y": null,
            "padding": null,
            "right": null,
            "top": null,
            "visibility": null,
            "width": null
          }
        },
        "efe12d83d1824bb5b742c01a828c4645": {
          "model_module": "@jupyter-widgets/controls",
          "model_name": "DescriptionStyleModel",
          "model_module_version": "1.5.0",
          "state": {
            "_model_module": "@jupyter-widgets/controls",
            "_model_module_version": "1.5.0",
            "_model_name": "DescriptionStyleModel",
            "_view_count": null,
            "_view_module": "@jupyter-widgets/base",
            "_view_module_version": "1.2.0",
            "_view_name": "StyleView",
            "description_width": ""
          }
        },
        "eee38a80eced4778b9e4605922e087a0": {
          "model_module": "@jupyter-widgets/controls",
          "model_name": "HBoxModel",
          "model_module_version": "1.5.0",
          "state": {
            "_dom_classes": [],
            "_model_module": "@jupyter-widgets/controls",
            "_model_module_version": "1.5.0",
            "_model_name": "HBoxModel",
            "_view_count": null,
            "_view_module": "@jupyter-widgets/controls",
            "_view_module_version": "1.5.0",
            "_view_name": "HBoxView",
            "box_style": "",
            "children": [
              "IPY_MODEL_3213d145b0e64783b2ba24e1e79acf54",
              "IPY_MODEL_5583ac8cdeda40f784d7ceaa66c2ac2e",
              "IPY_MODEL_4a18114d397744a6bd76ea46bf625989"
            ],
            "layout": "IPY_MODEL_7e66617819ad4b0795358a8df6f3cc32"
          }
        },
        "3213d145b0e64783b2ba24e1e79acf54": {
          "model_module": "@jupyter-widgets/controls",
          "model_name": "HTMLModel",
          "model_module_version": "1.5.0",
          "state": {
            "_dom_classes": [],
            "_model_module": "@jupyter-widgets/controls",
            "_model_module_version": "1.5.0",
            "_model_name": "HTMLModel",
            "_view_count": null,
            "_view_module": "@jupyter-widgets/controls",
            "_view_module_version": "1.5.0",
            "_view_name": "HTMLView",
            "description": "",
            "description_tooltip": null,
            "layout": "IPY_MODEL_164b3f0c208b46a5b198f9d7218d0124",
            "placeholder": "​",
            "style": "IPY_MODEL_7791f238df624b97b59e15a44dedd577",
            "value": "Generating train split: 100%"
          }
        },
        "5583ac8cdeda40f784d7ceaa66c2ac2e": {
          "model_module": "@jupyter-widgets/controls",
          "model_name": "FloatProgressModel",
          "model_module_version": "1.5.0",
          "state": {
            "_dom_classes": [],
            "_model_module": "@jupyter-widgets/controls",
            "_model_module_version": "1.5.0",
            "_model_name": "FloatProgressModel",
            "_view_count": null,
            "_view_module": "@jupyter-widgets/controls",
            "_view_module_version": "1.5.0",
            "_view_name": "ProgressView",
            "bar_style": "success",
            "description": "",
            "description_tooltip": null,
            "layout": "IPY_MODEL_90966dd072284a1db319efd8aa536a31",
            "max": 250,
            "min": 0,
            "orientation": "horizontal",
            "style": "IPY_MODEL_fb5f072262f94bc480bf12f3131185a5",
            "value": 250
          }
        },
        "4a18114d397744a6bd76ea46bf625989": {
          "model_module": "@jupyter-widgets/controls",
          "model_name": "HTMLModel",
          "model_module_version": "1.5.0",
          "state": {
            "_dom_classes": [],
            "_model_module": "@jupyter-widgets/controls",
            "_model_module_version": "1.5.0",
            "_model_name": "HTMLModel",
            "_view_count": null,
            "_view_module": "@jupyter-widgets/controls",
            "_view_module_version": "1.5.0",
            "_view_name": "HTMLView",
            "description": "",
            "description_tooltip": null,
            "layout": "IPY_MODEL_b1eae69845fb4b459c2c221f0173714d",
            "placeholder": "​",
            "style": "IPY_MODEL_05ace71f01224ba18d5e0d7b27d6f33d",
            "value": " 250/250 [00:00&lt;00:00, 1831.50 examples/s]"
          }
        },
        "7e66617819ad4b0795358a8df6f3cc32": {
          "model_module": "@jupyter-widgets/base",
          "model_name": "LayoutModel",
          "model_module_version": "1.2.0",
          "state": {
            "_model_module": "@jupyter-widgets/base",
            "_model_module_version": "1.2.0",
            "_model_name": "LayoutModel",
            "_view_count": null,
            "_view_module": "@jupyter-widgets/base",
            "_view_module_version": "1.2.0",
            "_view_name": "LayoutView",
            "align_content": null,
            "align_items": null,
            "align_self": null,
            "border": null,
            "bottom": null,
            "display": null,
            "flex": null,
            "flex_flow": null,
            "grid_area": null,
            "grid_auto_columns": null,
            "grid_auto_flow": null,
            "grid_auto_rows": null,
            "grid_column": null,
            "grid_gap": null,
            "grid_row": null,
            "grid_template_areas": null,
            "grid_template_columns": null,
            "grid_template_rows": null,
            "height": null,
            "justify_content": null,
            "justify_items": null,
            "left": null,
            "margin": null,
            "max_height": null,
            "max_width": null,
            "min_height": null,
            "min_width": null,
            "object_fit": null,
            "object_position": null,
            "order": null,
            "overflow": null,
            "overflow_x": null,
            "overflow_y": null,
            "padding": null,
            "right": null,
            "top": null,
            "visibility": null,
            "width": null
          }
        },
        "164b3f0c208b46a5b198f9d7218d0124": {
          "model_module": "@jupyter-widgets/base",
          "model_name": "LayoutModel",
          "model_module_version": "1.2.0",
          "state": {
            "_model_module": "@jupyter-widgets/base",
            "_model_module_version": "1.2.0",
            "_model_name": "LayoutModel",
            "_view_count": null,
            "_view_module": "@jupyter-widgets/base",
            "_view_module_version": "1.2.0",
            "_view_name": "LayoutView",
            "align_content": null,
            "align_items": null,
            "align_self": null,
            "border": null,
            "bottom": null,
            "display": null,
            "flex": null,
            "flex_flow": null,
            "grid_area": null,
            "grid_auto_columns": null,
            "grid_auto_flow": null,
            "grid_auto_rows": null,
            "grid_column": null,
            "grid_gap": null,
            "grid_row": null,
            "grid_template_areas": null,
            "grid_template_columns": null,
            "grid_template_rows": null,
            "height": null,
            "justify_content": null,
            "justify_items": null,
            "left": null,
            "margin": null,
            "max_height": null,
            "max_width": null,
            "min_height": null,
            "min_width": null,
            "object_fit": null,
            "object_position": null,
            "order": null,
            "overflow": null,
            "overflow_x": null,
            "overflow_y": null,
            "padding": null,
            "right": null,
            "top": null,
            "visibility": null,
            "width": null
          }
        },
        "7791f238df624b97b59e15a44dedd577": {
          "model_module": "@jupyter-widgets/controls",
          "model_name": "DescriptionStyleModel",
          "model_module_version": "1.5.0",
          "state": {
            "_model_module": "@jupyter-widgets/controls",
            "_model_module_version": "1.5.0",
            "_model_name": "DescriptionStyleModel",
            "_view_count": null,
            "_view_module": "@jupyter-widgets/base",
            "_view_module_version": "1.2.0",
            "_view_name": "StyleView",
            "description_width": ""
          }
        },
        "90966dd072284a1db319efd8aa536a31": {
          "model_module": "@jupyter-widgets/base",
          "model_name": "LayoutModel",
          "model_module_version": "1.2.0",
          "state": {
            "_model_module": "@jupyter-widgets/base",
            "_model_module_version": "1.2.0",
            "_model_name": "LayoutModel",
            "_view_count": null,
            "_view_module": "@jupyter-widgets/base",
            "_view_module_version": "1.2.0",
            "_view_name": "LayoutView",
            "align_content": null,
            "align_items": null,
            "align_self": null,
            "border": null,
            "bottom": null,
            "display": null,
            "flex": null,
            "flex_flow": null,
            "grid_area": null,
            "grid_auto_columns": null,
            "grid_auto_flow": null,
            "grid_auto_rows": null,
            "grid_column": null,
            "grid_gap": null,
            "grid_row": null,
            "grid_template_areas": null,
            "grid_template_columns": null,
            "grid_template_rows": null,
            "height": null,
            "justify_content": null,
            "justify_items": null,
            "left": null,
            "margin": null,
            "max_height": null,
            "max_width": null,
            "min_height": null,
            "min_width": null,
            "object_fit": null,
            "object_position": null,
            "order": null,
            "overflow": null,
            "overflow_x": null,
            "overflow_y": null,
            "padding": null,
            "right": null,
            "top": null,
            "visibility": null,
            "width": null
          }
        },
        "fb5f072262f94bc480bf12f3131185a5": {
          "model_module": "@jupyter-widgets/controls",
          "model_name": "ProgressStyleModel",
          "model_module_version": "1.5.0",
          "state": {
            "_model_module": "@jupyter-widgets/controls",
            "_model_module_version": "1.5.0",
            "_model_name": "ProgressStyleModel",
            "_view_count": null,
            "_view_module": "@jupyter-widgets/base",
            "_view_module_version": "1.2.0",
            "_view_name": "StyleView",
            "bar_color": null,
            "description_width": ""
          }
        },
        "b1eae69845fb4b459c2c221f0173714d": {
          "model_module": "@jupyter-widgets/base",
          "model_name": "LayoutModel",
          "model_module_version": "1.2.0",
          "state": {
            "_model_module": "@jupyter-widgets/base",
            "_model_module_version": "1.2.0",
            "_model_name": "LayoutModel",
            "_view_count": null,
            "_view_module": "@jupyter-widgets/base",
            "_view_module_version": "1.2.0",
            "_view_name": "LayoutView",
            "align_content": null,
            "align_items": null,
            "align_self": null,
            "border": null,
            "bottom": null,
            "display": null,
            "flex": null,
            "flex_flow": null,
            "grid_area": null,
            "grid_auto_columns": null,
            "grid_auto_flow": null,
            "grid_auto_rows": null,
            "grid_column": null,
            "grid_gap": null,
            "grid_row": null,
            "grid_template_areas": null,
            "grid_template_columns": null,
            "grid_template_rows": null,
            "height": null,
            "justify_content": null,
            "justify_items": null,
            "left": null,
            "margin": null,
            "max_height": null,
            "max_width": null,
            "min_height": null,
            "min_width": null,
            "object_fit": null,
            "object_position": null,
            "order": null,
            "overflow": null,
            "overflow_x": null,
            "overflow_y": null,
            "padding": null,
            "right": null,
            "top": null,
            "visibility": null,
            "width": null
          }
        },
        "05ace71f01224ba18d5e0d7b27d6f33d": {
          "model_module": "@jupyter-widgets/controls",
          "model_name": "DescriptionStyleModel",
          "model_module_version": "1.5.0",
          "state": {
            "_model_module": "@jupyter-widgets/controls",
            "_model_module_version": "1.5.0",
            "_model_name": "DescriptionStyleModel",
            "_view_count": null,
            "_view_module": "@jupyter-widgets/base",
            "_view_module_version": "1.2.0",
            "_view_name": "StyleView",
            "description_width": ""
          }
        },
        "a9504f88355b4f138ffdb5bc92adc373": {
          "model_module": "@jupyter-widgets/controls",
          "model_name": "HBoxModel",
          "model_module_version": "1.5.0",
          "state": {
            "_dom_classes": [],
            "_model_module": "@jupyter-widgets/controls",
            "_model_module_version": "1.5.0",
            "_model_name": "HBoxModel",
            "_view_count": null,
            "_view_module": "@jupyter-widgets/controls",
            "_view_module_version": "1.5.0",
            "_view_name": "HBoxView",
            "box_style": "",
            "children": [
              "IPY_MODEL_6302e627c31d4bf09a63a83446127ef5",
              "IPY_MODEL_d2da6608fbe544cf910cff7380c321b1",
              "IPY_MODEL_0000340feb2e4b44ab4ccac0f4ec0902"
            ],
            "layout": "IPY_MODEL_4d2a2c96b94143dfa95ae600c45f1483"
          }
        },
        "6302e627c31d4bf09a63a83446127ef5": {
          "model_module": "@jupyter-widgets/controls",
          "model_name": "HTMLModel",
          "model_module_version": "1.5.0",
          "state": {
            "_dom_classes": [],
            "_model_module": "@jupyter-widgets/controls",
            "_model_module_version": "1.5.0",
            "_model_name": "HTMLModel",
            "_view_count": null,
            "_view_module": "@jupyter-widgets/controls",
            "_view_module_version": "1.5.0",
            "_view_name": "HTMLView",
            "description": "",
            "description_tooltip": null,
            "layout": "IPY_MODEL_22c76e24afa84c1d9908d40d293da136",
            "placeholder": "​",
            "style": "IPY_MODEL_bcc6ff4f5d5f428bb839f16a1da7e3ba",
            "value": "Map: 100%"
          }
        },
        "d2da6608fbe544cf910cff7380c321b1": {
          "model_module": "@jupyter-widgets/controls",
          "model_name": "FloatProgressModel",
          "model_module_version": "1.5.0",
          "state": {
            "_dom_classes": [],
            "_model_module": "@jupyter-widgets/controls",
            "_model_module_version": "1.5.0",
            "_model_name": "FloatProgressModel",
            "_view_count": null,
            "_view_module": "@jupyter-widgets/controls",
            "_view_module_version": "1.5.0",
            "_view_name": "ProgressView",
            "bar_style": "success",
            "description": "",
            "description_tooltip": null,
            "layout": "IPY_MODEL_01356913d5cb43d09962d5071e64a09d",
            "max": 250,
            "min": 0,
            "orientation": "horizontal",
            "style": "IPY_MODEL_88579ebb58c14559b8d3e34a336fbec8",
            "value": 250
          }
        },
        "0000340feb2e4b44ab4ccac0f4ec0902": {
          "model_module": "@jupyter-widgets/controls",
          "model_name": "HTMLModel",
          "model_module_version": "1.5.0",
          "state": {
            "_dom_classes": [],
            "_model_module": "@jupyter-widgets/controls",
            "_model_module_version": "1.5.0",
            "_model_name": "HTMLModel",
            "_view_count": null,
            "_view_module": "@jupyter-widgets/controls",
            "_view_module_version": "1.5.0",
            "_view_name": "HTMLView",
            "description": "",
            "description_tooltip": null,
            "layout": "IPY_MODEL_244d0718fb444021954100c50339e718",
            "placeholder": "​",
            "style": "IPY_MODEL_ca941abc3eb143e7a20174e50b5c3c5d",
            "value": " 250/250 [00:00&lt;00:00, 4489.19 examples/s]"
          }
        },
        "4d2a2c96b94143dfa95ae600c45f1483": {
          "model_module": "@jupyter-widgets/base",
          "model_name": "LayoutModel",
          "model_module_version": "1.2.0",
          "state": {
            "_model_module": "@jupyter-widgets/base",
            "_model_module_version": "1.2.0",
            "_model_name": "LayoutModel",
            "_view_count": null,
            "_view_module": "@jupyter-widgets/base",
            "_view_module_version": "1.2.0",
            "_view_name": "LayoutView",
            "align_content": null,
            "align_items": null,
            "align_self": null,
            "border": null,
            "bottom": null,
            "display": null,
            "flex": null,
            "flex_flow": null,
            "grid_area": null,
            "grid_auto_columns": null,
            "grid_auto_flow": null,
            "grid_auto_rows": null,
            "grid_column": null,
            "grid_gap": null,
            "grid_row": null,
            "grid_template_areas": null,
            "grid_template_columns": null,
            "grid_template_rows": null,
            "height": null,
            "justify_content": null,
            "justify_items": null,
            "left": null,
            "margin": null,
            "max_height": null,
            "max_width": null,
            "min_height": null,
            "min_width": null,
            "object_fit": null,
            "object_position": null,
            "order": null,
            "overflow": null,
            "overflow_x": null,
            "overflow_y": null,
            "padding": null,
            "right": null,
            "top": null,
            "visibility": null,
            "width": null
          }
        },
        "22c76e24afa84c1d9908d40d293da136": {
          "model_module": "@jupyter-widgets/base",
          "model_name": "LayoutModel",
          "model_module_version": "1.2.0",
          "state": {
            "_model_module": "@jupyter-widgets/base",
            "_model_module_version": "1.2.0",
            "_model_name": "LayoutModel",
            "_view_count": null,
            "_view_module": "@jupyter-widgets/base",
            "_view_module_version": "1.2.0",
            "_view_name": "LayoutView",
            "align_content": null,
            "align_items": null,
            "align_self": null,
            "border": null,
            "bottom": null,
            "display": null,
            "flex": null,
            "flex_flow": null,
            "grid_area": null,
            "grid_auto_columns": null,
            "grid_auto_flow": null,
            "grid_auto_rows": null,
            "grid_column": null,
            "grid_gap": null,
            "grid_row": null,
            "grid_template_areas": null,
            "grid_template_columns": null,
            "grid_template_rows": null,
            "height": null,
            "justify_content": null,
            "justify_items": null,
            "left": null,
            "margin": null,
            "max_height": null,
            "max_width": null,
            "min_height": null,
            "min_width": null,
            "object_fit": null,
            "object_position": null,
            "order": null,
            "overflow": null,
            "overflow_x": null,
            "overflow_y": null,
            "padding": null,
            "right": null,
            "top": null,
            "visibility": null,
            "width": null
          }
        },
        "bcc6ff4f5d5f428bb839f16a1da7e3ba": {
          "model_module": "@jupyter-widgets/controls",
          "model_name": "DescriptionStyleModel",
          "model_module_version": "1.5.0",
          "state": {
            "_model_module": "@jupyter-widgets/controls",
            "_model_module_version": "1.5.0",
            "_model_name": "DescriptionStyleModel",
            "_view_count": null,
            "_view_module": "@jupyter-widgets/base",
            "_view_module_version": "1.2.0",
            "_view_name": "StyleView",
            "description_width": ""
          }
        },
        "01356913d5cb43d09962d5071e64a09d": {
          "model_module": "@jupyter-widgets/base",
          "model_name": "LayoutModel",
          "model_module_version": "1.2.0",
          "state": {
            "_model_module": "@jupyter-widgets/base",
            "_model_module_version": "1.2.0",
            "_model_name": "LayoutModel",
            "_view_count": null,
            "_view_module": "@jupyter-widgets/base",
            "_view_module_version": "1.2.0",
            "_view_name": "LayoutView",
            "align_content": null,
            "align_items": null,
            "align_self": null,
            "border": null,
            "bottom": null,
            "display": null,
            "flex": null,
            "flex_flow": null,
            "grid_area": null,
            "grid_auto_columns": null,
            "grid_auto_flow": null,
            "grid_auto_rows": null,
            "grid_column": null,
            "grid_gap": null,
            "grid_row": null,
            "grid_template_areas": null,
            "grid_template_columns": null,
            "grid_template_rows": null,
            "height": null,
            "justify_content": null,
            "justify_items": null,
            "left": null,
            "margin": null,
            "max_height": null,
            "max_width": null,
            "min_height": null,
            "min_width": null,
            "object_fit": null,
            "object_position": null,
            "order": null,
            "overflow": null,
            "overflow_x": null,
            "overflow_y": null,
            "padding": null,
            "right": null,
            "top": null,
            "visibility": null,
            "width": null
          }
        },
        "88579ebb58c14559b8d3e34a336fbec8": {
          "model_module": "@jupyter-widgets/controls",
          "model_name": "ProgressStyleModel",
          "model_module_version": "1.5.0",
          "state": {
            "_model_module": "@jupyter-widgets/controls",
            "_model_module_version": "1.5.0",
            "_model_name": "ProgressStyleModel",
            "_view_count": null,
            "_view_module": "@jupyter-widgets/base",
            "_view_module_version": "1.2.0",
            "_view_name": "StyleView",
            "bar_color": null,
            "description_width": ""
          }
        },
        "244d0718fb444021954100c50339e718": {
          "model_module": "@jupyter-widgets/base",
          "model_name": "LayoutModel",
          "model_module_version": "1.2.0",
          "state": {
            "_model_module": "@jupyter-widgets/base",
            "_model_module_version": "1.2.0",
            "_model_name": "LayoutModel",
            "_view_count": null,
            "_view_module": "@jupyter-widgets/base",
            "_view_module_version": "1.2.0",
            "_view_name": "LayoutView",
            "align_content": null,
            "align_items": null,
            "align_self": null,
            "border": null,
            "bottom": null,
            "display": null,
            "flex": null,
            "flex_flow": null,
            "grid_area": null,
            "grid_auto_columns": null,
            "grid_auto_flow": null,
            "grid_auto_rows": null,
            "grid_column": null,
            "grid_gap": null,
            "grid_row": null,
            "grid_template_areas": null,
            "grid_template_columns": null,
            "grid_template_rows": null,
            "height": null,
            "justify_content": null,
            "justify_items": null,
            "left": null,
            "margin": null,
            "max_height": null,
            "max_width": null,
            "min_height": null,
            "min_width": null,
            "object_fit": null,
            "object_position": null,
            "order": null,
            "overflow": null,
            "overflow_x": null,
            "overflow_y": null,
            "padding": null,
            "right": null,
            "top": null,
            "visibility": null,
            "width": null
          }
        },
        "ca941abc3eb143e7a20174e50b5c3c5d": {
          "model_module": "@jupyter-widgets/controls",
          "model_name": "DescriptionStyleModel",
          "model_module_version": "1.5.0",
          "state": {
            "_model_module": "@jupyter-widgets/controls",
            "_model_module_version": "1.5.0",
            "_model_name": "DescriptionStyleModel",
            "_view_count": null,
            "_view_module": "@jupyter-widgets/base",
            "_view_module_version": "1.2.0",
            "_view_name": "StyleView",
            "description_width": ""
          }
        },
        "6b47343202eb497ab3e2b34888574ed0": {
          "model_module": "@jupyter-widgets/controls",
          "model_name": "HBoxModel",
          "model_module_version": "1.5.0",
          "state": {
            "_dom_classes": [],
            "_model_module": "@jupyter-widgets/controls",
            "_model_module_version": "1.5.0",
            "_model_name": "HBoxModel",
            "_view_count": null,
            "_view_module": "@jupyter-widgets/controls",
            "_view_module_version": "1.5.0",
            "_view_name": "HBoxView",
            "box_style": "",
            "children": [
              "IPY_MODEL_b8b4a8f5d4a945fb876b3c93bd340e6f",
              "IPY_MODEL_6ecf8330e9c441ab9fdcf96bce0d1ec2",
              "IPY_MODEL_170d6a66a0bb492aba3aa6b608d7627b"
            ],
            "layout": "IPY_MODEL_41db468e33ab488687257e031db8dd89"
          }
        },
        "b8b4a8f5d4a945fb876b3c93bd340e6f": {
          "model_module": "@jupyter-widgets/controls",
          "model_name": "HTMLModel",
          "model_module_version": "1.5.0",
          "state": {
            "_dom_classes": [],
            "_model_module": "@jupyter-widgets/controls",
            "_model_module_version": "1.5.0",
            "_model_name": "HTMLModel",
            "_view_count": null,
            "_view_module": "@jupyter-widgets/controls",
            "_view_module_version": "1.5.0",
            "_view_name": "HTMLView",
            "description": "",
            "description_tooltip": null,
            "layout": "IPY_MODEL_c68634b3b0e8422f87214c5bde579639",
            "placeholder": "​",
            "style": "IPY_MODEL_007aa24220894c1d9445349e48a3d875",
            "value": "tokenizer_config.json: 100%"
          }
        },
        "6ecf8330e9c441ab9fdcf96bce0d1ec2": {
          "model_module": "@jupyter-widgets/controls",
          "model_name": "FloatProgressModel",
          "model_module_version": "1.5.0",
          "state": {
            "_dom_classes": [],
            "_model_module": "@jupyter-widgets/controls",
            "_model_module_version": "1.5.0",
            "_model_name": "FloatProgressModel",
            "_view_count": null,
            "_view_module": "@jupyter-widgets/controls",
            "_view_module_version": "1.5.0",
            "_view_name": "ProgressView",
            "bar_style": "success",
            "description": "",
            "description_tooltip": null,
            "layout": "IPY_MODEL_296d3ce5926c4eecb28cf9b45d29185b",
            "max": 48,
            "min": 0,
            "orientation": "horizontal",
            "style": "IPY_MODEL_272a889f852248f1ac33079024cb2b5e",
            "value": 48
          }
        },
        "170d6a66a0bb492aba3aa6b608d7627b": {
          "model_module": "@jupyter-widgets/controls",
          "model_name": "HTMLModel",
          "model_module_version": "1.5.0",
          "state": {
            "_dom_classes": [],
            "_model_module": "@jupyter-widgets/controls",
            "_model_module_version": "1.5.0",
            "_model_name": "HTMLModel",
            "_view_count": null,
            "_view_module": "@jupyter-widgets/controls",
            "_view_module_version": "1.5.0",
            "_view_name": "HTMLView",
            "description": "",
            "description_tooltip": null,
            "layout": "IPY_MODEL_ad5ba0bf9f45486cb1dd3fedddf60629",
            "placeholder": "​",
            "style": "IPY_MODEL_ca384d4c255146b7ab3858e0c5024306",
            "value": " 48.0/48.0 [00:00&lt;00:00, 900B/s]"
          }
        },
        "41db468e33ab488687257e031db8dd89": {
          "model_module": "@jupyter-widgets/base",
          "model_name": "LayoutModel",
          "model_module_version": "1.2.0",
          "state": {
            "_model_module": "@jupyter-widgets/base",
            "_model_module_version": "1.2.0",
            "_model_name": "LayoutModel",
            "_view_count": null,
            "_view_module": "@jupyter-widgets/base",
            "_view_module_version": "1.2.0",
            "_view_name": "LayoutView",
            "align_content": null,
            "align_items": null,
            "align_self": null,
            "border": null,
            "bottom": null,
            "display": null,
            "flex": null,
            "flex_flow": null,
            "grid_area": null,
            "grid_auto_columns": null,
            "grid_auto_flow": null,
            "grid_auto_rows": null,
            "grid_column": null,
            "grid_gap": null,
            "grid_row": null,
            "grid_template_areas": null,
            "grid_template_columns": null,
            "grid_template_rows": null,
            "height": null,
            "justify_content": null,
            "justify_items": null,
            "left": null,
            "margin": null,
            "max_height": null,
            "max_width": null,
            "min_height": null,
            "min_width": null,
            "object_fit": null,
            "object_position": null,
            "order": null,
            "overflow": null,
            "overflow_x": null,
            "overflow_y": null,
            "padding": null,
            "right": null,
            "top": null,
            "visibility": null,
            "width": null
          }
        },
        "c68634b3b0e8422f87214c5bde579639": {
          "model_module": "@jupyter-widgets/base",
          "model_name": "LayoutModel",
          "model_module_version": "1.2.0",
          "state": {
            "_model_module": "@jupyter-widgets/base",
            "_model_module_version": "1.2.0",
            "_model_name": "LayoutModel",
            "_view_count": null,
            "_view_module": "@jupyter-widgets/base",
            "_view_module_version": "1.2.0",
            "_view_name": "LayoutView",
            "align_content": null,
            "align_items": null,
            "align_self": null,
            "border": null,
            "bottom": null,
            "display": null,
            "flex": null,
            "flex_flow": null,
            "grid_area": null,
            "grid_auto_columns": null,
            "grid_auto_flow": null,
            "grid_auto_rows": null,
            "grid_column": null,
            "grid_gap": null,
            "grid_row": null,
            "grid_template_areas": null,
            "grid_template_columns": null,
            "grid_template_rows": null,
            "height": null,
            "justify_content": null,
            "justify_items": null,
            "left": null,
            "margin": null,
            "max_height": null,
            "max_width": null,
            "min_height": null,
            "min_width": null,
            "object_fit": null,
            "object_position": null,
            "order": null,
            "overflow": null,
            "overflow_x": null,
            "overflow_y": null,
            "padding": null,
            "right": null,
            "top": null,
            "visibility": null,
            "width": null
          }
        },
        "007aa24220894c1d9445349e48a3d875": {
          "model_module": "@jupyter-widgets/controls",
          "model_name": "DescriptionStyleModel",
          "model_module_version": "1.5.0",
          "state": {
            "_model_module": "@jupyter-widgets/controls",
            "_model_module_version": "1.5.0",
            "_model_name": "DescriptionStyleModel",
            "_view_count": null,
            "_view_module": "@jupyter-widgets/base",
            "_view_module_version": "1.2.0",
            "_view_name": "StyleView",
            "description_width": ""
          }
        },
        "296d3ce5926c4eecb28cf9b45d29185b": {
          "model_module": "@jupyter-widgets/base",
          "model_name": "LayoutModel",
          "model_module_version": "1.2.0",
          "state": {
            "_model_module": "@jupyter-widgets/base",
            "_model_module_version": "1.2.0",
            "_model_name": "LayoutModel",
            "_view_count": null,
            "_view_module": "@jupyter-widgets/base",
            "_view_module_version": "1.2.0",
            "_view_name": "LayoutView",
            "align_content": null,
            "align_items": null,
            "align_self": null,
            "border": null,
            "bottom": null,
            "display": null,
            "flex": null,
            "flex_flow": null,
            "grid_area": null,
            "grid_auto_columns": null,
            "grid_auto_flow": null,
            "grid_auto_rows": null,
            "grid_column": null,
            "grid_gap": null,
            "grid_row": null,
            "grid_template_areas": null,
            "grid_template_columns": null,
            "grid_template_rows": null,
            "height": null,
            "justify_content": null,
            "justify_items": null,
            "left": null,
            "margin": null,
            "max_height": null,
            "max_width": null,
            "min_height": null,
            "min_width": null,
            "object_fit": null,
            "object_position": null,
            "order": null,
            "overflow": null,
            "overflow_x": null,
            "overflow_y": null,
            "padding": null,
            "right": null,
            "top": null,
            "visibility": null,
            "width": null
          }
        },
        "272a889f852248f1ac33079024cb2b5e": {
          "model_module": "@jupyter-widgets/controls",
          "model_name": "ProgressStyleModel",
          "model_module_version": "1.5.0",
          "state": {
            "_model_module": "@jupyter-widgets/controls",
            "_model_module_version": "1.5.0",
            "_model_name": "ProgressStyleModel",
            "_view_count": null,
            "_view_module": "@jupyter-widgets/base",
            "_view_module_version": "1.2.0",
            "_view_name": "StyleView",
            "bar_color": null,
            "description_width": ""
          }
        },
        "ad5ba0bf9f45486cb1dd3fedddf60629": {
          "model_module": "@jupyter-widgets/base",
          "model_name": "LayoutModel",
          "model_module_version": "1.2.0",
          "state": {
            "_model_module": "@jupyter-widgets/base",
            "_model_module_version": "1.2.0",
            "_model_name": "LayoutModel",
            "_view_count": null,
            "_view_module": "@jupyter-widgets/base",
            "_view_module_version": "1.2.0",
            "_view_name": "LayoutView",
            "align_content": null,
            "align_items": null,
            "align_self": null,
            "border": null,
            "bottom": null,
            "display": null,
            "flex": null,
            "flex_flow": null,
            "grid_area": null,
            "grid_auto_columns": null,
            "grid_auto_flow": null,
            "grid_auto_rows": null,
            "grid_column": null,
            "grid_gap": null,
            "grid_row": null,
            "grid_template_areas": null,
            "grid_template_columns": null,
            "grid_template_rows": null,
            "height": null,
            "justify_content": null,
            "justify_items": null,
            "left": null,
            "margin": null,
            "max_height": null,
            "max_width": null,
            "min_height": null,
            "min_width": null,
            "object_fit": null,
            "object_position": null,
            "order": null,
            "overflow": null,
            "overflow_x": null,
            "overflow_y": null,
            "padding": null,
            "right": null,
            "top": null,
            "visibility": null,
            "width": null
          }
        },
        "ca384d4c255146b7ab3858e0c5024306": {
          "model_module": "@jupyter-widgets/controls",
          "model_name": "DescriptionStyleModel",
          "model_module_version": "1.5.0",
          "state": {
            "_model_module": "@jupyter-widgets/controls",
            "_model_module_version": "1.5.0",
            "_model_name": "DescriptionStyleModel",
            "_view_count": null,
            "_view_module": "@jupyter-widgets/base",
            "_view_module_version": "1.2.0",
            "_view_name": "StyleView",
            "description_width": ""
          }
        },
        "6a8ff34f759d4f95a678b709e659deb7": {
          "model_module": "@jupyter-widgets/controls",
          "model_name": "HBoxModel",
          "model_module_version": "1.5.0",
          "state": {
            "_dom_classes": [],
            "_model_module": "@jupyter-widgets/controls",
            "_model_module_version": "1.5.0",
            "_model_name": "HBoxModel",
            "_view_count": null,
            "_view_module": "@jupyter-widgets/controls",
            "_view_module_version": "1.5.0",
            "_view_name": "HBoxView",
            "box_style": "",
            "children": [
              "IPY_MODEL_49db893734bc4f80992c917204e10973",
              "IPY_MODEL_62cf5af6832242b88d68c77a2441be9e",
              "IPY_MODEL_328c2483fb344eaf815c1a3b8673e1f0"
            ],
            "layout": "IPY_MODEL_0c430a163af04b7b8a0854f4c6f7dde4"
          }
        },
        "49db893734bc4f80992c917204e10973": {
          "model_module": "@jupyter-widgets/controls",
          "model_name": "HTMLModel",
          "model_module_version": "1.5.0",
          "state": {
            "_dom_classes": [],
            "_model_module": "@jupyter-widgets/controls",
            "_model_module_version": "1.5.0",
            "_model_name": "HTMLModel",
            "_view_count": null,
            "_view_module": "@jupyter-widgets/controls",
            "_view_module_version": "1.5.0",
            "_view_name": "HTMLView",
            "description": "",
            "description_tooltip": null,
            "layout": "IPY_MODEL_efd5d1014ce14b9e8d6f738b964cffd5",
            "placeholder": "​",
            "style": "IPY_MODEL_5c452d3401d2423bb7644d87f082f82a",
            "value": "config.json: 100%"
          }
        },
        "62cf5af6832242b88d68c77a2441be9e": {
          "model_module": "@jupyter-widgets/controls",
          "model_name": "FloatProgressModel",
          "model_module_version": "1.5.0",
          "state": {
            "_dom_classes": [],
            "_model_module": "@jupyter-widgets/controls",
            "_model_module_version": "1.5.0",
            "_model_name": "FloatProgressModel",
            "_view_count": null,
            "_view_module": "@jupyter-widgets/controls",
            "_view_module_version": "1.5.0",
            "_view_name": "ProgressView",
            "bar_style": "success",
            "description": "",
            "description_tooltip": null,
            "layout": "IPY_MODEL_c207ff4629ab4d2fb3e7229addf059fd",
            "max": 483,
            "min": 0,
            "orientation": "horizontal",
            "style": "IPY_MODEL_0000c5159fd54e2388274a6cd5977363",
            "value": 483
          }
        },
        "328c2483fb344eaf815c1a3b8673e1f0": {
          "model_module": "@jupyter-widgets/controls",
          "model_name": "HTMLModel",
          "model_module_version": "1.5.0",
          "state": {
            "_dom_classes": [],
            "_model_module": "@jupyter-widgets/controls",
            "_model_module_version": "1.5.0",
            "_model_name": "HTMLModel",
            "_view_count": null,
            "_view_module": "@jupyter-widgets/controls",
            "_view_module_version": "1.5.0",
            "_view_name": "HTMLView",
            "description": "",
            "description_tooltip": null,
            "layout": "IPY_MODEL_4cc6cdba0952427ba9d22824e91ad22d",
            "placeholder": "​",
            "style": "IPY_MODEL_27688347734d4096b412ae76c8ee79ca",
            "value": " 483/483 [00:00&lt;00:00, 14.1kB/s]"
          }
        },
        "0c430a163af04b7b8a0854f4c6f7dde4": {
          "model_module": "@jupyter-widgets/base",
          "model_name": "LayoutModel",
          "model_module_version": "1.2.0",
          "state": {
            "_model_module": "@jupyter-widgets/base",
            "_model_module_version": "1.2.0",
            "_model_name": "LayoutModel",
            "_view_count": null,
            "_view_module": "@jupyter-widgets/base",
            "_view_module_version": "1.2.0",
            "_view_name": "LayoutView",
            "align_content": null,
            "align_items": null,
            "align_self": null,
            "border": null,
            "bottom": null,
            "display": null,
            "flex": null,
            "flex_flow": null,
            "grid_area": null,
            "grid_auto_columns": null,
            "grid_auto_flow": null,
            "grid_auto_rows": null,
            "grid_column": null,
            "grid_gap": null,
            "grid_row": null,
            "grid_template_areas": null,
            "grid_template_columns": null,
            "grid_template_rows": null,
            "height": null,
            "justify_content": null,
            "justify_items": null,
            "left": null,
            "margin": null,
            "max_height": null,
            "max_width": null,
            "min_height": null,
            "min_width": null,
            "object_fit": null,
            "object_position": null,
            "order": null,
            "overflow": null,
            "overflow_x": null,
            "overflow_y": null,
            "padding": null,
            "right": null,
            "top": null,
            "visibility": null,
            "width": null
          }
        },
        "efd5d1014ce14b9e8d6f738b964cffd5": {
          "model_module": "@jupyter-widgets/base",
          "model_name": "LayoutModel",
          "model_module_version": "1.2.0",
          "state": {
            "_model_module": "@jupyter-widgets/base",
            "_model_module_version": "1.2.0",
            "_model_name": "LayoutModel",
            "_view_count": null,
            "_view_module": "@jupyter-widgets/base",
            "_view_module_version": "1.2.0",
            "_view_name": "LayoutView",
            "align_content": null,
            "align_items": null,
            "align_self": null,
            "border": null,
            "bottom": null,
            "display": null,
            "flex": null,
            "flex_flow": null,
            "grid_area": null,
            "grid_auto_columns": null,
            "grid_auto_flow": null,
            "grid_auto_rows": null,
            "grid_column": null,
            "grid_gap": null,
            "grid_row": null,
            "grid_template_areas": null,
            "grid_template_columns": null,
            "grid_template_rows": null,
            "height": null,
            "justify_content": null,
            "justify_items": null,
            "left": null,
            "margin": null,
            "max_height": null,
            "max_width": null,
            "min_height": null,
            "min_width": null,
            "object_fit": null,
            "object_position": null,
            "order": null,
            "overflow": null,
            "overflow_x": null,
            "overflow_y": null,
            "padding": null,
            "right": null,
            "top": null,
            "visibility": null,
            "width": null
          }
        },
        "5c452d3401d2423bb7644d87f082f82a": {
          "model_module": "@jupyter-widgets/controls",
          "model_name": "DescriptionStyleModel",
          "model_module_version": "1.5.0",
          "state": {
            "_model_module": "@jupyter-widgets/controls",
            "_model_module_version": "1.5.0",
            "_model_name": "DescriptionStyleModel",
            "_view_count": null,
            "_view_module": "@jupyter-widgets/base",
            "_view_module_version": "1.2.0",
            "_view_name": "StyleView",
            "description_width": ""
          }
        },
        "c207ff4629ab4d2fb3e7229addf059fd": {
          "model_module": "@jupyter-widgets/base",
          "model_name": "LayoutModel",
          "model_module_version": "1.2.0",
          "state": {
            "_model_module": "@jupyter-widgets/base",
            "_model_module_version": "1.2.0",
            "_model_name": "LayoutModel",
            "_view_count": null,
            "_view_module": "@jupyter-widgets/base",
            "_view_module_version": "1.2.0",
            "_view_name": "LayoutView",
            "align_content": null,
            "align_items": null,
            "align_self": null,
            "border": null,
            "bottom": null,
            "display": null,
            "flex": null,
            "flex_flow": null,
            "grid_area": null,
            "grid_auto_columns": null,
            "grid_auto_flow": null,
            "grid_auto_rows": null,
            "grid_column": null,
            "grid_gap": null,
            "grid_row": null,
            "grid_template_areas": null,
            "grid_template_columns": null,
            "grid_template_rows": null,
            "height": null,
            "justify_content": null,
            "justify_items": null,
            "left": null,
            "margin": null,
            "max_height": null,
            "max_width": null,
            "min_height": null,
            "min_width": null,
            "object_fit": null,
            "object_position": null,
            "order": null,
            "overflow": null,
            "overflow_x": null,
            "overflow_y": null,
            "padding": null,
            "right": null,
            "top": null,
            "visibility": null,
            "width": null
          }
        },
        "0000c5159fd54e2388274a6cd5977363": {
          "model_module": "@jupyter-widgets/controls",
          "model_name": "ProgressStyleModel",
          "model_module_version": "1.5.0",
          "state": {
            "_model_module": "@jupyter-widgets/controls",
            "_model_module_version": "1.5.0",
            "_model_name": "ProgressStyleModel",
            "_view_count": null,
            "_view_module": "@jupyter-widgets/base",
            "_view_module_version": "1.2.0",
            "_view_name": "StyleView",
            "bar_color": null,
            "description_width": ""
          }
        },
        "4cc6cdba0952427ba9d22824e91ad22d": {
          "model_module": "@jupyter-widgets/base",
          "model_name": "LayoutModel",
          "model_module_version": "1.2.0",
          "state": {
            "_model_module": "@jupyter-widgets/base",
            "_model_module_version": "1.2.0",
            "_model_name": "LayoutModel",
            "_view_count": null,
            "_view_module": "@jupyter-widgets/base",
            "_view_module_version": "1.2.0",
            "_view_name": "LayoutView",
            "align_content": null,
            "align_items": null,
            "align_self": null,
            "border": null,
            "bottom": null,
            "display": null,
            "flex": null,
            "flex_flow": null,
            "grid_area": null,
            "grid_auto_columns": null,
            "grid_auto_flow": null,
            "grid_auto_rows": null,
            "grid_column": null,
            "grid_gap": null,
            "grid_row": null,
            "grid_template_areas": null,
            "grid_template_columns": null,
            "grid_template_rows": null,
            "height": null,
            "justify_content": null,
            "justify_items": null,
            "left": null,
            "margin": null,
            "max_height": null,
            "max_width": null,
            "min_height": null,
            "min_width": null,
            "object_fit": null,
            "object_position": null,
            "order": null,
            "overflow": null,
            "overflow_x": null,
            "overflow_y": null,
            "padding": null,
            "right": null,
            "top": null,
            "visibility": null,
            "width": null
          }
        },
        "27688347734d4096b412ae76c8ee79ca": {
          "model_module": "@jupyter-widgets/controls",
          "model_name": "DescriptionStyleModel",
          "model_module_version": "1.5.0",
          "state": {
            "_model_module": "@jupyter-widgets/controls",
            "_model_module_version": "1.5.0",
            "_model_name": "DescriptionStyleModel",
            "_view_count": null,
            "_view_module": "@jupyter-widgets/base",
            "_view_module_version": "1.2.0",
            "_view_name": "StyleView",
            "description_width": ""
          }
        },
        "bdacfaf5ca1e4dc2bb2b10b4438166ae": {
          "model_module": "@jupyter-widgets/controls",
          "model_name": "HBoxModel",
          "model_module_version": "1.5.0",
          "state": {
            "_dom_classes": [],
            "_model_module": "@jupyter-widgets/controls",
            "_model_module_version": "1.5.0",
            "_model_name": "HBoxModel",
            "_view_count": null,
            "_view_module": "@jupyter-widgets/controls",
            "_view_module_version": "1.5.0",
            "_view_name": "HBoxView",
            "box_style": "",
            "children": [
              "IPY_MODEL_ebf6cdb6852d4931b22d15a98ee2363e",
              "IPY_MODEL_459ab5a1a75a44049f9ab402b6788eff",
              "IPY_MODEL_77817bc5fa6747268ee32a59019113f9"
            ],
            "layout": "IPY_MODEL_21590c501b1b40c2abdc3a85bcb49543"
          }
        },
        "ebf6cdb6852d4931b22d15a98ee2363e": {
          "model_module": "@jupyter-widgets/controls",
          "model_name": "HTMLModel",
          "model_module_version": "1.5.0",
          "state": {
            "_dom_classes": [],
            "_model_module": "@jupyter-widgets/controls",
            "_model_module_version": "1.5.0",
            "_model_name": "HTMLModel",
            "_view_count": null,
            "_view_module": "@jupyter-widgets/controls",
            "_view_module_version": "1.5.0",
            "_view_name": "HTMLView",
            "description": "",
            "description_tooltip": null,
            "layout": "IPY_MODEL_30c8233ac95a49dda1a00e97845e0155",
            "placeholder": "​",
            "style": "IPY_MODEL_7bda7e9614914d8eade3236d8ac6beb1",
            "value": "vocab.txt: 100%"
          }
        },
        "459ab5a1a75a44049f9ab402b6788eff": {
          "model_module": "@jupyter-widgets/controls",
          "model_name": "FloatProgressModel",
          "model_module_version": "1.5.0",
          "state": {
            "_dom_classes": [],
            "_model_module": "@jupyter-widgets/controls",
            "_model_module_version": "1.5.0",
            "_model_name": "FloatProgressModel",
            "_view_count": null,
            "_view_module": "@jupyter-widgets/controls",
            "_view_module_version": "1.5.0",
            "_view_name": "ProgressView",
            "bar_style": "success",
            "description": "",
            "description_tooltip": null,
            "layout": "IPY_MODEL_829fe478ffce4450abb4d30855b6288c",
            "max": 231508,
            "min": 0,
            "orientation": "horizontal",
            "style": "IPY_MODEL_22a7fd20997c45e9a20c043e85248721",
            "value": 231508
          }
        },
        "77817bc5fa6747268ee32a59019113f9": {
          "model_module": "@jupyter-widgets/controls",
          "model_name": "HTMLModel",
          "model_module_version": "1.5.0",
          "state": {
            "_dom_classes": [],
            "_model_module": "@jupyter-widgets/controls",
            "_model_module_version": "1.5.0",
            "_model_name": "HTMLModel",
            "_view_count": null,
            "_view_module": "@jupyter-widgets/controls",
            "_view_module_version": "1.5.0",
            "_view_name": "HTMLView",
            "description": "",
            "description_tooltip": null,
            "layout": "IPY_MODEL_90b578a8626c457a8ad2afab2e67c447",
            "placeholder": "​",
            "style": "IPY_MODEL_20a3e3e5dac0471a93817082fc1e6c68",
            "value": " 232k/232k [00:00&lt;00:00, 4.23MB/s]"
          }
        },
        "21590c501b1b40c2abdc3a85bcb49543": {
          "model_module": "@jupyter-widgets/base",
          "model_name": "LayoutModel",
          "model_module_version": "1.2.0",
          "state": {
            "_model_module": "@jupyter-widgets/base",
            "_model_module_version": "1.2.0",
            "_model_name": "LayoutModel",
            "_view_count": null,
            "_view_module": "@jupyter-widgets/base",
            "_view_module_version": "1.2.0",
            "_view_name": "LayoutView",
            "align_content": null,
            "align_items": null,
            "align_self": null,
            "border": null,
            "bottom": null,
            "display": null,
            "flex": null,
            "flex_flow": null,
            "grid_area": null,
            "grid_auto_columns": null,
            "grid_auto_flow": null,
            "grid_auto_rows": null,
            "grid_column": null,
            "grid_gap": null,
            "grid_row": null,
            "grid_template_areas": null,
            "grid_template_columns": null,
            "grid_template_rows": null,
            "height": null,
            "justify_content": null,
            "justify_items": null,
            "left": null,
            "margin": null,
            "max_height": null,
            "max_width": null,
            "min_height": null,
            "min_width": null,
            "object_fit": null,
            "object_position": null,
            "order": null,
            "overflow": null,
            "overflow_x": null,
            "overflow_y": null,
            "padding": null,
            "right": null,
            "top": null,
            "visibility": null,
            "width": null
          }
        },
        "30c8233ac95a49dda1a00e97845e0155": {
          "model_module": "@jupyter-widgets/base",
          "model_name": "LayoutModel",
          "model_module_version": "1.2.0",
          "state": {
            "_model_module": "@jupyter-widgets/base",
            "_model_module_version": "1.2.0",
            "_model_name": "LayoutModel",
            "_view_count": null,
            "_view_module": "@jupyter-widgets/base",
            "_view_module_version": "1.2.0",
            "_view_name": "LayoutView",
            "align_content": null,
            "align_items": null,
            "align_self": null,
            "border": null,
            "bottom": null,
            "display": null,
            "flex": null,
            "flex_flow": null,
            "grid_area": null,
            "grid_auto_columns": null,
            "grid_auto_flow": null,
            "grid_auto_rows": null,
            "grid_column": null,
            "grid_gap": null,
            "grid_row": null,
            "grid_template_areas": null,
            "grid_template_columns": null,
            "grid_template_rows": null,
            "height": null,
            "justify_content": null,
            "justify_items": null,
            "left": null,
            "margin": null,
            "max_height": null,
            "max_width": null,
            "min_height": null,
            "min_width": null,
            "object_fit": null,
            "object_position": null,
            "order": null,
            "overflow": null,
            "overflow_x": null,
            "overflow_y": null,
            "padding": null,
            "right": null,
            "top": null,
            "visibility": null,
            "width": null
          }
        },
        "7bda7e9614914d8eade3236d8ac6beb1": {
          "model_module": "@jupyter-widgets/controls",
          "model_name": "DescriptionStyleModel",
          "model_module_version": "1.5.0",
          "state": {
            "_model_module": "@jupyter-widgets/controls",
            "_model_module_version": "1.5.0",
            "_model_name": "DescriptionStyleModel",
            "_view_count": null,
            "_view_module": "@jupyter-widgets/base",
            "_view_module_version": "1.2.0",
            "_view_name": "StyleView",
            "description_width": ""
          }
        },
        "829fe478ffce4450abb4d30855b6288c": {
          "model_module": "@jupyter-widgets/base",
          "model_name": "LayoutModel",
          "model_module_version": "1.2.0",
          "state": {
            "_model_module": "@jupyter-widgets/base",
            "_model_module_version": "1.2.0",
            "_model_name": "LayoutModel",
            "_view_count": null,
            "_view_module": "@jupyter-widgets/base",
            "_view_module_version": "1.2.0",
            "_view_name": "LayoutView",
            "align_content": null,
            "align_items": null,
            "align_self": null,
            "border": null,
            "bottom": null,
            "display": null,
            "flex": null,
            "flex_flow": null,
            "grid_area": null,
            "grid_auto_columns": null,
            "grid_auto_flow": null,
            "grid_auto_rows": null,
            "grid_column": null,
            "grid_gap": null,
            "grid_row": null,
            "grid_template_areas": null,
            "grid_template_columns": null,
            "grid_template_rows": null,
            "height": null,
            "justify_content": null,
            "justify_items": null,
            "left": null,
            "margin": null,
            "max_height": null,
            "max_width": null,
            "min_height": null,
            "min_width": null,
            "object_fit": null,
            "object_position": null,
            "order": null,
            "overflow": null,
            "overflow_x": null,
            "overflow_y": null,
            "padding": null,
            "right": null,
            "top": null,
            "visibility": null,
            "width": null
          }
        },
        "22a7fd20997c45e9a20c043e85248721": {
          "model_module": "@jupyter-widgets/controls",
          "model_name": "ProgressStyleModel",
          "model_module_version": "1.5.0",
          "state": {
            "_model_module": "@jupyter-widgets/controls",
            "_model_module_version": "1.5.0",
            "_model_name": "ProgressStyleModel",
            "_view_count": null,
            "_view_module": "@jupyter-widgets/base",
            "_view_module_version": "1.2.0",
            "_view_name": "StyleView",
            "bar_color": null,
            "description_width": ""
          }
        },
        "90b578a8626c457a8ad2afab2e67c447": {
          "model_module": "@jupyter-widgets/base",
          "model_name": "LayoutModel",
          "model_module_version": "1.2.0",
          "state": {
            "_model_module": "@jupyter-widgets/base",
            "_model_module_version": "1.2.0",
            "_model_name": "LayoutModel",
            "_view_count": null,
            "_view_module": "@jupyter-widgets/base",
            "_view_module_version": "1.2.0",
            "_view_name": "LayoutView",
            "align_content": null,
            "align_items": null,
            "align_self": null,
            "border": null,
            "bottom": null,
            "display": null,
            "flex": null,
            "flex_flow": null,
            "grid_area": null,
            "grid_auto_columns": null,
            "grid_auto_flow": null,
            "grid_auto_rows": null,
            "grid_column": null,
            "grid_gap": null,
            "grid_row": null,
            "grid_template_areas": null,
            "grid_template_columns": null,
            "grid_template_rows": null,
            "height": null,
            "justify_content": null,
            "justify_items": null,
            "left": null,
            "margin": null,
            "max_height": null,
            "max_width": null,
            "min_height": null,
            "min_width": null,
            "object_fit": null,
            "object_position": null,
            "order": null,
            "overflow": null,
            "overflow_x": null,
            "overflow_y": null,
            "padding": null,
            "right": null,
            "top": null,
            "visibility": null,
            "width": null
          }
        },
        "20a3e3e5dac0471a93817082fc1e6c68": {
          "model_module": "@jupyter-widgets/controls",
          "model_name": "DescriptionStyleModel",
          "model_module_version": "1.5.0",
          "state": {
            "_model_module": "@jupyter-widgets/controls",
            "_model_module_version": "1.5.0",
            "_model_name": "DescriptionStyleModel",
            "_view_count": null,
            "_view_module": "@jupyter-widgets/base",
            "_view_module_version": "1.2.0",
            "_view_name": "StyleView",
            "description_width": ""
          }
        },
        "c9f7fceaf76c46858b35a59693b91d4a": {
          "model_module": "@jupyter-widgets/controls",
          "model_name": "HBoxModel",
          "model_module_version": "1.5.0",
          "state": {
            "_dom_classes": [],
            "_model_module": "@jupyter-widgets/controls",
            "_model_module_version": "1.5.0",
            "_model_name": "HBoxModel",
            "_view_count": null,
            "_view_module": "@jupyter-widgets/controls",
            "_view_module_version": "1.5.0",
            "_view_name": "HBoxView",
            "box_style": "",
            "children": [
              "IPY_MODEL_e107545db6644eb2a81c3f593aafa18a",
              "IPY_MODEL_9f0ed49ac6f74fa19107459ebc3c33fa",
              "IPY_MODEL_39179b28824b43d28ef071b49cef8c0d"
            ],
            "layout": "IPY_MODEL_879a6e8fb5e049d1b635be284b554302"
          }
        },
        "e107545db6644eb2a81c3f593aafa18a": {
          "model_module": "@jupyter-widgets/controls",
          "model_name": "HTMLModel",
          "model_module_version": "1.5.0",
          "state": {
            "_dom_classes": [],
            "_model_module": "@jupyter-widgets/controls",
            "_model_module_version": "1.5.0",
            "_model_name": "HTMLModel",
            "_view_count": null,
            "_view_module": "@jupyter-widgets/controls",
            "_view_module_version": "1.5.0",
            "_view_name": "HTMLView",
            "description": "",
            "description_tooltip": null,
            "layout": "IPY_MODEL_f4373c66472f4e669344b821ce7ead0e",
            "placeholder": "​",
            "style": "IPY_MODEL_261c7ddd70074b3fa24f9dbeb7631a63",
            "value": "tokenizer.json: 100%"
          }
        },
        "9f0ed49ac6f74fa19107459ebc3c33fa": {
          "model_module": "@jupyter-widgets/controls",
          "model_name": "FloatProgressModel",
          "model_module_version": "1.5.0",
          "state": {
            "_dom_classes": [],
            "_model_module": "@jupyter-widgets/controls",
            "_model_module_version": "1.5.0",
            "_model_name": "FloatProgressModel",
            "_view_count": null,
            "_view_module": "@jupyter-widgets/controls",
            "_view_module_version": "1.5.0",
            "_view_name": "ProgressView",
            "bar_style": "success",
            "description": "",
            "description_tooltip": null,
            "layout": "IPY_MODEL_4171a6ee475142b8970e01cf70b5ff43",
            "max": 466062,
            "min": 0,
            "orientation": "horizontal",
            "style": "IPY_MODEL_375b507ecac34a199196f45c320c041e",
            "value": 466062
          }
        },
        "39179b28824b43d28ef071b49cef8c0d": {
          "model_module": "@jupyter-widgets/controls",
          "model_name": "HTMLModel",
          "model_module_version": "1.5.0",
          "state": {
            "_dom_classes": [],
            "_model_module": "@jupyter-widgets/controls",
            "_model_module_version": "1.5.0",
            "_model_name": "HTMLModel",
            "_view_count": null,
            "_view_module": "@jupyter-widgets/controls",
            "_view_module_version": "1.5.0",
            "_view_name": "HTMLView",
            "description": "",
            "description_tooltip": null,
            "layout": "IPY_MODEL_b66d564b1f8d4c0c9a5bc2d2e87a1a6f",
            "placeholder": "​",
            "style": "IPY_MODEL_ddd24ca5e77f476fa2b48e89128f2c07",
            "value": " 466k/466k [00:00&lt;00:00, 5.01MB/s]"
          }
        },
        "879a6e8fb5e049d1b635be284b554302": {
          "model_module": "@jupyter-widgets/base",
          "model_name": "LayoutModel",
          "model_module_version": "1.2.0",
          "state": {
            "_model_module": "@jupyter-widgets/base",
            "_model_module_version": "1.2.0",
            "_model_name": "LayoutModel",
            "_view_count": null,
            "_view_module": "@jupyter-widgets/base",
            "_view_module_version": "1.2.0",
            "_view_name": "LayoutView",
            "align_content": null,
            "align_items": null,
            "align_self": null,
            "border": null,
            "bottom": null,
            "display": null,
            "flex": null,
            "flex_flow": null,
            "grid_area": null,
            "grid_auto_columns": null,
            "grid_auto_flow": null,
            "grid_auto_rows": null,
            "grid_column": null,
            "grid_gap": null,
            "grid_row": null,
            "grid_template_areas": null,
            "grid_template_columns": null,
            "grid_template_rows": null,
            "height": null,
            "justify_content": null,
            "justify_items": null,
            "left": null,
            "margin": null,
            "max_height": null,
            "max_width": null,
            "min_height": null,
            "min_width": null,
            "object_fit": null,
            "object_position": null,
            "order": null,
            "overflow": null,
            "overflow_x": null,
            "overflow_y": null,
            "padding": null,
            "right": null,
            "top": null,
            "visibility": null,
            "width": null
          }
        },
        "f4373c66472f4e669344b821ce7ead0e": {
          "model_module": "@jupyter-widgets/base",
          "model_name": "LayoutModel",
          "model_module_version": "1.2.0",
          "state": {
            "_model_module": "@jupyter-widgets/base",
            "_model_module_version": "1.2.0",
            "_model_name": "LayoutModel",
            "_view_count": null,
            "_view_module": "@jupyter-widgets/base",
            "_view_module_version": "1.2.0",
            "_view_name": "LayoutView",
            "align_content": null,
            "align_items": null,
            "align_self": null,
            "border": null,
            "bottom": null,
            "display": null,
            "flex": null,
            "flex_flow": null,
            "grid_area": null,
            "grid_auto_columns": null,
            "grid_auto_flow": null,
            "grid_auto_rows": null,
            "grid_column": null,
            "grid_gap": null,
            "grid_row": null,
            "grid_template_areas": null,
            "grid_template_columns": null,
            "grid_template_rows": null,
            "height": null,
            "justify_content": null,
            "justify_items": null,
            "left": null,
            "margin": null,
            "max_height": null,
            "max_width": null,
            "min_height": null,
            "min_width": null,
            "object_fit": null,
            "object_position": null,
            "order": null,
            "overflow": null,
            "overflow_x": null,
            "overflow_y": null,
            "padding": null,
            "right": null,
            "top": null,
            "visibility": null,
            "width": null
          }
        },
        "261c7ddd70074b3fa24f9dbeb7631a63": {
          "model_module": "@jupyter-widgets/controls",
          "model_name": "DescriptionStyleModel",
          "model_module_version": "1.5.0",
          "state": {
            "_model_module": "@jupyter-widgets/controls",
            "_model_module_version": "1.5.0",
            "_model_name": "DescriptionStyleModel",
            "_view_count": null,
            "_view_module": "@jupyter-widgets/base",
            "_view_module_version": "1.2.0",
            "_view_name": "StyleView",
            "description_width": ""
          }
        },
        "4171a6ee475142b8970e01cf70b5ff43": {
          "model_module": "@jupyter-widgets/base",
          "model_name": "LayoutModel",
          "model_module_version": "1.2.0",
          "state": {
            "_model_module": "@jupyter-widgets/base",
            "_model_module_version": "1.2.0",
            "_model_name": "LayoutModel",
            "_view_count": null,
            "_view_module": "@jupyter-widgets/base",
            "_view_module_version": "1.2.0",
            "_view_name": "LayoutView",
            "align_content": null,
            "align_items": null,
            "align_self": null,
            "border": null,
            "bottom": null,
            "display": null,
            "flex": null,
            "flex_flow": null,
            "grid_area": null,
            "grid_auto_columns": null,
            "grid_auto_flow": null,
            "grid_auto_rows": null,
            "grid_column": null,
            "grid_gap": null,
            "grid_row": null,
            "grid_template_areas": null,
            "grid_template_columns": null,
            "grid_template_rows": null,
            "height": null,
            "justify_content": null,
            "justify_items": null,
            "left": null,
            "margin": null,
            "max_height": null,
            "max_width": null,
            "min_height": null,
            "min_width": null,
            "object_fit": null,
            "object_position": null,
            "order": null,
            "overflow": null,
            "overflow_x": null,
            "overflow_y": null,
            "padding": null,
            "right": null,
            "top": null,
            "visibility": null,
            "width": null
          }
        },
        "375b507ecac34a199196f45c320c041e": {
          "model_module": "@jupyter-widgets/controls",
          "model_name": "ProgressStyleModel",
          "model_module_version": "1.5.0",
          "state": {
            "_model_module": "@jupyter-widgets/controls",
            "_model_module_version": "1.5.0",
            "_model_name": "ProgressStyleModel",
            "_view_count": null,
            "_view_module": "@jupyter-widgets/base",
            "_view_module_version": "1.2.0",
            "_view_name": "StyleView",
            "bar_color": null,
            "description_width": ""
          }
        },
        "b66d564b1f8d4c0c9a5bc2d2e87a1a6f": {
          "model_module": "@jupyter-widgets/base",
          "model_name": "LayoutModel",
          "model_module_version": "1.2.0",
          "state": {
            "_model_module": "@jupyter-widgets/base",
            "_model_module_version": "1.2.0",
            "_model_name": "LayoutModel",
            "_view_count": null,
            "_view_module": "@jupyter-widgets/base",
            "_view_module_version": "1.2.0",
            "_view_name": "LayoutView",
            "align_content": null,
            "align_items": null,
            "align_self": null,
            "border": null,
            "bottom": null,
            "display": null,
            "flex": null,
            "flex_flow": null,
            "grid_area": null,
            "grid_auto_columns": null,
            "grid_auto_flow": null,
            "grid_auto_rows": null,
            "grid_column": null,
            "grid_gap": null,
            "grid_row": null,
            "grid_template_areas": null,
            "grid_template_columns": null,
            "grid_template_rows": null,
            "height": null,
            "justify_content": null,
            "justify_items": null,
            "left": null,
            "margin": null,
            "max_height": null,
            "max_width": null,
            "min_height": null,
            "min_width": null,
            "object_fit": null,
            "object_position": null,
            "order": null,
            "overflow": null,
            "overflow_x": null,
            "overflow_y": null,
            "padding": null,
            "right": null,
            "top": null,
            "visibility": null,
            "width": null
          }
        },
        "ddd24ca5e77f476fa2b48e89128f2c07": {
          "model_module": "@jupyter-widgets/controls",
          "model_name": "DescriptionStyleModel",
          "model_module_version": "1.5.0",
          "state": {
            "_model_module": "@jupyter-widgets/controls",
            "_model_module_version": "1.5.0",
            "_model_name": "DescriptionStyleModel",
            "_view_count": null,
            "_view_module": "@jupyter-widgets/base",
            "_view_module_version": "1.2.0",
            "_view_name": "StyleView",
            "description_width": ""
          }
        },
        "8e9256b8e85e4051bf51a0241c405816": {
          "model_module": "@jupyter-widgets/controls",
          "model_name": "HBoxModel",
          "model_module_version": "1.5.0",
          "state": {
            "_dom_classes": [],
            "_model_module": "@jupyter-widgets/controls",
            "_model_module_version": "1.5.0",
            "_model_name": "HBoxModel",
            "_view_count": null,
            "_view_module": "@jupyter-widgets/controls",
            "_view_module_version": "1.5.0",
            "_view_name": "HBoxView",
            "box_style": "",
            "children": [
              "IPY_MODEL_b437085d5b8a4b4e90ee6e7d6e0f569c",
              "IPY_MODEL_434de303c5f04b5a990d1f47d1633037",
              "IPY_MODEL_ed9c45b5cace4ce3af912758b32e59d2"
            ],
            "layout": "IPY_MODEL_b08beac8f99e4939bdd67fd1e06dae56"
          }
        },
        "b437085d5b8a4b4e90ee6e7d6e0f569c": {
          "model_module": "@jupyter-widgets/controls",
          "model_name": "HTMLModel",
          "model_module_version": "1.5.0",
          "state": {
            "_dom_classes": [],
            "_model_module": "@jupyter-widgets/controls",
            "_model_module_version": "1.5.0",
            "_model_name": "HTMLModel",
            "_view_count": null,
            "_view_module": "@jupyter-widgets/controls",
            "_view_module_version": "1.5.0",
            "_view_name": "HTMLView",
            "description": "",
            "description_tooltip": null,
            "layout": "IPY_MODEL_d786b5d71e4d40c6b55b6c475339a1ea",
            "placeholder": "​",
            "style": "IPY_MODEL_686a81369d4545b68e8125ccae486ae1",
            "value": "Map: 100%"
          }
        },
        "434de303c5f04b5a990d1f47d1633037": {
          "model_module": "@jupyter-widgets/controls",
          "model_name": "FloatProgressModel",
          "model_module_version": "1.5.0",
          "state": {
            "_dom_classes": [],
            "_model_module": "@jupyter-widgets/controls",
            "_model_module_version": "1.5.0",
            "_model_name": "FloatProgressModel",
            "_view_count": null,
            "_view_module": "@jupyter-widgets/controls",
            "_view_module_version": "1.5.0",
            "_view_name": "ProgressView",
            "bar_style": "success",
            "description": "",
            "description_tooltip": null,
            "layout": "IPY_MODEL_ba6c7c3ec2684aa4b3786fa294a01d1f",
            "max": 200,
            "min": 0,
            "orientation": "horizontal",
            "style": "IPY_MODEL_4679de80fa35422588f1aa34cabbff92",
            "value": 200
          }
        },
        "ed9c45b5cace4ce3af912758b32e59d2": {
          "model_module": "@jupyter-widgets/controls",
          "model_name": "HTMLModel",
          "model_module_version": "1.5.0",
          "state": {
            "_dom_classes": [],
            "_model_module": "@jupyter-widgets/controls",
            "_model_module_version": "1.5.0",
            "_model_name": "HTMLModel",
            "_view_count": null,
            "_view_module": "@jupyter-widgets/controls",
            "_view_module_version": "1.5.0",
            "_view_name": "HTMLView",
            "description": "",
            "description_tooltip": null,
            "layout": "IPY_MODEL_3c4d2e9867ca49e2a4a85fffedbb5a9a",
            "placeholder": "​",
            "style": "IPY_MODEL_343acff199e84318accfc4d9baf10fb5",
            "value": " 200/200 [00:00&lt;00:00, 3542.40 examples/s]"
          }
        },
        "b08beac8f99e4939bdd67fd1e06dae56": {
          "model_module": "@jupyter-widgets/base",
          "model_name": "LayoutModel",
          "model_module_version": "1.2.0",
          "state": {
            "_model_module": "@jupyter-widgets/base",
            "_model_module_version": "1.2.0",
            "_model_name": "LayoutModel",
            "_view_count": null,
            "_view_module": "@jupyter-widgets/base",
            "_view_module_version": "1.2.0",
            "_view_name": "LayoutView",
            "align_content": null,
            "align_items": null,
            "align_self": null,
            "border": null,
            "bottom": null,
            "display": null,
            "flex": null,
            "flex_flow": null,
            "grid_area": null,
            "grid_auto_columns": null,
            "grid_auto_flow": null,
            "grid_auto_rows": null,
            "grid_column": null,
            "grid_gap": null,
            "grid_row": null,
            "grid_template_areas": null,
            "grid_template_columns": null,
            "grid_template_rows": null,
            "height": null,
            "justify_content": null,
            "justify_items": null,
            "left": null,
            "margin": null,
            "max_height": null,
            "max_width": null,
            "min_height": null,
            "min_width": null,
            "object_fit": null,
            "object_position": null,
            "order": null,
            "overflow": null,
            "overflow_x": null,
            "overflow_y": null,
            "padding": null,
            "right": null,
            "top": null,
            "visibility": null,
            "width": null
          }
        },
        "d786b5d71e4d40c6b55b6c475339a1ea": {
          "model_module": "@jupyter-widgets/base",
          "model_name": "LayoutModel",
          "model_module_version": "1.2.0",
          "state": {
            "_model_module": "@jupyter-widgets/base",
            "_model_module_version": "1.2.0",
            "_model_name": "LayoutModel",
            "_view_count": null,
            "_view_module": "@jupyter-widgets/base",
            "_view_module_version": "1.2.0",
            "_view_name": "LayoutView",
            "align_content": null,
            "align_items": null,
            "align_self": null,
            "border": null,
            "bottom": null,
            "display": null,
            "flex": null,
            "flex_flow": null,
            "grid_area": null,
            "grid_auto_columns": null,
            "grid_auto_flow": null,
            "grid_auto_rows": null,
            "grid_column": null,
            "grid_gap": null,
            "grid_row": null,
            "grid_template_areas": null,
            "grid_template_columns": null,
            "grid_template_rows": null,
            "height": null,
            "justify_content": null,
            "justify_items": null,
            "left": null,
            "margin": null,
            "max_height": null,
            "max_width": null,
            "min_height": null,
            "min_width": null,
            "object_fit": null,
            "object_position": null,
            "order": null,
            "overflow": null,
            "overflow_x": null,
            "overflow_y": null,
            "padding": null,
            "right": null,
            "top": null,
            "visibility": null,
            "width": null
          }
        },
        "686a81369d4545b68e8125ccae486ae1": {
          "model_module": "@jupyter-widgets/controls",
          "model_name": "DescriptionStyleModel",
          "model_module_version": "1.5.0",
          "state": {
            "_model_module": "@jupyter-widgets/controls",
            "_model_module_version": "1.5.0",
            "_model_name": "DescriptionStyleModel",
            "_view_count": null,
            "_view_module": "@jupyter-widgets/base",
            "_view_module_version": "1.2.0",
            "_view_name": "StyleView",
            "description_width": ""
          }
        },
        "ba6c7c3ec2684aa4b3786fa294a01d1f": {
          "model_module": "@jupyter-widgets/base",
          "model_name": "LayoutModel",
          "model_module_version": "1.2.0",
          "state": {
            "_model_module": "@jupyter-widgets/base",
            "_model_module_version": "1.2.0",
            "_model_name": "LayoutModel",
            "_view_count": null,
            "_view_module": "@jupyter-widgets/base",
            "_view_module_version": "1.2.0",
            "_view_name": "LayoutView",
            "align_content": null,
            "align_items": null,
            "align_self": null,
            "border": null,
            "bottom": null,
            "display": null,
            "flex": null,
            "flex_flow": null,
            "grid_area": null,
            "grid_auto_columns": null,
            "grid_auto_flow": null,
            "grid_auto_rows": null,
            "grid_column": null,
            "grid_gap": null,
            "grid_row": null,
            "grid_template_areas": null,
            "grid_template_columns": null,
            "grid_template_rows": null,
            "height": null,
            "justify_content": null,
            "justify_items": null,
            "left": null,
            "margin": null,
            "max_height": null,
            "max_width": null,
            "min_height": null,
            "min_width": null,
            "object_fit": null,
            "object_position": null,
            "order": null,
            "overflow": null,
            "overflow_x": null,
            "overflow_y": null,
            "padding": null,
            "right": null,
            "top": null,
            "visibility": null,
            "width": null
          }
        },
        "4679de80fa35422588f1aa34cabbff92": {
          "model_module": "@jupyter-widgets/controls",
          "model_name": "ProgressStyleModel",
          "model_module_version": "1.5.0",
          "state": {
            "_model_module": "@jupyter-widgets/controls",
            "_model_module_version": "1.5.0",
            "_model_name": "ProgressStyleModel",
            "_view_count": null,
            "_view_module": "@jupyter-widgets/base",
            "_view_module_version": "1.2.0",
            "_view_name": "StyleView",
            "bar_color": null,
            "description_width": ""
          }
        },
        "3c4d2e9867ca49e2a4a85fffedbb5a9a": {
          "model_module": "@jupyter-widgets/base",
          "model_name": "LayoutModel",
          "model_module_version": "1.2.0",
          "state": {
            "_model_module": "@jupyter-widgets/base",
            "_model_module_version": "1.2.0",
            "_model_name": "LayoutModel",
            "_view_count": null,
            "_view_module": "@jupyter-widgets/base",
            "_view_module_version": "1.2.0",
            "_view_name": "LayoutView",
            "align_content": null,
            "align_items": null,
            "align_self": null,
            "border": null,
            "bottom": null,
            "display": null,
            "flex": null,
            "flex_flow": null,
            "grid_area": null,
            "grid_auto_columns": null,
            "grid_auto_flow": null,
            "grid_auto_rows": null,
            "grid_column": null,
            "grid_gap": null,
            "grid_row": null,
            "grid_template_areas": null,
            "grid_template_columns": null,
            "grid_template_rows": null,
            "height": null,
            "justify_content": null,
            "justify_items": null,
            "left": null,
            "margin": null,
            "max_height": null,
            "max_width": null,
            "min_height": null,
            "min_width": null,
            "object_fit": null,
            "object_position": null,
            "order": null,
            "overflow": null,
            "overflow_x": null,
            "overflow_y": null,
            "padding": null,
            "right": null,
            "top": null,
            "visibility": null,
            "width": null
          }
        },
        "343acff199e84318accfc4d9baf10fb5": {
          "model_module": "@jupyter-widgets/controls",
          "model_name": "DescriptionStyleModel",
          "model_module_version": "1.5.0",
          "state": {
            "_model_module": "@jupyter-widgets/controls",
            "_model_module_version": "1.5.0",
            "_model_name": "DescriptionStyleModel",
            "_view_count": null,
            "_view_module": "@jupyter-widgets/base",
            "_view_module_version": "1.2.0",
            "_view_name": "StyleView",
            "description_width": ""
          }
        },
        "9aa0194897914f8597ee52384c694122": {
          "model_module": "@jupyter-widgets/controls",
          "model_name": "HBoxModel",
          "model_module_version": "1.5.0",
          "state": {
            "_dom_classes": [],
            "_model_module": "@jupyter-widgets/controls",
            "_model_module_version": "1.5.0",
            "_model_name": "HBoxModel",
            "_view_count": null,
            "_view_module": "@jupyter-widgets/controls",
            "_view_module_version": "1.5.0",
            "_view_name": "HBoxView",
            "box_style": "",
            "children": [
              "IPY_MODEL_6603d45d041046489db0302e442f2ac3",
              "IPY_MODEL_6f6b1b8be244460cb13b51abe5e2daa7",
              "IPY_MODEL_7981c5ce27764647a22aec67ddd55ce8"
            ],
            "layout": "IPY_MODEL_ae8332f3fed6443e9eb817ce75db1b3a"
          }
        },
        "6603d45d041046489db0302e442f2ac3": {
          "model_module": "@jupyter-widgets/controls",
          "model_name": "HTMLModel",
          "model_module_version": "1.5.0",
          "state": {
            "_dom_classes": [],
            "_model_module": "@jupyter-widgets/controls",
            "_model_module_version": "1.5.0",
            "_model_name": "HTMLModel",
            "_view_count": null,
            "_view_module": "@jupyter-widgets/controls",
            "_view_module_version": "1.5.0",
            "_view_name": "HTMLView",
            "description": "",
            "description_tooltip": null,
            "layout": "IPY_MODEL_99c72e81428043c898b54dffaf3e5dd7",
            "placeholder": "​",
            "style": "IPY_MODEL_238879d4274d41a5b02f6f7bcea8cf40",
            "value": "Map: 100%"
          }
        },
        "6f6b1b8be244460cb13b51abe5e2daa7": {
          "model_module": "@jupyter-widgets/controls",
          "model_name": "FloatProgressModel",
          "model_module_version": "1.5.0",
          "state": {
            "_dom_classes": [],
            "_model_module": "@jupyter-widgets/controls",
            "_model_module_version": "1.5.0",
            "_model_name": "FloatProgressModel",
            "_view_count": null,
            "_view_module": "@jupyter-widgets/controls",
            "_view_module_version": "1.5.0",
            "_view_name": "ProgressView",
            "bar_style": "success",
            "description": "",
            "description_tooltip": null,
            "layout": "IPY_MODEL_a70350116e0b48dc9a803d2c82f1df43",
            "max": 50,
            "min": 0,
            "orientation": "horizontal",
            "style": "IPY_MODEL_7766213cd96a4e3c8d0dfcacdd1e0818",
            "value": 50
          }
        },
        "7981c5ce27764647a22aec67ddd55ce8": {
          "model_module": "@jupyter-widgets/controls",
          "model_name": "HTMLModel",
          "model_module_version": "1.5.0",
          "state": {
            "_dom_classes": [],
            "_model_module": "@jupyter-widgets/controls",
            "_model_module_version": "1.5.0",
            "_model_name": "HTMLModel",
            "_view_count": null,
            "_view_module": "@jupyter-widgets/controls",
            "_view_module_version": "1.5.0",
            "_view_name": "HTMLView",
            "description": "",
            "description_tooltip": null,
            "layout": "IPY_MODEL_63274d18056d40b78dcfc87f833a72b5",
            "placeholder": "​",
            "style": "IPY_MODEL_dfb936b872b74e3b999af86fb82eecf2",
            "value": " 50/50 [00:00&lt;00:00, 1140.30 examples/s]"
          }
        },
        "ae8332f3fed6443e9eb817ce75db1b3a": {
          "model_module": "@jupyter-widgets/base",
          "model_name": "LayoutModel",
          "model_module_version": "1.2.0",
          "state": {
            "_model_module": "@jupyter-widgets/base",
            "_model_module_version": "1.2.0",
            "_model_name": "LayoutModel",
            "_view_count": null,
            "_view_module": "@jupyter-widgets/base",
            "_view_module_version": "1.2.0",
            "_view_name": "LayoutView",
            "align_content": null,
            "align_items": null,
            "align_self": null,
            "border": null,
            "bottom": null,
            "display": null,
            "flex": null,
            "flex_flow": null,
            "grid_area": null,
            "grid_auto_columns": null,
            "grid_auto_flow": null,
            "grid_auto_rows": null,
            "grid_column": null,
            "grid_gap": null,
            "grid_row": null,
            "grid_template_areas": null,
            "grid_template_columns": null,
            "grid_template_rows": null,
            "height": null,
            "justify_content": null,
            "justify_items": null,
            "left": null,
            "margin": null,
            "max_height": null,
            "max_width": null,
            "min_height": null,
            "min_width": null,
            "object_fit": null,
            "object_position": null,
            "order": null,
            "overflow": null,
            "overflow_x": null,
            "overflow_y": null,
            "padding": null,
            "right": null,
            "top": null,
            "visibility": null,
            "width": null
          }
        },
        "99c72e81428043c898b54dffaf3e5dd7": {
          "model_module": "@jupyter-widgets/base",
          "model_name": "LayoutModel",
          "model_module_version": "1.2.0",
          "state": {
            "_model_module": "@jupyter-widgets/base",
            "_model_module_version": "1.2.0",
            "_model_name": "LayoutModel",
            "_view_count": null,
            "_view_module": "@jupyter-widgets/base",
            "_view_module_version": "1.2.0",
            "_view_name": "LayoutView",
            "align_content": null,
            "align_items": null,
            "align_self": null,
            "border": null,
            "bottom": null,
            "display": null,
            "flex": null,
            "flex_flow": null,
            "grid_area": null,
            "grid_auto_columns": null,
            "grid_auto_flow": null,
            "grid_auto_rows": null,
            "grid_column": null,
            "grid_gap": null,
            "grid_row": null,
            "grid_template_areas": null,
            "grid_template_columns": null,
            "grid_template_rows": null,
            "height": null,
            "justify_content": null,
            "justify_items": null,
            "left": null,
            "margin": null,
            "max_height": null,
            "max_width": null,
            "min_height": null,
            "min_width": null,
            "object_fit": null,
            "object_position": null,
            "order": null,
            "overflow": null,
            "overflow_x": null,
            "overflow_y": null,
            "padding": null,
            "right": null,
            "top": null,
            "visibility": null,
            "width": null
          }
        },
        "238879d4274d41a5b02f6f7bcea8cf40": {
          "model_module": "@jupyter-widgets/controls",
          "model_name": "DescriptionStyleModel",
          "model_module_version": "1.5.0",
          "state": {
            "_model_module": "@jupyter-widgets/controls",
            "_model_module_version": "1.5.0",
            "_model_name": "DescriptionStyleModel",
            "_view_count": null,
            "_view_module": "@jupyter-widgets/base",
            "_view_module_version": "1.2.0",
            "_view_name": "StyleView",
            "description_width": ""
          }
        },
        "a70350116e0b48dc9a803d2c82f1df43": {
          "model_module": "@jupyter-widgets/base",
          "model_name": "LayoutModel",
          "model_module_version": "1.2.0",
          "state": {
            "_model_module": "@jupyter-widgets/base",
            "_model_module_version": "1.2.0",
            "_model_name": "LayoutModel",
            "_view_count": null,
            "_view_module": "@jupyter-widgets/base",
            "_view_module_version": "1.2.0",
            "_view_name": "LayoutView",
            "align_content": null,
            "align_items": null,
            "align_self": null,
            "border": null,
            "bottom": null,
            "display": null,
            "flex": null,
            "flex_flow": null,
            "grid_area": null,
            "grid_auto_columns": null,
            "grid_auto_flow": null,
            "grid_auto_rows": null,
            "grid_column": null,
            "grid_gap": null,
            "grid_row": null,
            "grid_template_areas": null,
            "grid_template_columns": null,
            "grid_template_rows": null,
            "height": null,
            "justify_content": null,
            "justify_items": null,
            "left": null,
            "margin": null,
            "max_height": null,
            "max_width": null,
            "min_height": null,
            "min_width": null,
            "object_fit": null,
            "object_position": null,
            "order": null,
            "overflow": null,
            "overflow_x": null,
            "overflow_y": null,
            "padding": null,
            "right": null,
            "top": null,
            "visibility": null,
            "width": null
          }
        },
        "7766213cd96a4e3c8d0dfcacdd1e0818": {
          "model_module": "@jupyter-widgets/controls",
          "model_name": "ProgressStyleModel",
          "model_module_version": "1.5.0",
          "state": {
            "_model_module": "@jupyter-widgets/controls",
            "_model_module_version": "1.5.0",
            "_model_name": "ProgressStyleModel",
            "_view_count": null,
            "_view_module": "@jupyter-widgets/base",
            "_view_module_version": "1.2.0",
            "_view_name": "StyleView",
            "bar_color": null,
            "description_width": ""
          }
        },
        "63274d18056d40b78dcfc87f833a72b5": {
          "model_module": "@jupyter-widgets/base",
          "model_name": "LayoutModel",
          "model_module_version": "1.2.0",
          "state": {
            "_model_module": "@jupyter-widgets/base",
            "_model_module_version": "1.2.0",
            "_model_name": "LayoutModel",
            "_view_count": null,
            "_view_module": "@jupyter-widgets/base",
            "_view_module_version": "1.2.0",
            "_view_name": "LayoutView",
            "align_content": null,
            "align_items": null,
            "align_self": null,
            "border": null,
            "bottom": null,
            "display": null,
            "flex": null,
            "flex_flow": null,
            "grid_area": null,
            "grid_auto_columns": null,
            "grid_auto_flow": null,
            "grid_auto_rows": null,
            "grid_column": null,
            "grid_gap": null,
            "grid_row": null,
            "grid_template_areas": null,
            "grid_template_columns": null,
            "grid_template_rows": null,
            "height": null,
            "justify_content": null,
            "justify_items": null,
            "left": null,
            "margin": null,
            "max_height": null,
            "max_width": null,
            "min_height": null,
            "min_width": null,
            "object_fit": null,
            "object_position": null,
            "order": null,
            "overflow": null,
            "overflow_x": null,
            "overflow_y": null,
            "padding": null,
            "right": null,
            "top": null,
            "visibility": null,
            "width": null
          }
        },
        "dfb936b872b74e3b999af86fb82eecf2": {
          "model_module": "@jupyter-widgets/controls",
          "model_name": "DescriptionStyleModel",
          "model_module_version": "1.5.0",
          "state": {
            "_model_module": "@jupyter-widgets/controls",
            "_model_module_version": "1.5.0",
            "_model_name": "DescriptionStyleModel",
            "_view_count": null,
            "_view_module": "@jupyter-widgets/base",
            "_view_module_version": "1.2.0",
            "_view_name": "StyleView",
            "description_width": ""
          }
        },
        "5fafb922749940468954101df009904b": {
          "model_module": "@jupyter-widgets/controls",
          "model_name": "HBoxModel",
          "model_module_version": "1.5.0",
          "state": {
            "_dom_classes": [],
            "_model_module": "@jupyter-widgets/controls",
            "_model_module_version": "1.5.0",
            "_model_name": "HBoxModel",
            "_view_count": null,
            "_view_module": "@jupyter-widgets/controls",
            "_view_module_version": "1.5.0",
            "_view_name": "HBoxView",
            "box_style": "",
            "children": [
              "IPY_MODEL_83c92f29be4541dfa6d2341e45ff6662",
              "IPY_MODEL_0912dcbdf8bc49349e9ae3254fd7e094",
              "IPY_MODEL_651cb5c099d74701b793a1f5757c5148"
            ],
            "layout": "IPY_MODEL_ce54cf3b61f248408f3b2f3a4b5d0193"
          }
        },
        "83c92f29be4541dfa6d2341e45ff6662": {
          "model_module": "@jupyter-widgets/controls",
          "model_name": "HTMLModel",
          "model_module_version": "1.5.0",
          "state": {
            "_dom_classes": [],
            "_model_module": "@jupyter-widgets/controls",
            "_model_module_version": "1.5.0",
            "_model_name": "HTMLModel",
            "_view_count": null,
            "_view_module": "@jupyter-widgets/controls",
            "_view_module_version": "1.5.0",
            "_view_name": "HTMLView",
            "description": "",
            "description_tooltip": null,
            "layout": "IPY_MODEL_9f5506500756497e9208288b1298f43a",
            "placeholder": "​",
            "style": "IPY_MODEL_7cbde3837a37451fb283993e3ec19d5e",
            "value": "Downloading builder script: 100%"
          }
        },
        "0912dcbdf8bc49349e9ae3254fd7e094": {
          "model_module": "@jupyter-widgets/controls",
          "model_name": "FloatProgressModel",
          "model_module_version": "1.5.0",
          "state": {
            "_dom_classes": [],
            "_model_module": "@jupyter-widgets/controls",
            "_model_module_version": "1.5.0",
            "_model_name": "FloatProgressModel",
            "_view_count": null,
            "_view_module": "@jupyter-widgets/controls",
            "_view_module_version": "1.5.0",
            "_view_name": "ProgressView",
            "bar_style": "success",
            "description": "",
            "description_tooltip": null,
            "layout": "IPY_MODEL_f3c818cb0499472cb805b3eae06218d9",
            "max": 4203,
            "min": 0,
            "orientation": "horizontal",
            "style": "IPY_MODEL_1d7d0ee5710342ab88c34c40db03c922",
            "value": 4203
          }
        },
        "651cb5c099d74701b793a1f5757c5148": {
          "model_module": "@jupyter-widgets/controls",
          "model_name": "HTMLModel",
          "model_module_version": "1.5.0",
          "state": {
            "_dom_classes": [],
            "_model_module": "@jupyter-widgets/controls",
            "_model_module_version": "1.5.0",
            "_model_name": "HTMLModel",
            "_view_count": null,
            "_view_module": "@jupyter-widgets/controls",
            "_view_module_version": "1.5.0",
            "_view_name": "HTMLView",
            "description": "",
            "description_tooltip": null,
            "layout": "IPY_MODEL_7c18633b9c5b4d3f82ab395c158d49d3",
            "placeholder": "​",
            "style": "IPY_MODEL_5f9e05387edc4bad8a35d40148e1371b",
            "value": " 4.20k/4.20k [00:00&lt;00:00, 340kB/s]"
          }
        },
        "ce54cf3b61f248408f3b2f3a4b5d0193": {
          "model_module": "@jupyter-widgets/base",
          "model_name": "LayoutModel",
          "model_module_version": "1.2.0",
          "state": {
            "_model_module": "@jupyter-widgets/base",
            "_model_module_version": "1.2.0",
            "_model_name": "LayoutModel",
            "_view_count": null,
            "_view_module": "@jupyter-widgets/base",
            "_view_module_version": "1.2.0",
            "_view_name": "LayoutView",
            "align_content": null,
            "align_items": null,
            "align_self": null,
            "border": null,
            "bottom": null,
            "display": null,
            "flex": null,
            "flex_flow": null,
            "grid_area": null,
            "grid_auto_columns": null,
            "grid_auto_flow": null,
            "grid_auto_rows": null,
            "grid_column": null,
            "grid_gap": null,
            "grid_row": null,
            "grid_template_areas": null,
            "grid_template_columns": null,
            "grid_template_rows": null,
            "height": null,
            "justify_content": null,
            "justify_items": null,
            "left": null,
            "margin": null,
            "max_height": null,
            "max_width": null,
            "min_height": null,
            "min_width": null,
            "object_fit": null,
            "object_position": null,
            "order": null,
            "overflow": null,
            "overflow_x": null,
            "overflow_y": null,
            "padding": null,
            "right": null,
            "top": null,
            "visibility": null,
            "width": null
          }
        },
        "9f5506500756497e9208288b1298f43a": {
          "model_module": "@jupyter-widgets/base",
          "model_name": "LayoutModel",
          "model_module_version": "1.2.0",
          "state": {
            "_model_module": "@jupyter-widgets/base",
            "_model_module_version": "1.2.0",
            "_model_name": "LayoutModel",
            "_view_count": null,
            "_view_module": "@jupyter-widgets/base",
            "_view_module_version": "1.2.0",
            "_view_name": "LayoutView",
            "align_content": null,
            "align_items": null,
            "align_self": null,
            "border": null,
            "bottom": null,
            "display": null,
            "flex": null,
            "flex_flow": null,
            "grid_area": null,
            "grid_auto_columns": null,
            "grid_auto_flow": null,
            "grid_auto_rows": null,
            "grid_column": null,
            "grid_gap": null,
            "grid_row": null,
            "grid_template_areas": null,
            "grid_template_columns": null,
            "grid_template_rows": null,
            "height": null,
            "justify_content": null,
            "justify_items": null,
            "left": null,
            "margin": null,
            "max_height": null,
            "max_width": null,
            "min_height": null,
            "min_width": null,
            "object_fit": null,
            "object_position": null,
            "order": null,
            "overflow": null,
            "overflow_x": null,
            "overflow_y": null,
            "padding": null,
            "right": null,
            "top": null,
            "visibility": null,
            "width": null
          }
        },
        "7cbde3837a37451fb283993e3ec19d5e": {
          "model_module": "@jupyter-widgets/controls",
          "model_name": "DescriptionStyleModel",
          "model_module_version": "1.5.0",
          "state": {
            "_model_module": "@jupyter-widgets/controls",
            "_model_module_version": "1.5.0",
            "_model_name": "DescriptionStyleModel",
            "_view_count": null,
            "_view_module": "@jupyter-widgets/base",
            "_view_module_version": "1.2.0",
            "_view_name": "StyleView",
            "description_width": ""
          }
        },
        "f3c818cb0499472cb805b3eae06218d9": {
          "model_module": "@jupyter-widgets/base",
          "model_name": "LayoutModel",
          "model_module_version": "1.2.0",
          "state": {
            "_model_module": "@jupyter-widgets/base",
            "_model_module_version": "1.2.0",
            "_model_name": "LayoutModel",
            "_view_count": null,
            "_view_module": "@jupyter-widgets/base",
            "_view_module_version": "1.2.0",
            "_view_name": "LayoutView",
            "align_content": null,
            "align_items": null,
            "align_self": null,
            "border": null,
            "bottom": null,
            "display": null,
            "flex": null,
            "flex_flow": null,
            "grid_area": null,
            "grid_auto_columns": null,
            "grid_auto_flow": null,
            "grid_auto_rows": null,
            "grid_column": null,
            "grid_gap": null,
            "grid_row": null,
            "grid_template_areas": null,
            "grid_template_columns": null,
            "grid_template_rows": null,
            "height": null,
            "justify_content": null,
            "justify_items": null,
            "left": null,
            "margin": null,
            "max_height": null,
            "max_width": null,
            "min_height": null,
            "min_width": null,
            "object_fit": null,
            "object_position": null,
            "order": null,
            "overflow": null,
            "overflow_x": null,
            "overflow_y": null,
            "padding": null,
            "right": null,
            "top": null,
            "visibility": null,
            "width": null
          }
        },
        "1d7d0ee5710342ab88c34c40db03c922": {
          "model_module": "@jupyter-widgets/controls",
          "model_name": "ProgressStyleModel",
          "model_module_version": "1.5.0",
          "state": {
            "_model_module": "@jupyter-widgets/controls",
            "_model_module_version": "1.5.0",
            "_model_name": "ProgressStyleModel",
            "_view_count": null,
            "_view_module": "@jupyter-widgets/base",
            "_view_module_version": "1.2.0",
            "_view_name": "StyleView",
            "bar_color": null,
            "description_width": ""
          }
        },
        "7c18633b9c5b4d3f82ab395c158d49d3": {
          "model_module": "@jupyter-widgets/base",
          "model_name": "LayoutModel",
          "model_module_version": "1.2.0",
          "state": {
            "_model_module": "@jupyter-widgets/base",
            "_model_module_version": "1.2.0",
            "_model_name": "LayoutModel",
            "_view_count": null,
            "_view_module": "@jupyter-widgets/base",
            "_view_module_version": "1.2.0",
            "_view_name": "LayoutView",
            "align_content": null,
            "align_items": null,
            "align_self": null,
            "border": null,
            "bottom": null,
            "display": null,
            "flex": null,
            "flex_flow": null,
            "grid_area": null,
            "grid_auto_columns": null,
            "grid_auto_flow": null,
            "grid_auto_rows": null,
            "grid_column": null,
            "grid_gap": null,
            "grid_row": null,
            "grid_template_areas": null,
            "grid_template_columns": null,
            "grid_template_rows": null,
            "height": null,
            "justify_content": null,
            "justify_items": null,
            "left": null,
            "margin": null,
            "max_height": null,
            "max_width": null,
            "min_height": null,
            "min_width": null,
            "object_fit": null,
            "object_position": null,
            "order": null,
            "overflow": null,
            "overflow_x": null,
            "overflow_y": null,
            "padding": null,
            "right": null,
            "top": null,
            "visibility": null,
            "width": null
          }
        },
        "5f9e05387edc4bad8a35d40148e1371b": {
          "model_module": "@jupyter-widgets/controls",
          "model_name": "DescriptionStyleModel",
          "model_module_version": "1.5.0",
          "state": {
            "_model_module": "@jupyter-widgets/controls",
            "_model_module_version": "1.5.0",
            "_model_name": "DescriptionStyleModel",
            "_view_count": null,
            "_view_module": "@jupyter-widgets/base",
            "_view_module_version": "1.2.0",
            "_view_name": "StyleView",
            "description_width": ""
          }
        },
        "887677ab17cf4362ba19189753f56de3": {
          "model_module": "@jupyter-widgets/controls",
          "model_name": "HBoxModel",
          "model_module_version": "1.5.0",
          "state": {
            "_dom_classes": [],
            "_model_module": "@jupyter-widgets/controls",
            "_model_module_version": "1.5.0",
            "_model_name": "HBoxModel",
            "_view_count": null,
            "_view_module": "@jupyter-widgets/controls",
            "_view_module_version": "1.5.0",
            "_view_name": "HBoxView",
            "box_style": "",
            "children": [
              "IPY_MODEL_6a87b29d2dfe429491c75201deced4ad",
              "IPY_MODEL_30e348b85d59477bb249e0687beddf12",
              "IPY_MODEL_ed9602190e1244dfa63151501b3708fe"
            ],
            "layout": "IPY_MODEL_22a357da45644cdd9809b0d2a87f7092"
          }
        },
        "6a87b29d2dfe429491c75201deced4ad": {
          "model_module": "@jupyter-widgets/controls",
          "model_name": "HTMLModel",
          "model_module_version": "1.5.0",
          "state": {
            "_dom_classes": [],
            "_model_module": "@jupyter-widgets/controls",
            "_model_module_version": "1.5.0",
            "_model_name": "HTMLModel",
            "_view_count": null,
            "_view_module": "@jupyter-widgets/controls",
            "_view_module_version": "1.5.0",
            "_view_name": "HTMLView",
            "description": "",
            "description_tooltip": null,
            "layout": "IPY_MODEL_eff3440845d849e5ab582c842c98a153",
            "placeholder": "​",
            "style": "IPY_MODEL_b0dd4d5049304a63bf838360cdd12310",
            "value": "model.safetensors: 100%"
          }
        },
        "30e348b85d59477bb249e0687beddf12": {
          "model_module": "@jupyter-widgets/controls",
          "model_name": "FloatProgressModel",
          "model_module_version": "1.5.0",
          "state": {
            "_dom_classes": [],
            "_model_module": "@jupyter-widgets/controls",
            "_model_module_version": "1.5.0",
            "_model_name": "FloatProgressModel",
            "_view_count": null,
            "_view_module": "@jupyter-widgets/controls",
            "_view_module_version": "1.5.0",
            "_view_name": "ProgressView",
            "bar_style": "success",
            "description": "",
            "description_tooltip": null,
            "layout": "IPY_MODEL_6a64ea09265e4a10a6c18dbc0f445479",
            "max": 267954768,
            "min": 0,
            "orientation": "horizontal",
            "style": "IPY_MODEL_1f0ec3f492db4ebc84e6c9a0e1fa4e70",
            "value": 267954768
          }
        },
        "ed9602190e1244dfa63151501b3708fe": {
          "model_module": "@jupyter-widgets/controls",
          "model_name": "HTMLModel",
          "model_module_version": "1.5.0",
          "state": {
            "_dom_classes": [],
            "_model_module": "@jupyter-widgets/controls",
            "_model_module_version": "1.5.0",
            "_model_name": "HTMLModel",
            "_view_count": null,
            "_view_module": "@jupyter-widgets/controls",
            "_view_module_version": "1.5.0",
            "_view_name": "HTMLView",
            "description": "",
            "description_tooltip": null,
            "layout": "IPY_MODEL_d3e7717604bb4028a15c88e829eb2fea",
            "placeholder": "​",
            "style": "IPY_MODEL_b6c67f03f4ec413a8845bb79009693af",
            "value": " 268M/268M [00:01&lt;00:00, 191MB/s]"
          }
        },
        "22a357da45644cdd9809b0d2a87f7092": {
          "model_module": "@jupyter-widgets/base",
          "model_name": "LayoutModel",
          "model_module_version": "1.2.0",
          "state": {
            "_model_module": "@jupyter-widgets/base",
            "_model_module_version": "1.2.0",
            "_model_name": "LayoutModel",
            "_view_count": null,
            "_view_module": "@jupyter-widgets/base",
            "_view_module_version": "1.2.0",
            "_view_name": "LayoutView",
            "align_content": null,
            "align_items": null,
            "align_self": null,
            "border": null,
            "bottom": null,
            "display": null,
            "flex": null,
            "flex_flow": null,
            "grid_area": null,
            "grid_auto_columns": null,
            "grid_auto_flow": null,
            "grid_auto_rows": null,
            "grid_column": null,
            "grid_gap": null,
            "grid_row": null,
            "grid_template_areas": null,
            "grid_template_columns": null,
            "grid_template_rows": null,
            "height": null,
            "justify_content": null,
            "justify_items": null,
            "left": null,
            "margin": null,
            "max_height": null,
            "max_width": null,
            "min_height": null,
            "min_width": null,
            "object_fit": null,
            "object_position": null,
            "order": null,
            "overflow": null,
            "overflow_x": null,
            "overflow_y": null,
            "padding": null,
            "right": null,
            "top": null,
            "visibility": null,
            "width": null
          }
        },
        "eff3440845d849e5ab582c842c98a153": {
          "model_module": "@jupyter-widgets/base",
          "model_name": "LayoutModel",
          "model_module_version": "1.2.0",
          "state": {
            "_model_module": "@jupyter-widgets/base",
            "_model_module_version": "1.2.0",
            "_model_name": "LayoutModel",
            "_view_count": null,
            "_view_module": "@jupyter-widgets/base",
            "_view_module_version": "1.2.0",
            "_view_name": "LayoutView",
            "align_content": null,
            "align_items": null,
            "align_self": null,
            "border": null,
            "bottom": null,
            "display": null,
            "flex": null,
            "flex_flow": null,
            "grid_area": null,
            "grid_auto_columns": null,
            "grid_auto_flow": null,
            "grid_auto_rows": null,
            "grid_column": null,
            "grid_gap": null,
            "grid_row": null,
            "grid_template_areas": null,
            "grid_template_columns": null,
            "grid_template_rows": null,
            "height": null,
            "justify_content": null,
            "justify_items": null,
            "left": null,
            "margin": null,
            "max_height": null,
            "max_width": null,
            "min_height": null,
            "min_width": null,
            "object_fit": null,
            "object_position": null,
            "order": null,
            "overflow": null,
            "overflow_x": null,
            "overflow_y": null,
            "padding": null,
            "right": null,
            "top": null,
            "visibility": null,
            "width": null
          }
        },
        "b0dd4d5049304a63bf838360cdd12310": {
          "model_module": "@jupyter-widgets/controls",
          "model_name": "DescriptionStyleModel",
          "model_module_version": "1.5.0",
          "state": {
            "_model_module": "@jupyter-widgets/controls",
            "_model_module_version": "1.5.0",
            "_model_name": "DescriptionStyleModel",
            "_view_count": null,
            "_view_module": "@jupyter-widgets/base",
            "_view_module_version": "1.2.0",
            "_view_name": "StyleView",
            "description_width": ""
          }
        },
        "6a64ea09265e4a10a6c18dbc0f445479": {
          "model_module": "@jupyter-widgets/base",
          "model_name": "LayoutModel",
          "model_module_version": "1.2.0",
          "state": {
            "_model_module": "@jupyter-widgets/base",
            "_model_module_version": "1.2.0",
            "_model_name": "LayoutModel",
            "_view_count": null,
            "_view_module": "@jupyter-widgets/base",
            "_view_module_version": "1.2.0",
            "_view_name": "LayoutView",
            "align_content": null,
            "align_items": null,
            "align_self": null,
            "border": null,
            "bottom": null,
            "display": null,
            "flex": null,
            "flex_flow": null,
            "grid_area": null,
            "grid_auto_columns": null,
            "grid_auto_flow": null,
            "grid_auto_rows": null,
            "grid_column": null,
            "grid_gap": null,
            "grid_row": null,
            "grid_template_areas": null,
            "grid_template_columns": null,
            "grid_template_rows": null,
            "height": null,
            "justify_content": null,
            "justify_items": null,
            "left": null,
            "margin": null,
            "max_height": null,
            "max_width": null,
            "min_height": null,
            "min_width": null,
            "object_fit": null,
            "object_position": null,
            "order": null,
            "overflow": null,
            "overflow_x": null,
            "overflow_y": null,
            "padding": null,
            "right": null,
            "top": null,
            "visibility": null,
            "width": null
          }
        },
        "1f0ec3f492db4ebc84e6c9a0e1fa4e70": {
          "model_module": "@jupyter-widgets/controls",
          "model_name": "ProgressStyleModel",
          "model_module_version": "1.5.0",
          "state": {
            "_model_module": "@jupyter-widgets/controls",
            "_model_module_version": "1.5.0",
            "_model_name": "ProgressStyleModel",
            "_view_count": null,
            "_view_module": "@jupyter-widgets/base",
            "_view_module_version": "1.2.0",
            "_view_name": "StyleView",
            "bar_color": null,
            "description_width": ""
          }
        },
        "d3e7717604bb4028a15c88e829eb2fea": {
          "model_module": "@jupyter-widgets/base",
          "model_name": "LayoutModel",
          "model_module_version": "1.2.0",
          "state": {
            "_model_module": "@jupyter-widgets/base",
            "_model_module_version": "1.2.0",
            "_model_name": "LayoutModel",
            "_view_count": null,
            "_view_module": "@jupyter-widgets/base",
            "_view_module_version": "1.2.0",
            "_view_name": "LayoutView",
            "align_content": null,
            "align_items": null,
            "align_self": null,
            "border": null,
            "bottom": null,
            "display": null,
            "flex": null,
            "flex_flow": null,
            "grid_area": null,
            "grid_auto_columns": null,
            "grid_auto_flow": null,
            "grid_auto_rows": null,
            "grid_column": null,
            "grid_gap": null,
            "grid_row": null,
            "grid_template_areas": null,
            "grid_template_columns": null,
            "grid_template_rows": null,
            "height": null,
            "justify_content": null,
            "justify_items": null,
            "left": null,
            "margin": null,
            "max_height": null,
            "max_width": null,
            "min_height": null,
            "min_width": null,
            "object_fit": null,
            "object_position": null,
            "order": null,
            "overflow": null,
            "overflow_x": null,
            "overflow_y": null,
            "padding": null,
            "right": null,
            "top": null,
            "visibility": null,
            "width": null
          }
        },
        "b6c67f03f4ec413a8845bb79009693af": {
          "model_module": "@jupyter-widgets/controls",
          "model_name": "DescriptionStyleModel",
          "model_module_version": "1.5.0",
          "state": {
            "_model_module": "@jupyter-widgets/controls",
            "_model_module_version": "1.5.0",
            "_model_name": "DescriptionStyleModel",
            "_view_count": null,
            "_view_module": "@jupyter-widgets/base",
            "_view_module_version": "1.2.0",
            "_view_name": "StyleView",
            "description_width": ""
          }
        },
        "b53c53c6574a41fdb3a60e1d62788b2b": {
          "model_module": "@jupyter-widgets/controls",
          "model_name": "HBoxModel",
          "model_module_version": "1.5.0",
          "state": {
            "_dom_classes": [],
            "_model_module": "@jupyter-widgets/controls",
            "_model_module_version": "1.5.0",
            "_model_name": "HBoxModel",
            "_view_count": null,
            "_view_module": "@jupyter-widgets/controls",
            "_view_module_version": "1.5.0",
            "_view_name": "HBoxView",
            "box_style": "",
            "children": [
              "IPY_MODEL_18f848a3ab564276a55aeb57530e5046",
              "IPY_MODEL_4259f0c45538417f8977ae921a3b3f97",
              "IPY_MODEL_43a516f9ec2b422cb7c4ca76a8502602"
            ],
            "layout": "IPY_MODEL_d51ed27ab41c4dd686b9091ee3b1197d"
          }
        },
        "18f848a3ab564276a55aeb57530e5046": {
          "model_module": "@jupyter-widgets/controls",
          "model_name": "HTMLModel",
          "model_module_version": "1.5.0",
          "state": {
            "_dom_classes": [],
            "_model_module": "@jupyter-widgets/controls",
            "_model_module_version": "1.5.0",
            "_model_name": "HTMLModel",
            "_view_count": null,
            "_view_module": "@jupyter-widgets/controls",
            "_view_module_version": "1.5.0",
            "_view_name": "HTMLView",
            "description": "",
            "description_tooltip": null,
            "layout": "IPY_MODEL_1ab100e6b8f849d6a36594f2d8e45abc",
            "placeholder": "​",
            "style": "IPY_MODEL_b2ffe2aefd514c2a8bf522e8e3eb0538",
            "value": "model.safetensors: 100%"
          }
        },
        "4259f0c45538417f8977ae921a3b3f97": {
          "model_module": "@jupyter-widgets/controls",
          "model_name": "FloatProgressModel",
          "model_module_version": "1.5.0",
          "state": {
            "_dom_classes": [],
            "_model_module": "@jupyter-widgets/controls",
            "_model_module_version": "1.5.0",
            "_model_name": "FloatProgressModel",
            "_view_count": null,
            "_view_module": "@jupyter-widgets/controls",
            "_view_module_version": "1.5.0",
            "_view_name": "ProgressView",
            "bar_style": "success",
            "description": "",
            "description_tooltip": null,
            "layout": "IPY_MODEL_50f11e42f31f432584ab08eea3366aad",
            "max": 267832560,
            "min": 0,
            "orientation": "horizontal",
            "style": "IPY_MODEL_52beac899f4f48308f8ce1d2f7ec3e37",
            "value": 267832560
          }
        },
        "43a516f9ec2b422cb7c4ca76a8502602": {
          "model_module": "@jupyter-widgets/controls",
          "model_name": "HTMLModel",
          "model_module_version": "1.5.0",
          "state": {
            "_dom_classes": [],
            "_model_module": "@jupyter-widgets/controls",
            "_model_module_version": "1.5.0",
            "_model_name": "HTMLModel",
            "_view_count": null,
            "_view_module": "@jupyter-widgets/controls",
            "_view_module_version": "1.5.0",
            "_view_name": "HTMLView",
            "description": "",
            "description_tooltip": null,
            "layout": "IPY_MODEL_6c26bde971a8469686c1ef07be890adc",
            "placeholder": "​",
            "style": "IPY_MODEL_185ac0e4b60f4fec98cdfd0b05e08706",
            "value": " 268M/268M [00:08&lt;00:00, 35.6MB/s]"
          }
        },
        "d51ed27ab41c4dd686b9091ee3b1197d": {
          "model_module": "@jupyter-widgets/base",
          "model_name": "LayoutModel",
          "model_module_version": "1.2.0",
          "state": {
            "_model_module": "@jupyter-widgets/base",
            "_model_module_version": "1.2.0",
            "_model_name": "LayoutModel",
            "_view_count": null,
            "_view_module": "@jupyter-widgets/base",
            "_view_module_version": "1.2.0",
            "_view_name": "LayoutView",
            "align_content": null,
            "align_items": null,
            "align_self": null,
            "border": null,
            "bottom": null,
            "display": null,
            "flex": null,
            "flex_flow": null,
            "grid_area": null,
            "grid_auto_columns": null,
            "grid_auto_flow": null,
            "grid_auto_rows": null,
            "grid_column": null,
            "grid_gap": null,
            "grid_row": null,
            "grid_template_areas": null,
            "grid_template_columns": null,
            "grid_template_rows": null,
            "height": null,
            "justify_content": null,
            "justify_items": null,
            "left": null,
            "margin": null,
            "max_height": null,
            "max_width": null,
            "min_height": null,
            "min_width": null,
            "object_fit": null,
            "object_position": null,
            "order": null,
            "overflow": null,
            "overflow_x": null,
            "overflow_y": null,
            "padding": null,
            "right": null,
            "top": null,
            "visibility": null,
            "width": null
          }
        },
        "1ab100e6b8f849d6a36594f2d8e45abc": {
          "model_module": "@jupyter-widgets/base",
          "model_name": "LayoutModel",
          "model_module_version": "1.2.0",
          "state": {
            "_model_module": "@jupyter-widgets/base",
            "_model_module_version": "1.2.0",
            "_model_name": "LayoutModel",
            "_view_count": null,
            "_view_module": "@jupyter-widgets/base",
            "_view_module_version": "1.2.0",
            "_view_name": "LayoutView",
            "align_content": null,
            "align_items": null,
            "align_self": null,
            "border": null,
            "bottom": null,
            "display": null,
            "flex": null,
            "flex_flow": null,
            "grid_area": null,
            "grid_auto_columns": null,
            "grid_auto_flow": null,
            "grid_auto_rows": null,
            "grid_column": null,
            "grid_gap": null,
            "grid_row": null,
            "grid_template_areas": null,
            "grid_template_columns": null,
            "grid_template_rows": null,
            "height": null,
            "justify_content": null,
            "justify_items": null,
            "left": null,
            "margin": null,
            "max_height": null,
            "max_width": null,
            "min_height": null,
            "min_width": null,
            "object_fit": null,
            "object_position": null,
            "order": null,
            "overflow": null,
            "overflow_x": null,
            "overflow_y": null,
            "padding": null,
            "right": null,
            "top": null,
            "visibility": null,
            "width": null
          }
        },
        "b2ffe2aefd514c2a8bf522e8e3eb0538": {
          "model_module": "@jupyter-widgets/controls",
          "model_name": "DescriptionStyleModel",
          "model_module_version": "1.5.0",
          "state": {
            "_model_module": "@jupyter-widgets/controls",
            "_model_module_version": "1.5.0",
            "_model_name": "DescriptionStyleModel",
            "_view_count": null,
            "_view_module": "@jupyter-widgets/base",
            "_view_module_version": "1.2.0",
            "_view_name": "StyleView",
            "description_width": ""
          }
        },
        "50f11e42f31f432584ab08eea3366aad": {
          "model_module": "@jupyter-widgets/base",
          "model_name": "LayoutModel",
          "model_module_version": "1.2.0",
          "state": {
            "_model_module": "@jupyter-widgets/base",
            "_model_module_version": "1.2.0",
            "_model_name": "LayoutModel",
            "_view_count": null,
            "_view_module": "@jupyter-widgets/base",
            "_view_module_version": "1.2.0",
            "_view_name": "LayoutView",
            "align_content": null,
            "align_items": null,
            "align_self": null,
            "border": null,
            "bottom": null,
            "display": null,
            "flex": null,
            "flex_flow": null,
            "grid_area": null,
            "grid_auto_columns": null,
            "grid_auto_flow": null,
            "grid_auto_rows": null,
            "grid_column": null,
            "grid_gap": null,
            "grid_row": null,
            "grid_template_areas": null,
            "grid_template_columns": null,
            "grid_template_rows": null,
            "height": null,
            "justify_content": null,
            "justify_items": null,
            "left": null,
            "margin": null,
            "max_height": null,
            "max_width": null,
            "min_height": null,
            "min_width": null,
            "object_fit": null,
            "object_position": null,
            "order": null,
            "overflow": null,
            "overflow_x": null,
            "overflow_y": null,
            "padding": null,
            "right": null,
            "top": null,
            "visibility": null,
            "width": null
          }
        },
        "52beac899f4f48308f8ce1d2f7ec3e37": {
          "model_module": "@jupyter-widgets/controls",
          "model_name": "ProgressStyleModel",
          "model_module_version": "1.5.0",
          "state": {
            "_model_module": "@jupyter-widgets/controls",
            "_model_module_version": "1.5.0",
            "_model_name": "ProgressStyleModel",
            "_view_count": null,
            "_view_module": "@jupyter-widgets/base",
            "_view_module_version": "1.2.0",
            "_view_name": "StyleView",
            "bar_color": null,
            "description_width": ""
          }
        },
        "6c26bde971a8469686c1ef07be890adc": {
          "model_module": "@jupyter-widgets/base",
          "model_name": "LayoutModel",
          "model_module_version": "1.2.0",
          "state": {
            "_model_module": "@jupyter-widgets/base",
            "_model_module_version": "1.2.0",
            "_model_name": "LayoutModel",
            "_view_count": null,
            "_view_module": "@jupyter-widgets/base",
            "_view_module_version": "1.2.0",
            "_view_name": "LayoutView",
            "align_content": null,
            "align_items": null,
            "align_self": null,
            "border": null,
            "bottom": null,
            "display": null,
            "flex": null,
            "flex_flow": null,
            "grid_area": null,
            "grid_auto_columns": null,
            "grid_auto_flow": null,
            "grid_auto_rows": null,
            "grid_column": null,
            "grid_gap": null,
            "grid_row": null,
            "grid_template_areas": null,
            "grid_template_columns": null,
            "grid_template_rows": null,
            "height": null,
            "justify_content": null,
            "justify_items": null,
            "left": null,
            "margin": null,
            "max_height": null,
            "max_width": null,
            "min_height": null,
            "min_width": null,
            "object_fit": null,
            "object_position": null,
            "order": null,
            "overflow": null,
            "overflow_x": null,
            "overflow_y": null,
            "padding": null,
            "right": null,
            "top": null,
            "visibility": null,
            "width": null
          }
        },
        "185ac0e4b60f4fec98cdfd0b05e08706": {
          "model_module": "@jupyter-widgets/controls",
          "model_name": "DescriptionStyleModel",
          "model_module_version": "1.5.0",
          "state": {
            "_model_module": "@jupyter-widgets/controls",
            "_model_module_version": "1.5.0",
            "_model_name": "DescriptionStyleModel",
            "_view_count": null,
            "_view_module": "@jupyter-widgets/base",
            "_view_module_version": "1.2.0",
            "_view_name": "StyleView",
            "description_width": ""
          }
        },
        "4785fa1aaaed49e3990fb8af05e99b80": {
          "model_module": "@jupyter-widgets/controls",
          "model_name": "HBoxModel",
          "model_module_version": "1.5.0",
          "state": {
            "_dom_classes": [],
            "_model_module": "@jupyter-widgets/controls",
            "_model_module_version": "1.5.0",
            "_model_name": "HBoxModel",
            "_view_count": null,
            "_view_module": "@jupyter-widgets/controls",
            "_view_module_version": "1.5.0",
            "_view_name": "HBoxView",
            "box_style": "",
            "children": [
              "IPY_MODEL_46501ec6f0124d80a583a99d7da56bf1",
              "IPY_MODEL_7114155482344805913200681bdb6a14",
              "IPY_MODEL_0302bd1315ca4e2aadb9825aa4f6d453"
            ],
            "layout": "IPY_MODEL_6de57039ccb0474193dd0001b049af84"
          }
        },
        "46501ec6f0124d80a583a99d7da56bf1": {
          "model_module": "@jupyter-widgets/controls",
          "model_name": "HTMLModel",
          "model_module_version": "1.5.0",
          "state": {
            "_dom_classes": [],
            "_model_module": "@jupyter-widgets/controls",
            "_model_module_version": "1.5.0",
            "_model_name": "HTMLModel",
            "_view_count": null,
            "_view_module": "@jupyter-widgets/controls",
            "_view_module_version": "1.5.0",
            "_view_name": "HTMLView",
            "description": "",
            "description_tooltip": null,
            "layout": "IPY_MODEL_73a1ff28660e43eb90028e6a4d909660",
            "placeholder": "​",
            "style": "IPY_MODEL_1a8c32468d884c9f91fcaa883d3ea46c",
            "value": "training_args.bin: 100%"
          }
        },
        "7114155482344805913200681bdb6a14": {
          "model_module": "@jupyter-widgets/controls",
          "model_name": "FloatProgressModel",
          "model_module_version": "1.5.0",
          "state": {
            "_dom_classes": [],
            "_model_module": "@jupyter-widgets/controls",
            "_model_module_version": "1.5.0",
            "_model_name": "FloatProgressModel",
            "_view_count": null,
            "_view_module": "@jupyter-widgets/controls",
            "_view_module_version": "1.5.0",
            "_view_name": "ProgressView",
            "bar_style": "success",
            "description": "",
            "description_tooltip": null,
            "layout": "IPY_MODEL_b803bf92655c49b08088db0eb8a2a0dc",
            "max": 5368,
            "min": 0,
            "orientation": "horizontal",
            "style": "IPY_MODEL_3b8aae22bbf24ec787717e524a5f040f",
            "value": 5368
          }
        },
        "0302bd1315ca4e2aadb9825aa4f6d453": {
          "model_module": "@jupyter-widgets/controls",
          "model_name": "HTMLModel",
          "model_module_version": "1.5.0",
          "state": {
            "_dom_classes": [],
            "_model_module": "@jupyter-widgets/controls",
            "_model_module_version": "1.5.0",
            "_model_name": "HTMLModel",
            "_view_count": null,
            "_view_module": "@jupyter-widgets/controls",
            "_view_module_version": "1.5.0",
            "_view_name": "HTMLView",
            "description": "",
            "description_tooltip": null,
            "layout": "IPY_MODEL_f8376bebf75145ff9e4504b451d115c5",
            "placeholder": "​",
            "style": "IPY_MODEL_fb892041f44d4919ab65fb1819702e06",
            "value": " 5.37k/5.37k [00:00&lt;00:00, 27.1kB/s]"
          }
        },
        "6de57039ccb0474193dd0001b049af84": {
          "model_module": "@jupyter-widgets/base",
          "model_name": "LayoutModel",
          "model_module_version": "1.2.0",
          "state": {
            "_model_module": "@jupyter-widgets/base",
            "_model_module_version": "1.2.0",
            "_model_name": "LayoutModel",
            "_view_count": null,
            "_view_module": "@jupyter-widgets/base",
            "_view_module_version": "1.2.0",
            "_view_name": "LayoutView",
            "align_content": null,
            "align_items": null,
            "align_self": null,
            "border": null,
            "bottom": null,
            "display": null,
            "flex": null,
            "flex_flow": null,
            "grid_area": null,
            "grid_auto_columns": null,
            "grid_auto_flow": null,
            "grid_auto_rows": null,
            "grid_column": null,
            "grid_gap": null,
            "grid_row": null,
            "grid_template_areas": null,
            "grid_template_columns": null,
            "grid_template_rows": null,
            "height": null,
            "justify_content": null,
            "justify_items": null,
            "left": null,
            "margin": null,
            "max_height": null,
            "max_width": null,
            "min_height": null,
            "min_width": null,
            "object_fit": null,
            "object_position": null,
            "order": null,
            "overflow": null,
            "overflow_x": null,
            "overflow_y": null,
            "padding": null,
            "right": null,
            "top": null,
            "visibility": null,
            "width": null
          }
        },
        "73a1ff28660e43eb90028e6a4d909660": {
          "model_module": "@jupyter-widgets/base",
          "model_name": "LayoutModel",
          "model_module_version": "1.2.0",
          "state": {
            "_model_module": "@jupyter-widgets/base",
            "_model_module_version": "1.2.0",
            "_model_name": "LayoutModel",
            "_view_count": null,
            "_view_module": "@jupyter-widgets/base",
            "_view_module_version": "1.2.0",
            "_view_name": "LayoutView",
            "align_content": null,
            "align_items": null,
            "align_self": null,
            "border": null,
            "bottom": null,
            "display": null,
            "flex": null,
            "flex_flow": null,
            "grid_area": null,
            "grid_auto_columns": null,
            "grid_auto_flow": null,
            "grid_auto_rows": null,
            "grid_column": null,
            "grid_gap": null,
            "grid_row": null,
            "grid_template_areas": null,
            "grid_template_columns": null,
            "grid_template_rows": null,
            "height": null,
            "justify_content": null,
            "justify_items": null,
            "left": null,
            "margin": null,
            "max_height": null,
            "max_width": null,
            "min_height": null,
            "min_width": null,
            "object_fit": null,
            "object_position": null,
            "order": null,
            "overflow": null,
            "overflow_x": null,
            "overflow_y": null,
            "padding": null,
            "right": null,
            "top": null,
            "visibility": null,
            "width": null
          }
        },
        "1a8c32468d884c9f91fcaa883d3ea46c": {
          "model_module": "@jupyter-widgets/controls",
          "model_name": "DescriptionStyleModel",
          "model_module_version": "1.5.0",
          "state": {
            "_model_module": "@jupyter-widgets/controls",
            "_model_module_version": "1.5.0",
            "_model_name": "DescriptionStyleModel",
            "_view_count": null,
            "_view_module": "@jupyter-widgets/base",
            "_view_module_version": "1.2.0",
            "_view_name": "StyleView",
            "description_width": ""
          }
        },
        "b803bf92655c49b08088db0eb8a2a0dc": {
          "model_module": "@jupyter-widgets/base",
          "model_name": "LayoutModel",
          "model_module_version": "1.2.0",
          "state": {
            "_model_module": "@jupyter-widgets/base",
            "_model_module_version": "1.2.0",
            "_model_name": "LayoutModel",
            "_view_count": null,
            "_view_module": "@jupyter-widgets/base",
            "_view_module_version": "1.2.0",
            "_view_name": "LayoutView",
            "align_content": null,
            "align_items": null,
            "align_self": null,
            "border": null,
            "bottom": null,
            "display": null,
            "flex": null,
            "flex_flow": null,
            "grid_area": null,
            "grid_auto_columns": null,
            "grid_auto_flow": null,
            "grid_auto_rows": null,
            "grid_column": null,
            "grid_gap": null,
            "grid_row": null,
            "grid_template_areas": null,
            "grid_template_columns": null,
            "grid_template_rows": null,
            "height": null,
            "justify_content": null,
            "justify_items": null,
            "left": null,
            "margin": null,
            "max_height": null,
            "max_width": null,
            "min_height": null,
            "min_width": null,
            "object_fit": null,
            "object_position": null,
            "order": null,
            "overflow": null,
            "overflow_x": null,
            "overflow_y": null,
            "padding": null,
            "right": null,
            "top": null,
            "visibility": null,
            "width": null
          }
        },
        "3b8aae22bbf24ec787717e524a5f040f": {
          "model_module": "@jupyter-widgets/controls",
          "model_name": "ProgressStyleModel",
          "model_module_version": "1.5.0",
          "state": {
            "_model_module": "@jupyter-widgets/controls",
            "_model_module_version": "1.5.0",
            "_model_name": "ProgressStyleModel",
            "_view_count": null,
            "_view_module": "@jupyter-widgets/base",
            "_view_module_version": "1.2.0",
            "_view_name": "StyleView",
            "bar_color": null,
            "description_width": ""
          }
        },
        "f8376bebf75145ff9e4504b451d115c5": {
          "model_module": "@jupyter-widgets/base",
          "model_name": "LayoutModel",
          "model_module_version": "1.2.0",
          "state": {
            "_model_module": "@jupyter-widgets/base",
            "_model_module_version": "1.2.0",
            "_model_name": "LayoutModel",
            "_view_count": null,
            "_view_module": "@jupyter-widgets/base",
            "_view_module_version": "1.2.0",
            "_view_name": "LayoutView",
            "align_content": null,
            "align_items": null,
            "align_self": null,
            "border": null,
            "bottom": null,
            "display": null,
            "flex": null,
            "flex_flow": null,
            "grid_area": null,
            "grid_auto_columns": null,
            "grid_auto_flow": null,
            "grid_auto_rows": null,
            "grid_column": null,
            "grid_gap": null,
            "grid_row": null,
            "grid_template_areas": null,
            "grid_template_columns": null,
            "grid_template_rows": null,
            "height": null,
            "justify_content": null,
            "justify_items": null,
            "left": null,
            "margin": null,
            "max_height": null,
            "max_width": null,
            "min_height": null,
            "min_width": null,
            "object_fit": null,
            "object_position": null,
            "order": null,
            "overflow": null,
            "overflow_x": null,
            "overflow_y": null,
            "padding": null,
            "right": null,
            "top": null,
            "visibility": null,
            "width": null
          }
        },
        "fb892041f44d4919ab65fb1819702e06": {
          "model_module": "@jupyter-widgets/controls",
          "model_name": "DescriptionStyleModel",
          "model_module_version": "1.5.0",
          "state": {
            "_model_module": "@jupyter-widgets/controls",
            "_model_module_version": "1.5.0",
            "_model_name": "DescriptionStyleModel",
            "_view_count": null,
            "_view_module": "@jupyter-widgets/base",
            "_view_module_version": "1.2.0",
            "_view_name": "StyleView",
            "description_width": ""
          }
        },
        "6bd56f630b794fcfa60ca51512a19dd7": {
          "model_module": "@jupyter-widgets/controls",
          "model_name": "HBoxModel",
          "model_module_version": "1.5.0",
          "state": {
            "_dom_classes": [],
            "_model_module": "@jupyter-widgets/controls",
            "_model_module_version": "1.5.0",
            "_model_name": "HBoxModel",
            "_view_count": null,
            "_view_module": "@jupyter-widgets/controls",
            "_view_module_version": "1.5.0",
            "_view_name": "HBoxView",
            "box_style": "",
            "children": [
              "IPY_MODEL_63e24bcf048a4331a2412430d63ec7b0",
              "IPY_MODEL_77ece8c7a44843198a05318a69ec5d12",
              "IPY_MODEL_26c5ddb1ab6d45a8a6bdc0742f6b754a"
            ],
            "layout": "IPY_MODEL_c6605e852c2e44f1a16948b4cd5efb98"
          }
        },
        "63e24bcf048a4331a2412430d63ec7b0": {
          "model_module": "@jupyter-widgets/controls",
          "model_name": "HTMLModel",
          "model_module_version": "1.5.0",
          "state": {
            "_dom_classes": [],
            "_model_module": "@jupyter-widgets/controls",
            "_model_module_version": "1.5.0",
            "_model_name": "HTMLModel",
            "_view_count": null,
            "_view_module": "@jupyter-widgets/controls",
            "_view_module_version": "1.5.0",
            "_view_name": "HTMLView",
            "description": "",
            "description_tooltip": null,
            "layout": "IPY_MODEL_a654e14e19dc45e182a57f71723fac1c",
            "placeholder": "​",
            "style": "IPY_MODEL_df9363fbbdc74a7bbf76b569eb7bf9e3",
            "value": "Upload 2 LFS files: 100%"
          }
        },
        "77ece8c7a44843198a05318a69ec5d12": {
          "model_module": "@jupyter-widgets/controls",
          "model_name": "FloatProgressModel",
          "model_module_version": "1.5.0",
          "state": {
            "_dom_classes": [],
            "_model_module": "@jupyter-widgets/controls",
            "_model_module_version": "1.5.0",
            "_model_name": "FloatProgressModel",
            "_view_count": null,
            "_view_module": "@jupyter-widgets/controls",
            "_view_module_version": "1.5.0",
            "_view_name": "ProgressView",
            "bar_style": "success",
            "description": "",
            "description_tooltip": null,
            "layout": "IPY_MODEL_f3113d7abde64a548be502254273fef4",
            "max": 2,
            "min": 0,
            "orientation": "horizontal",
            "style": "IPY_MODEL_0b98e0e2e93342ce90a716e68796bf66",
            "value": 2
          }
        },
        "26c5ddb1ab6d45a8a6bdc0742f6b754a": {
          "model_module": "@jupyter-widgets/controls",
          "model_name": "HTMLModel",
          "model_module_version": "1.5.0",
          "state": {
            "_dom_classes": [],
            "_model_module": "@jupyter-widgets/controls",
            "_model_module_version": "1.5.0",
            "_model_name": "HTMLModel",
            "_view_count": null,
            "_view_module": "@jupyter-widgets/controls",
            "_view_module_version": "1.5.0",
            "_view_name": "HTMLView",
            "description": "",
            "description_tooltip": null,
            "layout": "IPY_MODEL_9e842ad079a44adea6bd0ae9f0552076",
            "placeholder": "​",
            "style": "IPY_MODEL_46c99374f9b641d4950a74e42ead4813",
            "value": " 2/2 [00:09&lt;00:00,  9.11s/it]"
          }
        },
        "c6605e852c2e44f1a16948b4cd5efb98": {
          "model_module": "@jupyter-widgets/base",
          "model_name": "LayoutModel",
          "model_module_version": "1.2.0",
          "state": {
            "_model_module": "@jupyter-widgets/base",
            "_model_module_version": "1.2.0",
            "_model_name": "LayoutModel",
            "_view_count": null,
            "_view_module": "@jupyter-widgets/base",
            "_view_module_version": "1.2.0",
            "_view_name": "LayoutView",
            "align_content": null,
            "align_items": null,
            "align_self": null,
            "border": null,
            "bottom": null,
            "display": null,
            "flex": null,
            "flex_flow": null,
            "grid_area": null,
            "grid_auto_columns": null,
            "grid_auto_flow": null,
            "grid_auto_rows": null,
            "grid_column": null,
            "grid_gap": null,
            "grid_row": null,
            "grid_template_areas": null,
            "grid_template_columns": null,
            "grid_template_rows": null,
            "height": null,
            "justify_content": null,
            "justify_items": null,
            "left": null,
            "margin": null,
            "max_height": null,
            "max_width": null,
            "min_height": null,
            "min_width": null,
            "object_fit": null,
            "object_position": null,
            "order": null,
            "overflow": null,
            "overflow_x": null,
            "overflow_y": null,
            "padding": null,
            "right": null,
            "top": null,
            "visibility": null,
            "width": null
          }
        },
        "a654e14e19dc45e182a57f71723fac1c": {
          "model_module": "@jupyter-widgets/base",
          "model_name": "LayoutModel",
          "model_module_version": "1.2.0",
          "state": {
            "_model_module": "@jupyter-widgets/base",
            "_model_module_version": "1.2.0",
            "_model_name": "LayoutModel",
            "_view_count": null,
            "_view_module": "@jupyter-widgets/base",
            "_view_module_version": "1.2.0",
            "_view_name": "LayoutView",
            "align_content": null,
            "align_items": null,
            "align_self": null,
            "border": null,
            "bottom": null,
            "display": null,
            "flex": null,
            "flex_flow": null,
            "grid_area": null,
            "grid_auto_columns": null,
            "grid_auto_flow": null,
            "grid_auto_rows": null,
            "grid_column": null,
            "grid_gap": null,
            "grid_row": null,
            "grid_template_areas": null,
            "grid_template_columns": null,
            "grid_template_rows": null,
            "height": null,
            "justify_content": null,
            "justify_items": null,
            "left": null,
            "margin": null,
            "max_height": null,
            "max_width": null,
            "min_height": null,
            "min_width": null,
            "object_fit": null,
            "object_position": null,
            "order": null,
            "overflow": null,
            "overflow_x": null,
            "overflow_y": null,
            "padding": null,
            "right": null,
            "top": null,
            "visibility": null,
            "width": null
          }
        },
        "df9363fbbdc74a7bbf76b569eb7bf9e3": {
          "model_module": "@jupyter-widgets/controls",
          "model_name": "DescriptionStyleModel",
          "model_module_version": "1.5.0",
          "state": {
            "_model_module": "@jupyter-widgets/controls",
            "_model_module_version": "1.5.0",
            "_model_name": "DescriptionStyleModel",
            "_view_count": null,
            "_view_module": "@jupyter-widgets/base",
            "_view_module_version": "1.2.0",
            "_view_name": "StyleView",
            "description_width": ""
          }
        },
        "f3113d7abde64a548be502254273fef4": {
          "model_module": "@jupyter-widgets/base",
          "model_name": "LayoutModel",
          "model_module_version": "1.2.0",
          "state": {
            "_model_module": "@jupyter-widgets/base",
            "_model_module_version": "1.2.0",
            "_model_name": "LayoutModel",
            "_view_count": null,
            "_view_module": "@jupyter-widgets/base",
            "_view_module_version": "1.2.0",
            "_view_name": "LayoutView",
            "align_content": null,
            "align_items": null,
            "align_self": null,
            "border": null,
            "bottom": null,
            "display": null,
            "flex": null,
            "flex_flow": null,
            "grid_area": null,
            "grid_auto_columns": null,
            "grid_auto_flow": null,
            "grid_auto_rows": null,
            "grid_column": null,
            "grid_gap": null,
            "grid_row": null,
            "grid_template_areas": null,
            "grid_template_columns": null,
            "grid_template_rows": null,
            "height": null,
            "justify_content": null,
            "justify_items": null,
            "left": null,
            "margin": null,
            "max_height": null,
            "max_width": null,
            "min_height": null,
            "min_width": null,
            "object_fit": null,
            "object_position": null,
            "order": null,
            "overflow": null,
            "overflow_x": null,
            "overflow_y": null,
            "padding": null,
            "right": null,
            "top": null,
            "visibility": null,
            "width": null
          }
        },
        "0b98e0e2e93342ce90a716e68796bf66": {
          "model_module": "@jupyter-widgets/controls",
          "model_name": "ProgressStyleModel",
          "model_module_version": "1.5.0",
          "state": {
            "_model_module": "@jupyter-widgets/controls",
            "_model_module_version": "1.5.0",
            "_model_name": "ProgressStyleModel",
            "_view_count": null,
            "_view_module": "@jupyter-widgets/base",
            "_view_module_version": "1.2.0",
            "_view_name": "StyleView",
            "bar_color": null,
            "description_width": ""
          }
        },
        "9e842ad079a44adea6bd0ae9f0552076": {
          "model_module": "@jupyter-widgets/base",
          "model_name": "LayoutModel",
          "model_module_version": "1.2.0",
          "state": {
            "_model_module": "@jupyter-widgets/base",
            "_model_module_version": "1.2.0",
            "_model_name": "LayoutModel",
            "_view_count": null,
            "_view_module": "@jupyter-widgets/base",
            "_view_module_version": "1.2.0",
            "_view_name": "LayoutView",
            "align_content": null,
            "align_items": null,
            "align_self": null,
            "border": null,
            "bottom": null,
            "display": null,
            "flex": null,
            "flex_flow": null,
            "grid_area": null,
            "grid_auto_columns": null,
            "grid_auto_flow": null,
            "grid_auto_rows": null,
            "grid_column": null,
            "grid_gap": null,
            "grid_row": null,
            "grid_template_areas": null,
            "grid_template_columns": null,
            "grid_template_rows": null,
            "height": null,
            "justify_content": null,
            "justify_items": null,
            "left": null,
            "margin": null,
            "max_height": null,
            "max_width": null,
            "min_height": null,
            "min_width": null,
            "object_fit": null,
            "object_position": null,
            "order": null,
            "overflow": null,
            "overflow_x": null,
            "overflow_y": null,
            "padding": null,
            "right": null,
            "top": null,
            "visibility": null,
            "width": null
          }
        },
        "46c99374f9b641d4950a74e42ead4813": {
          "model_module": "@jupyter-widgets/controls",
          "model_name": "DescriptionStyleModel",
          "model_module_version": "1.5.0",
          "state": {
            "_model_module": "@jupyter-widgets/controls",
            "_model_module_version": "1.5.0",
            "_model_name": "DescriptionStyleModel",
            "_view_count": null,
            "_view_module": "@jupyter-widgets/base",
            "_view_module_version": "1.2.0",
            "_view_name": "StyleView",
            "description_width": ""
          }
        },
        "3384601563034ac6b030e562c5f494c3": {
          "model_module": "@jupyter-widgets/controls",
          "model_name": "HBoxModel",
          "model_module_version": "1.5.0",
          "state": {
            "_dom_classes": [],
            "_model_module": "@jupyter-widgets/controls",
            "_model_module_version": "1.5.0",
            "_model_name": "HBoxModel",
            "_view_count": null,
            "_view_module": "@jupyter-widgets/controls",
            "_view_module_version": "1.5.0",
            "_view_name": "HBoxView",
            "box_style": "",
            "children": [
              "IPY_MODEL_9b0ad18d9b58425d8581dd6035632990",
              "IPY_MODEL_154ce2830f324f779ba4dba702e3db8c",
              "IPY_MODEL_86853ab7f26740c9ae07103d74de441d"
            ],
            "layout": "IPY_MODEL_465aae8cf3904901b0030f2878123cbe"
          }
        },
        "9b0ad18d9b58425d8581dd6035632990": {
          "model_module": "@jupyter-widgets/controls",
          "model_name": "HTMLModel",
          "model_module_version": "1.5.0",
          "state": {
            "_dom_classes": [],
            "_model_module": "@jupyter-widgets/controls",
            "_model_module_version": "1.5.0",
            "_model_name": "HTMLModel",
            "_view_count": null,
            "_view_module": "@jupyter-widgets/controls",
            "_view_module_version": "1.5.0",
            "_view_name": "HTMLView",
            "description": "",
            "description_tooltip": null,
            "layout": "IPY_MODEL_5d83ac16bd2c4679a3b457685cb76661",
            "placeholder": "​",
            "style": "IPY_MODEL_ee89b41e87b847a4b49322ed3546242e",
            "value": "config.json: 100%"
          }
        },
        "154ce2830f324f779ba4dba702e3db8c": {
          "model_module": "@jupyter-widgets/controls",
          "model_name": "FloatProgressModel",
          "model_module_version": "1.5.0",
          "state": {
            "_dom_classes": [],
            "_model_module": "@jupyter-widgets/controls",
            "_model_module_version": "1.5.0",
            "_model_name": "FloatProgressModel",
            "_view_count": null,
            "_view_module": "@jupyter-widgets/controls",
            "_view_module_version": "1.5.0",
            "_view_name": "ProgressView",
            "bar_style": "success",
            "description": "",
            "description_tooltip": null,
            "layout": "IPY_MODEL_dd2aa5184e3f4323857334fe0e19c0d6",
            "max": 738,
            "min": 0,
            "orientation": "horizontal",
            "style": "IPY_MODEL_22196f6f55a34c34a3502946cbea1631",
            "value": 738
          }
        },
        "86853ab7f26740c9ae07103d74de441d": {
          "model_module": "@jupyter-widgets/controls",
          "model_name": "HTMLModel",
          "model_module_version": "1.5.0",
          "state": {
            "_dom_classes": [],
            "_model_module": "@jupyter-widgets/controls",
            "_model_module_version": "1.5.0",
            "_model_name": "HTMLModel",
            "_view_count": null,
            "_view_module": "@jupyter-widgets/controls",
            "_view_module_version": "1.5.0",
            "_view_name": "HTMLView",
            "description": "",
            "description_tooltip": null,
            "layout": "IPY_MODEL_31522a472cab40d892b90914328e71fb",
            "placeholder": "​",
            "style": "IPY_MODEL_6e270e11a1044a0ea710b19431108d16",
            "value": " 738/738 [00:00&lt;00:00, 32.5kB/s]"
          }
        },
        "465aae8cf3904901b0030f2878123cbe": {
          "model_module": "@jupyter-widgets/base",
          "model_name": "LayoutModel",
          "model_module_version": "1.2.0",
          "state": {
            "_model_module": "@jupyter-widgets/base",
            "_model_module_version": "1.2.0",
            "_model_name": "LayoutModel",
            "_view_count": null,
            "_view_module": "@jupyter-widgets/base",
            "_view_module_version": "1.2.0",
            "_view_name": "LayoutView",
            "align_content": null,
            "align_items": null,
            "align_self": null,
            "border": null,
            "bottom": null,
            "display": null,
            "flex": null,
            "flex_flow": null,
            "grid_area": null,
            "grid_auto_columns": null,
            "grid_auto_flow": null,
            "grid_auto_rows": null,
            "grid_column": null,
            "grid_gap": null,
            "grid_row": null,
            "grid_template_areas": null,
            "grid_template_columns": null,
            "grid_template_rows": null,
            "height": null,
            "justify_content": null,
            "justify_items": null,
            "left": null,
            "margin": null,
            "max_height": null,
            "max_width": null,
            "min_height": null,
            "min_width": null,
            "object_fit": null,
            "object_position": null,
            "order": null,
            "overflow": null,
            "overflow_x": null,
            "overflow_y": null,
            "padding": null,
            "right": null,
            "top": null,
            "visibility": null,
            "width": null
          }
        },
        "5d83ac16bd2c4679a3b457685cb76661": {
          "model_module": "@jupyter-widgets/base",
          "model_name": "LayoutModel",
          "model_module_version": "1.2.0",
          "state": {
            "_model_module": "@jupyter-widgets/base",
            "_model_module_version": "1.2.0",
            "_model_name": "LayoutModel",
            "_view_count": null,
            "_view_module": "@jupyter-widgets/base",
            "_view_module_version": "1.2.0",
            "_view_name": "LayoutView",
            "align_content": null,
            "align_items": null,
            "align_self": null,
            "border": null,
            "bottom": null,
            "display": null,
            "flex": null,
            "flex_flow": null,
            "grid_area": null,
            "grid_auto_columns": null,
            "grid_auto_flow": null,
            "grid_auto_rows": null,
            "grid_column": null,
            "grid_gap": null,
            "grid_row": null,
            "grid_template_areas": null,
            "grid_template_columns": null,
            "grid_template_rows": null,
            "height": null,
            "justify_content": null,
            "justify_items": null,
            "left": null,
            "margin": null,
            "max_height": null,
            "max_width": null,
            "min_height": null,
            "min_width": null,
            "object_fit": null,
            "object_position": null,
            "order": null,
            "overflow": null,
            "overflow_x": null,
            "overflow_y": null,
            "padding": null,
            "right": null,
            "top": null,
            "visibility": null,
            "width": null
          }
        },
        "ee89b41e87b847a4b49322ed3546242e": {
          "model_module": "@jupyter-widgets/controls",
          "model_name": "DescriptionStyleModel",
          "model_module_version": "1.5.0",
          "state": {
            "_model_module": "@jupyter-widgets/controls",
            "_model_module_version": "1.5.0",
            "_model_name": "DescriptionStyleModel",
            "_view_count": null,
            "_view_module": "@jupyter-widgets/base",
            "_view_module_version": "1.2.0",
            "_view_name": "StyleView",
            "description_width": ""
          }
        },
        "dd2aa5184e3f4323857334fe0e19c0d6": {
          "model_module": "@jupyter-widgets/base",
          "model_name": "LayoutModel",
          "model_module_version": "1.2.0",
          "state": {
            "_model_module": "@jupyter-widgets/base",
            "_model_module_version": "1.2.0",
            "_model_name": "LayoutModel",
            "_view_count": null,
            "_view_module": "@jupyter-widgets/base",
            "_view_module_version": "1.2.0",
            "_view_name": "LayoutView",
            "align_content": null,
            "align_items": null,
            "align_self": null,
            "border": null,
            "bottom": null,
            "display": null,
            "flex": null,
            "flex_flow": null,
            "grid_area": null,
            "grid_auto_columns": null,
            "grid_auto_flow": null,
            "grid_auto_rows": null,
            "grid_column": null,
            "grid_gap": null,
            "grid_row": null,
            "grid_template_areas": null,
            "grid_template_columns": null,
            "grid_template_rows": null,
            "height": null,
            "justify_content": null,
            "justify_items": null,
            "left": null,
            "margin": null,
            "max_height": null,
            "max_width": null,
            "min_height": null,
            "min_width": null,
            "object_fit": null,
            "object_position": null,
            "order": null,
            "overflow": null,
            "overflow_x": null,
            "overflow_y": null,
            "padding": null,
            "right": null,
            "top": null,
            "visibility": null,
            "width": null
          }
        },
        "22196f6f55a34c34a3502946cbea1631": {
          "model_module": "@jupyter-widgets/controls",
          "model_name": "ProgressStyleModel",
          "model_module_version": "1.5.0",
          "state": {
            "_model_module": "@jupyter-widgets/controls",
            "_model_module_version": "1.5.0",
            "_model_name": "ProgressStyleModel",
            "_view_count": null,
            "_view_module": "@jupyter-widgets/base",
            "_view_module_version": "1.2.0",
            "_view_name": "StyleView",
            "bar_color": null,
            "description_width": ""
          }
        },
        "31522a472cab40d892b90914328e71fb": {
          "model_module": "@jupyter-widgets/base",
          "model_name": "LayoutModel",
          "model_module_version": "1.2.0",
          "state": {
            "_model_module": "@jupyter-widgets/base",
            "_model_module_version": "1.2.0",
            "_model_name": "LayoutModel",
            "_view_count": null,
            "_view_module": "@jupyter-widgets/base",
            "_view_module_version": "1.2.0",
            "_view_name": "LayoutView",
            "align_content": null,
            "align_items": null,
            "align_self": null,
            "border": null,
            "bottom": null,
            "display": null,
            "flex": null,
            "flex_flow": null,
            "grid_area": null,
            "grid_auto_columns": null,
            "grid_auto_flow": null,
            "grid_auto_rows": null,
            "grid_column": null,
            "grid_gap": null,
            "grid_row": null,
            "grid_template_areas": null,
            "grid_template_columns": null,
            "grid_template_rows": null,
            "height": null,
            "justify_content": null,
            "justify_items": null,
            "left": null,
            "margin": null,
            "max_height": null,
            "max_width": null,
            "min_height": null,
            "min_width": null,
            "object_fit": null,
            "object_position": null,
            "order": null,
            "overflow": null,
            "overflow_x": null,
            "overflow_y": null,
            "padding": null,
            "right": null,
            "top": null,
            "visibility": null,
            "width": null
          }
        },
        "6e270e11a1044a0ea710b19431108d16": {
          "model_module": "@jupyter-widgets/controls",
          "model_name": "DescriptionStyleModel",
          "model_module_version": "1.5.0",
          "state": {
            "_model_module": "@jupyter-widgets/controls",
            "_model_module_version": "1.5.0",
            "_model_name": "DescriptionStyleModel",
            "_view_count": null,
            "_view_module": "@jupyter-widgets/base",
            "_view_module_version": "1.2.0",
            "_view_name": "StyleView",
            "description_width": ""
          }
        },
        "0168fa2e61104b3ca3f46e1e6bc33d86": {
          "model_module": "@jupyter-widgets/controls",
          "model_name": "HBoxModel",
          "model_module_version": "1.5.0",
          "state": {
            "_dom_classes": [],
            "_model_module": "@jupyter-widgets/controls",
            "_model_module_version": "1.5.0",
            "_model_name": "HBoxModel",
            "_view_count": null,
            "_view_module": "@jupyter-widgets/controls",
            "_view_module_version": "1.5.0",
            "_view_name": "HBoxView",
            "box_style": "",
            "children": [
              "IPY_MODEL_8cd407126fa34332b6af85d9624fcbbb",
              "IPY_MODEL_ffc307dc10b84cf69295cc30dedd72d3",
              "IPY_MODEL_fc343aaaa7cc4baba18920b4a83c7e65"
            ],
            "layout": "IPY_MODEL_43596600327b4b06956e271327c064e1"
          }
        },
        "8cd407126fa34332b6af85d9624fcbbb": {
          "model_module": "@jupyter-widgets/controls",
          "model_name": "HTMLModel",
          "model_module_version": "1.5.0",
          "state": {
            "_dom_classes": [],
            "_model_module": "@jupyter-widgets/controls",
            "_model_module_version": "1.5.0",
            "_model_name": "HTMLModel",
            "_view_count": null,
            "_view_module": "@jupyter-widgets/controls",
            "_view_module_version": "1.5.0",
            "_view_name": "HTMLView",
            "description": "",
            "description_tooltip": null,
            "layout": "IPY_MODEL_d7f993c0639a44da8b20ca3897d3dc59",
            "placeholder": "​",
            "style": "IPY_MODEL_4dfa0c11b3574b4892fd43907bebc99c",
            "value": "model.safetensors: 100%"
          }
        },
        "ffc307dc10b84cf69295cc30dedd72d3": {
          "model_module": "@jupyter-widgets/controls",
          "model_name": "FloatProgressModel",
          "model_module_version": "1.5.0",
          "state": {
            "_dom_classes": [],
            "_model_module": "@jupyter-widgets/controls",
            "_model_module_version": "1.5.0",
            "_model_name": "FloatProgressModel",
            "_view_count": null,
            "_view_module": "@jupyter-widgets/controls",
            "_view_module_version": "1.5.0",
            "_view_name": "ProgressView",
            "bar_style": "success",
            "description": "",
            "description_tooltip": null,
            "layout": "IPY_MODEL_c5974b1c06504e61b69809189a07d2d7",
            "max": 267832560,
            "min": 0,
            "orientation": "horizontal",
            "style": "IPY_MODEL_2814d050d5f94ddcb670f8d035b61aba",
            "value": 267832560
          }
        },
        "fc343aaaa7cc4baba18920b4a83c7e65": {
          "model_module": "@jupyter-widgets/controls",
          "model_name": "HTMLModel",
          "model_module_version": "1.5.0",
          "state": {
            "_dom_classes": [],
            "_model_module": "@jupyter-widgets/controls",
            "_model_module_version": "1.5.0",
            "_model_name": "HTMLModel",
            "_view_count": null,
            "_view_module": "@jupyter-widgets/controls",
            "_view_module_version": "1.5.0",
            "_view_name": "HTMLView",
            "description": "",
            "description_tooltip": null,
            "layout": "IPY_MODEL_4d6965d6b9bc4bf783d07c075fb35cb1",
            "placeholder": "​",
            "style": "IPY_MODEL_f1c8db3161d74bed9dd3e657c463b64e",
            "value": " 268M/268M [00:06&lt;00:00, 26.4MB/s]"
          }
        },
        "43596600327b4b06956e271327c064e1": {
          "model_module": "@jupyter-widgets/base",
          "model_name": "LayoutModel",
          "model_module_version": "1.2.0",
          "state": {
            "_model_module": "@jupyter-widgets/base",
            "_model_module_version": "1.2.0",
            "_model_name": "LayoutModel",
            "_view_count": null,
            "_view_module": "@jupyter-widgets/base",
            "_view_module_version": "1.2.0",
            "_view_name": "LayoutView",
            "align_content": null,
            "align_items": null,
            "align_self": null,
            "border": null,
            "bottom": null,
            "display": null,
            "flex": null,
            "flex_flow": null,
            "grid_area": null,
            "grid_auto_columns": null,
            "grid_auto_flow": null,
            "grid_auto_rows": null,
            "grid_column": null,
            "grid_gap": null,
            "grid_row": null,
            "grid_template_areas": null,
            "grid_template_columns": null,
            "grid_template_rows": null,
            "height": null,
            "justify_content": null,
            "justify_items": null,
            "left": null,
            "margin": null,
            "max_height": null,
            "max_width": null,
            "min_height": null,
            "min_width": null,
            "object_fit": null,
            "object_position": null,
            "order": null,
            "overflow": null,
            "overflow_x": null,
            "overflow_y": null,
            "padding": null,
            "right": null,
            "top": null,
            "visibility": null,
            "width": null
          }
        },
        "d7f993c0639a44da8b20ca3897d3dc59": {
          "model_module": "@jupyter-widgets/base",
          "model_name": "LayoutModel",
          "model_module_version": "1.2.0",
          "state": {
            "_model_module": "@jupyter-widgets/base",
            "_model_module_version": "1.2.0",
            "_model_name": "LayoutModel",
            "_view_count": null,
            "_view_module": "@jupyter-widgets/base",
            "_view_module_version": "1.2.0",
            "_view_name": "LayoutView",
            "align_content": null,
            "align_items": null,
            "align_self": null,
            "border": null,
            "bottom": null,
            "display": null,
            "flex": null,
            "flex_flow": null,
            "grid_area": null,
            "grid_auto_columns": null,
            "grid_auto_flow": null,
            "grid_auto_rows": null,
            "grid_column": null,
            "grid_gap": null,
            "grid_row": null,
            "grid_template_areas": null,
            "grid_template_columns": null,
            "grid_template_rows": null,
            "height": null,
            "justify_content": null,
            "justify_items": null,
            "left": null,
            "margin": null,
            "max_height": null,
            "max_width": null,
            "min_height": null,
            "min_width": null,
            "object_fit": null,
            "object_position": null,
            "order": null,
            "overflow": null,
            "overflow_x": null,
            "overflow_y": null,
            "padding": null,
            "right": null,
            "top": null,
            "visibility": null,
            "width": null
          }
        },
        "4dfa0c11b3574b4892fd43907bebc99c": {
          "model_module": "@jupyter-widgets/controls",
          "model_name": "DescriptionStyleModel",
          "model_module_version": "1.5.0",
          "state": {
            "_model_module": "@jupyter-widgets/controls",
            "_model_module_version": "1.5.0",
            "_model_name": "DescriptionStyleModel",
            "_view_count": null,
            "_view_module": "@jupyter-widgets/base",
            "_view_module_version": "1.2.0",
            "_view_name": "StyleView",
            "description_width": ""
          }
        },
        "c5974b1c06504e61b69809189a07d2d7": {
          "model_module": "@jupyter-widgets/base",
          "model_name": "LayoutModel",
          "model_module_version": "1.2.0",
          "state": {
            "_model_module": "@jupyter-widgets/base",
            "_model_module_version": "1.2.0",
            "_model_name": "LayoutModel",
            "_view_count": null,
            "_view_module": "@jupyter-widgets/base",
            "_view_module_version": "1.2.0",
            "_view_name": "LayoutView",
            "align_content": null,
            "align_items": null,
            "align_self": null,
            "border": null,
            "bottom": null,
            "display": null,
            "flex": null,
            "flex_flow": null,
            "grid_area": null,
            "grid_auto_columns": null,
            "grid_auto_flow": null,
            "grid_auto_rows": null,
            "grid_column": null,
            "grid_gap": null,
            "grid_row": null,
            "grid_template_areas": null,
            "grid_template_columns": null,
            "grid_template_rows": null,
            "height": null,
            "justify_content": null,
            "justify_items": null,
            "left": null,
            "margin": null,
            "max_height": null,
            "max_width": null,
            "min_height": null,
            "min_width": null,
            "object_fit": null,
            "object_position": null,
            "order": null,
            "overflow": null,
            "overflow_x": null,
            "overflow_y": null,
            "padding": null,
            "right": null,
            "top": null,
            "visibility": null,
            "width": null
          }
        },
        "2814d050d5f94ddcb670f8d035b61aba": {
          "model_module": "@jupyter-widgets/controls",
          "model_name": "ProgressStyleModel",
          "model_module_version": "1.5.0",
          "state": {
            "_model_module": "@jupyter-widgets/controls",
            "_model_module_version": "1.5.0",
            "_model_name": "ProgressStyleModel",
            "_view_count": null,
            "_view_module": "@jupyter-widgets/base",
            "_view_module_version": "1.2.0",
            "_view_name": "StyleView",
            "bar_color": null,
            "description_width": ""
          }
        },
        "4d6965d6b9bc4bf783d07c075fb35cb1": {
          "model_module": "@jupyter-widgets/base",
          "model_name": "LayoutModel",
          "model_module_version": "1.2.0",
          "state": {
            "_model_module": "@jupyter-widgets/base",
            "_model_module_version": "1.2.0",
            "_model_name": "LayoutModel",
            "_view_count": null,
            "_view_module": "@jupyter-widgets/base",
            "_view_module_version": "1.2.0",
            "_view_name": "LayoutView",
            "align_content": null,
            "align_items": null,
            "align_self": null,
            "border": null,
            "bottom": null,
            "display": null,
            "flex": null,
            "flex_flow": null,
            "grid_area": null,
            "grid_auto_columns": null,
            "grid_auto_flow": null,
            "grid_auto_rows": null,
            "grid_column": null,
            "grid_gap": null,
            "grid_row": null,
            "grid_template_areas": null,
            "grid_template_columns": null,
            "grid_template_rows": null,
            "height": null,
            "justify_content": null,
            "justify_items": null,
            "left": null,
            "margin": null,
            "max_height": null,
            "max_width": null,
            "min_height": null,
            "min_width": null,
            "object_fit": null,
            "object_position": null,
            "order": null,
            "overflow": null,
            "overflow_x": null,
            "overflow_y": null,
            "padding": null,
            "right": null,
            "top": null,
            "visibility": null,
            "width": null
          }
        },
        "f1c8db3161d74bed9dd3e657c463b64e": {
          "model_module": "@jupyter-widgets/controls",
          "model_name": "DescriptionStyleModel",
          "model_module_version": "1.5.0",
          "state": {
            "_model_module": "@jupyter-widgets/controls",
            "_model_module_version": "1.5.0",
            "_model_name": "DescriptionStyleModel",
            "_view_count": null,
            "_view_module": "@jupyter-widgets/base",
            "_view_module_version": "1.2.0",
            "_view_name": "StyleView",
            "description_width": ""
          }
        },
        "25554f37bb914d379ae02fd42a543598": {
          "model_module": "@jupyter-widgets/controls",
          "model_name": "HBoxModel",
          "model_module_version": "1.5.0",
          "state": {
            "_dom_classes": [],
            "_model_module": "@jupyter-widgets/controls",
            "_model_module_version": "1.5.0",
            "_model_name": "HBoxModel",
            "_view_count": null,
            "_view_module": "@jupyter-widgets/controls",
            "_view_module_version": "1.5.0",
            "_view_name": "HBoxView",
            "box_style": "",
            "children": [
              "IPY_MODEL_0c8b5a29c1244089a81e36107fbb6a88",
              "IPY_MODEL_5ad93259668941fe844f7ececdbb46b4",
              "IPY_MODEL_a24fa92d3a1e46a0807f44629602f884"
            ],
            "layout": "IPY_MODEL_e789306013ed4e8cb0abe4cc8df7f370"
          }
        },
        "0c8b5a29c1244089a81e36107fbb6a88": {
          "model_module": "@jupyter-widgets/controls",
          "model_name": "HTMLModel",
          "model_module_version": "1.5.0",
          "state": {
            "_dom_classes": [],
            "_model_module": "@jupyter-widgets/controls",
            "_model_module_version": "1.5.0",
            "_model_name": "HTMLModel",
            "_view_count": null,
            "_view_module": "@jupyter-widgets/controls",
            "_view_module_version": "1.5.0",
            "_view_name": "HTMLView",
            "description": "",
            "description_tooltip": null,
            "layout": "IPY_MODEL_4b0f36a4796449e59a91cb0375693516",
            "placeholder": "​",
            "style": "IPY_MODEL_ce276ffc07da45eb94783ec31e20f1a3",
            "value": "tokenizer_config.json: 100%"
          }
        },
        "5ad93259668941fe844f7ececdbb46b4": {
          "model_module": "@jupyter-widgets/controls",
          "model_name": "FloatProgressModel",
          "model_module_version": "1.5.0",
          "state": {
            "_dom_classes": [],
            "_model_module": "@jupyter-widgets/controls",
            "_model_module_version": "1.5.0",
            "_model_name": "FloatProgressModel",
            "_view_count": null,
            "_view_module": "@jupyter-widgets/controls",
            "_view_module_version": "1.5.0",
            "_view_name": "ProgressView",
            "bar_style": "success",
            "description": "",
            "description_tooltip": null,
            "layout": "IPY_MODEL_008cdfa53cf74a3199611231beaff7b8",
            "max": 1227,
            "min": 0,
            "orientation": "horizontal",
            "style": "IPY_MODEL_f1ccdb97ecaf4157b5d90785109e638f",
            "value": 1227
          }
        },
        "a24fa92d3a1e46a0807f44629602f884": {
          "model_module": "@jupyter-widgets/controls",
          "model_name": "HTMLModel",
          "model_module_version": "1.5.0",
          "state": {
            "_dom_classes": [],
            "_model_module": "@jupyter-widgets/controls",
            "_model_module_version": "1.5.0",
            "_model_name": "HTMLModel",
            "_view_count": null,
            "_view_module": "@jupyter-widgets/controls",
            "_view_module_version": "1.5.0",
            "_view_name": "HTMLView",
            "description": "",
            "description_tooltip": null,
            "layout": "IPY_MODEL_a1fcfc3dbda54153bdfcde1553c60a25",
            "placeholder": "​",
            "style": "IPY_MODEL_ffeedcd49ee04caa9feb299285b0ae1f",
            "value": " 1.23k/1.23k [00:00&lt;00:00, 97.5kB/s]"
          }
        },
        "e789306013ed4e8cb0abe4cc8df7f370": {
          "model_module": "@jupyter-widgets/base",
          "model_name": "LayoutModel",
          "model_module_version": "1.2.0",
          "state": {
            "_model_module": "@jupyter-widgets/base",
            "_model_module_version": "1.2.0",
            "_model_name": "LayoutModel",
            "_view_count": null,
            "_view_module": "@jupyter-widgets/base",
            "_view_module_version": "1.2.0",
            "_view_name": "LayoutView",
            "align_content": null,
            "align_items": null,
            "align_self": null,
            "border": null,
            "bottom": null,
            "display": null,
            "flex": null,
            "flex_flow": null,
            "grid_area": null,
            "grid_auto_columns": null,
            "grid_auto_flow": null,
            "grid_auto_rows": null,
            "grid_column": null,
            "grid_gap": null,
            "grid_row": null,
            "grid_template_areas": null,
            "grid_template_columns": null,
            "grid_template_rows": null,
            "height": null,
            "justify_content": null,
            "justify_items": null,
            "left": null,
            "margin": null,
            "max_height": null,
            "max_width": null,
            "min_height": null,
            "min_width": null,
            "object_fit": null,
            "object_position": null,
            "order": null,
            "overflow": null,
            "overflow_x": null,
            "overflow_y": null,
            "padding": null,
            "right": null,
            "top": null,
            "visibility": null,
            "width": null
          }
        },
        "4b0f36a4796449e59a91cb0375693516": {
          "model_module": "@jupyter-widgets/base",
          "model_name": "LayoutModel",
          "model_module_version": "1.2.0",
          "state": {
            "_model_module": "@jupyter-widgets/base",
            "_model_module_version": "1.2.0",
            "_model_name": "LayoutModel",
            "_view_count": null,
            "_view_module": "@jupyter-widgets/base",
            "_view_module_version": "1.2.0",
            "_view_name": "LayoutView",
            "align_content": null,
            "align_items": null,
            "align_self": null,
            "border": null,
            "bottom": null,
            "display": null,
            "flex": null,
            "flex_flow": null,
            "grid_area": null,
            "grid_auto_columns": null,
            "grid_auto_flow": null,
            "grid_auto_rows": null,
            "grid_column": null,
            "grid_gap": null,
            "grid_row": null,
            "grid_template_areas": null,
            "grid_template_columns": null,
            "grid_template_rows": null,
            "height": null,
            "justify_content": null,
            "justify_items": null,
            "left": null,
            "margin": null,
            "max_height": null,
            "max_width": null,
            "min_height": null,
            "min_width": null,
            "object_fit": null,
            "object_position": null,
            "order": null,
            "overflow": null,
            "overflow_x": null,
            "overflow_y": null,
            "padding": null,
            "right": null,
            "top": null,
            "visibility": null,
            "width": null
          }
        },
        "ce276ffc07da45eb94783ec31e20f1a3": {
          "model_module": "@jupyter-widgets/controls",
          "model_name": "DescriptionStyleModel",
          "model_module_version": "1.5.0",
          "state": {
            "_model_module": "@jupyter-widgets/controls",
            "_model_module_version": "1.5.0",
            "_model_name": "DescriptionStyleModel",
            "_view_count": null,
            "_view_module": "@jupyter-widgets/base",
            "_view_module_version": "1.2.0",
            "_view_name": "StyleView",
            "description_width": ""
          }
        },
        "008cdfa53cf74a3199611231beaff7b8": {
          "model_module": "@jupyter-widgets/base",
          "model_name": "LayoutModel",
          "model_module_version": "1.2.0",
          "state": {
            "_model_module": "@jupyter-widgets/base",
            "_model_module_version": "1.2.0",
            "_model_name": "LayoutModel",
            "_view_count": null,
            "_view_module": "@jupyter-widgets/base",
            "_view_module_version": "1.2.0",
            "_view_name": "LayoutView",
            "align_content": null,
            "align_items": null,
            "align_self": null,
            "border": null,
            "bottom": null,
            "display": null,
            "flex": null,
            "flex_flow": null,
            "grid_area": null,
            "grid_auto_columns": null,
            "grid_auto_flow": null,
            "grid_auto_rows": null,
            "grid_column": null,
            "grid_gap": null,
            "grid_row": null,
            "grid_template_areas": null,
            "grid_template_columns": null,
            "grid_template_rows": null,
            "height": null,
            "justify_content": null,
            "justify_items": null,
            "left": null,
            "margin": null,
            "max_height": null,
            "max_width": null,
            "min_height": null,
            "min_width": null,
            "object_fit": null,
            "object_position": null,
            "order": null,
            "overflow": null,
            "overflow_x": null,
            "overflow_y": null,
            "padding": null,
            "right": null,
            "top": null,
            "visibility": null,
            "width": null
          }
        },
        "f1ccdb97ecaf4157b5d90785109e638f": {
          "model_module": "@jupyter-widgets/controls",
          "model_name": "ProgressStyleModel",
          "model_module_version": "1.5.0",
          "state": {
            "_model_module": "@jupyter-widgets/controls",
            "_model_module_version": "1.5.0",
            "_model_name": "ProgressStyleModel",
            "_view_count": null,
            "_view_module": "@jupyter-widgets/base",
            "_view_module_version": "1.2.0",
            "_view_name": "StyleView",
            "bar_color": null,
            "description_width": ""
          }
        },
        "a1fcfc3dbda54153bdfcde1553c60a25": {
          "model_module": "@jupyter-widgets/base",
          "model_name": "LayoutModel",
          "model_module_version": "1.2.0",
          "state": {
            "_model_module": "@jupyter-widgets/base",
            "_model_module_version": "1.2.0",
            "_model_name": "LayoutModel",
            "_view_count": null,
            "_view_module": "@jupyter-widgets/base",
            "_view_module_version": "1.2.0",
            "_view_name": "LayoutView",
            "align_content": null,
            "align_items": null,
            "align_self": null,
            "border": null,
            "bottom": null,
            "display": null,
            "flex": null,
            "flex_flow": null,
            "grid_area": null,
            "grid_auto_columns": null,
            "grid_auto_flow": null,
            "grid_auto_rows": null,
            "grid_column": null,
            "grid_gap": null,
            "grid_row": null,
            "grid_template_areas": null,
            "grid_template_columns": null,
            "grid_template_rows": null,
            "height": null,
            "justify_content": null,
            "justify_items": null,
            "left": null,
            "margin": null,
            "max_height": null,
            "max_width": null,
            "min_height": null,
            "min_width": null,
            "object_fit": null,
            "object_position": null,
            "order": null,
            "overflow": null,
            "overflow_x": null,
            "overflow_y": null,
            "padding": null,
            "right": null,
            "top": null,
            "visibility": null,
            "width": null
          }
        },
        "ffeedcd49ee04caa9feb299285b0ae1f": {
          "model_module": "@jupyter-widgets/controls",
          "model_name": "DescriptionStyleModel",
          "model_module_version": "1.5.0",
          "state": {
            "_model_module": "@jupyter-widgets/controls",
            "_model_module_version": "1.5.0",
            "_model_name": "DescriptionStyleModel",
            "_view_count": null,
            "_view_module": "@jupyter-widgets/base",
            "_view_module_version": "1.2.0",
            "_view_name": "StyleView",
            "description_width": ""
          }
        },
        "d4ace18abdb940cfa0436370bcdcc2e2": {
          "model_module": "@jupyter-widgets/controls",
          "model_name": "HBoxModel",
          "model_module_version": "1.5.0",
          "state": {
            "_dom_classes": [],
            "_model_module": "@jupyter-widgets/controls",
            "_model_module_version": "1.5.0",
            "_model_name": "HBoxModel",
            "_view_count": null,
            "_view_module": "@jupyter-widgets/controls",
            "_view_module_version": "1.5.0",
            "_view_name": "HBoxView",
            "box_style": "",
            "children": [
              "IPY_MODEL_b9a4f716da014cec91fe4ad38fd5848b",
              "IPY_MODEL_b67719b8b78847ad8bb6a52d47242df6",
              "IPY_MODEL_07bdfa56fd17493985261b30525f796b"
            ],
            "layout": "IPY_MODEL_02c0ae34f08744df947fee6cb85cebac"
          }
        },
        "b9a4f716da014cec91fe4ad38fd5848b": {
          "model_module": "@jupyter-widgets/controls",
          "model_name": "HTMLModel",
          "model_module_version": "1.5.0",
          "state": {
            "_dom_classes": [],
            "_model_module": "@jupyter-widgets/controls",
            "_model_module_version": "1.5.0",
            "_model_name": "HTMLModel",
            "_view_count": null,
            "_view_module": "@jupyter-widgets/controls",
            "_view_module_version": "1.5.0",
            "_view_name": "HTMLView",
            "description": "",
            "description_tooltip": null,
            "layout": "IPY_MODEL_9a182ddb198745f6b41131a18c955b04",
            "placeholder": "​",
            "style": "IPY_MODEL_cf33719c437d4ed388713ae3e59d0574",
            "value": "vocab.txt: 100%"
          }
        },
        "b67719b8b78847ad8bb6a52d47242df6": {
          "model_module": "@jupyter-widgets/controls",
          "model_name": "FloatProgressModel",
          "model_module_version": "1.5.0",
          "state": {
            "_dom_classes": [],
            "_model_module": "@jupyter-widgets/controls",
            "_model_module_version": "1.5.0",
            "_model_name": "FloatProgressModel",
            "_view_count": null,
            "_view_module": "@jupyter-widgets/controls",
            "_view_module_version": "1.5.0",
            "_view_name": "ProgressView",
            "bar_style": "success",
            "description": "",
            "description_tooltip": null,
            "layout": "IPY_MODEL_595316e01f0e43b8ba98a668132a3894",
            "max": 231508,
            "min": 0,
            "orientation": "horizontal",
            "style": "IPY_MODEL_5fd7149840614930989f7c71bfff3d6d",
            "value": 231508
          }
        },
        "07bdfa56fd17493985261b30525f796b": {
          "model_module": "@jupyter-widgets/controls",
          "model_name": "HTMLModel",
          "model_module_version": "1.5.0",
          "state": {
            "_dom_classes": [],
            "_model_module": "@jupyter-widgets/controls",
            "_model_module_version": "1.5.0",
            "_model_name": "HTMLModel",
            "_view_count": null,
            "_view_module": "@jupyter-widgets/controls",
            "_view_module_version": "1.5.0",
            "_view_name": "HTMLView",
            "description": "",
            "description_tooltip": null,
            "layout": "IPY_MODEL_273e0581e05b4977b1db6ab8d80d3262",
            "placeholder": "​",
            "style": "IPY_MODEL_05b172e3abeb4f9a9e5ed93271eabf4c",
            "value": " 232k/232k [00:00&lt;00:00, 5.00MB/s]"
          }
        },
        "02c0ae34f08744df947fee6cb85cebac": {
          "model_module": "@jupyter-widgets/base",
          "model_name": "LayoutModel",
          "model_module_version": "1.2.0",
          "state": {
            "_model_module": "@jupyter-widgets/base",
            "_model_module_version": "1.2.0",
            "_model_name": "LayoutModel",
            "_view_count": null,
            "_view_module": "@jupyter-widgets/base",
            "_view_module_version": "1.2.0",
            "_view_name": "LayoutView",
            "align_content": null,
            "align_items": null,
            "align_self": null,
            "border": null,
            "bottom": null,
            "display": null,
            "flex": null,
            "flex_flow": null,
            "grid_area": null,
            "grid_auto_columns": null,
            "grid_auto_flow": null,
            "grid_auto_rows": null,
            "grid_column": null,
            "grid_gap": null,
            "grid_row": null,
            "grid_template_areas": null,
            "grid_template_columns": null,
            "grid_template_rows": null,
            "height": null,
            "justify_content": null,
            "justify_items": null,
            "left": null,
            "margin": null,
            "max_height": null,
            "max_width": null,
            "min_height": null,
            "min_width": null,
            "object_fit": null,
            "object_position": null,
            "order": null,
            "overflow": null,
            "overflow_x": null,
            "overflow_y": null,
            "padding": null,
            "right": null,
            "top": null,
            "visibility": null,
            "width": null
          }
        },
        "9a182ddb198745f6b41131a18c955b04": {
          "model_module": "@jupyter-widgets/base",
          "model_name": "LayoutModel",
          "model_module_version": "1.2.0",
          "state": {
            "_model_module": "@jupyter-widgets/base",
            "_model_module_version": "1.2.0",
            "_model_name": "LayoutModel",
            "_view_count": null,
            "_view_module": "@jupyter-widgets/base",
            "_view_module_version": "1.2.0",
            "_view_name": "LayoutView",
            "align_content": null,
            "align_items": null,
            "align_self": null,
            "border": null,
            "bottom": null,
            "display": null,
            "flex": null,
            "flex_flow": null,
            "grid_area": null,
            "grid_auto_columns": null,
            "grid_auto_flow": null,
            "grid_auto_rows": null,
            "grid_column": null,
            "grid_gap": null,
            "grid_row": null,
            "grid_template_areas": null,
            "grid_template_columns": null,
            "grid_template_rows": null,
            "height": null,
            "justify_content": null,
            "justify_items": null,
            "left": null,
            "margin": null,
            "max_height": null,
            "max_width": null,
            "min_height": null,
            "min_width": null,
            "object_fit": null,
            "object_position": null,
            "order": null,
            "overflow": null,
            "overflow_x": null,
            "overflow_y": null,
            "padding": null,
            "right": null,
            "top": null,
            "visibility": null,
            "width": null
          }
        },
        "cf33719c437d4ed388713ae3e59d0574": {
          "model_module": "@jupyter-widgets/controls",
          "model_name": "DescriptionStyleModel",
          "model_module_version": "1.5.0",
          "state": {
            "_model_module": "@jupyter-widgets/controls",
            "_model_module_version": "1.5.0",
            "_model_name": "DescriptionStyleModel",
            "_view_count": null,
            "_view_module": "@jupyter-widgets/base",
            "_view_module_version": "1.2.0",
            "_view_name": "StyleView",
            "description_width": ""
          }
        },
        "595316e01f0e43b8ba98a668132a3894": {
          "model_module": "@jupyter-widgets/base",
          "model_name": "LayoutModel",
          "model_module_version": "1.2.0",
          "state": {
            "_model_module": "@jupyter-widgets/base",
            "_model_module_version": "1.2.0",
            "_model_name": "LayoutModel",
            "_view_count": null,
            "_view_module": "@jupyter-widgets/base",
            "_view_module_version": "1.2.0",
            "_view_name": "LayoutView",
            "align_content": null,
            "align_items": null,
            "align_self": null,
            "border": null,
            "bottom": null,
            "display": null,
            "flex": null,
            "flex_flow": null,
            "grid_area": null,
            "grid_auto_columns": null,
            "grid_auto_flow": null,
            "grid_auto_rows": null,
            "grid_column": null,
            "grid_gap": null,
            "grid_row": null,
            "grid_template_areas": null,
            "grid_template_columns": null,
            "grid_template_rows": null,
            "height": null,
            "justify_content": null,
            "justify_items": null,
            "left": null,
            "margin": null,
            "max_height": null,
            "max_width": null,
            "min_height": null,
            "min_width": null,
            "object_fit": null,
            "object_position": null,
            "order": null,
            "overflow": null,
            "overflow_x": null,
            "overflow_y": null,
            "padding": null,
            "right": null,
            "top": null,
            "visibility": null,
            "width": null
          }
        },
        "5fd7149840614930989f7c71bfff3d6d": {
          "model_module": "@jupyter-widgets/controls",
          "model_name": "ProgressStyleModel",
          "model_module_version": "1.5.0",
          "state": {
            "_model_module": "@jupyter-widgets/controls",
            "_model_module_version": "1.5.0",
            "_model_name": "ProgressStyleModel",
            "_view_count": null,
            "_view_module": "@jupyter-widgets/base",
            "_view_module_version": "1.2.0",
            "_view_name": "StyleView",
            "bar_color": null,
            "description_width": ""
          }
        },
        "273e0581e05b4977b1db6ab8d80d3262": {
          "model_module": "@jupyter-widgets/base",
          "model_name": "LayoutModel",
          "model_module_version": "1.2.0",
          "state": {
            "_model_module": "@jupyter-widgets/base",
            "_model_module_version": "1.2.0",
            "_model_name": "LayoutModel",
            "_view_count": null,
            "_view_module": "@jupyter-widgets/base",
            "_view_module_version": "1.2.0",
            "_view_name": "LayoutView",
            "align_content": null,
            "align_items": null,
            "align_self": null,
            "border": null,
            "bottom": null,
            "display": null,
            "flex": null,
            "flex_flow": null,
            "grid_area": null,
            "grid_auto_columns": null,
            "grid_auto_flow": null,
            "grid_auto_rows": null,
            "grid_column": null,
            "grid_gap": null,
            "grid_row": null,
            "grid_template_areas": null,
            "grid_template_columns": null,
            "grid_template_rows": null,
            "height": null,
            "justify_content": null,
            "justify_items": null,
            "left": null,
            "margin": null,
            "max_height": null,
            "max_width": null,
            "min_height": null,
            "min_width": null,
            "object_fit": null,
            "object_position": null,
            "order": null,
            "overflow": null,
            "overflow_x": null,
            "overflow_y": null,
            "padding": null,
            "right": null,
            "top": null,
            "visibility": null,
            "width": null
          }
        },
        "05b172e3abeb4f9a9e5ed93271eabf4c": {
          "model_module": "@jupyter-widgets/controls",
          "model_name": "DescriptionStyleModel",
          "model_module_version": "1.5.0",
          "state": {
            "_model_module": "@jupyter-widgets/controls",
            "_model_module_version": "1.5.0",
            "_model_name": "DescriptionStyleModel",
            "_view_count": null,
            "_view_module": "@jupyter-widgets/base",
            "_view_module_version": "1.2.0",
            "_view_name": "StyleView",
            "description_width": ""
          }
        },
        "2e7a2af2bb4e43c2bf8ade7b16d4a549": {
          "model_module": "@jupyter-widgets/controls",
          "model_name": "HBoxModel",
          "model_module_version": "1.5.0",
          "state": {
            "_dom_classes": [],
            "_model_module": "@jupyter-widgets/controls",
            "_model_module_version": "1.5.0",
            "_model_name": "HBoxModel",
            "_view_count": null,
            "_view_module": "@jupyter-widgets/controls",
            "_view_module_version": "1.5.0",
            "_view_name": "HBoxView",
            "box_style": "",
            "children": [
              "IPY_MODEL_75eca116aa1248d0ac0fd62e7bb038ba",
              "IPY_MODEL_31e1bab512984100b0c388e8a5e7e72c",
              "IPY_MODEL_de0d3713b0564ad2910b6fc4a5e38780"
            ],
            "layout": "IPY_MODEL_07a8ae5542ad4a09aee6244a33e51cfa"
          }
        },
        "75eca116aa1248d0ac0fd62e7bb038ba": {
          "model_module": "@jupyter-widgets/controls",
          "model_name": "HTMLModel",
          "model_module_version": "1.5.0",
          "state": {
            "_dom_classes": [],
            "_model_module": "@jupyter-widgets/controls",
            "_model_module_version": "1.5.0",
            "_model_name": "HTMLModel",
            "_view_count": null,
            "_view_module": "@jupyter-widgets/controls",
            "_view_module_version": "1.5.0",
            "_view_name": "HTMLView",
            "description": "",
            "description_tooltip": null,
            "layout": "IPY_MODEL_4619ec7d6edf464f82293b2bff1ef72b",
            "placeholder": "​",
            "style": "IPY_MODEL_8d037fcda9af47e7a1e6d0142d3e7e68",
            "value": "tokenizer.json: 100%"
          }
        },
        "31e1bab512984100b0c388e8a5e7e72c": {
          "model_module": "@jupyter-widgets/controls",
          "model_name": "FloatProgressModel",
          "model_module_version": "1.5.0",
          "state": {
            "_dom_classes": [],
            "_model_module": "@jupyter-widgets/controls",
            "_model_module_version": "1.5.0",
            "_model_name": "FloatProgressModel",
            "_view_count": null,
            "_view_module": "@jupyter-widgets/controls",
            "_view_module_version": "1.5.0",
            "_view_name": "ProgressView",
            "bar_style": "success",
            "description": "",
            "description_tooltip": null,
            "layout": "IPY_MODEL_e76fae2a7ada44a4a1d61a712aa0a4a7",
            "max": 711649,
            "min": 0,
            "orientation": "horizontal",
            "style": "IPY_MODEL_81236ea5e7534cd19e55206310ad5682",
            "value": 711649
          }
        },
        "de0d3713b0564ad2910b6fc4a5e38780": {
          "model_module": "@jupyter-widgets/controls",
          "model_name": "HTMLModel",
          "model_module_version": "1.5.0",
          "state": {
            "_dom_classes": [],
            "_model_module": "@jupyter-widgets/controls",
            "_model_module_version": "1.5.0",
            "_model_name": "HTMLModel",
            "_view_count": null,
            "_view_module": "@jupyter-widgets/controls",
            "_view_module_version": "1.5.0",
            "_view_name": "HTMLView",
            "description": "",
            "description_tooltip": null,
            "layout": "IPY_MODEL_a773b0daabd846feb50ba2729a9141e9",
            "placeholder": "​",
            "style": "IPY_MODEL_99cea5bc625541c8a9c2f8f89c76515e",
            "value": " 712k/712k [00:00&lt;00:00, 25.5MB/s]"
          }
        },
        "07a8ae5542ad4a09aee6244a33e51cfa": {
          "model_module": "@jupyter-widgets/base",
          "model_name": "LayoutModel",
          "model_module_version": "1.2.0",
          "state": {
            "_model_module": "@jupyter-widgets/base",
            "_model_module_version": "1.2.0",
            "_model_name": "LayoutModel",
            "_view_count": null,
            "_view_module": "@jupyter-widgets/base",
            "_view_module_version": "1.2.0",
            "_view_name": "LayoutView",
            "align_content": null,
            "align_items": null,
            "align_self": null,
            "border": null,
            "bottom": null,
            "display": null,
            "flex": null,
            "flex_flow": null,
            "grid_area": null,
            "grid_auto_columns": null,
            "grid_auto_flow": null,
            "grid_auto_rows": null,
            "grid_column": null,
            "grid_gap": null,
            "grid_row": null,
            "grid_template_areas": null,
            "grid_template_columns": null,
            "grid_template_rows": null,
            "height": null,
            "justify_content": null,
            "justify_items": null,
            "left": null,
            "margin": null,
            "max_height": null,
            "max_width": null,
            "min_height": null,
            "min_width": null,
            "object_fit": null,
            "object_position": null,
            "order": null,
            "overflow": null,
            "overflow_x": null,
            "overflow_y": null,
            "padding": null,
            "right": null,
            "top": null,
            "visibility": null,
            "width": null
          }
        },
        "4619ec7d6edf464f82293b2bff1ef72b": {
          "model_module": "@jupyter-widgets/base",
          "model_name": "LayoutModel",
          "model_module_version": "1.2.0",
          "state": {
            "_model_module": "@jupyter-widgets/base",
            "_model_module_version": "1.2.0",
            "_model_name": "LayoutModel",
            "_view_count": null,
            "_view_module": "@jupyter-widgets/base",
            "_view_module_version": "1.2.0",
            "_view_name": "LayoutView",
            "align_content": null,
            "align_items": null,
            "align_self": null,
            "border": null,
            "bottom": null,
            "display": null,
            "flex": null,
            "flex_flow": null,
            "grid_area": null,
            "grid_auto_columns": null,
            "grid_auto_flow": null,
            "grid_auto_rows": null,
            "grid_column": null,
            "grid_gap": null,
            "grid_row": null,
            "grid_template_areas": null,
            "grid_template_columns": null,
            "grid_template_rows": null,
            "height": null,
            "justify_content": null,
            "justify_items": null,
            "left": null,
            "margin": null,
            "max_height": null,
            "max_width": null,
            "min_height": null,
            "min_width": null,
            "object_fit": null,
            "object_position": null,
            "order": null,
            "overflow": null,
            "overflow_x": null,
            "overflow_y": null,
            "padding": null,
            "right": null,
            "top": null,
            "visibility": null,
            "width": null
          }
        },
        "8d037fcda9af47e7a1e6d0142d3e7e68": {
          "model_module": "@jupyter-widgets/controls",
          "model_name": "DescriptionStyleModel",
          "model_module_version": "1.5.0",
          "state": {
            "_model_module": "@jupyter-widgets/controls",
            "_model_module_version": "1.5.0",
            "_model_name": "DescriptionStyleModel",
            "_view_count": null,
            "_view_module": "@jupyter-widgets/base",
            "_view_module_version": "1.2.0",
            "_view_name": "StyleView",
            "description_width": ""
          }
        },
        "e76fae2a7ada44a4a1d61a712aa0a4a7": {
          "model_module": "@jupyter-widgets/base",
          "model_name": "LayoutModel",
          "model_module_version": "1.2.0",
          "state": {
            "_model_module": "@jupyter-widgets/base",
            "_model_module_version": "1.2.0",
            "_model_name": "LayoutModel",
            "_view_count": null,
            "_view_module": "@jupyter-widgets/base",
            "_view_module_version": "1.2.0",
            "_view_name": "LayoutView",
            "align_content": null,
            "align_items": null,
            "align_self": null,
            "border": null,
            "bottom": null,
            "display": null,
            "flex": null,
            "flex_flow": null,
            "grid_area": null,
            "grid_auto_columns": null,
            "grid_auto_flow": null,
            "grid_auto_rows": null,
            "grid_column": null,
            "grid_gap": null,
            "grid_row": null,
            "grid_template_areas": null,
            "grid_template_columns": null,
            "grid_template_rows": null,
            "height": null,
            "justify_content": null,
            "justify_items": null,
            "left": null,
            "margin": null,
            "max_height": null,
            "max_width": null,
            "min_height": null,
            "min_width": null,
            "object_fit": null,
            "object_position": null,
            "order": null,
            "overflow": null,
            "overflow_x": null,
            "overflow_y": null,
            "padding": null,
            "right": null,
            "top": null,
            "visibility": null,
            "width": null
          }
        },
        "81236ea5e7534cd19e55206310ad5682": {
          "model_module": "@jupyter-widgets/controls",
          "model_name": "ProgressStyleModel",
          "model_module_version": "1.5.0",
          "state": {
            "_model_module": "@jupyter-widgets/controls",
            "_model_module_version": "1.5.0",
            "_model_name": "ProgressStyleModel",
            "_view_count": null,
            "_view_module": "@jupyter-widgets/base",
            "_view_module_version": "1.2.0",
            "_view_name": "StyleView",
            "bar_color": null,
            "description_width": ""
          }
        },
        "a773b0daabd846feb50ba2729a9141e9": {
          "model_module": "@jupyter-widgets/base",
          "model_name": "LayoutModel",
          "model_module_version": "1.2.0",
          "state": {
            "_model_module": "@jupyter-widgets/base",
            "_model_module_version": "1.2.0",
            "_model_name": "LayoutModel",
            "_view_count": null,
            "_view_module": "@jupyter-widgets/base",
            "_view_module_version": "1.2.0",
            "_view_name": "LayoutView",
            "align_content": null,
            "align_items": null,
            "align_self": null,
            "border": null,
            "bottom": null,
            "display": null,
            "flex": null,
            "flex_flow": null,
            "grid_area": null,
            "grid_auto_columns": null,
            "grid_auto_flow": null,
            "grid_auto_rows": null,
            "grid_column": null,
            "grid_gap": null,
            "grid_row": null,
            "grid_template_areas": null,
            "grid_template_columns": null,
            "grid_template_rows": null,
            "height": null,
            "justify_content": null,
            "justify_items": null,
            "left": null,
            "margin": null,
            "max_height": null,
            "max_width": null,
            "min_height": null,
            "min_width": null,
            "object_fit": null,
            "object_position": null,
            "order": null,
            "overflow": null,
            "overflow_x": null,
            "overflow_y": null,
            "padding": null,
            "right": null,
            "top": null,
            "visibility": null,
            "width": null
          }
        },
        "99cea5bc625541c8a9c2f8f89c76515e": {
          "model_module": "@jupyter-widgets/controls",
          "model_name": "DescriptionStyleModel",
          "model_module_version": "1.5.0",
          "state": {
            "_model_module": "@jupyter-widgets/controls",
            "_model_module_version": "1.5.0",
            "_model_name": "DescriptionStyleModel",
            "_view_count": null,
            "_view_module": "@jupyter-widgets/base",
            "_view_module_version": "1.2.0",
            "_view_name": "StyleView",
            "description_width": ""
          }
        },
        "6b1b553a8e24497a9c32430523f27d59": {
          "model_module": "@jupyter-widgets/controls",
          "model_name": "HBoxModel",
          "model_module_version": "1.5.0",
          "state": {
            "_dom_classes": [],
            "_model_module": "@jupyter-widgets/controls",
            "_model_module_version": "1.5.0",
            "_model_name": "HBoxModel",
            "_view_count": null,
            "_view_module": "@jupyter-widgets/controls",
            "_view_module_version": "1.5.0",
            "_view_name": "HBoxView",
            "box_style": "",
            "children": [
              "IPY_MODEL_37d0a50b504f4b38b6ed4e5662c3acb6",
              "IPY_MODEL_a03f5aa493104033aa58a4de52b19cd1",
              "IPY_MODEL_d1e1b6f2dccf48c89d4aff3732209456"
            ],
            "layout": "IPY_MODEL_9281514c31d84e41802092413336797d"
          }
        },
        "37d0a50b504f4b38b6ed4e5662c3acb6": {
          "model_module": "@jupyter-widgets/controls",
          "model_name": "HTMLModel",
          "model_module_version": "1.5.0",
          "state": {
            "_dom_classes": [],
            "_model_module": "@jupyter-widgets/controls",
            "_model_module_version": "1.5.0",
            "_model_name": "HTMLModel",
            "_view_count": null,
            "_view_module": "@jupyter-widgets/controls",
            "_view_module_version": "1.5.0",
            "_view_name": "HTMLView",
            "description": "",
            "description_tooltip": null,
            "layout": "IPY_MODEL_eea3b2c420814cfd96d9fcbe5daf144f",
            "placeholder": "​",
            "style": "IPY_MODEL_338a4b6a233946778e4bb20c8a7a7c12",
            "value": "special_tokens_map.json: 100%"
          }
        },
        "a03f5aa493104033aa58a4de52b19cd1": {
          "model_module": "@jupyter-widgets/controls",
          "model_name": "FloatProgressModel",
          "model_module_version": "1.5.0",
          "state": {
            "_dom_classes": [],
            "_model_module": "@jupyter-widgets/controls",
            "_model_module_version": "1.5.0",
            "_model_name": "FloatProgressModel",
            "_view_count": null,
            "_view_module": "@jupyter-widgets/controls",
            "_view_module_version": "1.5.0",
            "_view_name": "ProgressView",
            "bar_style": "success",
            "description": "",
            "description_tooltip": null,
            "layout": "IPY_MODEL_4e5297714636462a8e58648fae1de871",
            "max": 125,
            "min": 0,
            "orientation": "horizontal",
            "style": "IPY_MODEL_694264edb5974c6bb02bfed93657f7e8",
            "value": 125
          }
        },
        "d1e1b6f2dccf48c89d4aff3732209456": {
          "model_module": "@jupyter-widgets/controls",
          "model_name": "HTMLModel",
          "model_module_version": "1.5.0",
          "state": {
            "_dom_classes": [],
            "_model_module": "@jupyter-widgets/controls",
            "_model_module_version": "1.5.0",
            "_model_name": "HTMLModel",
            "_view_count": null,
            "_view_module": "@jupyter-widgets/controls",
            "_view_module_version": "1.5.0",
            "_view_name": "HTMLView",
            "description": "",
            "description_tooltip": null,
            "layout": "IPY_MODEL_4c6477f791fd4169b896baa2f0369dc1",
            "placeholder": "​",
            "style": "IPY_MODEL_e6ff01606b614358a993d48e8b62d7cd",
            "value": " 125/125 [00:00&lt;00:00, 7.89kB/s]"
          }
        },
        "9281514c31d84e41802092413336797d": {
          "model_module": "@jupyter-widgets/base",
          "model_name": "LayoutModel",
          "model_module_version": "1.2.0",
          "state": {
            "_model_module": "@jupyter-widgets/base",
            "_model_module_version": "1.2.0",
            "_model_name": "LayoutModel",
            "_view_count": null,
            "_view_module": "@jupyter-widgets/base",
            "_view_module_version": "1.2.0",
            "_view_name": "LayoutView",
            "align_content": null,
            "align_items": null,
            "align_self": null,
            "border": null,
            "bottom": null,
            "display": null,
            "flex": null,
            "flex_flow": null,
            "grid_area": null,
            "grid_auto_columns": null,
            "grid_auto_flow": null,
            "grid_auto_rows": null,
            "grid_column": null,
            "grid_gap": null,
            "grid_row": null,
            "grid_template_areas": null,
            "grid_template_columns": null,
            "grid_template_rows": null,
            "height": null,
            "justify_content": null,
            "justify_items": null,
            "left": null,
            "margin": null,
            "max_height": null,
            "max_width": null,
            "min_height": null,
            "min_width": null,
            "object_fit": null,
            "object_position": null,
            "order": null,
            "overflow": null,
            "overflow_x": null,
            "overflow_y": null,
            "padding": null,
            "right": null,
            "top": null,
            "visibility": null,
            "width": null
          }
        },
        "eea3b2c420814cfd96d9fcbe5daf144f": {
          "model_module": "@jupyter-widgets/base",
          "model_name": "LayoutModel",
          "model_module_version": "1.2.0",
          "state": {
            "_model_module": "@jupyter-widgets/base",
            "_model_module_version": "1.2.0",
            "_model_name": "LayoutModel",
            "_view_count": null,
            "_view_module": "@jupyter-widgets/base",
            "_view_module_version": "1.2.0",
            "_view_name": "LayoutView",
            "align_content": null,
            "align_items": null,
            "align_self": null,
            "border": null,
            "bottom": null,
            "display": null,
            "flex": null,
            "flex_flow": null,
            "grid_area": null,
            "grid_auto_columns": null,
            "grid_auto_flow": null,
            "grid_auto_rows": null,
            "grid_column": null,
            "grid_gap": null,
            "grid_row": null,
            "grid_template_areas": null,
            "grid_template_columns": null,
            "grid_template_rows": null,
            "height": null,
            "justify_content": null,
            "justify_items": null,
            "left": null,
            "margin": null,
            "max_height": null,
            "max_width": null,
            "min_height": null,
            "min_width": null,
            "object_fit": null,
            "object_position": null,
            "order": null,
            "overflow": null,
            "overflow_x": null,
            "overflow_y": null,
            "padding": null,
            "right": null,
            "top": null,
            "visibility": null,
            "width": null
          }
        },
        "338a4b6a233946778e4bb20c8a7a7c12": {
          "model_module": "@jupyter-widgets/controls",
          "model_name": "DescriptionStyleModel",
          "model_module_version": "1.5.0",
          "state": {
            "_model_module": "@jupyter-widgets/controls",
            "_model_module_version": "1.5.0",
            "_model_name": "DescriptionStyleModel",
            "_view_count": null,
            "_view_module": "@jupyter-widgets/base",
            "_view_module_version": "1.2.0",
            "_view_name": "StyleView",
            "description_width": ""
          }
        },
        "4e5297714636462a8e58648fae1de871": {
          "model_module": "@jupyter-widgets/base",
          "model_name": "LayoutModel",
          "model_module_version": "1.2.0",
          "state": {
            "_model_module": "@jupyter-widgets/base",
            "_model_module_version": "1.2.0",
            "_model_name": "LayoutModel",
            "_view_count": null,
            "_view_module": "@jupyter-widgets/base",
            "_view_module_version": "1.2.0",
            "_view_name": "LayoutView",
            "align_content": null,
            "align_items": null,
            "align_self": null,
            "border": null,
            "bottom": null,
            "display": null,
            "flex": null,
            "flex_flow": null,
            "grid_area": null,
            "grid_auto_columns": null,
            "grid_auto_flow": null,
            "grid_auto_rows": null,
            "grid_column": null,
            "grid_gap": null,
            "grid_row": null,
            "grid_template_areas": null,
            "grid_template_columns": null,
            "grid_template_rows": null,
            "height": null,
            "justify_content": null,
            "justify_items": null,
            "left": null,
            "margin": null,
            "max_height": null,
            "max_width": null,
            "min_height": null,
            "min_width": null,
            "object_fit": null,
            "object_position": null,
            "order": null,
            "overflow": null,
            "overflow_x": null,
            "overflow_y": null,
            "padding": null,
            "right": null,
            "top": null,
            "visibility": null,
            "width": null
          }
        },
        "694264edb5974c6bb02bfed93657f7e8": {
          "model_module": "@jupyter-widgets/controls",
          "model_name": "ProgressStyleModel",
          "model_module_version": "1.5.0",
          "state": {
            "_model_module": "@jupyter-widgets/controls",
            "_model_module_version": "1.5.0",
            "_model_name": "ProgressStyleModel",
            "_view_count": null,
            "_view_module": "@jupyter-widgets/base",
            "_view_module_version": "1.2.0",
            "_view_name": "StyleView",
            "bar_color": null,
            "description_width": ""
          }
        },
        "4c6477f791fd4169b896baa2f0369dc1": {
          "model_module": "@jupyter-widgets/base",
          "model_name": "LayoutModel",
          "model_module_version": "1.2.0",
          "state": {
            "_model_module": "@jupyter-widgets/base",
            "_model_module_version": "1.2.0",
            "_model_name": "LayoutModel",
            "_view_count": null,
            "_view_module": "@jupyter-widgets/base",
            "_view_module_version": "1.2.0",
            "_view_name": "LayoutView",
            "align_content": null,
            "align_items": null,
            "align_self": null,
            "border": null,
            "bottom": null,
            "display": null,
            "flex": null,
            "flex_flow": null,
            "grid_area": null,
            "grid_auto_columns": null,
            "grid_auto_flow": null,
            "grid_auto_rows": null,
            "grid_column": null,
            "grid_gap": null,
            "grid_row": null,
            "grid_template_areas": null,
            "grid_template_columns": null,
            "grid_template_rows": null,
            "height": null,
            "justify_content": null,
            "justify_items": null,
            "left": null,
            "margin": null,
            "max_height": null,
            "max_width": null,
            "min_height": null,
            "min_width": null,
            "object_fit": null,
            "object_position": null,
            "order": null,
            "overflow": null,
            "overflow_x": null,
            "overflow_y": null,
            "padding": null,
            "right": null,
            "top": null,
            "visibility": null,
            "width": null
          }
        },
        "e6ff01606b614358a993d48e8b62d7cd": {
          "model_module": "@jupyter-widgets/controls",
          "model_name": "DescriptionStyleModel",
          "model_module_version": "1.5.0",
          "state": {
            "_model_module": "@jupyter-widgets/controls",
            "_model_module_version": "1.5.0",
            "_model_name": "DescriptionStyleModel",
            "_view_count": null,
            "_view_module": "@jupyter-widgets/base",
            "_view_module_version": "1.2.0",
            "_view_name": "StyleView",
            "description_width": ""
          }
        },
        "295c497cb2ad43c987e0ff9a181b4bfa": {
          "model_module": "@jupyter-widgets/controls",
          "model_name": "HBoxModel",
          "model_module_version": "1.5.0",
          "state": {
            "_dom_classes": [],
            "_model_module": "@jupyter-widgets/controls",
            "_model_module_version": "1.5.0",
            "_model_name": "HBoxModel",
            "_view_count": null,
            "_view_module": "@jupyter-widgets/controls",
            "_view_module_version": "1.5.0",
            "_view_name": "HBoxView",
            "box_style": "",
            "children": [
              "IPY_MODEL_c70cacd9681c49e5bcec2edd4d2ffe02",
              "IPY_MODEL_1bf9c819ab78479f86fb7914f4341a05",
              "IPY_MODEL_31ccd4ef11c2460ab68cd7f63570b416"
            ],
            "layout": "IPY_MODEL_c886ac307ce5490dae6e7307933bb3ea"
          }
        },
        "c70cacd9681c49e5bcec2edd4d2ffe02": {
          "model_module": "@jupyter-widgets/controls",
          "model_name": "HTMLModel",
          "model_module_version": "1.5.0",
          "state": {
            "_dom_classes": [],
            "_model_module": "@jupyter-widgets/controls",
            "_model_module_version": "1.5.0",
            "_model_name": "HTMLModel",
            "_view_count": null,
            "_view_module": "@jupyter-widgets/controls",
            "_view_module_version": "1.5.0",
            "_view_name": "HTMLView",
            "description": "",
            "description_tooltip": null,
            "layout": "IPY_MODEL_b8c60d232e6848c7aa59bfd0afb8880f",
            "placeholder": "​",
            "style": "IPY_MODEL_95edd4b2a1fe450f81937ea30f19d8b7",
            "value": "Uploading the dataset shards: 100%"
          }
        },
        "1bf9c819ab78479f86fb7914f4341a05": {
          "model_module": "@jupyter-widgets/controls",
          "model_name": "FloatProgressModel",
          "model_module_version": "1.5.0",
          "state": {
            "_dom_classes": [],
            "_model_module": "@jupyter-widgets/controls",
            "_model_module_version": "1.5.0",
            "_model_name": "FloatProgressModel",
            "_view_count": null,
            "_view_module": "@jupyter-widgets/controls",
            "_view_module_version": "1.5.0",
            "_view_name": "ProgressView",
            "bar_style": "success",
            "description": "",
            "description_tooltip": null,
            "layout": "IPY_MODEL_8ba2b96817404aeb91e12e6100ff293c",
            "max": 1,
            "min": 0,
            "orientation": "horizontal",
            "style": "IPY_MODEL_8016ab5daf6449dba85b781512a3f518",
            "value": 1
          }
        },
        "31ccd4ef11c2460ab68cd7f63570b416": {
          "model_module": "@jupyter-widgets/controls",
          "model_name": "HTMLModel",
          "model_module_version": "1.5.0",
          "state": {
            "_dom_classes": [],
            "_model_module": "@jupyter-widgets/controls",
            "_model_module_version": "1.5.0",
            "_model_name": "HTMLModel",
            "_view_count": null,
            "_view_module": "@jupyter-widgets/controls",
            "_view_module_version": "1.5.0",
            "_view_name": "HTMLView",
            "description": "",
            "description_tooltip": null,
            "layout": "IPY_MODEL_2a20700bac334724aa25530587aa66a6",
            "placeholder": "​",
            "style": "IPY_MODEL_dd9b4d3c212f430ba9c6bb137e836831",
            "value": " 1/1 [00:00&lt;00:00,  1.16it/s]"
          }
        },
        "c886ac307ce5490dae6e7307933bb3ea": {
          "model_module": "@jupyter-widgets/base",
          "model_name": "LayoutModel",
          "model_module_version": "1.2.0",
          "state": {
            "_model_module": "@jupyter-widgets/base",
            "_model_module_version": "1.2.0",
            "_model_name": "LayoutModel",
            "_view_count": null,
            "_view_module": "@jupyter-widgets/base",
            "_view_module_version": "1.2.0",
            "_view_name": "LayoutView",
            "align_content": null,
            "align_items": null,
            "align_self": null,
            "border": null,
            "bottom": null,
            "display": null,
            "flex": null,
            "flex_flow": null,
            "grid_area": null,
            "grid_auto_columns": null,
            "grid_auto_flow": null,
            "grid_auto_rows": null,
            "grid_column": null,
            "grid_gap": null,
            "grid_row": null,
            "grid_template_areas": null,
            "grid_template_columns": null,
            "grid_template_rows": null,
            "height": null,
            "justify_content": null,
            "justify_items": null,
            "left": null,
            "margin": null,
            "max_height": null,
            "max_width": null,
            "min_height": null,
            "min_width": null,
            "object_fit": null,
            "object_position": null,
            "order": null,
            "overflow": null,
            "overflow_x": null,
            "overflow_y": null,
            "padding": null,
            "right": null,
            "top": null,
            "visibility": null,
            "width": null
          }
        },
        "b8c60d232e6848c7aa59bfd0afb8880f": {
          "model_module": "@jupyter-widgets/base",
          "model_name": "LayoutModel",
          "model_module_version": "1.2.0",
          "state": {
            "_model_module": "@jupyter-widgets/base",
            "_model_module_version": "1.2.0",
            "_model_name": "LayoutModel",
            "_view_count": null,
            "_view_module": "@jupyter-widgets/base",
            "_view_module_version": "1.2.0",
            "_view_name": "LayoutView",
            "align_content": null,
            "align_items": null,
            "align_self": null,
            "border": null,
            "bottom": null,
            "display": null,
            "flex": null,
            "flex_flow": null,
            "grid_area": null,
            "grid_auto_columns": null,
            "grid_auto_flow": null,
            "grid_auto_rows": null,
            "grid_column": null,
            "grid_gap": null,
            "grid_row": null,
            "grid_template_areas": null,
            "grid_template_columns": null,
            "grid_template_rows": null,
            "height": null,
            "justify_content": null,
            "justify_items": null,
            "left": null,
            "margin": null,
            "max_height": null,
            "max_width": null,
            "min_height": null,
            "min_width": null,
            "object_fit": null,
            "object_position": null,
            "order": null,
            "overflow": null,
            "overflow_x": null,
            "overflow_y": null,
            "padding": null,
            "right": null,
            "top": null,
            "visibility": null,
            "width": null
          }
        },
        "95edd4b2a1fe450f81937ea30f19d8b7": {
          "model_module": "@jupyter-widgets/controls",
          "model_name": "DescriptionStyleModel",
          "model_module_version": "1.5.0",
          "state": {
            "_model_module": "@jupyter-widgets/controls",
            "_model_module_version": "1.5.0",
            "_model_name": "DescriptionStyleModel",
            "_view_count": null,
            "_view_module": "@jupyter-widgets/base",
            "_view_module_version": "1.2.0",
            "_view_name": "StyleView",
            "description_width": ""
          }
        },
        "8ba2b96817404aeb91e12e6100ff293c": {
          "model_module": "@jupyter-widgets/base",
          "model_name": "LayoutModel",
          "model_module_version": "1.2.0",
          "state": {
            "_model_module": "@jupyter-widgets/base",
            "_model_module_version": "1.2.0",
            "_model_name": "LayoutModel",
            "_view_count": null,
            "_view_module": "@jupyter-widgets/base",
            "_view_module_version": "1.2.0",
            "_view_name": "LayoutView",
            "align_content": null,
            "align_items": null,
            "align_self": null,
            "border": null,
            "bottom": null,
            "display": null,
            "flex": null,
            "flex_flow": null,
            "grid_area": null,
            "grid_auto_columns": null,
            "grid_auto_flow": null,
            "grid_auto_rows": null,
            "grid_column": null,
            "grid_gap": null,
            "grid_row": null,
            "grid_template_areas": null,
            "grid_template_columns": null,
            "grid_template_rows": null,
            "height": null,
            "justify_content": null,
            "justify_items": null,
            "left": null,
            "margin": null,
            "max_height": null,
            "max_width": null,
            "min_height": null,
            "min_width": null,
            "object_fit": null,
            "object_position": null,
            "order": null,
            "overflow": null,
            "overflow_x": null,
            "overflow_y": null,
            "padding": null,
            "right": null,
            "top": null,
            "visibility": null,
            "width": null
          }
        },
        "8016ab5daf6449dba85b781512a3f518": {
          "model_module": "@jupyter-widgets/controls",
          "model_name": "ProgressStyleModel",
          "model_module_version": "1.5.0",
          "state": {
            "_model_module": "@jupyter-widgets/controls",
            "_model_module_version": "1.5.0",
            "_model_name": "ProgressStyleModel",
            "_view_count": null,
            "_view_module": "@jupyter-widgets/base",
            "_view_module_version": "1.2.0",
            "_view_name": "StyleView",
            "bar_color": null,
            "description_width": ""
          }
        },
        "2a20700bac334724aa25530587aa66a6": {
          "model_module": "@jupyter-widgets/base",
          "model_name": "LayoutModel",
          "model_module_version": "1.2.0",
          "state": {
            "_model_module": "@jupyter-widgets/base",
            "_model_module_version": "1.2.0",
            "_model_name": "LayoutModel",
            "_view_count": null,
            "_view_module": "@jupyter-widgets/base",
            "_view_module_version": "1.2.0",
            "_view_name": "LayoutView",
            "align_content": null,
            "align_items": null,
            "align_self": null,
            "border": null,
            "bottom": null,
            "display": null,
            "flex": null,
            "flex_flow": null,
            "grid_area": null,
            "grid_auto_columns": null,
            "grid_auto_flow": null,
            "grid_auto_rows": null,
            "grid_column": null,
            "grid_gap": null,
            "grid_row": null,
            "grid_template_areas": null,
            "grid_template_columns": null,
            "grid_template_rows": null,
            "height": null,
            "justify_content": null,
            "justify_items": null,
            "left": null,
            "margin": null,
            "max_height": null,
            "max_width": null,
            "min_height": null,
            "min_width": null,
            "object_fit": null,
            "object_position": null,
            "order": null,
            "overflow": null,
            "overflow_x": null,
            "overflow_y": null,
            "padding": null,
            "right": null,
            "top": null,
            "visibility": null,
            "width": null
          }
        },
        "dd9b4d3c212f430ba9c6bb137e836831": {
          "model_module": "@jupyter-widgets/controls",
          "model_name": "DescriptionStyleModel",
          "model_module_version": "1.5.0",
          "state": {
            "_model_module": "@jupyter-widgets/controls",
            "_model_module_version": "1.5.0",
            "_model_name": "DescriptionStyleModel",
            "_view_count": null,
            "_view_module": "@jupyter-widgets/base",
            "_view_module_version": "1.2.0",
            "_view_name": "StyleView",
            "description_width": ""
          }
        },
        "e3dabd0b85cd4e04ac186fe08ed81c5e": {
          "model_module": "@jupyter-widgets/controls",
          "model_name": "HBoxModel",
          "model_module_version": "1.5.0",
          "state": {
            "_dom_classes": [],
            "_model_module": "@jupyter-widgets/controls",
            "_model_module_version": "1.5.0",
            "_model_name": "HBoxModel",
            "_view_count": null,
            "_view_module": "@jupyter-widgets/controls",
            "_view_module_version": "1.5.0",
            "_view_name": "HBoxView",
            "box_style": "",
            "children": [
              "IPY_MODEL_f2f9dcb8dda34727b84382ced317a26e",
              "IPY_MODEL_11d5a3f422634fb5bdc6a7f1458f42f1",
              "IPY_MODEL_df3b8d9952224a4d8f39e2a3ea7f415c"
            ],
            "layout": "IPY_MODEL_acd9effd5aeb42ff8b5485805ffd886d"
          }
        },
        "f2f9dcb8dda34727b84382ced317a26e": {
          "model_module": "@jupyter-widgets/controls",
          "model_name": "HTMLModel",
          "model_module_version": "1.5.0",
          "state": {
            "_dom_classes": [],
            "_model_module": "@jupyter-widgets/controls",
            "_model_module_version": "1.5.0",
            "_model_name": "HTMLModel",
            "_view_count": null,
            "_view_module": "@jupyter-widgets/controls",
            "_view_module_version": "1.5.0",
            "_view_name": "HTMLView",
            "description": "",
            "description_tooltip": null,
            "layout": "IPY_MODEL_6752a193b2ed497c99763c526dbf1bd3",
            "placeholder": "​",
            "style": "IPY_MODEL_34d6e5c357574d35bb46ee1bf7d89d79",
            "value": "Creating parquet from Arrow format: 100%"
          }
        },
        "11d5a3f422634fb5bdc6a7f1458f42f1": {
          "model_module": "@jupyter-widgets/controls",
          "model_name": "FloatProgressModel",
          "model_module_version": "1.5.0",
          "state": {
            "_dom_classes": [],
            "_model_module": "@jupyter-widgets/controls",
            "_model_module_version": "1.5.0",
            "_model_name": "FloatProgressModel",
            "_view_count": null,
            "_view_module": "@jupyter-widgets/controls",
            "_view_module_version": "1.5.0",
            "_view_name": "ProgressView",
            "bar_style": "success",
            "description": "",
            "description_tooltip": null,
            "layout": "IPY_MODEL_bb7488926e794440b830e6314c08ac60",
            "max": 1,
            "min": 0,
            "orientation": "horizontal",
            "style": "IPY_MODEL_a7d77da550e14b4898e3058c32a2ccfd",
            "value": 1
          }
        },
        "df3b8d9952224a4d8f39e2a3ea7f415c": {
          "model_module": "@jupyter-widgets/controls",
          "model_name": "HTMLModel",
          "model_module_version": "1.5.0",
          "state": {
            "_dom_classes": [],
            "_model_module": "@jupyter-widgets/controls",
            "_model_module_version": "1.5.0",
            "_model_name": "HTMLModel",
            "_view_count": null,
            "_view_module": "@jupyter-widgets/controls",
            "_view_module_version": "1.5.0",
            "_view_name": "HTMLView",
            "description": "",
            "description_tooltip": null,
            "layout": "IPY_MODEL_58c18adf4c0b4ce793082312f62c4b51",
            "placeholder": "​",
            "style": "IPY_MODEL_40bd1e10fd50453cad12b76d7517b573",
            "value": " 1/1 [00:00&lt;00:00, 34.72ba/s]"
          }
        },
        "acd9effd5aeb42ff8b5485805ffd886d": {
          "model_module": "@jupyter-widgets/base",
          "model_name": "LayoutModel",
          "model_module_version": "1.2.0",
          "state": {
            "_model_module": "@jupyter-widgets/base",
            "_model_module_version": "1.2.0",
            "_model_name": "LayoutModel",
            "_view_count": null,
            "_view_module": "@jupyter-widgets/base",
            "_view_module_version": "1.2.0",
            "_view_name": "LayoutView",
            "align_content": null,
            "align_items": null,
            "align_self": null,
            "border": null,
            "bottom": null,
            "display": null,
            "flex": null,
            "flex_flow": null,
            "grid_area": null,
            "grid_auto_columns": null,
            "grid_auto_flow": null,
            "grid_auto_rows": null,
            "grid_column": null,
            "grid_gap": null,
            "grid_row": null,
            "grid_template_areas": null,
            "grid_template_columns": null,
            "grid_template_rows": null,
            "height": null,
            "justify_content": null,
            "justify_items": null,
            "left": null,
            "margin": null,
            "max_height": null,
            "max_width": null,
            "min_height": null,
            "min_width": null,
            "object_fit": null,
            "object_position": null,
            "order": null,
            "overflow": null,
            "overflow_x": null,
            "overflow_y": null,
            "padding": null,
            "right": null,
            "top": null,
            "visibility": null,
            "width": null
          }
        },
        "6752a193b2ed497c99763c526dbf1bd3": {
          "model_module": "@jupyter-widgets/base",
          "model_name": "LayoutModel",
          "model_module_version": "1.2.0",
          "state": {
            "_model_module": "@jupyter-widgets/base",
            "_model_module_version": "1.2.0",
            "_model_name": "LayoutModel",
            "_view_count": null,
            "_view_module": "@jupyter-widgets/base",
            "_view_module_version": "1.2.0",
            "_view_name": "LayoutView",
            "align_content": null,
            "align_items": null,
            "align_self": null,
            "border": null,
            "bottom": null,
            "display": null,
            "flex": null,
            "flex_flow": null,
            "grid_area": null,
            "grid_auto_columns": null,
            "grid_auto_flow": null,
            "grid_auto_rows": null,
            "grid_column": null,
            "grid_gap": null,
            "grid_row": null,
            "grid_template_areas": null,
            "grid_template_columns": null,
            "grid_template_rows": null,
            "height": null,
            "justify_content": null,
            "justify_items": null,
            "left": null,
            "margin": null,
            "max_height": null,
            "max_width": null,
            "min_height": null,
            "min_width": null,
            "object_fit": null,
            "object_position": null,
            "order": null,
            "overflow": null,
            "overflow_x": null,
            "overflow_y": null,
            "padding": null,
            "right": null,
            "top": null,
            "visibility": null,
            "width": null
          }
        },
        "34d6e5c357574d35bb46ee1bf7d89d79": {
          "model_module": "@jupyter-widgets/controls",
          "model_name": "DescriptionStyleModel",
          "model_module_version": "1.5.0",
          "state": {
            "_model_module": "@jupyter-widgets/controls",
            "_model_module_version": "1.5.0",
            "_model_name": "DescriptionStyleModel",
            "_view_count": null,
            "_view_module": "@jupyter-widgets/base",
            "_view_module_version": "1.2.0",
            "_view_name": "StyleView",
            "description_width": ""
          }
        },
        "bb7488926e794440b830e6314c08ac60": {
          "model_module": "@jupyter-widgets/base",
          "model_name": "LayoutModel",
          "model_module_version": "1.2.0",
          "state": {
            "_model_module": "@jupyter-widgets/base",
            "_model_module_version": "1.2.0",
            "_model_name": "LayoutModel",
            "_view_count": null,
            "_view_module": "@jupyter-widgets/base",
            "_view_module_version": "1.2.0",
            "_view_name": "LayoutView",
            "align_content": null,
            "align_items": null,
            "align_self": null,
            "border": null,
            "bottom": null,
            "display": null,
            "flex": null,
            "flex_flow": null,
            "grid_area": null,
            "grid_auto_columns": null,
            "grid_auto_flow": null,
            "grid_auto_rows": null,
            "grid_column": null,
            "grid_gap": null,
            "grid_row": null,
            "grid_template_areas": null,
            "grid_template_columns": null,
            "grid_template_rows": null,
            "height": null,
            "justify_content": null,
            "justify_items": null,
            "left": null,
            "margin": null,
            "max_height": null,
            "max_width": null,
            "min_height": null,
            "min_width": null,
            "object_fit": null,
            "object_position": null,
            "order": null,
            "overflow": null,
            "overflow_x": null,
            "overflow_y": null,
            "padding": null,
            "right": null,
            "top": null,
            "visibility": null,
            "width": null
          }
        },
        "a7d77da550e14b4898e3058c32a2ccfd": {
          "model_module": "@jupyter-widgets/controls",
          "model_name": "ProgressStyleModel",
          "model_module_version": "1.5.0",
          "state": {
            "_model_module": "@jupyter-widgets/controls",
            "_model_module_version": "1.5.0",
            "_model_name": "ProgressStyleModel",
            "_view_count": null,
            "_view_module": "@jupyter-widgets/base",
            "_view_module_version": "1.2.0",
            "_view_name": "StyleView",
            "bar_color": null,
            "description_width": ""
          }
        },
        "58c18adf4c0b4ce793082312f62c4b51": {
          "model_module": "@jupyter-widgets/base",
          "model_name": "LayoutModel",
          "model_module_version": "1.2.0",
          "state": {
            "_model_module": "@jupyter-widgets/base",
            "_model_module_version": "1.2.0",
            "_model_name": "LayoutModel",
            "_view_count": null,
            "_view_module": "@jupyter-widgets/base",
            "_view_module_version": "1.2.0",
            "_view_name": "LayoutView",
            "align_content": null,
            "align_items": null,
            "align_self": null,
            "border": null,
            "bottom": null,
            "display": null,
            "flex": null,
            "flex_flow": null,
            "grid_area": null,
            "grid_auto_columns": null,
            "grid_auto_flow": null,
            "grid_auto_rows": null,
            "grid_column": null,
            "grid_gap": null,
            "grid_row": null,
            "grid_template_areas": null,
            "grid_template_columns": null,
            "grid_template_rows": null,
            "height": null,
            "justify_content": null,
            "justify_items": null,
            "left": null,
            "margin": null,
            "max_height": null,
            "max_width": null,
            "min_height": null,
            "min_width": null,
            "object_fit": null,
            "object_position": null,
            "order": null,
            "overflow": null,
            "overflow_x": null,
            "overflow_y": null,
            "padding": null,
            "right": null,
            "top": null,
            "visibility": null,
            "width": null
          }
        },
        "40bd1e10fd50453cad12b76d7517b573": {
          "model_module": "@jupyter-widgets/controls",
          "model_name": "DescriptionStyleModel",
          "model_module_version": "1.5.0",
          "state": {
            "_model_module": "@jupyter-widgets/controls",
            "_model_module_version": "1.5.0",
            "_model_name": "DescriptionStyleModel",
            "_view_count": null,
            "_view_module": "@jupyter-widgets/base",
            "_view_module_version": "1.2.0",
            "_view_name": "StyleView",
            "description_width": ""
          }
        },
        "b24855629b254b168b2a8e7555737e46": {
          "model_module": "@jupyter-widgets/controls",
          "model_name": "HBoxModel",
          "model_module_version": "1.5.0",
          "state": {
            "_dom_classes": [],
            "_model_module": "@jupyter-widgets/controls",
            "_model_module_version": "1.5.0",
            "_model_name": "HBoxModel",
            "_view_count": null,
            "_view_module": "@jupyter-widgets/controls",
            "_view_module_version": "1.5.0",
            "_view_name": "HBoxView",
            "box_style": "",
            "children": [
              "IPY_MODEL_13c25de04b5b4a46b211bc0332e9bd49",
              "IPY_MODEL_26ccde4073d646498a56ca37b58f39ed",
              "IPY_MODEL_0e1f1ec8f7fe413ab3eea70b636ba156"
            ],
            "layout": "IPY_MODEL_a9e743b778ca4804935613b8b3f40020"
          }
        },
        "13c25de04b5b4a46b211bc0332e9bd49": {
          "model_module": "@jupyter-widgets/controls",
          "model_name": "HTMLModel",
          "model_module_version": "1.5.0",
          "state": {
            "_dom_classes": [],
            "_model_module": "@jupyter-widgets/controls",
            "_model_module_version": "1.5.0",
            "_model_name": "HTMLModel",
            "_view_count": null,
            "_view_module": "@jupyter-widgets/controls",
            "_view_module_version": "1.5.0",
            "_view_name": "HTMLView",
            "description": "",
            "description_tooltip": null,
            "layout": "IPY_MODEL_c075a7ffafa14a96979f4173dcb35c8e",
            "placeholder": "​",
            "style": "IPY_MODEL_73dc31b9deed4463b8724c56ac41e429",
            "value": "training_args.bin: 100%"
          }
        },
        "26ccde4073d646498a56ca37b58f39ed": {
          "model_module": "@jupyter-widgets/controls",
          "model_name": "FloatProgressModel",
          "model_module_version": "1.5.0",
          "state": {
            "_dom_classes": [],
            "_model_module": "@jupyter-widgets/controls",
            "_model_module_version": "1.5.0",
            "_model_name": "FloatProgressModel",
            "_view_count": null,
            "_view_module": "@jupyter-widgets/controls",
            "_view_module_version": "1.5.0",
            "_view_name": "ProgressView",
            "bar_style": "success",
            "description": "",
            "description_tooltip": null,
            "layout": "IPY_MODEL_d9dc1001e3534849ba5af11833e0463d",
            "max": 5432,
            "min": 0,
            "orientation": "horizontal",
            "style": "IPY_MODEL_7f46ca3fd5674a6a8e4fabfeb110be35",
            "value": 5432
          }
        },
        "0e1f1ec8f7fe413ab3eea70b636ba156": {
          "model_module": "@jupyter-widgets/controls",
          "model_name": "HTMLModel",
          "model_module_version": "1.5.0",
          "state": {
            "_dom_classes": [],
            "_model_module": "@jupyter-widgets/controls",
            "_model_module_version": "1.5.0",
            "_model_name": "HTMLModel",
            "_view_count": null,
            "_view_module": "@jupyter-widgets/controls",
            "_view_module_version": "1.5.0",
            "_view_name": "HTMLView",
            "description": "",
            "description_tooltip": null,
            "layout": "IPY_MODEL_01c722d3c953424198b1e0056ba97185",
            "placeholder": "​",
            "style": "IPY_MODEL_c1513f4e1b3a4e14a8e4fd3ca3a0f3bf",
            "value": " 5.43k/5.43k [00:00&lt;00:00, 26.6kB/s]"
          }
        },
        "a9e743b778ca4804935613b8b3f40020": {
          "model_module": "@jupyter-widgets/base",
          "model_name": "LayoutModel",
          "model_module_version": "1.2.0",
          "state": {
            "_model_module": "@jupyter-widgets/base",
            "_model_module_version": "1.2.0",
            "_model_name": "LayoutModel",
            "_view_count": null,
            "_view_module": "@jupyter-widgets/base",
            "_view_module_version": "1.2.0",
            "_view_name": "LayoutView",
            "align_content": null,
            "align_items": null,
            "align_self": null,
            "border": null,
            "bottom": null,
            "display": null,
            "flex": null,
            "flex_flow": null,
            "grid_area": null,
            "grid_auto_columns": null,
            "grid_auto_flow": null,
            "grid_auto_rows": null,
            "grid_column": null,
            "grid_gap": null,
            "grid_row": null,
            "grid_template_areas": null,
            "grid_template_columns": null,
            "grid_template_rows": null,
            "height": null,
            "justify_content": null,
            "justify_items": null,
            "left": null,
            "margin": null,
            "max_height": null,
            "max_width": null,
            "min_height": null,
            "min_width": null,
            "object_fit": null,
            "object_position": null,
            "order": null,
            "overflow": null,
            "overflow_x": null,
            "overflow_y": null,
            "padding": null,
            "right": null,
            "top": null,
            "visibility": null,
            "width": null
          }
        },
        "c075a7ffafa14a96979f4173dcb35c8e": {
          "model_module": "@jupyter-widgets/base",
          "model_name": "LayoutModel",
          "model_module_version": "1.2.0",
          "state": {
            "_model_module": "@jupyter-widgets/base",
            "_model_module_version": "1.2.0",
            "_model_name": "LayoutModel",
            "_view_count": null,
            "_view_module": "@jupyter-widgets/base",
            "_view_module_version": "1.2.0",
            "_view_name": "LayoutView",
            "align_content": null,
            "align_items": null,
            "align_self": null,
            "border": null,
            "bottom": null,
            "display": null,
            "flex": null,
            "flex_flow": null,
            "grid_area": null,
            "grid_auto_columns": null,
            "grid_auto_flow": null,
            "grid_auto_rows": null,
            "grid_column": null,
            "grid_gap": null,
            "grid_row": null,
            "grid_template_areas": null,
            "grid_template_columns": null,
            "grid_template_rows": null,
            "height": null,
            "justify_content": null,
            "justify_items": null,
            "left": null,
            "margin": null,
            "max_height": null,
            "max_width": null,
            "min_height": null,
            "min_width": null,
            "object_fit": null,
            "object_position": null,
            "order": null,
            "overflow": null,
            "overflow_x": null,
            "overflow_y": null,
            "padding": null,
            "right": null,
            "top": null,
            "visibility": null,
            "width": null
          }
        },
        "73dc31b9deed4463b8724c56ac41e429": {
          "model_module": "@jupyter-widgets/controls",
          "model_name": "DescriptionStyleModel",
          "model_module_version": "1.5.0",
          "state": {
            "_model_module": "@jupyter-widgets/controls",
            "_model_module_version": "1.5.0",
            "_model_name": "DescriptionStyleModel",
            "_view_count": null,
            "_view_module": "@jupyter-widgets/base",
            "_view_module_version": "1.2.0",
            "_view_name": "StyleView",
            "description_width": ""
          }
        },
        "d9dc1001e3534849ba5af11833e0463d": {
          "model_module": "@jupyter-widgets/base",
          "model_name": "LayoutModel",
          "model_module_version": "1.2.0",
          "state": {
            "_model_module": "@jupyter-widgets/base",
            "_model_module_version": "1.2.0",
            "_model_name": "LayoutModel",
            "_view_count": null,
            "_view_module": "@jupyter-widgets/base",
            "_view_module_version": "1.2.0",
            "_view_name": "LayoutView",
            "align_content": null,
            "align_items": null,
            "align_self": null,
            "border": null,
            "bottom": null,
            "display": null,
            "flex": null,
            "flex_flow": null,
            "grid_area": null,
            "grid_auto_columns": null,
            "grid_auto_flow": null,
            "grid_auto_rows": null,
            "grid_column": null,
            "grid_gap": null,
            "grid_row": null,
            "grid_template_areas": null,
            "grid_template_columns": null,
            "grid_template_rows": null,
            "height": null,
            "justify_content": null,
            "justify_items": null,
            "left": null,
            "margin": null,
            "max_height": null,
            "max_width": null,
            "min_height": null,
            "min_width": null,
            "object_fit": null,
            "object_position": null,
            "order": null,
            "overflow": null,
            "overflow_x": null,
            "overflow_y": null,
            "padding": null,
            "right": null,
            "top": null,
            "visibility": null,
            "width": null
          }
        },
        "7f46ca3fd5674a6a8e4fabfeb110be35": {
          "model_module": "@jupyter-widgets/controls",
          "model_name": "ProgressStyleModel",
          "model_module_version": "1.5.0",
          "state": {
            "_model_module": "@jupyter-widgets/controls",
            "_model_module_version": "1.5.0",
            "_model_name": "ProgressStyleModel",
            "_view_count": null,
            "_view_module": "@jupyter-widgets/base",
            "_view_module_version": "1.2.0",
            "_view_name": "StyleView",
            "bar_color": null,
            "description_width": ""
          }
        },
        "01c722d3c953424198b1e0056ba97185": {
          "model_module": "@jupyter-widgets/base",
          "model_name": "LayoutModel",
          "model_module_version": "1.2.0",
          "state": {
            "_model_module": "@jupyter-widgets/base",
            "_model_module_version": "1.2.0",
            "_model_name": "LayoutModel",
            "_view_count": null,
            "_view_module": "@jupyter-widgets/base",
            "_view_module_version": "1.2.0",
            "_view_name": "LayoutView",
            "align_content": null,
            "align_items": null,
            "align_self": null,
            "border": null,
            "bottom": null,
            "display": null,
            "flex": null,
            "flex_flow": null,
            "grid_area": null,
            "grid_auto_columns": null,
            "grid_auto_flow": null,
            "grid_auto_rows": null,
            "grid_column": null,
            "grid_gap": null,
            "grid_row": null,
            "grid_template_areas": null,
            "grid_template_columns": null,
            "grid_template_rows": null,
            "height": null,
            "justify_content": null,
            "justify_items": null,
            "left": null,
            "margin": null,
            "max_height": null,
            "max_width": null,
            "min_height": null,
            "min_width": null,
            "object_fit": null,
            "object_position": null,
            "order": null,
            "overflow": null,
            "overflow_x": null,
            "overflow_y": null,
            "padding": null,
            "right": null,
            "top": null,
            "visibility": null,
            "width": null
          }
        },
        "c1513f4e1b3a4e14a8e4fd3ca3a0f3bf": {
          "model_module": "@jupyter-widgets/controls",
          "model_name": "DescriptionStyleModel",
          "model_module_version": "1.5.0",
          "state": {
            "_model_module": "@jupyter-widgets/controls",
            "_model_module_version": "1.5.0",
            "_model_name": "DescriptionStyleModel",
            "_view_count": null,
            "_view_module": "@jupyter-widgets/base",
            "_view_module_version": "1.2.0",
            "_view_name": "StyleView",
            "description_width": ""
          }
        },
        "d127ef93fe7c4423ba6b5ce4bf6d747e": {
          "model_module": "@jupyter-widgets/controls",
          "model_name": "HBoxModel",
          "model_module_version": "1.5.0",
          "state": {
            "_dom_classes": [],
            "_model_module": "@jupyter-widgets/controls",
            "_model_module_version": "1.5.0",
            "_model_name": "HBoxModel",
            "_view_count": null,
            "_view_module": "@jupyter-widgets/controls",
            "_view_module_version": "1.5.0",
            "_view_name": "HBoxView",
            "box_style": "",
            "children": [
              "IPY_MODEL_5fa32b8bd4734736bdf90c990b03ea79",
              "IPY_MODEL_f8de928abe484dd49b842eea8da53777",
              "IPY_MODEL_2e1eb4f20d0345139035432d23035d0d"
            ],
            "layout": "IPY_MODEL_a5909eb7546c4e64bdfa18503fc996f2"
          }
        },
        "5fa32b8bd4734736bdf90c990b03ea79": {
          "model_module": "@jupyter-widgets/controls",
          "model_name": "HTMLModel",
          "model_module_version": "1.5.0",
          "state": {
            "_dom_classes": [],
            "_model_module": "@jupyter-widgets/controls",
            "_model_module_version": "1.5.0",
            "_model_name": "HTMLModel",
            "_view_count": null,
            "_view_module": "@jupyter-widgets/controls",
            "_view_module_version": "1.5.0",
            "_view_name": "HTMLView",
            "description": "",
            "description_tooltip": null,
            "layout": "IPY_MODEL_d9dc9fabcf164caca161e34fc0b4fc99",
            "placeholder": "​",
            "style": "IPY_MODEL_f1d4057a12b1413e8be56f754b702165",
            "value": "model.safetensors: 100%"
          }
        },
        "f8de928abe484dd49b842eea8da53777": {
          "model_module": "@jupyter-widgets/controls",
          "model_name": "FloatProgressModel",
          "model_module_version": "1.5.0",
          "state": {
            "_dom_classes": [],
            "_model_module": "@jupyter-widgets/controls",
            "_model_module_version": "1.5.0",
            "_model_name": "FloatProgressModel",
            "_view_count": null,
            "_view_module": "@jupyter-widgets/controls",
            "_view_module_version": "1.5.0",
            "_view_name": "ProgressView",
            "bar_style": "success",
            "description": "",
            "description_tooltip": null,
            "layout": "IPY_MODEL_1ad7316e0de346f7af5dd75a83d28abb",
            "max": 267832560,
            "min": 0,
            "orientation": "horizontal",
            "style": "IPY_MODEL_660d54f49f794d9988b0f55a21bda45a",
            "value": 267832560
          }
        },
        "2e1eb4f20d0345139035432d23035d0d": {
          "model_module": "@jupyter-widgets/controls",
          "model_name": "HTMLModel",
          "model_module_version": "1.5.0",
          "state": {
            "_dom_classes": [],
            "_model_module": "@jupyter-widgets/controls",
            "_model_module_version": "1.5.0",
            "_model_name": "HTMLModel",
            "_view_count": null,
            "_view_module": "@jupyter-widgets/controls",
            "_view_module_version": "1.5.0",
            "_view_name": "HTMLView",
            "description": "",
            "description_tooltip": null,
            "layout": "IPY_MODEL_d784259f8f154b3fb30eca9751ad262b",
            "placeholder": "​",
            "style": "IPY_MODEL_677024b2b1b0491182cfb6eea348df35",
            "value": " 268M/268M [00:11&lt;00:00, 10.6MB/s]"
          }
        },
        "a5909eb7546c4e64bdfa18503fc996f2": {
          "model_module": "@jupyter-widgets/base",
          "model_name": "LayoutModel",
          "model_module_version": "1.2.0",
          "state": {
            "_model_module": "@jupyter-widgets/base",
            "_model_module_version": "1.2.0",
            "_model_name": "LayoutModel",
            "_view_count": null,
            "_view_module": "@jupyter-widgets/base",
            "_view_module_version": "1.2.0",
            "_view_name": "LayoutView",
            "align_content": null,
            "align_items": null,
            "align_self": null,
            "border": null,
            "bottom": null,
            "display": null,
            "flex": null,
            "flex_flow": null,
            "grid_area": null,
            "grid_auto_columns": null,
            "grid_auto_flow": null,
            "grid_auto_rows": null,
            "grid_column": null,
            "grid_gap": null,
            "grid_row": null,
            "grid_template_areas": null,
            "grid_template_columns": null,
            "grid_template_rows": null,
            "height": null,
            "justify_content": null,
            "justify_items": null,
            "left": null,
            "margin": null,
            "max_height": null,
            "max_width": null,
            "min_height": null,
            "min_width": null,
            "object_fit": null,
            "object_position": null,
            "order": null,
            "overflow": null,
            "overflow_x": null,
            "overflow_y": null,
            "padding": null,
            "right": null,
            "top": null,
            "visibility": null,
            "width": null
          }
        },
        "d9dc9fabcf164caca161e34fc0b4fc99": {
          "model_module": "@jupyter-widgets/base",
          "model_name": "LayoutModel",
          "model_module_version": "1.2.0",
          "state": {
            "_model_module": "@jupyter-widgets/base",
            "_model_module_version": "1.2.0",
            "_model_name": "LayoutModel",
            "_view_count": null,
            "_view_module": "@jupyter-widgets/base",
            "_view_module_version": "1.2.0",
            "_view_name": "LayoutView",
            "align_content": null,
            "align_items": null,
            "align_self": null,
            "border": null,
            "bottom": null,
            "display": null,
            "flex": null,
            "flex_flow": null,
            "grid_area": null,
            "grid_auto_columns": null,
            "grid_auto_flow": null,
            "grid_auto_rows": null,
            "grid_column": null,
            "grid_gap": null,
            "grid_row": null,
            "grid_template_areas": null,
            "grid_template_columns": null,
            "grid_template_rows": null,
            "height": null,
            "justify_content": null,
            "justify_items": null,
            "left": null,
            "margin": null,
            "max_height": null,
            "max_width": null,
            "min_height": null,
            "min_width": null,
            "object_fit": null,
            "object_position": null,
            "order": null,
            "overflow": null,
            "overflow_x": null,
            "overflow_y": null,
            "padding": null,
            "right": null,
            "top": null,
            "visibility": null,
            "width": null
          }
        },
        "f1d4057a12b1413e8be56f754b702165": {
          "model_module": "@jupyter-widgets/controls",
          "model_name": "DescriptionStyleModel",
          "model_module_version": "1.5.0",
          "state": {
            "_model_module": "@jupyter-widgets/controls",
            "_model_module_version": "1.5.0",
            "_model_name": "DescriptionStyleModel",
            "_view_count": null,
            "_view_module": "@jupyter-widgets/base",
            "_view_module_version": "1.2.0",
            "_view_name": "StyleView",
            "description_width": ""
          }
        },
        "1ad7316e0de346f7af5dd75a83d28abb": {
          "model_module": "@jupyter-widgets/base",
          "model_name": "LayoutModel",
          "model_module_version": "1.2.0",
          "state": {
            "_model_module": "@jupyter-widgets/base",
            "_model_module_version": "1.2.0",
            "_model_name": "LayoutModel",
            "_view_count": null,
            "_view_module": "@jupyter-widgets/base",
            "_view_module_version": "1.2.0",
            "_view_name": "LayoutView",
            "align_content": null,
            "align_items": null,
            "align_self": null,
            "border": null,
            "bottom": null,
            "display": null,
            "flex": null,
            "flex_flow": null,
            "grid_area": null,
            "grid_auto_columns": null,
            "grid_auto_flow": null,
            "grid_auto_rows": null,
            "grid_column": null,
            "grid_gap": null,
            "grid_row": null,
            "grid_template_areas": null,
            "grid_template_columns": null,
            "grid_template_rows": null,
            "height": null,
            "justify_content": null,
            "justify_items": null,
            "left": null,
            "margin": null,
            "max_height": null,
            "max_width": null,
            "min_height": null,
            "min_width": null,
            "object_fit": null,
            "object_position": null,
            "order": null,
            "overflow": null,
            "overflow_x": null,
            "overflow_y": null,
            "padding": null,
            "right": null,
            "top": null,
            "visibility": null,
            "width": null
          }
        },
        "660d54f49f794d9988b0f55a21bda45a": {
          "model_module": "@jupyter-widgets/controls",
          "model_name": "ProgressStyleModel",
          "model_module_version": "1.5.0",
          "state": {
            "_model_module": "@jupyter-widgets/controls",
            "_model_module_version": "1.5.0",
            "_model_name": "ProgressStyleModel",
            "_view_count": null,
            "_view_module": "@jupyter-widgets/base",
            "_view_module_version": "1.2.0",
            "_view_name": "StyleView",
            "bar_color": null,
            "description_width": ""
          }
        },
        "d784259f8f154b3fb30eca9751ad262b": {
          "model_module": "@jupyter-widgets/base",
          "model_name": "LayoutModel",
          "model_module_version": "1.2.0",
          "state": {
            "_model_module": "@jupyter-widgets/base",
            "_model_module_version": "1.2.0",
            "_model_name": "LayoutModel",
            "_view_count": null,
            "_view_module": "@jupyter-widgets/base",
            "_view_module_version": "1.2.0",
            "_view_name": "LayoutView",
            "align_content": null,
            "align_items": null,
            "align_self": null,
            "border": null,
            "bottom": null,
            "display": null,
            "flex": null,
            "flex_flow": null,
            "grid_area": null,
            "grid_auto_columns": null,
            "grid_auto_flow": null,
            "grid_auto_rows": null,
            "grid_column": null,
            "grid_gap": null,
            "grid_row": null,
            "grid_template_areas": null,
            "grid_template_columns": null,
            "grid_template_rows": null,
            "height": null,
            "justify_content": null,
            "justify_items": null,
            "left": null,
            "margin": null,
            "max_height": null,
            "max_width": null,
            "min_height": null,
            "min_width": null,
            "object_fit": null,
            "object_position": null,
            "order": null,
            "overflow": null,
            "overflow_x": null,
            "overflow_y": null,
            "padding": null,
            "right": null,
            "top": null,
            "visibility": null,
            "width": null
          }
        },
        "677024b2b1b0491182cfb6eea348df35": {
          "model_module": "@jupyter-widgets/controls",
          "model_name": "DescriptionStyleModel",
          "model_module_version": "1.5.0",
          "state": {
            "_model_module": "@jupyter-widgets/controls",
            "_model_module_version": "1.5.0",
            "_model_name": "DescriptionStyleModel",
            "_view_count": null,
            "_view_module": "@jupyter-widgets/base",
            "_view_module_version": "1.2.0",
            "_view_name": "StyleView",
            "description_width": ""
          }
        },
        "b093ffdeb0c34282bd6fc9dfeedc43db": {
          "model_module": "@jupyter-widgets/controls",
          "model_name": "HBoxModel",
          "model_module_version": "1.5.0",
          "state": {
            "_dom_classes": [],
            "_model_module": "@jupyter-widgets/controls",
            "_model_module_version": "1.5.0",
            "_model_name": "HBoxModel",
            "_view_count": null,
            "_view_module": "@jupyter-widgets/controls",
            "_view_module_version": "1.5.0",
            "_view_name": "HBoxView",
            "box_style": "",
            "children": [
              "IPY_MODEL_72e000c873754a8ebee32a1fc5c23768",
              "IPY_MODEL_6cc2fda0741940d29fe7862af112eefe",
              "IPY_MODEL_e5a9234debb3454e910d648a9fb1a366"
            ],
            "layout": "IPY_MODEL_c3d8739f2d4b4f5ea5b841c66da70169"
          }
        },
        "72e000c873754a8ebee32a1fc5c23768": {
          "model_module": "@jupyter-widgets/controls",
          "model_name": "HTMLModel",
          "model_module_version": "1.5.0",
          "state": {
            "_dom_classes": [],
            "_model_module": "@jupyter-widgets/controls",
            "_model_module_version": "1.5.0",
            "_model_name": "HTMLModel",
            "_view_count": null,
            "_view_module": "@jupyter-widgets/controls",
            "_view_module_version": "1.5.0",
            "_view_name": "HTMLView",
            "description": "",
            "description_tooltip": null,
            "layout": "IPY_MODEL_aed8d3b8c9824033afea88270b3fe2f3",
            "placeholder": "​",
            "style": "IPY_MODEL_da562e2154de4fe18f64e1cf9db0507f",
            "value": "Upload 2 LFS files: 100%"
          }
        },
        "6cc2fda0741940d29fe7862af112eefe": {
          "model_module": "@jupyter-widgets/controls",
          "model_name": "FloatProgressModel",
          "model_module_version": "1.5.0",
          "state": {
            "_dom_classes": [],
            "_model_module": "@jupyter-widgets/controls",
            "_model_module_version": "1.5.0",
            "_model_name": "FloatProgressModel",
            "_view_count": null,
            "_view_module": "@jupyter-widgets/controls",
            "_view_module_version": "1.5.0",
            "_view_name": "ProgressView",
            "bar_style": "success",
            "description": "",
            "description_tooltip": null,
            "layout": "IPY_MODEL_47239e52d45445e49cb4ba9fb646bdfc",
            "max": 2,
            "min": 0,
            "orientation": "horizontal",
            "style": "IPY_MODEL_6150dc4b8fed472394de528e8b98e943",
            "value": 2
          }
        },
        "e5a9234debb3454e910d648a9fb1a366": {
          "model_module": "@jupyter-widgets/controls",
          "model_name": "HTMLModel",
          "model_module_version": "1.5.0",
          "state": {
            "_dom_classes": [],
            "_model_module": "@jupyter-widgets/controls",
            "_model_module_version": "1.5.0",
            "_model_name": "HTMLModel",
            "_view_count": null,
            "_view_module": "@jupyter-widgets/controls",
            "_view_module_version": "1.5.0",
            "_view_name": "HTMLView",
            "description": "",
            "description_tooltip": null,
            "layout": "IPY_MODEL_d08d02b505414738a566dfbfeb153349",
            "placeholder": "​",
            "style": "IPY_MODEL_b5eb16e8b3b3465f88274d194d37a40f",
            "value": " 2/2 [00:11&lt;00:00, 11.51s/it]"
          }
        },
        "c3d8739f2d4b4f5ea5b841c66da70169": {
          "model_module": "@jupyter-widgets/base",
          "model_name": "LayoutModel",
          "model_module_version": "1.2.0",
          "state": {
            "_model_module": "@jupyter-widgets/base",
            "_model_module_version": "1.2.0",
            "_model_name": "LayoutModel",
            "_view_count": null,
            "_view_module": "@jupyter-widgets/base",
            "_view_module_version": "1.2.0",
            "_view_name": "LayoutView",
            "align_content": null,
            "align_items": null,
            "align_self": null,
            "border": null,
            "bottom": null,
            "display": null,
            "flex": null,
            "flex_flow": null,
            "grid_area": null,
            "grid_auto_columns": null,
            "grid_auto_flow": null,
            "grid_auto_rows": null,
            "grid_column": null,
            "grid_gap": null,
            "grid_row": null,
            "grid_template_areas": null,
            "grid_template_columns": null,
            "grid_template_rows": null,
            "height": null,
            "justify_content": null,
            "justify_items": null,
            "left": null,
            "margin": null,
            "max_height": null,
            "max_width": null,
            "min_height": null,
            "min_width": null,
            "object_fit": null,
            "object_position": null,
            "order": null,
            "overflow": null,
            "overflow_x": null,
            "overflow_y": null,
            "padding": null,
            "right": null,
            "top": null,
            "visibility": null,
            "width": null
          }
        },
        "aed8d3b8c9824033afea88270b3fe2f3": {
          "model_module": "@jupyter-widgets/base",
          "model_name": "LayoutModel",
          "model_module_version": "1.2.0",
          "state": {
            "_model_module": "@jupyter-widgets/base",
            "_model_module_version": "1.2.0",
            "_model_name": "LayoutModel",
            "_view_count": null,
            "_view_module": "@jupyter-widgets/base",
            "_view_module_version": "1.2.0",
            "_view_name": "LayoutView",
            "align_content": null,
            "align_items": null,
            "align_self": null,
            "border": null,
            "bottom": null,
            "display": null,
            "flex": null,
            "flex_flow": null,
            "grid_area": null,
            "grid_auto_columns": null,
            "grid_auto_flow": null,
            "grid_auto_rows": null,
            "grid_column": null,
            "grid_gap": null,
            "grid_row": null,
            "grid_template_areas": null,
            "grid_template_columns": null,
            "grid_template_rows": null,
            "height": null,
            "justify_content": null,
            "justify_items": null,
            "left": null,
            "margin": null,
            "max_height": null,
            "max_width": null,
            "min_height": null,
            "min_width": null,
            "object_fit": null,
            "object_position": null,
            "order": null,
            "overflow": null,
            "overflow_x": null,
            "overflow_y": null,
            "padding": null,
            "right": null,
            "top": null,
            "visibility": null,
            "width": null
          }
        },
        "da562e2154de4fe18f64e1cf9db0507f": {
          "model_module": "@jupyter-widgets/controls",
          "model_name": "DescriptionStyleModel",
          "model_module_version": "1.5.0",
          "state": {
            "_model_module": "@jupyter-widgets/controls",
            "_model_module_version": "1.5.0",
            "_model_name": "DescriptionStyleModel",
            "_view_count": null,
            "_view_module": "@jupyter-widgets/base",
            "_view_module_version": "1.2.0",
            "_view_name": "StyleView",
            "description_width": ""
          }
        },
        "47239e52d45445e49cb4ba9fb646bdfc": {
          "model_module": "@jupyter-widgets/base",
          "model_name": "LayoutModel",
          "model_module_version": "1.2.0",
          "state": {
            "_model_module": "@jupyter-widgets/base",
            "_model_module_version": "1.2.0",
            "_model_name": "LayoutModel",
            "_view_count": null,
            "_view_module": "@jupyter-widgets/base",
            "_view_module_version": "1.2.0",
            "_view_name": "LayoutView",
            "align_content": null,
            "align_items": null,
            "align_self": null,
            "border": null,
            "bottom": null,
            "display": null,
            "flex": null,
            "flex_flow": null,
            "grid_area": null,
            "grid_auto_columns": null,
            "grid_auto_flow": null,
            "grid_auto_rows": null,
            "grid_column": null,
            "grid_gap": null,
            "grid_row": null,
            "grid_template_areas": null,
            "grid_template_columns": null,
            "grid_template_rows": null,
            "height": null,
            "justify_content": null,
            "justify_items": null,
            "left": null,
            "margin": null,
            "max_height": null,
            "max_width": null,
            "min_height": null,
            "min_width": null,
            "object_fit": null,
            "object_position": null,
            "order": null,
            "overflow": null,
            "overflow_x": null,
            "overflow_y": null,
            "padding": null,
            "right": null,
            "top": null,
            "visibility": null,
            "width": null
          }
        },
        "6150dc4b8fed472394de528e8b98e943": {
          "model_module": "@jupyter-widgets/controls",
          "model_name": "ProgressStyleModel",
          "model_module_version": "1.5.0",
          "state": {
            "_model_module": "@jupyter-widgets/controls",
            "_model_module_version": "1.5.0",
            "_model_name": "ProgressStyleModel",
            "_view_count": null,
            "_view_module": "@jupyter-widgets/base",
            "_view_module_version": "1.2.0",
            "_view_name": "StyleView",
            "bar_color": null,
            "description_width": ""
          }
        },
        "d08d02b505414738a566dfbfeb153349": {
          "model_module": "@jupyter-widgets/base",
          "model_name": "LayoutModel",
          "model_module_version": "1.2.0",
          "state": {
            "_model_module": "@jupyter-widgets/base",
            "_model_module_version": "1.2.0",
            "_model_name": "LayoutModel",
            "_view_count": null,
            "_view_module": "@jupyter-widgets/base",
            "_view_module_version": "1.2.0",
            "_view_name": "LayoutView",
            "align_content": null,
            "align_items": null,
            "align_self": null,
            "border": null,
            "bottom": null,
            "display": null,
            "flex": null,
            "flex_flow": null,
            "grid_area": null,
            "grid_auto_columns": null,
            "grid_auto_flow": null,
            "grid_auto_rows": null,
            "grid_column": null,
            "grid_gap": null,
            "grid_row": null,
            "grid_template_areas": null,
            "grid_template_columns": null,
            "grid_template_rows": null,
            "height": null,
            "justify_content": null,
            "justify_items": null,
            "left": null,
            "margin": null,
            "max_height": null,
            "max_width": null,
            "min_height": null,
            "min_width": null,
            "object_fit": null,
            "object_position": null,
            "order": null,
            "overflow": null,
            "overflow_x": null,
            "overflow_y": null,
            "padding": null,
            "right": null,
            "top": null,
            "visibility": null,
            "width": null
          }
        },
        "b5eb16e8b3b3465f88274d194d37a40f": {
          "model_module": "@jupyter-widgets/controls",
          "model_name": "DescriptionStyleModel",
          "model_module_version": "1.5.0",
          "state": {
            "_model_module": "@jupyter-widgets/controls",
            "_model_module_version": "1.5.0",
            "_model_name": "DescriptionStyleModel",
            "_view_count": null,
            "_view_module": "@jupyter-widgets/base",
            "_view_module_version": "1.2.0",
            "_view_name": "StyleView",
            "description_width": ""
          }
        }
      }
    }
  },
  "cells": [
    {
      "cell_type": "markdown",
      "metadata": {
        "id": "view-in-github",
        "colab_type": "text"
      },
      "source": [
        "<a href=\"https://colab.research.google.com/github/turtlemb/hugging_face/blob/main/hugging_face_text_classification_AI_model.ipynb\" target=\"_parent\"><img src=\"https://colab.research.google.com/assets/colab-badge.svg\" alt=\"Open In Colab\"/></a>"
      ]
    },
    {
      "cell_type": "markdown",
      "source": [
        "# Hugging Face Text Classification\n",
        "\n",
        "* Resource notebook: https://www.learnhuggingface.com/notebooks/hugging_face_text_classification_tutorial\n",
        "* Setup steps: https://www.learnhuggingface.com/extras/setup\n",
        "\n",
        "Note: A GPU is needed on Google Colab, go to Runtime -> Change runtime type -> Hardware accelerator -> GPU. T4 GPU is the only one available for free (entry-level GPU)."
      ],
      "metadata": {
        "id": "vUwk5rveen-f"
      }
    },
    {
      "cell_type": "markdown",
      "source": [
        "### 2. Import necessary libraries."
      ],
      "metadata": {
        "id": "8_UHWoinki-e"
      }
    },
    {
      "cell_type": "code",
      "source": [
        "# Install dependencies (this is mostly for Google Colab)\n",
        "try:\n",
        "  import datasets, evaluate, accelerate\n",
        "  import gradio as gr\n",
        "except ModuleNotFoundError:\n",
        "  !pip install -U datasets evaluate accelerate gradio\n",
        "  import datasets, evaluate, accelerate\n",
        "  import gradio as gr\n",
        "\n",
        "import random\n",
        "\n",
        "import numpy as np\n",
        "import pandas as pd\n",
        "\n",
        "import torch\n",
        "import transformers\n",
        "\n",
        "print(f'Using transformers version: {transformers.__version__}')\n",
        "print(f'Using torch version: {torch.__version__}')\n",
        "print(f'Uding datasets version: {datasets.__version__}')"
      ],
      "metadata": {
        "colab": {
          "base_uri": "https://localhost:8080/"
        },
        "id": "YP1_9hj-kb45",
        "outputId": "620d35b7-766c-4e74-f9a7-35282b8fe40b"
      },
      "execution_count": null,
      "outputs": [
        {
          "output_type": "stream",
          "name": "stdout",
          "text": [
            "Using transformers version: 4.48.3\n",
            "Using torch version: 2.5.1+cu124\n",
            "Uding datasets version: 3.3.2\n"
          ]
        }
      ]
    },
    {
      "cell_type": "markdown",
      "source": [
        "3. Getting a dataset\n",
        "\n",
        "Building food not food text classification model: need food not food text dataset."
      ],
      "metadata": {
        "id": "sa6ebbgkW1Pc"
      }
    },
    {
      "cell_type": "code",
      "source": [
        "from datasets import load_dataset\n",
        "\n",
        "dataset = load_dataset(\"mrdbourke/learn_hf_food_not_food_image_captions\")\n",
        "dataset"
      ],
      "metadata": {
        "colab": {
          "base_uri": "https://localhost:8080/",
          "height": 215,
          "referenced_widgets": [
            "e068c4a2dfae465b8ef35bd0ed10d372",
            "5b47e9f0b1634a4ab8aa921ca69401f3",
            "0c36a0d7d05d4bb4b5ce63ba6c7404d5",
            "3ead1cb172664cc99476b7e380da664c",
            "18bcb129a49f44a48e8bbfee0edad115",
            "1e2344b56cb842b3af702183e84d1874",
            "8fb7cdb5e00b414db6dd5c22eed0ff01",
            "13907cab47544b3baa64e85e370330ab",
            "0e74eee5306a4f768a49b48f32e437f7",
            "ea28c3b2548549b7a18d1276ffe088e8",
            "1e3dd9fa20954196b2039be68828bfc0",
            "78dfecd7a1fb4d83b454f3afea29eb7f",
            "bb3a25d98937458698f73dd4b0f9b05e",
            "c2d0a636fb2640e5b5ef96aaa983b4ce",
            "fe96c2704a3c43ff9d06352ade4a976e",
            "2c3be6e0541e4fa7babe335368c63c8f",
            "d8bcafd074a54ae8a6f204ef780e91f8",
            "734c675735344b04b6486ff07de36828",
            "b8b50ada3ddf42c3a2cd4d4dd9c427b6",
            "e9afb117797b4ef09d182ac25951d642",
            "3b2a463bdcfd4fde896fe3366783634b",
            "efe12d83d1824bb5b742c01a828c4645",
            "eee38a80eced4778b9e4605922e087a0",
            "3213d145b0e64783b2ba24e1e79acf54",
            "5583ac8cdeda40f784d7ceaa66c2ac2e",
            "4a18114d397744a6bd76ea46bf625989",
            "7e66617819ad4b0795358a8df6f3cc32",
            "164b3f0c208b46a5b198f9d7218d0124",
            "7791f238df624b97b59e15a44dedd577",
            "90966dd072284a1db319efd8aa536a31",
            "fb5f072262f94bc480bf12f3131185a5",
            "b1eae69845fb4b459c2c221f0173714d",
            "05ace71f01224ba18d5e0d7b27d6f33d"
          ]
        },
        "id": "h6qVz5zPzQoF",
        "outputId": "a7148cfd-02d5-4c7d-b79e-90f76a5a1556"
      },
      "execution_count": null,
      "outputs": [
        {
          "output_type": "display_data",
          "data": {
            "text/plain": [
              "README.md:   0%|          | 0.00/1.32k [00:00<?, ?B/s]"
            ],
            "application/vnd.jupyter.widget-view+json": {
              "version_major": 2,
              "version_minor": 0,
              "model_id": "e068c4a2dfae465b8ef35bd0ed10d372"
            }
          },
          "metadata": {}
        },
        {
          "output_type": "display_data",
          "data": {
            "text/plain": [
              "train-00000-of-00001.parquet:   0%|          | 0.00/11.9k [00:00<?, ?B/s]"
            ],
            "application/vnd.jupyter.widget-view+json": {
              "version_major": 2,
              "version_minor": 0,
              "model_id": "78dfecd7a1fb4d83b454f3afea29eb7f"
            }
          },
          "metadata": {}
        },
        {
          "output_type": "display_data",
          "data": {
            "text/plain": [
              "Generating train split:   0%|          | 0/250 [00:00<?, ? examples/s]"
            ],
            "application/vnd.jupyter.widget-view+json": {
              "version_major": 2,
              "version_minor": 0,
              "model_id": "eee38a80eced4778b9e4605922e087a0"
            }
          },
          "metadata": {}
        },
        {
          "output_type": "execute_result",
          "data": {
            "text/plain": [
              "DatasetDict({\n",
              "    train: Dataset({\n",
              "        features: ['text', 'label'],\n",
              "        num_rows: 250\n",
              "    })\n",
              "})"
            ]
          },
          "metadata": {},
          "execution_count": 3
        }
      ]
    },
    {
      "cell_type": "code",
      "source": [
        "# What features are there in our dataset?\n",
        "dataset.column_names"
      ],
      "metadata": {
        "colab": {
          "base_uri": "https://localhost:8080/"
        },
        "id": "R58TdhcXOBHz",
        "outputId": "4a7329dc-a9c3-4ce2-fe96-9e3abeec9395"
      },
      "execution_count": null,
      "outputs": [
        {
          "output_type": "execute_result",
          "data": {
            "text/plain": [
              "{'train': ['text', 'label']}"
            ]
          },
          "metadata": {},
          "execution_count": 4
        }
      ]
    },
    {
      "cell_type": "code",
      "source": [
        "# Access the training split\n",
        "dataset[\"train\"]"
      ],
      "metadata": {
        "colab": {
          "base_uri": "https://localhost:8080/"
        },
        "id": "2nqVtUeEOhgl",
        "outputId": "c1e1c409-b92f-4638-93fc-bb718c2e0337"
      },
      "execution_count": null,
      "outputs": [
        {
          "output_type": "execute_result",
          "data": {
            "text/plain": [
              "Dataset({\n",
              "    features: ['text', 'label'],\n",
              "    num_rows: 250\n",
              "})"
            ]
          },
          "metadata": {},
          "execution_count": 5
        }
      ]
    },
    {
      "cell_type": "code",
      "source": [
        "dataset[\"train\"][0]"
      ],
      "metadata": {
        "colab": {
          "base_uri": "https://localhost:8080/"
        },
        "id": "8kssEAItPByP",
        "outputId": "4234962b-e3df-4830-9896-f478c2175f09"
      },
      "execution_count": null,
      "outputs": [
        {
          "output_type": "execute_result",
          "data": {
            "text/plain": [
              "{'text': 'Creamy cauliflower curry with garlic naan, featuring tender cauliflower in a rich sauce with cream and spices, served with garlic naan bread.',\n",
              " 'label': 'food'}"
            ]
          },
          "metadata": {},
          "execution_count": 6
        }
      ]
    },
    {
      "cell_type": "markdown",
      "source": [
        "# Inspect random samples"
      ],
      "metadata": {
        "id": "yxM4SNcVPgrj"
      }
    },
    {
      "cell_type": "code",
      "source": [
        "random_indexs = random.sample(range(len(dataset[\"train\"])), 5)\n",
        "print(random_indexs)\n",
        "\n",
        "random_samples = dataset[\"train\"][random_indexs]\n",
        "# random_samples\n",
        "print(f'[INFO] Random samples from dataset:\\n')\n",
        "for text, label in zip(random_samples['text'], random_samples[\"label\"]):\n",
        "  print(f'Text: {text} | Label: {label}')\n"
      ],
      "metadata": {
        "colab": {
          "base_uri": "https://localhost:8080/"
        },
        "id": "97lBobx5Pl3o",
        "outputId": "4d266ee2-888d-4d1e-d1ab-16177480fb3f"
      },
      "execution_count": null,
      "outputs": [
        {
          "output_type": "stream",
          "name": "stdout",
          "text": [
            "[69, 186, 227, 189, 61]\n",
            "[INFO] Random samples from dataset:\n",
            "\n",
            "Text: A slice of veggie pizza loaded with colorful and nutritious vegetables | Label: food\n",
            "Text: Traditional Japanese flavored sushi roll with pickled plum or fermented soybeans. | Label: food\n",
            "Text: A plate of sliced pineapple with a side of whipped cream and a cherry on top | Label: food\n",
            "Text: Set of board games stacked on a shelf | Label: not_food\n",
            "Text: Basketball hoop set up in a driveway | Label: not_food\n"
          ]
        }
      ]
    },
    {
      "cell_type": "code",
      "source": [
        "# Get unique label values\n",
        "dataset['train'].unique('label')"
      ],
      "metadata": {
        "colab": {
          "base_uri": "https://localhost:8080/"
        },
        "id": "igbfIMwvUTtJ",
        "outputId": "2dac3eb4-250a-46fd-ebbb-c2c754271c71"
      },
      "execution_count": null,
      "outputs": [
        {
          "output_type": "execute_result",
          "data": {
            "text/plain": [
              "['food', 'not_food']"
            ]
          },
          "metadata": {},
          "execution_count": 8
        }
      ]
    },
    {
      "cell_type": "code",
      "source": [
        "# Check the count of each label\n",
        "from collections import Counter\n",
        "\n",
        "Counter(dataset['train']['label'])"
      ],
      "metadata": {
        "colab": {
          "base_uri": "https://localhost:8080/"
        },
        "id": "S3M2WdquVu7D",
        "outputId": "9d77b5c4-f6dc-4ebb-c125-66cc873219ca"
      },
      "execution_count": null,
      "outputs": [
        {
          "output_type": "execute_result",
          "data": {
            "text/plain": [
              "Counter({'food': 125, 'not_food': 125})"
            ]
          },
          "metadata": {},
          "execution_count": 9
        }
      ]
    },
    {
      "cell_type": "code",
      "source": [
        "# Turn our dataset into a DataFrame and get a random sample\n",
        "food_not_food_df = pd.DataFrame(dataset['train'])\n",
        "food_not_food_df.sample(7)"
      ],
      "metadata": {
        "colab": {
          "base_uri": "https://localhost:8080/",
          "height": 266
        },
        "id": "tan4Gv5gWQyY",
        "outputId": "3a76e9f5-55ed-4cde-81d7-1f0d16cf8407"
      },
      "execution_count": null,
      "outputs": [
        {
          "output_type": "execute_result",
          "data": {
            "text/plain": [
              "                                                  text     label\n",
              "210  A bowl of mixed berries, including blueberries...      food\n",
              "50   Red brick fireplace with a mantel serving as a...  not_food\n",
              "66   Cuddling with a cat on her lap, a woman enjoys...  not_food\n",
              "64   Yellow squash in a bowl, sprinkled with oregan...      food\n",
              "86   A fruit kabob with a variety of fruits, such a...      food\n",
              "145  Fragrant Thai green curry, featuring vegetable...      food\n",
              "235  Pizza with a unique topping combination of pin...      food"
            ],
            "text/html": [
              "\n",
              "  <div id=\"df-f8b814a2-0c3b-4db2-a023-c5d91996d229\" class=\"colab-df-container\">\n",
              "    <div>\n",
              "<style scoped>\n",
              "    .dataframe tbody tr th:only-of-type {\n",
              "        vertical-align: middle;\n",
              "    }\n",
              "\n",
              "    .dataframe tbody tr th {\n",
              "        vertical-align: top;\n",
              "    }\n",
              "\n",
              "    .dataframe thead th {\n",
              "        text-align: right;\n",
              "    }\n",
              "</style>\n",
              "<table border=\"1\" class=\"dataframe\">\n",
              "  <thead>\n",
              "    <tr style=\"text-align: right;\">\n",
              "      <th></th>\n",
              "      <th>text</th>\n",
              "      <th>label</th>\n",
              "    </tr>\n",
              "  </thead>\n",
              "  <tbody>\n",
              "    <tr>\n",
              "      <th>210</th>\n",
              "      <td>A bowl of mixed berries, including blueberries...</td>\n",
              "      <td>food</td>\n",
              "    </tr>\n",
              "    <tr>\n",
              "      <th>50</th>\n",
              "      <td>Red brick fireplace with a mantel serving as a...</td>\n",
              "      <td>not_food</td>\n",
              "    </tr>\n",
              "    <tr>\n",
              "      <th>66</th>\n",
              "      <td>Cuddling with a cat on her lap, a woman enjoys...</td>\n",
              "      <td>not_food</td>\n",
              "    </tr>\n",
              "    <tr>\n",
              "      <th>64</th>\n",
              "      <td>Yellow squash in a bowl, sprinkled with oregan...</td>\n",
              "      <td>food</td>\n",
              "    </tr>\n",
              "    <tr>\n",
              "      <th>86</th>\n",
              "      <td>A fruit kabob with a variety of fruits, such a...</td>\n",
              "      <td>food</td>\n",
              "    </tr>\n",
              "    <tr>\n",
              "      <th>145</th>\n",
              "      <td>Fragrant Thai green curry, featuring vegetable...</td>\n",
              "      <td>food</td>\n",
              "    </tr>\n",
              "    <tr>\n",
              "      <th>235</th>\n",
              "      <td>Pizza with a unique topping combination of pin...</td>\n",
              "      <td>food</td>\n",
              "    </tr>\n",
              "  </tbody>\n",
              "</table>\n",
              "</div>\n",
              "    <div class=\"colab-df-buttons\">\n",
              "\n",
              "  <div class=\"colab-df-container\">\n",
              "    <button class=\"colab-df-convert\" onclick=\"convertToInteractive('df-f8b814a2-0c3b-4db2-a023-c5d91996d229')\"\n",
              "            title=\"Convert this dataframe to an interactive table.\"\n",
              "            style=\"display:none;\">\n",
              "\n",
              "  <svg xmlns=\"http://www.w3.org/2000/svg\" height=\"24px\" viewBox=\"0 -960 960 960\">\n",
              "    <path d=\"M120-120v-720h720v720H120Zm60-500h600v-160H180v160Zm220 220h160v-160H400v160Zm0 220h160v-160H400v160ZM180-400h160v-160H180v160Zm440 0h160v-160H620v160ZM180-180h160v-160H180v160Zm440 0h160v-160H620v160Z\"/>\n",
              "  </svg>\n",
              "    </button>\n",
              "\n",
              "  <style>\n",
              "    .colab-df-container {\n",
              "      display:flex;\n",
              "      gap: 12px;\n",
              "    }\n",
              "\n",
              "    .colab-df-convert {\n",
              "      background-color: #E8F0FE;\n",
              "      border: none;\n",
              "      border-radius: 50%;\n",
              "      cursor: pointer;\n",
              "      display: none;\n",
              "      fill: #1967D2;\n",
              "      height: 32px;\n",
              "      padding: 0 0 0 0;\n",
              "      width: 32px;\n",
              "    }\n",
              "\n",
              "    .colab-df-convert:hover {\n",
              "      background-color: #E2EBFA;\n",
              "      box-shadow: 0px 1px 2px rgba(60, 64, 67, 0.3), 0px 1px 3px 1px rgba(60, 64, 67, 0.15);\n",
              "      fill: #174EA6;\n",
              "    }\n",
              "\n",
              "    .colab-df-buttons div {\n",
              "      margin-bottom: 4px;\n",
              "    }\n",
              "\n",
              "    [theme=dark] .colab-df-convert {\n",
              "      background-color: #3B4455;\n",
              "      fill: #D2E3FC;\n",
              "    }\n",
              "\n",
              "    [theme=dark] .colab-df-convert:hover {\n",
              "      background-color: #434B5C;\n",
              "      box-shadow: 0px 1px 3px 1px rgba(0, 0, 0, 0.15);\n",
              "      filter: drop-shadow(0px 1px 2px rgba(0, 0, 0, 0.3));\n",
              "      fill: #FFFFFF;\n",
              "    }\n",
              "  </style>\n",
              "\n",
              "    <script>\n",
              "      const buttonEl =\n",
              "        document.querySelector('#df-f8b814a2-0c3b-4db2-a023-c5d91996d229 button.colab-df-convert');\n",
              "      buttonEl.style.display =\n",
              "        google.colab.kernel.accessAllowed ? 'block' : 'none';\n",
              "\n",
              "      async function convertToInteractive(key) {\n",
              "        const element = document.querySelector('#df-f8b814a2-0c3b-4db2-a023-c5d91996d229');\n",
              "        const dataTable =\n",
              "          await google.colab.kernel.invokeFunction('convertToInteractive',\n",
              "                                                    [key], {});\n",
              "        if (!dataTable) return;\n",
              "\n",
              "        const docLinkHtml = 'Like what you see? Visit the ' +\n",
              "          '<a target=\"_blank\" href=https://colab.research.google.com/notebooks/data_table.ipynb>data table notebook</a>'\n",
              "          + ' to learn more about interactive tables.';\n",
              "        element.innerHTML = '';\n",
              "        dataTable['output_type'] = 'display_data';\n",
              "        await google.colab.output.renderOutput(dataTable, element);\n",
              "        const docLink = document.createElement('div');\n",
              "        docLink.innerHTML = docLinkHtml;\n",
              "        element.appendChild(docLink);\n",
              "      }\n",
              "    </script>\n",
              "  </div>\n",
              "\n",
              "\n",
              "<div id=\"df-284748ee-c748-43f8-9b16-8f529985646e\">\n",
              "  <button class=\"colab-df-quickchart\" onclick=\"quickchart('df-284748ee-c748-43f8-9b16-8f529985646e')\"\n",
              "            title=\"Suggest charts\"\n",
              "            style=\"display:none;\">\n",
              "\n",
              "<svg xmlns=\"http://www.w3.org/2000/svg\" height=\"24px\"viewBox=\"0 0 24 24\"\n",
              "     width=\"24px\">\n",
              "    <g>\n",
              "        <path d=\"M19 3H5c-1.1 0-2 .9-2 2v14c0 1.1.9 2 2 2h14c1.1 0 2-.9 2-2V5c0-1.1-.9-2-2-2zM9 17H7v-7h2v7zm4 0h-2V7h2v10zm4 0h-2v-4h2v4z\"/>\n",
              "    </g>\n",
              "</svg>\n",
              "  </button>\n",
              "\n",
              "<style>\n",
              "  .colab-df-quickchart {\n",
              "      --bg-color: #E8F0FE;\n",
              "      --fill-color: #1967D2;\n",
              "      --hover-bg-color: #E2EBFA;\n",
              "      --hover-fill-color: #174EA6;\n",
              "      --disabled-fill-color: #AAA;\n",
              "      --disabled-bg-color: #DDD;\n",
              "  }\n",
              "\n",
              "  [theme=dark] .colab-df-quickchart {\n",
              "      --bg-color: #3B4455;\n",
              "      --fill-color: #D2E3FC;\n",
              "      --hover-bg-color: #434B5C;\n",
              "      --hover-fill-color: #FFFFFF;\n",
              "      --disabled-bg-color: #3B4455;\n",
              "      --disabled-fill-color: #666;\n",
              "  }\n",
              "\n",
              "  .colab-df-quickchart {\n",
              "    background-color: var(--bg-color);\n",
              "    border: none;\n",
              "    border-radius: 50%;\n",
              "    cursor: pointer;\n",
              "    display: none;\n",
              "    fill: var(--fill-color);\n",
              "    height: 32px;\n",
              "    padding: 0;\n",
              "    width: 32px;\n",
              "  }\n",
              "\n",
              "  .colab-df-quickchart:hover {\n",
              "    background-color: var(--hover-bg-color);\n",
              "    box-shadow: 0 1px 2px rgba(60, 64, 67, 0.3), 0 1px 3px 1px rgba(60, 64, 67, 0.15);\n",
              "    fill: var(--button-hover-fill-color);\n",
              "  }\n",
              "\n",
              "  .colab-df-quickchart-complete:disabled,\n",
              "  .colab-df-quickchart-complete:disabled:hover {\n",
              "    background-color: var(--disabled-bg-color);\n",
              "    fill: var(--disabled-fill-color);\n",
              "    box-shadow: none;\n",
              "  }\n",
              "\n",
              "  .colab-df-spinner {\n",
              "    border: 2px solid var(--fill-color);\n",
              "    border-color: transparent;\n",
              "    border-bottom-color: var(--fill-color);\n",
              "    animation:\n",
              "      spin 1s steps(1) infinite;\n",
              "  }\n",
              "\n",
              "  @keyframes spin {\n",
              "    0% {\n",
              "      border-color: transparent;\n",
              "      border-bottom-color: var(--fill-color);\n",
              "      border-left-color: var(--fill-color);\n",
              "    }\n",
              "    20% {\n",
              "      border-color: transparent;\n",
              "      border-left-color: var(--fill-color);\n",
              "      border-top-color: var(--fill-color);\n",
              "    }\n",
              "    30% {\n",
              "      border-color: transparent;\n",
              "      border-left-color: var(--fill-color);\n",
              "      border-top-color: var(--fill-color);\n",
              "      border-right-color: var(--fill-color);\n",
              "    }\n",
              "    40% {\n",
              "      border-color: transparent;\n",
              "      border-right-color: var(--fill-color);\n",
              "      border-top-color: var(--fill-color);\n",
              "    }\n",
              "    60% {\n",
              "      border-color: transparent;\n",
              "      border-right-color: var(--fill-color);\n",
              "    }\n",
              "    80% {\n",
              "      border-color: transparent;\n",
              "      border-right-color: var(--fill-color);\n",
              "      border-bottom-color: var(--fill-color);\n",
              "    }\n",
              "    90% {\n",
              "      border-color: transparent;\n",
              "      border-bottom-color: var(--fill-color);\n",
              "    }\n",
              "  }\n",
              "</style>\n",
              "\n",
              "  <script>\n",
              "    async function quickchart(key) {\n",
              "      const quickchartButtonEl =\n",
              "        document.querySelector('#' + key + ' button');\n",
              "      quickchartButtonEl.disabled = true;  // To prevent multiple clicks.\n",
              "      quickchartButtonEl.classList.add('colab-df-spinner');\n",
              "      try {\n",
              "        const charts = await google.colab.kernel.invokeFunction(\n",
              "            'suggestCharts', [key], {});\n",
              "      } catch (error) {\n",
              "        console.error('Error during call to suggestCharts:', error);\n",
              "      }\n",
              "      quickchartButtonEl.classList.remove('colab-df-spinner');\n",
              "      quickchartButtonEl.classList.add('colab-df-quickchart-complete');\n",
              "    }\n",
              "    (() => {\n",
              "      let quickchartButtonEl =\n",
              "        document.querySelector('#df-284748ee-c748-43f8-9b16-8f529985646e button');\n",
              "      quickchartButtonEl.style.display =\n",
              "        google.colab.kernel.accessAllowed ? 'block' : 'none';\n",
              "    })();\n",
              "  </script>\n",
              "</div>\n",
              "\n",
              "    </div>\n",
              "  </div>\n"
            ],
            "application/vnd.google.colaboratory.intrinsic+json": {
              "type": "dataframe",
              "summary": "{\n  \"name\": \"food_not_food_df\",\n  \"rows\": 7,\n  \"fields\": [\n    {\n      \"column\": \"text\",\n      \"properties\": {\n        \"dtype\": \"string\",\n        \"num_unique_values\": 7,\n        \"samples\": [\n          \"A bowl of mixed berries, including blueberries, raspberries, and blackberries\",\n          \"Red brick fireplace with a mantel serving as a centerpiece\",\n          \"Fragrant Thai green curry, featuring vegetables and chicken or tofu in a rich coconut milk sauce with lemongrass, served with jasmine rice.\"\n        ],\n        \"semantic_type\": \"\",\n        \"description\": \"\"\n      }\n    },\n    {\n      \"column\": \"label\",\n      \"properties\": {\n        \"dtype\": \"category\",\n        \"num_unique_values\": 2,\n        \"samples\": [\n          \"not_food\",\n          \"food\"\n        ],\n        \"semantic_type\": \"\",\n        \"description\": \"\"\n      }\n    }\n  ]\n}"
            }
          },
          "metadata": {},
          "execution_count": 10
        }
      ]
    },
    {
      "cell_type": "code",
      "source": [
        "# Getting value counts of labels via DataFrame\n",
        "food_not_food_df['label'].value_counts()"
      ],
      "metadata": {
        "colab": {
          "base_uri": "https://localhost:8080/",
          "height": 176
        },
        "id": "npZkJmN0W-6E",
        "outputId": "c3473604-63c5-4811-b823-e08dc7716d07"
      },
      "execution_count": null,
      "outputs": [
        {
          "output_type": "execute_result",
          "data": {
            "text/plain": [
              "label\n",
              "food        125\n",
              "not_food    125\n",
              "Name: count, dtype: int64"
            ],
            "text/html": [
              "<div>\n",
              "<style scoped>\n",
              "    .dataframe tbody tr th:only-of-type {\n",
              "        vertical-align: middle;\n",
              "    }\n",
              "\n",
              "    .dataframe tbody tr th {\n",
              "        vertical-align: top;\n",
              "    }\n",
              "\n",
              "    .dataframe thead th {\n",
              "        text-align: right;\n",
              "    }\n",
              "</style>\n",
              "<table border=\"1\" class=\"dataframe\">\n",
              "  <thead>\n",
              "    <tr style=\"text-align: right;\">\n",
              "      <th></th>\n",
              "      <th>count</th>\n",
              "    </tr>\n",
              "    <tr>\n",
              "      <th>label</th>\n",
              "      <th></th>\n",
              "    </tr>\n",
              "  </thead>\n",
              "  <tbody>\n",
              "    <tr>\n",
              "      <th>food</th>\n",
              "      <td>125</td>\n",
              "    </tr>\n",
              "    <tr>\n",
              "      <th>not_food</th>\n",
              "      <td>125</td>\n",
              "    </tr>\n",
              "  </tbody>\n",
              "</table>\n",
              "</div><br><label><b>dtype:</b> int64</label>"
            ]
          },
          "metadata": {},
          "execution_count": 11
        }
      ]
    },
    {
      "cell_type": "markdown",
      "source": [
        "# 4. Preparing data for text classification\n",
        "\n",
        "We want to:\n",
        "\n",
        "1. Tokenize out text - turn our text into numbers (this goes for labels as well).\n",
        "\n",
        "2. Create a train/text split - want to train our model on the training split and evaluate our model on the test split."
      ],
      "metadata": {
        "id": "-fgSn2e_bpPC"
      }
    },
    {
      "cell_type": "code",
      "source": [
        "# Create a mapping for labels to numeric value\n",
        "id2label = {0: \"not_food\", 1: \"food\"}\n",
        "label2id = {\"not_food\": 0, \"food\": 1}\n",
        "\n",
        "print(id2label)\n",
        "print(label2id)"
      ],
      "metadata": {
        "colab": {
          "base_uri": "https://localhost:8080/"
        },
        "id": "N9hyeYYobrGN",
        "outputId": "d8014d00-f1ea-49e3-c62e-8e63af5b544e"
      },
      "execution_count": null,
      "outputs": [
        {
          "output_type": "stream",
          "name": "stdout",
          "text": [
            "{0: 'not_food', 1: 'food'}\n",
            "{'not_food': 0, 'food': 1}\n"
          ]
        }
      ]
    },
    {
      "cell_type": "code",
      "source": [
        "# Create mappings programmatically from dataset\n",
        "id2label = {idx: label for idx, label in enumerate(dataset['train'].unique(\"label\")[::-1])}\n",
        "# To programmatically generate the inverse:\n",
        "label2id = {label: idx for idx, label in id2label.items()}\n",
        "print(id2label)\n",
        "print(label2id)"
      ],
      "metadata": {
        "colab": {
          "base_uri": "https://localhost:8080/"
        },
        "id": "qc_gFwPReBfK",
        "outputId": "e92fee1d-f9f4-425a-df93-419b9ba07d2b"
      },
      "execution_count": null,
      "outputs": [
        {
          "output_type": "stream",
          "name": "stdout",
          "text": [
            "{0: 'not_food', 1: 'food'}\n",
            "{'not_food': 0, 'food': 1}\n"
          ]
        }
      ]
    },
    {
      "cell_type": "code",
      "source": [
        "# This is how the previous comprehensions work under the hood:\n",
        "id2label = {}\n",
        "for idx, label in enumerate(dataset[\"train\"].unique('label')[::-1]):\n",
        "  print(idx, label)\n",
        "  id2label[idx] = label\n"
      ],
      "metadata": {
        "colab": {
          "base_uri": "https://localhost:8080/"
        },
        "id": "hFQ1Nh34fd7H",
        "outputId": "df9a7a86-80de-449d-8137-94f164be7470"
      },
      "execution_count": null,
      "outputs": [
        {
          "output_type": "stream",
          "name": "stdout",
          "text": [
            "0 not_food\n",
            "1 food\n"
          ]
        }
      ]
    },
    {
      "cell_type": "code",
      "source": [
        "# Turn labels into 0 or 1\n",
        "def map_labels_to_numbers(example):\n",
        "  example['label'] = label2id[example['label']]\n",
        "  return example\n",
        "\n",
        "example_sample = {\"text\": \"This is a sentence about my favourite food: honey\", \"label\": \"food\"}\n",
        "\n",
        "# Test our function\n",
        "map_labels_to_numbers(example_sample)\n"
      ],
      "metadata": {
        "colab": {
          "base_uri": "https://localhost:8080/"
        },
        "id": "kC2A6giM4Zrg",
        "outputId": "5354c317-da6d-42f2-f91e-a031866b342b"
      },
      "execution_count": null,
      "outputs": [
        {
          "output_type": "execute_result",
          "data": {
            "text/plain": [
              "{'text': 'This is a sentence about my favourite food: honey', 'label': 1}"
            ]
          },
          "metadata": {},
          "execution_count": 15
        }
      ]
    },
    {
      "cell_type": "code",
      "source": [
        "# Map our dataset labels to numbers (the whole thing)\n",
        "# We do this with dataset.map() - https://huggingface.co/docs/datasets/en/process#map\n",
        "dataset = dataset['train'].map(map_labels_to_numbers)\n",
        "dataset[:5]"
      ],
      "metadata": {
        "colab": {
          "base_uri": "https://localhost:8080/",
          "height": 151,
          "referenced_widgets": [
            "a9504f88355b4f138ffdb5bc92adc373",
            "6302e627c31d4bf09a63a83446127ef5",
            "d2da6608fbe544cf910cff7380c321b1",
            "0000340feb2e4b44ab4ccac0f4ec0902",
            "4d2a2c96b94143dfa95ae600c45f1483",
            "22c76e24afa84c1d9908d40d293da136",
            "bcc6ff4f5d5f428bb839f16a1da7e3ba",
            "01356913d5cb43d09962d5071e64a09d",
            "88579ebb58c14559b8d3e34a336fbec8",
            "244d0718fb444021954100c50339e718",
            "ca941abc3eb143e7a20174e50b5c3c5d"
          ]
        },
        "id": "xYhnpEYZBodG",
        "outputId": "17586885-9341-4eec-8095-b89e0b75ee56"
      },
      "execution_count": null,
      "outputs": [
        {
          "output_type": "display_data",
          "data": {
            "text/plain": [
              "Map:   0%|          | 0/250 [00:00<?, ? examples/s]"
            ],
            "application/vnd.jupyter.widget-view+json": {
              "version_major": 2,
              "version_minor": 0,
              "model_id": "a9504f88355b4f138ffdb5bc92adc373"
            }
          },
          "metadata": {}
        },
        {
          "output_type": "execute_result",
          "data": {
            "text/plain": [
              "{'text': ['Creamy cauliflower curry with garlic naan, featuring tender cauliflower in a rich sauce with cream and spices, served with garlic naan bread.',\n",
              "  'Set of books stacked on a desk',\n",
              "  'Watching TV together, a family has their dog stretched out on the floor',\n",
              "  'Wooden dresser with a mirror reflecting the room',\n",
              "  'Lawn mower stored in a shed'],\n",
              " 'label': [1, 0, 0, 0, 0]}"
            ]
          },
          "metadata": {},
          "execution_count": 16
        }
      ]
    },
    {
      "cell_type": "code",
      "source": [
        "# Shuffle data and look at 5 more random samples\n",
        "dataset.shuffle()[:5]"
      ],
      "metadata": {
        "colab": {
          "base_uri": "https://localhost:8080/"
        },
        "id": "xLAgKM9NG1cK",
        "outputId": "8e40127f-21c4-4993-a712-c9db1caaa2b5"
      },
      "execution_count": null,
      "outputs": [
        {
          "output_type": "execute_result",
          "data": {
            "text/plain": [
              "{'text': ['Washing machine and dryer side by side in a laundry room',\n",
              "  'Assorted sushi rolls on a plate, featuring California rolls and spicy tuna rolls.',\n",
              "  'Vibrant red curry with tofu and bell peppers, featuring tofu and sweet bell peppers in a rich coconut milk sauce.',\n",
              "  'Spicy vindaloo curry with tender pork pieces, featuring a fiery sauce made with vinegar and chili peppers, perfect for bold flavor lovers.',\n",
              "  \"Pizza with a meat lover's theme, including sausage, bacon, and pepperoni\"],\n",
              " 'label': [0, 1, 1, 1, 1]}"
            ]
          },
          "metadata": {},
          "execution_count": 17
        }
      ]
    },
    {
      "cell_type": "markdown",
      "source": [
        "### Split the dataset into training and test sets\n",
        "* Train set = model will learn patterns on this dataset\n",
        "* Validation set (optional) = we can tune our model's hyper-parameters on this set\n",
        "* Test set = model will evaluate patterns on this dataset\n",
        "\n",
        "We can split our dataset using 'datasets.Dataset.train_test_split'. https://huggingface.co/docs/datasets/v3.3.0/process#split\n"
      ],
      "metadata": {
        "id": "6po3VYwSTaaw"
      }
    },
    {
      "cell_type": "code",
      "source": [
        "# Split our dataset into train/test splits\n",
        "dataset = dataset.train_test_split(test_size=0.2, seed=42)\n",
        "dataset"
      ],
      "metadata": {
        "colab": {
          "base_uri": "https://localhost:8080/"
        },
        "id": "j3ChTHCTT1cM",
        "outputId": "a31f145b-83cf-4129-9fa4-90340ba1ed3d"
      },
      "execution_count": null,
      "outputs": [
        {
          "output_type": "execute_result",
          "data": {
            "text/plain": [
              "DatasetDict({\n",
              "    train: Dataset({\n",
              "        features: ['text', 'label'],\n",
              "        num_rows: 200\n",
              "    })\n",
              "    test: Dataset({\n",
              "        features: ['text', 'label'],\n",
              "        num_rows: 50\n",
              "    })\n",
              "})"
            ]
          },
          "metadata": {},
          "execution_count": 18
        }
      ]
    },
    {
      "cell_type": "code",
      "source": [
        "random_idx_train = random.randint(0, len(dataset[\"train\"]))\n",
        "random_sample_train = dataset['train'][random_idx_train]\n",
        "random_sample_train"
      ],
      "metadata": {
        "colab": {
          "base_uri": "https://localhost:8080/"
        },
        "id": "ibopDlvBZmr_",
        "outputId": "bf70fa16-b3da-4ea0-fa3f-b3e7da44d3d6"
      },
      "execution_count": null,
      "outputs": [
        {
          "output_type": "execute_result",
          "data": {
            "text/plain": [
              "{'text': 'A white car parked in a driveway with a wooden fence behind it',\n",
              " 'label': 0}"
            ]
          },
          "metadata": {},
          "execution_count": 19
        }
      ]
    },
    {
      "cell_type": "code",
      "source": [
        "random_idx_test = random.randint(0, len(dataset['test']))\n",
        "random_sample_test = dataset['test'][random_idx_test]\n",
        "random_sample_test"
      ],
      "metadata": {
        "colab": {
          "base_uri": "https://localhost:8080/"
        },
        "id": "_pZvEJAKaalM",
        "outputId": "5fa2dbfe-53ce-4cee-f559-886fb7ef9693"
      },
      "execution_count": null,
      "outputs": [
        {
          "output_type": "execute_result",
          "data": {
            "text/plain": [
              "{'text': 'Wooden dresser with a mirror reflecting the room', 'label': 0}"
            ]
          },
          "metadata": {},
          "execution_count": 20
        }
      ]
    },
    {
      "cell_type": "markdown",
      "source": [
        "### Tokenizing our text data (turning text into numbers)\n",
        "\n",
        "The premise of tokenization is to turn words into numbers.\n",
        "\n",
        "E.g. \"I love pizza!\" -> [30, 145, 678, 999]\n",
        "\n",
        "-\n",
        "\n",
        "The 🤗 transformers library has built-in support for 🤗 tokenizers.\n",
        "\n",
        "And the class transformers.AutoTokenizer helps pair a model to a tokenizer.\n",
        "\n",
        "--\n",
        "\n",
        "* To find all models: https://huggingface.co/models\n",
        "* Model/tokenizer we're going to use: https://huggingface.co/distilbert/distilbert-base-uncased\n",
        "* Models are often paired with tokenizers\n",
        "* Tokenizer = turn text into numbers\n",
        "* Model = finds patterns in those numbers"
      ],
      "metadata": {
        "id": "nyfUEJLVdJmR"
      }
    },
    {
      "cell_type": "code",
      "source": [
        "from transformers import AutoTokenizer\n",
        "\n",
        "tokenizer = AutoTokenizer.from_pretrained(pretrained_model_name_or_path=\"distilbert/distilbert-base-uncased\", use_fast=True) # use fast implementation (on by default, note: this requires RUST installed)\n",
        "tokenizer"
      ],
      "metadata": {
        "colab": {
          "base_uri": "https://localhost:8080/",
          "height": 315,
          "referenced_widgets": [
            "6b47343202eb497ab3e2b34888574ed0",
            "b8b4a8f5d4a945fb876b3c93bd340e6f",
            "6ecf8330e9c441ab9fdcf96bce0d1ec2",
            "170d6a66a0bb492aba3aa6b608d7627b",
            "41db468e33ab488687257e031db8dd89",
            "c68634b3b0e8422f87214c5bde579639",
            "007aa24220894c1d9445349e48a3d875",
            "296d3ce5926c4eecb28cf9b45d29185b",
            "272a889f852248f1ac33079024cb2b5e",
            "ad5ba0bf9f45486cb1dd3fedddf60629",
            "ca384d4c255146b7ab3858e0c5024306",
            "6a8ff34f759d4f95a678b709e659deb7",
            "49db893734bc4f80992c917204e10973",
            "62cf5af6832242b88d68c77a2441be9e",
            "328c2483fb344eaf815c1a3b8673e1f0",
            "0c430a163af04b7b8a0854f4c6f7dde4",
            "efd5d1014ce14b9e8d6f738b964cffd5",
            "5c452d3401d2423bb7644d87f082f82a",
            "c207ff4629ab4d2fb3e7229addf059fd",
            "0000c5159fd54e2388274a6cd5977363",
            "4cc6cdba0952427ba9d22824e91ad22d",
            "27688347734d4096b412ae76c8ee79ca",
            "bdacfaf5ca1e4dc2bb2b10b4438166ae",
            "ebf6cdb6852d4931b22d15a98ee2363e",
            "459ab5a1a75a44049f9ab402b6788eff",
            "77817bc5fa6747268ee32a59019113f9",
            "21590c501b1b40c2abdc3a85bcb49543",
            "30c8233ac95a49dda1a00e97845e0155",
            "7bda7e9614914d8eade3236d8ac6beb1",
            "829fe478ffce4450abb4d30855b6288c",
            "22a7fd20997c45e9a20c043e85248721",
            "90b578a8626c457a8ad2afab2e67c447",
            "20a3e3e5dac0471a93817082fc1e6c68",
            "c9f7fceaf76c46858b35a59693b91d4a",
            "e107545db6644eb2a81c3f593aafa18a",
            "9f0ed49ac6f74fa19107459ebc3c33fa",
            "39179b28824b43d28ef071b49cef8c0d",
            "879a6e8fb5e049d1b635be284b554302",
            "f4373c66472f4e669344b821ce7ead0e",
            "261c7ddd70074b3fa24f9dbeb7631a63",
            "4171a6ee475142b8970e01cf70b5ff43",
            "375b507ecac34a199196f45c320c041e",
            "b66d564b1f8d4c0c9a5bc2d2e87a1a6f",
            "ddd24ca5e77f476fa2b48e89128f2c07"
          ]
        },
        "id": "g7JF8RkndTtL",
        "outputId": "7bdade47-d2c2-48c0-b04c-a4b1458f0523"
      },
      "execution_count": null,
      "outputs": [
        {
          "output_type": "display_data",
          "data": {
            "text/plain": [
              "tokenizer_config.json:   0%|          | 0.00/48.0 [00:00<?, ?B/s]"
            ],
            "application/vnd.jupyter.widget-view+json": {
              "version_major": 2,
              "version_minor": 0,
              "model_id": "6b47343202eb497ab3e2b34888574ed0"
            }
          },
          "metadata": {}
        },
        {
          "output_type": "display_data",
          "data": {
            "text/plain": [
              "config.json:   0%|          | 0.00/483 [00:00<?, ?B/s]"
            ],
            "application/vnd.jupyter.widget-view+json": {
              "version_major": 2,
              "version_minor": 0,
              "model_id": "6a8ff34f759d4f95a678b709e659deb7"
            }
          },
          "metadata": {}
        },
        {
          "output_type": "display_data",
          "data": {
            "text/plain": [
              "vocab.txt:   0%|          | 0.00/232k [00:00<?, ?B/s]"
            ],
            "application/vnd.jupyter.widget-view+json": {
              "version_major": 2,
              "version_minor": 0,
              "model_id": "bdacfaf5ca1e4dc2bb2b10b4438166ae"
            }
          },
          "metadata": {}
        },
        {
          "output_type": "display_data",
          "data": {
            "text/plain": [
              "tokenizer.json:   0%|          | 0.00/466k [00:00<?, ?B/s]"
            ],
            "application/vnd.jupyter.widget-view+json": {
              "version_major": 2,
              "version_minor": 0,
              "model_id": "c9f7fceaf76c46858b35a59693b91d4a"
            }
          },
          "metadata": {}
        },
        {
          "output_type": "execute_result",
          "data": {
            "text/plain": [
              "DistilBertTokenizerFast(name_or_path='distilbert/distilbert-base-uncased', vocab_size=30522, model_max_length=512, is_fast=True, padding_side='right', truncation_side='right', special_tokens={'unk_token': '[UNK]', 'sep_token': '[SEP]', 'pad_token': '[PAD]', 'cls_token': '[CLS]', 'mask_token': '[MASK]'}, clean_up_tokenization_spaces=False, added_tokens_decoder={\n",
              "\t0: AddedToken(\"[PAD]\", rstrip=False, lstrip=False, single_word=False, normalized=False, special=True),\n",
              "\t100: AddedToken(\"[UNK]\", rstrip=False, lstrip=False, single_word=False, normalized=False, special=True),\n",
              "\t101: AddedToken(\"[CLS]\", rstrip=False, lstrip=False, single_word=False, normalized=False, special=True),\n",
              "\t102: AddedToken(\"[SEP]\", rstrip=False, lstrip=False, single_word=False, normalized=False, special=True),\n",
              "\t103: AddedToken(\"[MASK]\", rstrip=False, lstrip=False, single_word=False, normalized=False, special=True),\n",
              "}\n",
              ")"
            ]
          },
          "metadata": {},
          "execution_count": 21
        }
      ]
    },
    {
      "cell_type": "code",
      "source": [
        "# Test out tokenizer\n",
        "# Open AI = [40, 3021, 23317, 0]\n",
        "tokenizer('I love pizza!')"
      ],
      "metadata": {
        "colab": {
          "base_uri": "https://localhost:8080/"
        },
        "id": "uDo-67ur7eIt",
        "outputId": "73bd71b5-4fd3-4adb-aa96-00a5241b5509"
      },
      "execution_count": null,
      "outputs": [
        {
          "output_type": "execute_result",
          "data": {
            "text/plain": [
              "{'input_ids': [101, 1045, 2293, 10733, 999, 102], 'attention_mask': [1, 1, 1, 1, 1, 1]}"
            ]
          },
          "metadata": {},
          "execution_count": 22
        }
      ]
    },
    {
      "cell_type": "markdown",
      "source": [
        "* 'input_ids' = our text turned into numbers\n",
        "* 'attention_mask' = whether or not to pay attention to certain tokens (1 = yes pay attention, 0 = no don't pay attention)"
      ],
      "metadata": {
        "id": "aA9pPek28FNU"
      }
    },
    {
      "cell_type": "code",
      "source": [
        "# Get the length of our tokenizer vocab\n",
        "length_of_tokenizer_vocab = len(tokenizer.vocab)\n",
        "print(f'[INFO] Number of items in our tokenizer vocab: {length_of_tokenizer_vocab}')\n",
        "\n",
        "# Get the maximum sequence length the tokenizer can handle\n",
        "max_tokenizer_input_sequence_length = tokenizer.model_max_length\n",
        "print(f'[INFO] Max tokenizer input sequence length: {max_tokenizer_input_sequence_length}')"
      ],
      "metadata": {
        "colab": {
          "base_uri": "https://localhost:8080/"
        },
        "id": "iPuUjygZ8oB_",
        "outputId": "65b2a8e2-0045-43ab-df8e-1481e7622d29"
      },
      "execution_count": null,
      "outputs": [
        {
          "output_type": "stream",
          "name": "stdout",
          "text": [
            "[INFO] Number of items in our tokenizer vocab: 30522\n",
            "[INFO] Max tokenizer input sequence length: 512\n"
          ]
        }
      ]
    },
    {
      "cell_type": "code",
      "source": [
        "# Does 'Martin' occur in the vocab?\n",
        "tokenizer.vocab['martin']"
      ],
      "metadata": {
        "colab": {
          "base_uri": "https://localhost:8080/"
        },
        "id": "qwKu6vNsYlex",
        "outputId": "cc87bda0-32c1-4a50-a719-d6cbe13383cd"
      },
      "execution_count": null,
      "outputs": [
        {
          "output_type": "execute_result",
          "data": {
            "text/plain": [
              "3235"
            ]
          },
          "metadata": {},
          "execution_count": 24
        }
      ]
    },
    {
      "cell_type": "code",
      "source": [
        "tokenizer('akash')"
      ],
      "metadata": {
        "colab": {
          "base_uri": "https://localhost:8080/"
        },
        "id": "1tgHy2YJZSAJ",
        "outputId": "42ac63a9-02e5-4475-f437-f01559eb501d"
      },
      "execution_count": null,
      "outputs": [
        {
          "output_type": "execute_result",
          "data": {
            "text/plain": [
              "{'input_ids': [101, 9875, 4095, 102], 'attention_mask': [1, 1, 1, 1]}"
            ]
          },
          "metadata": {},
          "execution_count": 25
        }
      ]
    },
    {
      "cell_type": "code",
      "source": [
        "tokenizer.convert_ids_to_tokens(tokenizer('akash').input_ids)"
      ],
      "metadata": {
        "colab": {
          "base_uri": "https://localhost:8080/"
        },
        "id": "pLcU4F7dakGE",
        "outputId": "d93f2dfb-6442-4e71-eb5d-35c2366b17b1"
      },
      "execution_count": null,
      "outputs": [
        {
          "output_type": "execute_result",
          "data": {
            "text/plain": [
              "['[CLS]', 'aka', '##sh', '[SEP]']"
            ]
          },
          "metadata": {},
          "execution_count": 26
        }
      ]
    },
    {
      "cell_type": "code",
      "source": [
        "# Try to tokenize an emoji\n",
        "tokenizer.convert_ids_to_tokens(tokenizer('🤗').input_ids)"
      ],
      "metadata": {
        "colab": {
          "base_uri": "https://localhost:8080/"
        },
        "id": "Kw3wAQIfa0ML",
        "outputId": "7a15cf1d-47ac-41ed-e4d2-7e8f512b6eae"
      },
      "execution_count": null,
      "outputs": [
        {
          "output_type": "execute_result",
          "data": {
            "text/plain": [
              "['[CLS]', '[UNK]', '[SEP]']"
            ]
          },
          "metadata": {},
          "execution_count": 27
        }
      ]
    },
    {
      "cell_type": "code",
      "source": [
        "# Get the first 5 items in the tokenizer vocab\n",
        "sorted(tokenizer.vocab.items())[:5]"
      ],
      "metadata": {
        "colab": {
          "base_uri": "https://localhost:8080/"
        },
        "id": "e-KwVd-8c4kw",
        "outputId": "1b2e52f6-4715-43c2-fe30-48adb3964f0b"
      },
      "execution_count": null,
      "outputs": [
        {
          "output_type": "execute_result",
          "data": {
            "text/plain": [
              "[('!', 999), ('\"', 1000), ('#', 1001), ('##!', 29612), ('##\"', 29613)]"
            ]
          },
          "metadata": {},
          "execution_count": 28
        }
      ]
    },
    {
      "cell_type": "code",
      "source": [
        "import random\n",
        "random.sample(sorted(tokenizer.vocab.items()), k=5)"
      ],
      "metadata": {
        "colab": {
          "base_uri": "https://localhost:8080/"
        },
        "id": "n07uqOycdhGX",
        "outputId": "52d26b4b-8527-49b7-9a91-a505527ff07d"
      },
      "execution_count": null,
      "outputs": [
        {
          "output_type": "execute_result",
          "data": {
            "text/plain": [
              "[('keep', 2562),\n",
              " ('271', 25103),\n",
              " ('##ovich', 12303),\n",
              " ('sava', 28350),\n",
              " ('parchment', 22433)]"
            ]
          },
          "metadata": {},
          "execution_count": 29
        }
      ]
    },
    {
      "cell_type": "markdown",
      "source": [
        "### Making a preprocessing function to tokenize text\n",
        "\n",
        "Want to make it easy to go from sample -> tokenized_sample."
      ],
      "metadata": {
        "id": "N5mN54LiYjzP"
      }
    },
    {
      "cell_type": "code",
      "source": [
        "def tokenize_text(examples):\n",
        "  \"\"\"\n",
        "  Tokenize given example text and return the tokenized text.\n",
        "  \"\"\"\n",
        "  return tokenizer(examples['text'],\n",
        "                   padding=True, # pad short sequences to the longest sequence length in batch (e.g. if sample length = 100, sample will be padded to 512 or the longest sample in batch)\n",
        "                   truncation=True) # truncate long sequences to max length model can handle (e.g. if sample length = 1000, ,model length = 512, sample will be shortened to 512)"
      ],
      "metadata": {
        "id": "qkVX_RDdZ811"
      },
      "execution_count": null,
      "outputs": []
    },
    {
      "cell_type": "markdown",
      "source": [
        "* Extra resource: padding and truncation in the docs: https://huggingface.co/docs/transformers/en/pad_truncation"
      ],
      "metadata": {
        "id": "IKWwhJx6cJk4"
      }
    },
    {
      "cell_type": "code",
      "source": [
        "example_sample_2 = {'text': 'I love pizza!', 'label': 1}\n",
        "\n",
        "# Test the function\n",
        "tokenize_text(example_sample_2)"
      ],
      "metadata": {
        "colab": {
          "base_uri": "https://localhost:8080/"
        },
        "id": "4SOiicU_dIap",
        "outputId": "7c0e9165-a604-4de7-e79d-a3b352e3f421"
      },
      "execution_count": null,
      "outputs": [
        {
          "output_type": "execute_result",
          "data": {
            "text/plain": [
              "{'input_ids': [101, 1045, 2293, 10733, 999, 102], 'attention_mask': [1, 1, 1, 1, 1, 1]}"
            ]
          },
          "metadata": {},
          "execution_count": 31
        }
      ]
    },
    {
      "cell_type": "code",
      "source": [
        "long_text = 'I love pizza ' * 1000\n",
        "len(long_text)"
      ],
      "metadata": {
        "colab": {
          "base_uri": "https://localhost:8080/"
        },
        "id": "lYAxhrSKsgmP",
        "outputId": "9ef156ad-5ee6-48f1-e296-e15b884bfbc4"
      },
      "execution_count": null,
      "outputs": [
        {
          "output_type": "execute_result",
          "data": {
            "text/plain": [
              "13000"
            ]
          },
          "metadata": {},
          "execution_count": 32
        }
      ]
    },
    {
      "cell_type": "code",
      "source": [
        "tokenized_long_text = tokenize_text({'text': long_text, 'label': 1})\n",
        "len(tokenized_long_text['input_ids'])"
      ],
      "metadata": {
        "colab": {
          "base_uri": "https://localhost:8080/"
        },
        "id": "8bDUQUF8svyF",
        "outputId": "7306b6d9-0461-41f4-fc87-99b23ba0bc18"
      },
      "execution_count": null,
      "outputs": [
        {
          "output_type": "execute_result",
          "data": {
            "text/plain": [
              "512"
            ]
          },
          "metadata": {},
          "execution_count": 33
        }
      ]
    },
    {
      "cell_type": "code",
      "source": [
        "# Map our tokenize_text function to the dataset\n",
        "tokenized_dataset = dataset.map(function=tokenize_text,\n",
        "                                batched=True, # set batched=True to tokenize across batches of samples at a time rather than one at a time\n",
        "                                batch_size=1000)\n",
        "tokenized_dataset"
      ],
      "metadata": {
        "colab": {
          "base_uri": "https://localhost:8080/",
          "height": 251,
          "referenced_widgets": [
            "8e9256b8e85e4051bf51a0241c405816",
            "b437085d5b8a4b4e90ee6e7d6e0f569c",
            "434de303c5f04b5a990d1f47d1633037",
            "ed9c45b5cace4ce3af912758b32e59d2",
            "b08beac8f99e4939bdd67fd1e06dae56",
            "d786b5d71e4d40c6b55b6c475339a1ea",
            "686a81369d4545b68e8125ccae486ae1",
            "ba6c7c3ec2684aa4b3786fa294a01d1f",
            "4679de80fa35422588f1aa34cabbff92",
            "3c4d2e9867ca49e2a4a85fffedbb5a9a",
            "343acff199e84318accfc4d9baf10fb5",
            "9aa0194897914f8597ee52384c694122",
            "6603d45d041046489db0302e442f2ac3",
            "6f6b1b8be244460cb13b51abe5e2daa7",
            "7981c5ce27764647a22aec67ddd55ce8",
            "ae8332f3fed6443e9eb817ce75db1b3a",
            "99c72e81428043c898b54dffaf3e5dd7",
            "238879d4274d41a5b02f6f7bcea8cf40",
            "a70350116e0b48dc9a803d2c82f1df43",
            "7766213cd96a4e3c8d0dfcacdd1e0818",
            "63274d18056d40b78dcfc87f833a72b5",
            "dfb936b872b74e3b999af86fb82eecf2"
          ]
        },
        "id": "U0yBKjK3zUtc",
        "outputId": "ca76cb38-c4fd-4c9f-a20b-e3b9bfad921d"
      },
      "execution_count": null,
      "outputs": [
        {
          "output_type": "display_data",
          "data": {
            "text/plain": [
              "Map:   0%|          | 0/200 [00:00<?, ? examples/s]"
            ],
            "application/vnd.jupyter.widget-view+json": {
              "version_major": 2,
              "version_minor": 0,
              "model_id": "8e9256b8e85e4051bf51a0241c405816"
            }
          },
          "metadata": {}
        },
        {
          "output_type": "display_data",
          "data": {
            "text/plain": [
              "Map:   0%|          | 0/50 [00:00<?, ? examples/s]"
            ],
            "application/vnd.jupyter.widget-view+json": {
              "version_major": 2,
              "version_minor": 0,
              "model_id": "9aa0194897914f8597ee52384c694122"
            }
          },
          "metadata": {}
        },
        {
          "output_type": "execute_result",
          "data": {
            "text/plain": [
              "DatasetDict({\n",
              "    train: Dataset({\n",
              "        features: ['text', 'label', 'input_ids', 'attention_mask'],\n",
              "        num_rows: 200\n",
              "    })\n",
              "    test: Dataset({\n",
              "        features: ['text', 'label', 'input_ids', 'attention_mask'],\n",
              "        num_rows: 50\n",
              "    })\n",
              "})"
            ]
          },
          "metadata": {},
          "execution_count": 34
        }
      ]
    },
    {
      "cell_type": "markdown",
      "source": [
        "* **Note:** In machine learning, it is often faster to do things in batches rather than one at a time due to leveraging computer hardware parallelization. See more in the map documentation: https://huggingface.co/docs/datasets/main/en/package_reference/main_classes#datasets.Dataset.map"
      ],
      "metadata": {
        "id": "YfiDfh070Aei"
      }
    },
    {
      "cell_type": "code",
      "source": [
        "tokenizer.all_special_tokens"
      ],
      "metadata": {
        "colab": {
          "base_uri": "https://localhost:8080/"
        },
        "id": "kchggxrH4p55",
        "outputId": "70504666-eda8-4359-ad9c-a7936d30fe3e"
      },
      "execution_count": null,
      "outputs": [
        {
          "output_type": "execute_result",
          "data": {
            "text/plain": [
              "['[UNK]', '[SEP]', '[PAD]', '[CLS]', '[MASK]']"
            ]
          },
          "metadata": {},
          "execution_count": 35
        }
      ]
    },
    {
      "cell_type": "code",
      "source": [
        "tokenizer.all_special_ids"
      ],
      "metadata": {
        "colab": {
          "base_uri": "https://localhost:8080/"
        },
        "id": "7rvjx4P54xN_",
        "outputId": "74b41412-20a8-4de2-da91-227be3efc71c"
      },
      "execution_count": null,
      "outputs": [
        {
          "output_type": "execute_result",
          "data": {
            "text/plain": [
              "[100, 102, 0, 101, 103]"
            ]
          },
          "metadata": {},
          "execution_count": 36
        }
      ]
    },
    {
      "cell_type": "code",
      "source": [
        "# Get two samples from the tokenized datasets\n",
        "train_tokenized_sample = tokenized_dataset['train'][0]\n",
        "test_tokenized_sample = tokenized_dataset['test'][0]\n",
        "\n",
        "for key in train_tokenized_sample.keys():\n",
        "  print(f'[INFO] Key: {key}')\n",
        "  print(f'Train sample: {train_tokenized_sample[key]}')\n",
        "  print(f'Test sample: {test_tokenized_sample[key]}\\n')"
      ],
      "metadata": {
        "colab": {
          "base_uri": "https://localhost:8080/"
        },
        "id": "WrrHcOR32kB-",
        "outputId": "be6e762d-6a9d-4a5e-80ca-7f6156f950ec"
      },
      "execution_count": null,
      "outputs": [
        {
          "output_type": "stream",
          "name": "stdout",
          "text": [
            "[INFO] Key: text\n",
            "Train sample: Set of headphones placed on a desk\n",
            "Test sample: A slice of pepperoni pizza with a layer of melted cheese\n",
            "\n",
            "[INFO] Key: label\n",
            "Train sample: 0\n",
            "Test sample: 1\n",
            "\n",
            "[INFO] Key: input_ids\n",
            "Train sample: [101, 2275, 1997, 2132, 19093, 2872, 2006, 1037, 4624, 102, 0, 0, 0, 0, 0, 0, 0, 0, 0, 0, 0, 0, 0, 0, 0, 0, 0, 0, 0, 0, 0, 0, 0, 0, 0]\n",
            "Test sample: [101, 1037, 14704, 1997, 11565, 10698, 10733, 2007, 1037, 6741, 1997, 12501, 8808, 102, 0, 0, 0, 0, 0, 0, 0, 0, 0, 0, 0, 0, 0, 0, 0, 0, 0, 0, 0, 0, 0, 0]\n",
            "\n",
            "[INFO] Key: attention_mask\n",
            "Train sample: [1, 1, 1, 1, 1, 1, 1, 1, 1, 1, 0, 0, 0, 0, 0, 0, 0, 0, 0, 0, 0, 0, 0, 0, 0, 0, 0, 0, 0, 0, 0, 0, 0, 0, 0]\n",
            "Test sample: [1, 1, 1, 1, 1, 1, 1, 1, 1, 1, 1, 1, 1, 1, 0, 0, 0, 0, 0, 0, 0, 0, 0, 0, 0, 0, 0, 0, 0, 0, 0, 0, 0, 0, 0, 0]\n",
            "\n"
          ]
        }
      ]
    },
    {
      "cell_type": "markdown",
      "source": [
        "### Tokenization takeaways\n",
        "\n",
        "1. Tokenizers = turn data into numbers (e.g. text -> map to number)\n",
        "2. Many models out there that have many different tokenizers, Hugging Face's 'Auto' (e.g. 'AutoTokenizer', 'AutoProcessor', 'AutoModel', etc ... help to match tokenizers to models)\n",
        "3. Tokenization can happen in paralell using map and batched functions"
      ],
      "metadata": {
        "id": "J4VvY1rd7k5J"
      }
    },
    {
      "cell_type": "markdown",
      "source": [
        "## Setting up an evaluation metric\n",
        "\n",
        "What we want to do: use the evaluation metric to get a numerical idea of how our model is performing.\n",
        "\n",
        "Some common evaluation metrics for classification:\n",
        "\n",
        "- Accuracy (how many examples, out of 100, did you get correct?)\n",
        "- Precision\n",
        "- Recall\n",
        "- F1 score\n",
        "\n",
        "Evaluation metric is important because some projects may have an evaluation threshold you need to fulfill.\n",
        "\n",
        "E.g. When I worked on insurance claim classification = required >=98% test accuracy to be commercially viable.\n",
        "\n",
        "Some places for evaluation metrics:\n",
        "* Scikit-learn documentation: https://scikit-learn.org/stable/modules/model_evaluation.html#classification-metrics\n",
        "* Hugging Face evaluate: https://huggingface.co/docs/evaluate/en/index"
      ],
      "metadata": {
        "id": "-t_6W_fTurAu"
      }
    },
    {
      "cell_type": "code",
      "source": [
        "import evaluate\n",
        "import numpy as np\n",
        "from typing import Tuple\n",
        "\n",
        "accuracy_metric = evaluate.load(\"accuracy\")\n",
        "\n",
        "def compute_accuracy(predictions_and_labels: Tuple[np.array, np.array]):\n",
        "  \"\"\"\n",
        "  Computes the accuracy of a model by comparing the predictions and labels.\n",
        "  \"\"\"\n",
        "  predictions, labels = predictions_and_labels\n",
        "  return accuracy_metric.compute(predictions=predictions, references=labels)\n"
      ],
      "metadata": {
        "colab": {
          "base_uri": "https://localhost:8080/",
          "height": 49,
          "referenced_widgets": [
            "5fafb922749940468954101df009904b",
            "83c92f29be4541dfa6d2341e45ff6662",
            "0912dcbdf8bc49349e9ae3254fd7e094",
            "651cb5c099d74701b793a1f5757c5148",
            "ce54cf3b61f248408f3b2f3a4b5d0193",
            "9f5506500756497e9208288b1298f43a",
            "7cbde3837a37451fb283993e3ec19d5e",
            "f3c818cb0499472cb805b3eae06218d9",
            "1d7d0ee5710342ab88c34c40db03c922",
            "7c18633b9c5b4d3f82ab395c158d49d3",
            "5f9e05387edc4bad8a35d40148e1371b"
          ]
        },
        "id": "sNVgNtV5yKQt",
        "outputId": "0f4f86bc-a995-46b1-d17e-ba7bbbcb945b"
      },
      "execution_count": null,
      "outputs": [
        {
          "output_type": "display_data",
          "data": {
            "text/plain": [
              "Downloading builder script:   0%|          | 0.00/4.20k [00:00<?, ?B/s]"
            ],
            "application/vnd.jupyter.widget-view+json": {
              "version_major": 2,
              "version_minor": 0,
              "model_id": "5fafb922749940468954101df009904b"
            }
          },
          "metadata": {}
        }
      ]
    },
    {
      "cell_type": "code",
      "source": [
        "# Example predictions and accuracy score\n",
        "example_preds_all_correct = np.array([0, 0, 0, 0, 0, 0, 0, 0, 0, 0])\n",
        "example_preds_one_incorrect = np.array([0, 0, 0, 0, 1, 0, 0, 0, 0, 0])\n",
        "example_labels = np.array([0, 0, 0, 0, 0, 0, 0, 0, 0, 0])\n",
        "\n",
        "# Test the function\n",
        "print(f'Accuracy when all predictions are correct: {compute_accuracy((example_preds_all_correct, example_labels))}')\n",
        "print(f'Accuracy when one prediction is incorrect: {compute_accuracy((example_preds_one_incorrect, example_labels))}')"
      ],
      "metadata": {
        "colab": {
          "base_uri": "https://localhost:8080/"
        },
        "id": "D33XCnDQi0L7",
        "outputId": "850e6b4b-4adb-4915-cd44-11b6f6aeefd2"
      },
      "execution_count": null,
      "outputs": [
        {
          "output_type": "stream",
          "name": "stdout",
          "text": [
            "Accuracy when all predictions are correct: {'accuracy': 1.0}\n",
            "Accuracy when one prediction is incorrect: {'accuracy': 0.9}\n"
          ]
        }
      ]
    },
    {
      "cell_type": "markdown",
      "source": [
        "## Setting up a model for training\n",
        "\n",
        "* We're going to be using transfer learning.\n",
        "* Transfer learning is a powerful technique, unique to deep learning models that enables us to use the patterns one model has learnt on another problem for our own problem.\n",
        "* See more on transfer learning here: https://en.wikipedia.org/wiki/Transfer_learning\n",
        "\n",
        "Workflow for training:\n",
        "\n",
        "1. Create and preprocess data ✅\n",
        "2. Define the model we'd like to use for our problem: https://huggingface.co/models or see the \"task guides\" in HF Transformers docs: https://huggingface.co/docs/transformers/main/en/tasks/sequence_classification\n",
        "3. Define our training arguments for training our model 'transformers.TrainingArguments'\n",
        "4. Pass 'TrainingArguments' to an instance of 'transformers.Trainer'\n",
        "5. Train the model by calling 'Trainer.train()'\n",
        "6. Save the model (to our local machine or to the Hugging Face Hub)\n",
        "7. Evaluate the trained model by making and inspecting predictions on the test data (and our own custom data of course!)\n",
        "8. Turn the model into a shareable demo"
      ],
      "metadata": {
        "id": "0lvfAxk_xEw7"
      }
    },
    {
      "cell_type": "code",
      "source": [
        "from transformers import AutoModelForSequenceClassification\n",
        "\n",
        "model = AutoModelForSequenceClassification.from_pretrained(\n",
        "                  pretrained_model_name_or_path = 'distilbert/distilbert-base-uncased',\n",
        "                  num_labels = 2, #classify into food not_food\n",
        "                  id2label = id2label,\n",
        "                  label2id = label2id\n",
        "                  )"
      ],
      "metadata": {
        "colab": {
          "base_uri": "https://localhost:8080/",
          "height": 103,
          "referenced_widgets": [
            "887677ab17cf4362ba19189753f56de3",
            "6a87b29d2dfe429491c75201deced4ad",
            "30e348b85d59477bb249e0687beddf12",
            "ed9602190e1244dfa63151501b3708fe",
            "22a357da45644cdd9809b0d2a87f7092",
            "eff3440845d849e5ab582c842c98a153",
            "b0dd4d5049304a63bf838360cdd12310",
            "6a64ea09265e4a10a6c18dbc0f445479",
            "1f0ec3f492db4ebc84e6c9a0e1fa4e70",
            "d3e7717604bb4028a15c88e829eb2fea",
            "b6c67f03f4ec413a8845bb79009693af"
          ]
        },
        "id": "AhPTjkF73fH1",
        "outputId": "3698ba75-c0df-4947-d9b8-628bbabc3c2b"
      },
      "execution_count": null,
      "outputs": [
        {
          "output_type": "display_data",
          "data": {
            "text/plain": [
              "model.safetensors:   0%|          | 0.00/268M [00:00<?, ?B/s]"
            ],
            "application/vnd.jupyter.widget-view+json": {
              "version_major": 2,
              "version_minor": 0,
              "model_id": "887677ab17cf4362ba19189753f56de3"
            }
          },
          "metadata": {}
        },
        {
          "output_type": "stream",
          "name": "stderr",
          "text": [
            "Some weights of DistilBertForSequenceClassification were not initialized from the model checkpoint at distilbert/distilbert-base-uncased and are newly initialized: ['classifier.bias', 'classifier.weight', 'pre_classifier.bias', 'pre_classifier.weight']\n",
            "You should probably TRAIN this model on a down-stream task to be able to use it for predictions and inference.\n"
          ]
        }
      ]
    },
    {
      "cell_type": "code",
      "source": [
        "model"
      ],
      "metadata": {
        "colab": {
          "base_uri": "https://localhost:8080/"
        },
        "id": "hbIl1rY-734T",
        "outputId": "33269592-d558-4663-8bad-9875f0bb5e76"
      },
      "execution_count": null,
      "outputs": [
        {
          "output_type": "execute_result",
          "data": {
            "text/plain": [
              "DistilBertForSequenceClassification(\n",
              "  (distilbert): DistilBertModel(\n",
              "    (embeddings): Embeddings(\n",
              "      (word_embeddings): Embedding(30522, 768, padding_idx=0)\n",
              "      (position_embeddings): Embedding(512, 768)\n",
              "      (LayerNorm): LayerNorm((768,), eps=1e-12, elementwise_affine=True)\n",
              "      (dropout): Dropout(p=0.1, inplace=False)\n",
              "    )\n",
              "    (transformer): Transformer(\n",
              "      (layer): ModuleList(\n",
              "        (0-5): 6 x TransformerBlock(\n",
              "          (attention): DistilBertSdpaAttention(\n",
              "            (dropout): Dropout(p=0.1, inplace=False)\n",
              "            (q_lin): Linear(in_features=768, out_features=768, bias=True)\n",
              "            (k_lin): Linear(in_features=768, out_features=768, bias=True)\n",
              "            (v_lin): Linear(in_features=768, out_features=768, bias=True)\n",
              "            (out_lin): Linear(in_features=768, out_features=768, bias=True)\n",
              "          )\n",
              "          (sa_layer_norm): LayerNorm((768,), eps=1e-12, elementwise_affine=True)\n",
              "          (ffn): FFN(\n",
              "            (dropout): Dropout(p=0.1, inplace=False)\n",
              "            (lin1): Linear(in_features=768, out_features=3072, bias=True)\n",
              "            (lin2): Linear(in_features=3072, out_features=768, bias=True)\n",
              "            (activation): GELUActivation()\n",
              "          )\n",
              "          (output_layer_norm): LayerNorm((768,), eps=1e-12, elementwise_affine=True)\n",
              "        )\n",
              "      )\n",
              "    )\n",
              "  )\n",
              "  (pre_classifier): Linear(in_features=768, out_features=768, bias=True)\n",
              "  (classifier): Linear(in_features=768, out_features=2, bias=True)\n",
              "  (dropout): Dropout(p=0.2, inplace=False)\n",
              ")"
            ]
          },
          "metadata": {},
          "execution_count": 41
        }
      ]
    },
    {
      "cell_type": "markdown",
      "source": [
        "Our model is comprised of the follwing parts:\n",
        "\n",
        "1. 'embeddings' - embeddings are a form of learned representation of tokens. So if tokens are a direct mapping from the token to number, embeddings are a learned vector representation.\n",
        "2. 'transformer' - our model architecture backbone, this has discovered patterns/relationships in the embeddings.\n",
        "3. 'classifier' - we need to customize this layer to suit our problem."
      ],
      "metadata": {
        "id": "HKfibJuE8MjW"
      }
    },
    {
      "cell_type": "code",
      "source": [
        "model([123, 456, 789]) # try to pass numbers to our model; results in error"
      ],
      "metadata": {
        "id": "0apn1I9P9bFv"
      },
      "execution_count": null,
      "outputs": []
    },
    {
      "cell_type": "markdown",
      "source": [
        "Note: If you get input errors from passing a sample to a model, make sure the sample you pass to your model is formatted in the same way your model was trained on. For example, if your model used a specific tokenizer, make sure to tokenize your text before passing it to the model.\n",
        "\n",
        "If there are still errors, the model wasn't trained yet and cannot properly interpret the data being given to it."
      ],
      "metadata": {
        "id": "BwAlWeycy3LK"
      }
    },
    {
      "cell_type": "code",
      "source": [
        "model(tokenized_dataset['train'][0]) # try to pass data again; results in error"
      ],
      "metadata": {
        "id": "19h_Dtnyzlvc"
      },
      "execution_count": null,
      "outputs": []
    },
    {
      "cell_type": "code",
      "source": [
        "**tokenized_dataset['train'][0] # try to see the effect of **"
      ],
      "metadata": {
        "id": "dddCf4_U0kxQ"
      },
      "execution_count": null,
      "outputs": []
    },
    {
      "cell_type": "code",
      "source": [
        "model(**tokenized_dataset['train'][0]) # ** syntax means we want to pass on all the keys in the dictionary to our model"
      ],
      "metadata": {
        "id": "tQbMzjtW0M7U"
      },
      "execution_count": null,
      "outputs": []
    },
    {
      "cell_type": "code",
      "source": [
        "model(input_ids = tokenized_dataset['train'][0]['input_ids'],\n",
        "      attention_mask = tokenized_dataset['train'][0]['attention_mask']) # we can't pass anything to our model because it isn't yet trained"
      ],
      "metadata": {
        "id": "PZ27IhkB1Elu"
      },
      "execution_count": null,
      "outputs": []
    },
    {
      "cell_type": "markdown",
      "source": [
        "### Count the parameters in our model\n",
        "\n",
        "Weight/parameters = small numeric opportunities for a model to learn patterns in data."
      ],
      "metadata": {
        "id": "mf2ZrfQH2c38"
      }
    },
    {
      "cell_type": "code",
      "source": [
        "# list(model.parameters())"
      ],
      "metadata": {
        "id": "S6Nizjs13-i6"
      },
      "execution_count": null,
      "outputs": []
    },
    {
      "cell_type": "code",
      "source": [
        "def count_params(model):\n",
        "  '''\n",
        "  Count the parameters of a PyTorch model.\n",
        "  '''\n",
        "  trainable_parameters = sum(param.numel() for param in model.parameters() if param.requires_grad)\n",
        "  total_parameters = sum(param.numel() for param in model.parameters())\n",
        "\n",
        "  return {'trainable_parameters': trainable_parameters, 'total_parameters': total_parameters}\n",
        "\n",
        "count_params(model)"
      ],
      "metadata": {
        "colab": {
          "base_uri": "https://localhost:8080/"
        },
        "id": "Zsm7mxKy20Ox",
        "outputId": "21446bf0-a9cd-43b5-ea70-5244a3779b5d"
      },
      "execution_count": null,
      "outputs": [
        {
          "output_type": "execute_result",
          "data": {
            "text/plain": [
              "{'trainable_parameters': 66955010, 'total_parameters': 66955010}"
            ]
          },
          "metadata": {},
          "execution_count": 42
        }
      ]
    },
    {
      "cell_type": "markdown",
      "source": [
        "Looks like our model has around 67M parameters and **all** of them are trainable.\n",
        "\n",
        "Note:\n",
        "* Generally, the more parameters a model has, the more capacity it has to learn.\n",
        "* Comparison models such as Llama 3 8B have 8 billion parameters.\n",
        "* If you want the best possible performance, generally more parameters is better.\n",
        "  * However, more parameters = more compute + time.\n",
        "  * You'll be surprised how well a smaller model can perform with specific data."
      ],
      "metadata": {
        "id": "7KWXn5z05Kx9"
      }
    },
    {
      "cell_type": "code",
      "source": [
        "8_000_000_000 / 67_000_000 # we can write large numbers in this format in Colab to more easily read them"
      ],
      "metadata": {
        "colab": {
          "base_uri": "https://localhost:8080/"
        },
        "id": "FzxdFk0G5rhs",
        "outputId": "54e4eef1-88a9-4c5e-e851-a88ca0a1e646"
      },
      "execution_count": null,
      "outputs": [
        {
          "output_type": "execute_result",
          "data": {
            "text/plain": [
              "119.40298507462687"
            ]
          },
          "metadata": {},
          "execution_count": 43
        }
      ]
    },
    {
      "cell_type": "markdown",
      "source": [
        "### Create a directory for saving models"
      ],
      "metadata": {
        "id": "U19dHLWJ4PbR"
      }
    },
    {
      "cell_type": "code",
      "source": [
        "# Create model output directory\n",
        "from pathlib import Path\n",
        "\n",
        "# Create models dir\n",
        "models_dir = Path('models')\n",
        "models_dir.mkdir(exist_ok = True)\n",
        "\n",
        "# Create model save name\n",
        "model_save_name = 'learn_hf_food_not_food_text_classifier-distilbert-base-uncased'\n",
        "\n",
        "# Create model save path\n",
        "model_save_dir = Path(models_dir, model_save_name)\n",
        "\n",
        "model_save_dir"
      ],
      "metadata": {
        "colab": {
          "base_uri": "https://localhost:8080/"
        },
        "id": "-Hgi7lkx4bXQ",
        "outputId": "086e7f3a-5728-43c8-b2e4-f60936557c31"
      },
      "execution_count": null,
      "outputs": [
        {
          "output_type": "execute_result",
          "data": {
            "text/plain": [
              "PosixPath('models/learn_hf_food_not_food_text_classifier-distilbert-base-uncased')"
            ]
          },
          "metadata": {},
          "execution_count": 44
        }
      ]
    },
    {
      "cell_type": "markdown",
      "source": [
        "### Setting up training arguments (hyperparameters) with TrainingArguments\n",
        "\n",
        "1. ✅Create and preprocess data\n",
        "2. ✅Define the model we'd like to use for our problem: https://huggingface.co/models or see the \"task guides\" in HF Transformers docs: https://huggingface.co/docs/transformers/main/en/tasks/sequence_classification\n",
        "3. Define our training arguments for training our model 'transformers.TrainingArguments'\n",
        "  * These are also known as \"hyperparameters\" = settings on your model that you can adjust\n",
        "  * Parameters = weights/patterns in the model that get updated automatically\n",
        "4. Pass 'TrainingArguments' to an instance of 'transformers.Trainer'\n",
        "5. Train the model by calling 'Trainer.train()'\n",
        "6. Save the model (to our local machine or to the Hugging Face Hub)\n",
        "7. Evaluate the trained model by making and inspecting predictions on the test data (and our own custom data of course!)\n",
        "8. Turn the model into a shareable demo"
      ],
      "metadata": {
        "id": "4RVlmPsE8sjX"
      }
    },
    {
      "cell_type": "code",
      "source": [
        "from transformers import TrainingArguments\n",
        "\n",
        "print(f'[INFO] Saving model checkpoints: {model_save_dir}')\n",
        "\n",
        "BATCH_SIZE = 32\n",
        "\n",
        "# Create training arguments\n",
        "training_args = TrainingArguments(\n",
        "    output_dir = model_save_dir,\n",
        "    learning_rate = 0.0001,\n",
        "    per_device_train_batch_size = BATCH_SIZE,\n",
        "    per_device_eval_batch_size = BATCH_SIZE,\n",
        "    num_train_epochs = 10,\n",
        "    eval_strategy = 'epoch',\n",
        "    save_strategy = 'epoch',\n",
        "    save_total_limit = 3,\n",
        "    use_cpu = False,\n",
        "    seed = 42,\n",
        "    load_best_model_at_end = True,\n",
        "    logging_strategy = 'epoch',\n",
        "    report_to = 'none',\n",
        "    # hub_token = 'YOUR_TOKEN_HERE_hf-shdsjhefkhhfjkhfjkh4347463478jnbn',\n",
        "    # push_to_hub = True # if you want your model to save directly to the Hugging Face Hub after training,\n",
        "    hub_private_repo = False # when uploading to Hugging Face Hub, do you want your repo to be private or public? (default: public)\n",
        ")"
      ],
      "metadata": {
        "colab": {
          "base_uri": "https://localhost:8080/"
        },
        "id": "WWwnJowo8trd",
        "outputId": "3849b33f-f4b4-4ddd-99a6-1d5b967840e9"
      },
      "execution_count": null,
      "outputs": [
        {
          "output_type": "stream",
          "name": "stdout",
          "text": [
            "[INFO] Saving model checkpoints: models/learn_hf_food_not_food_text_classifier-distilbert-base-uncased\n"
          ]
        }
      ]
    },
    {
      "cell_type": "code",
      "source": [
        "training_args"
      ],
      "metadata": {
        "id": "8pmIF_GtHdPx"
      },
      "execution_count": null,
      "outputs": []
    },
    {
      "cell_type": "markdown",
      "source": [
        "### Setting up an instance of Trainer\n",
        "\n",
        "1. ✅Create and preprocess data\n",
        "2. ✅Define the model we'd like to use for our problem: https://huggingface.co/models or see the \"task guides\" in HF Transformers docs: https://huggingface.co/docs/transformers/main/en/tasks/sequence_classification\n",
        "3. ✅Define our training arguments for training our model 'transformers.TrainingArguments'\n",
        "  * These are also known as \"hyperparameters\" = settings on your model that you can adjust\n",
        "  * Parameters = weights/patterns in the model that get updated automatically\n",
        "4. Pass 'TrainingArguments' to an instance of 'transformers.Trainer'\n",
        "5. Train the model by calling 'Trainer.train()'\n",
        "6. Save the model (to our local machine or to the Hugging Face Hub)\n",
        "7. Evaluate the trained model by making and inspecting predictions on the test data (and our own custom data of course!)\n",
        "8. Turn the model into a shareable demo\n",
        "\n",
        "* Docs for 'transformers.Trainer': https://huggingface.co/docs/transformers/v4.49.0/en/main_classes/trainer#trainer"
      ],
      "metadata": {
        "id": "cKSBZ5JkJtBW"
      }
    },
    {
      "cell_type": "code",
      "source": [
        "import evaluate\n",
        "import numpy as np\n",
        "from typing import Tuple\n",
        "\n",
        "accuracy_metric = evaluate.load(\"accuracy\")\n",
        "\n",
        "def compute_accuracy(predictions_and_labels: Tuple[np.array, np.array]):\n",
        "  \"\"\"\n",
        "  Computes the accuracy of a model by comparing the predictions and labels.\n",
        "  \"\"\"\n",
        "  predictions, labels = predictions_and_labels\n",
        "\n",
        "  if len(predictions.shape) >= 2:\n",
        "    predictions = np.argmax(predictions, axis = 1)\n",
        "\n",
        "  return accuracy_metric.compute(predictions=predictions, references=labels)"
      ],
      "metadata": {
        "id": "Fgr8OOvRFMwP"
      },
      "execution_count": null,
      "outputs": []
    },
    {
      "cell_type": "code",
      "source": [
        "from transformers import Trainer\n",
        "\n",
        "# Setup Trainer instance\n",
        "trainer = Trainer(\n",
        "    model = model,\n",
        "    args = training_args,\n",
        "    train_dataset = tokenized_dataset['train'],\n",
        "    eval_dataset = tokenized_dataset['test'],\n",
        "    tokenizer = tokenizer,\n",
        "    compute_metrics = compute_accuracy\n",
        ")\n",
        "\n",
        "trainer"
      ],
      "metadata": {
        "colab": {
          "base_uri": "https://localhost:8080/"
        },
        "id": "lIJruHVWJygD",
        "outputId": "a83943a0-f4f5-4fa3-f7b2-3883d15c6b40"
      },
      "execution_count": null,
      "outputs": [
        {
          "output_type": "stream",
          "name": "stderr",
          "text": [
            "<ipython-input-47-cc243862ddb1>:4: FutureWarning: `tokenizer` is deprecated and will be removed in version 5.0.0 for `Trainer.__init__`. Use `processing_class` instead.\n",
            "  trainer = Trainer(\n"
          ]
        },
        {
          "output_type": "execute_result",
          "data": {
            "text/plain": [
              "<transformers.trainer.Trainer at 0x7dfd3817abd0>"
            ]
          },
          "metadata": {},
          "execution_count": 47
        }
      ]
    },
    {
      "cell_type": "markdown",
      "source": [
        "### Train the model by calling Trainer.train()\n",
        "\n",
        "1. ✅Create and preprocess data\n",
        "2. ✅Define the model we'd like to use for our problem: https://huggingface.co/models or see the \"task guides\" in HF Transformers docs: https://huggingface.co/docs/transformers/main/en/tasks/sequence_classification\n",
        "3. ✅Define our training arguments for training our model 'transformers.TrainingArguments'\n",
        "  * These are also known as \"hyperparameters\" = settings on your model that you can adjust\n",
        "  * Parameters = weights/patterns in the model that get updated automatically\n",
        "4. ✅Pass 'TrainingArguments' to an instance of 'transformers.Trainer'\n",
        "5. Train the model by calling 'Trainer.train()'\n",
        "6. Save the model (to our local machine or to the Hugging Face Hub)\n",
        "7. Evaluate the trained model by making and inspecting predictions on the test data (and our own custom data of course!)\n",
        "8. Turn the model into a shareable demo"
      ],
      "metadata": {
        "id": "UG1SMe6V89mD"
      }
    },
    {
      "cell_type": "code",
      "source": [
        "input_predictions = np.array([[-5.9671326, 6.092786]])\n",
        "input_references = np.array([0])\n",
        "\n",
        "# need to get the maximum value from the model output as this is the \"most likely\" label according to the model\n",
        "# see np.argmax docs (returns the index of maximum value along an axis): https://numpy.org/doc/2.2/reference/generated/numpy.argmax.html\n",
        "if len(input_predictions.shape) >= 2:\n",
        "  input_predictions = np.argmax(input_predictions, axis = 1)\n",
        "\n",
        "input_predictions"
      ],
      "metadata": {
        "colab": {
          "base_uri": "https://localhost:8080/"
        },
        "id": "sBRVDG34E6Mb",
        "outputId": "964c5932-07bc-46d6-c73c-9dc2757f7a39"
      },
      "execution_count": null,
      "outputs": [
        {
          "output_type": "execute_result",
          "data": {
            "text/plain": [
              "array([1])"
            ]
          },
          "metadata": {},
          "execution_count": 48
        }
      ]
    },
    {
      "cell_type": "code",
      "source": [
        "compute_accuracy((input_predictions, input_references))"
      ],
      "metadata": {
        "colab": {
          "base_uri": "https://localhost:8080/"
        },
        "id": "ZMwDjJNvFm44",
        "outputId": "91859cc0-8777-4746-acb7-eabff89a605f"
      },
      "execution_count": null,
      "outputs": [
        {
          "output_type": "execute_result",
          "data": {
            "text/plain": [
              "{'accuracy': 0.0}"
            ]
          },
          "metadata": {},
          "execution_count": 49
        }
      ]
    },
    {
      "cell_type": "code",
      "source": [
        "trainer.train()"
      ],
      "metadata": {
        "colab": {
          "base_uri": "https://localhost:8080/",
          "height": 419
        },
        "id": "ZtTae8YLO7lQ",
        "outputId": "145f1623-1ff7-4526-af52-aa5a47e31028"
      },
      "execution_count": null,
      "outputs": [
        {
          "output_type": "display_data",
          "data": {
            "text/plain": [
              "<IPython.core.display.HTML object>"
            ],
            "text/html": [
              "\n",
              "    <div>\n",
              "      \n",
              "      <progress value='70' max='70' style='width:300px; height:20px; vertical-align: middle;'></progress>\n",
              "      [70/70 08:22, Epoch 10/10]\n",
              "    </div>\n",
              "    <table border=\"1\" class=\"dataframe\">\n",
              "  <thead>\n",
              " <tr style=\"text-align: left;\">\n",
              "      <th>Epoch</th>\n",
              "      <th>Training Loss</th>\n",
              "      <th>Validation Loss</th>\n",
              "      <th>Accuracy</th>\n",
              "    </tr>\n",
              "  </thead>\n",
              "  <tbody>\n",
              "    <tr>\n",
              "      <td>1</td>\n",
              "      <td>0.450000</td>\n",
              "      <td>0.166496</td>\n",
              "      <td>0.960000</td>\n",
              "    </tr>\n",
              "    <tr>\n",
              "      <td>2</td>\n",
              "      <td>0.067800</td>\n",
              "      <td>0.007811</td>\n",
              "      <td>1.000000</td>\n",
              "    </tr>\n",
              "    <tr>\n",
              "      <td>3</td>\n",
              "      <td>0.005600</td>\n",
              "      <td>0.002160</td>\n",
              "      <td>1.000000</td>\n",
              "    </tr>\n",
              "    <tr>\n",
              "      <td>4</td>\n",
              "      <td>0.001900</td>\n",
              "      <td>0.001070</td>\n",
              "      <td>1.000000</td>\n",
              "    </tr>\n",
              "    <tr>\n",
              "      <td>5</td>\n",
              "      <td>0.001000</td>\n",
              "      <td>0.000714</td>\n",
              "      <td>1.000000</td>\n",
              "    </tr>\n",
              "    <tr>\n",
              "      <td>6</td>\n",
              "      <td>0.000700</td>\n",
              "      <td>0.000569</td>\n",
              "      <td>1.000000</td>\n",
              "    </tr>\n",
              "    <tr>\n",
              "      <td>7</td>\n",
              "      <td>0.000600</td>\n",
              "      <td>0.000499</td>\n",
              "      <td>1.000000</td>\n",
              "    </tr>\n",
              "    <tr>\n",
              "      <td>8</td>\n",
              "      <td>0.000500</td>\n",
              "      <td>0.000462</td>\n",
              "      <td>1.000000</td>\n",
              "    </tr>\n",
              "    <tr>\n",
              "      <td>9</td>\n",
              "      <td>0.000500</td>\n",
              "      <td>0.000443</td>\n",
              "      <td>1.000000</td>\n",
              "    </tr>\n",
              "    <tr>\n",
              "      <td>10</td>\n",
              "      <td>0.000500</td>\n",
              "      <td>0.000436</td>\n",
              "      <td>1.000000</td>\n",
              "    </tr>\n",
              "  </tbody>\n",
              "</table><p>"
            ]
          },
          "metadata": {}
        },
        {
          "output_type": "execute_result",
          "data": {
            "text/plain": [
              "TrainOutput(global_step=70, training_loss=0.05292068286466279, metrics={'train_runtime': 511.588, 'train_samples_per_second': 3.909, 'train_steps_per_second': 0.137, 'total_flos': 18110777160000.0, 'train_loss': 0.05292068286466279, 'epoch': 10.0})"
            ]
          },
          "metadata": {},
          "execution_count": 50
        }
      ]
    },
    {
      "cell_type": "markdown",
      "source": [
        "### Save the model for later use\n",
        "\n",
        "> **Note** If you are saving a model to Google Colab, note that it will disappear from your Colab instance when it disconnects."
      ],
      "metadata": {
        "id": "7FPS3wnMeH6W"
      }
    },
    {
      "cell_type": "code",
      "source": [
        "# Save model\n",
        "print(f'[INFO] Saving model to {model_save_dir}')\n",
        "trainer.save_model(output_dir = model_save_dir)"
      ],
      "metadata": {
        "colab": {
          "base_uri": "https://localhost:8080/"
        },
        "id": "skLLDQKIekmP",
        "outputId": "734e481d-83fc-4b53-ef1d-62d0e8691331"
      },
      "execution_count": null,
      "outputs": [
        {
          "output_type": "stream",
          "name": "stdout",
          "text": [
            "[INFO] Saving model to models/learn_hf_food_not_food_text_classifier-distilbert-base-uncased\n"
          ]
        }
      ]
    },
    {
      "cell_type": "code",
      "source": [
        "list(model.parameters()) # to have a look at the tensors"
      ],
      "metadata": {
        "id": "3yGA7Uz9fP47"
      },
      "execution_count": null,
      "outputs": []
    },
    {
      "cell_type": "markdown",
      "source": [
        "### Inspect the model training metrics"
      ],
      "metadata": {
        "id": "KeCFCq3Ulcxf"
      }
    },
    {
      "cell_type": "code",
      "source": [
        "# Get training history\n",
        "trainer_history_all = trainer.state.log_history\n",
        "trainer_history_metrics = trainer_history_all\n",
        "trainer_history_training_time = trainer_history_all[-1]\n",
        "\n",
        "# View the first 3\n",
        "trainer_history_metrics[:3]"
      ],
      "metadata": {
        "colab": {
          "base_uri": "https://localhost:8080/"
        },
        "id": "ObgkYoRNlXAn",
        "outputId": "fa49e9f5-c3f4-457e-f62b-c4c8089c5a7d"
      },
      "execution_count": null,
      "outputs": [
        {
          "output_type": "execute_result",
          "data": {
            "text/plain": [
              "[{'loss': 0.45,\n",
              "  'grad_norm': 1.9463328123092651,\n",
              "  'learning_rate': 9e-05,\n",
              "  'epoch': 1.0,\n",
              "  'step': 7},\n",
              " {'eval_loss': 0.16649629175662994,\n",
              "  'eval_accuracy': 0.96,\n",
              "  'eval_runtime': 2.7406,\n",
              "  'eval_samples_per_second': 18.244,\n",
              "  'eval_steps_per_second': 0.73,\n",
              "  'epoch': 1.0,\n",
              "  'step': 7},\n",
              " {'loss': 0.0678,\n",
              "  'grad_norm': 0.18325099349021912,\n",
              "  'learning_rate': 8e-05,\n",
              "  'epoch': 2.0,\n",
              "  'step': 14}]"
            ]
          },
          "metadata": {},
          "execution_count": 52
        }
      ]
    },
    {
      "cell_type": "code",
      "source": [
        "import pprint\n",
        "\n",
        "# Extract eval and training metrics\n",
        "trainer_history_training_set = []\n",
        "trainer_history_eval_set = []\n",
        "\n",
        "# Loop through our metrics\n",
        "for item in trainer_history_metrics:\n",
        "  item_keys = list(item.keys())\n",
        "  if any('eval' in item for item in item_keys):\n",
        "    trainer_history_eval_set.append(item)\n",
        "  else:\n",
        "    trainer_history_training_set.append(item)\n",
        "\n",
        "# Show the first from each\n",
        "print(f'First two items in training set:')\n",
        "pprint.pprint(trainer_history_training_set[:2])\n",
        "\n",
        "print(f'\\nFirst two items in eval epochs:')\n",
        "pprint.pprint(trainer_history_eval_set[:2])"
      ],
      "metadata": {
        "colab": {
          "base_uri": "https://localhost:8080/"
        },
        "id": "I9-p9UKonFme",
        "outputId": "1e759592-6d03-4418-bb67-3f21e51d681f"
      },
      "execution_count": null,
      "outputs": [
        {
          "output_type": "stream",
          "name": "stdout",
          "text": [
            "First two items in training set:\n",
            "[{'epoch': 1.0,\n",
            "  'grad_norm': 1.9463328123092651,\n",
            "  'learning_rate': 9e-05,\n",
            "  'loss': 0.45,\n",
            "  'step': 7},\n",
            " {'epoch': 2.0,\n",
            "  'grad_norm': 0.18325099349021912,\n",
            "  'learning_rate': 8e-05,\n",
            "  'loss': 0.0678,\n",
            "  'step': 14}]\n",
            "\n",
            "First two items in eval epochs:\n",
            "[{'epoch': 1.0,\n",
            "  'eval_accuracy': 0.96,\n",
            "  'eval_loss': 0.16649629175662994,\n",
            "  'eval_runtime': 2.7406,\n",
            "  'eval_samples_per_second': 18.244,\n",
            "  'eval_steps_per_second': 0.73,\n",
            "  'step': 7},\n",
            " {'epoch': 2.0,\n",
            "  'eval_accuracy': 1.0,\n",
            "  'eval_loss': 0.007810888346284628,\n",
            "  'eval_runtime': 2.3464,\n",
            "  'eval_samples_per_second': 21.31,\n",
            "  'eval_steps_per_second': 0.852,\n",
            "  'step': 14}]\n"
          ]
        }
      ]
    },
    {
      "cell_type": "markdown",
      "source": [
        "### Taking a look at the loss curves\n",
        "\n",
        "Loss curves = a good visualization of your model's performance over time.\n",
        "\n",
        "Ideally, loss curves will trend downwards.\n",
        "\n",
        "See more here: https://developers.google.com/machine-learning/crash-course/overfitting/interpreting-loss-curves"
      ],
      "metadata": {
        "id": "uLMEZh7Nwg_C"
      }
    },
    {
      "cell_type": "code",
      "source": [
        "# Create a pandas DataFrame for the training and evaluation metrics\n",
        "trainer_history_train_df = pd.DataFrame(trainer_history_training_set)\n",
        "trainer_history_eval_df = pd.DataFrame(trainer_history_eval_set)\n",
        "\n",
        "trainer_history_train_df.head()\n",
        "trainer_history_eval_df.head()"
      ],
      "metadata": {
        "colab": {
          "base_uri": "https://localhost:8080/",
          "height": 204
        },
        "id": "pdXyfLySyLxk",
        "outputId": "526a98fe-8804-4143-aa10-fd615c2aa1e0"
      },
      "execution_count": null,
      "outputs": [
        {
          "output_type": "execute_result",
          "data": {
            "text/plain": [
              "   eval_loss  eval_accuracy  eval_runtime  eval_samples_per_second  \\\n",
              "0   0.166496           0.96        2.7406                   18.244   \n",
              "1   0.007811           1.00        2.3464                   21.310   \n",
              "2   0.002160           1.00        2.4911                   20.071   \n",
              "3   0.001070           1.00        3.3647                   14.860   \n",
              "4   0.000714           1.00        2.3513                   21.265   \n",
              "\n",
              "   eval_steps_per_second  epoch  step  \n",
              "0                  0.730    1.0     7  \n",
              "1                  0.852    2.0    14  \n",
              "2                  0.803    3.0    21  \n",
              "3                  0.594    4.0    28  \n",
              "4                  0.851    5.0    35  "
            ],
            "text/html": [
              "\n",
              "  <div id=\"df-24a5886b-a122-496d-ae57-cdcb4a7ec55c\" class=\"colab-df-container\">\n",
              "    <div>\n",
              "<style scoped>\n",
              "    .dataframe tbody tr th:only-of-type {\n",
              "        vertical-align: middle;\n",
              "    }\n",
              "\n",
              "    .dataframe tbody tr th {\n",
              "        vertical-align: top;\n",
              "    }\n",
              "\n",
              "    .dataframe thead th {\n",
              "        text-align: right;\n",
              "    }\n",
              "</style>\n",
              "<table border=\"1\" class=\"dataframe\">\n",
              "  <thead>\n",
              "    <tr style=\"text-align: right;\">\n",
              "      <th></th>\n",
              "      <th>eval_loss</th>\n",
              "      <th>eval_accuracy</th>\n",
              "      <th>eval_runtime</th>\n",
              "      <th>eval_samples_per_second</th>\n",
              "      <th>eval_steps_per_second</th>\n",
              "      <th>epoch</th>\n",
              "      <th>step</th>\n",
              "    </tr>\n",
              "  </thead>\n",
              "  <tbody>\n",
              "    <tr>\n",
              "      <th>0</th>\n",
              "      <td>0.166496</td>\n",
              "      <td>0.96</td>\n",
              "      <td>2.7406</td>\n",
              "      <td>18.244</td>\n",
              "      <td>0.730</td>\n",
              "      <td>1.0</td>\n",
              "      <td>7</td>\n",
              "    </tr>\n",
              "    <tr>\n",
              "      <th>1</th>\n",
              "      <td>0.007811</td>\n",
              "      <td>1.00</td>\n",
              "      <td>2.3464</td>\n",
              "      <td>21.310</td>\n",
              "      <td>0.852</td>\n",
              "      <td>2.0</td>\n",
              "      <td>14</td>\n",
              "    </tr>\n",
              "    <tr>\n",
              "      <th>2</th>\n",
              "      <td>0.002160</td>\n",
              "      <td>1.00</td>\n",
              "      <td>2.4911</td>\n",
              "      <td>20.071</td>\n",
              "      <td>0.803</td>\n",
              "      <td>3.0</td>\n",
              "      <td>21</td>\n",
              "    </tr>\n",
              "    <tr>\n",
              "      <th>3</th>\n",
              "      <td>0.001070</td>\n",
              "      <td>1.00</td>\n",
              "      <td>3.3647</td>\n",
              "      <td>14.860</td>\n",
              "      <td>0.594</td>\n",
              "      <td>4.0</td>\n",
              "      <td>28</td>\n",
              "    </tr>\n",
              "    <tr>\n",
              "      <th>4</th>\n",
              "      <td>0.000714</td>\n",
              "      <td>1.00</td>\n",
              "      <td>2.3513</td>\n",
              "      <td>21.265</td>\n",
              "      <td>0.851</td>\n",
              "      <td>5.0</td>\n",
              "      <td>35</td>\n",
              "    </tr>\n",
              "  </tbody>\n",
              "</table>\n",
              "</div>\n",
              "    <div class=\"colab-df-buttons\">\n",
              "\n",
              "  <div class=\"colab-df-container\">\n",
              "    <button class=\"colab-df-convert\" onclick=\"convertToInteractive('df-24a5886b-a122-496d-ae57-cdcb4a7ec55c')\"\n",
              "            title=\"Convert this dataframe to an interactive table.\"\n",
              "            style=\"display:none;\">\n",
              "\n",
              "  <svg xmlns=\"http://www.w3.org/2000/svg\" height=\"24px\" viewBox=\"0 -960 960 960\">\n",
              "    <path d=\"M120-120v-720h720v720H120Zm60-500h600v-160H180v160Zm220 220h160v-160H400v160Zm0 220h160v-160H400v160ZM180-400h160v-160H180v160Zm440 0h160v-160H620v160ZM180-180h160v-160H180v160Zm440 0h160v-160H620v160Z\"/>\n",
              "  </svg>\n",
              "    </button>\n",
              "\n",
              "  <style>\n",
              "    .colab-df-container {\n",
              "      display:flex;\n",
              "      gap: 12px;\n",
              "    }\n",
              "\n",
              "    .colab-df-convert {\n",
              "      background-color: #E8F0FE;\n",
              "      border: none;\n",
              "      border-radius: 50%;\n",
              "      cursor: pointer;\n",
              "      display: none;\n",
              "      fill: #1967D2;\n",
              "      height: 32px;\n",
              "      padding: 0 0 0 0;\n",
              "      width: 32px;\n",
              "    }\n",
              "\n",
              "    .colab-df-convert:hover {\n",
              "      background-color: #E2EBFA;\n",
              "      box-shadow: 0px 1px 2px rgba(60, 64, 67, 0.3), 0px 1px 3px 1px rgba(60, 64, 67, 0.15);\n",
              "      fill: #174EA6;\n",
              "    }\n",
              "\n",
              "    .colab-df-buttons div {\n",
              "      margin-bottom: 4px;\n",
              "    }\n",
              "\n",
              "    [theme=dark] .colab-df-convert {\n",
              "      background-color: #3B4455;\n",
              "      fill: #D2E3FC;\n",
              "    }\n",
              "\n",
              "    [theme=dark] .colab-df-convert:hover {\n",
              "      background-color: #434B5C;\n",
              "      box-shadow: 0px 1px 3px 1px rgba(0, 0, 0, 0.15);\n",
              "      filter: drop-shadow(0px 1px 2px rgba(0, 0, 0, 0.3));\n",
              "      fill: #FFFFFF;\n",
              "    }\n",
              "  </style>\n",
              "\n",
              "    <script>\n",
              "      const buttonEl =\n",
              "        document.querySelector('#df-24a5886b-a122-496d-ae57-cdcb4a7ec55c button.colab-df-convert');\n",
              "      buttonEl.style.display =\n",
              "        google.colab.kernel.accessAllowed ? 'block' : 'none';\n",
              "\n",
              "      async function convertToInteractive(key) {\n",
              "        const element = document.querySelector('#df-24a5886b-a122-496d-ae57-cdcb4a7ec55c');\n",
              "        const dataTable =\n",
              "          await google.colab.kernel.invokeFunction('convertToInteractive',\n",
              "                                                    [key], {});\n",
              "        if (!dataTable) return;\n",
              "\n",
              "        const docLinkHtml = 'Like what you see? Visit the ' +\n",
              "          '<a target=\"_blank\" href=https://colab.research.google.com/notebooks/data_table.ipynb>data table notebook</a>'\n",
              "          + ' to learn more about interactive tables.';\n",
              "        element.innerHTML = '';\n",
              "        dataTable['output_type'] = 'display_data';\n",
              "        await google.colab.output.renderOutput(dataTable, element);\n",
              "        const docLink = document.createElement('div');\n",
              "        docLink.innerHTML = docLinkHtml;\n",
              "        element.appendChild(docLink);\n",
              "      }\n",
              "    </script>\n",
              "  </div>\n",
              "\n",
              "\n",
              "<div id=\"df-73a0dafe-7963-4485-b529-4e22536eff02\">\n",
              "  <button class=\"colab-df-quickchart\" onclick=\"quickchart('df-73a0dafe-7963-4485-b529-4e22536eff02')\"\n",
              "            title=\"Suggest charts\"\n",
              "            style=\"display:none;\">\n",
              "\n",
              "<svg xmlns=\"http://www.w3.org/2000/svg\" height=\"24px\"viewBox=\"0 0 24 24\"\n",
              "     width=\"24px\">\n",
              "    <g>\n",
              "        <path d=\"M19 3H5c-1.1 0-2 .9-2 2v14c0 1.1.9 2 2 2h14c1.1 0 2-.9 2-2V5c0-1.1-.9-2-2-2zM9 17H7v-7h2v7zm4 0h-2V7h2v10zm4 0h-2v-4h2v4z\"/>\n",
              "    </g>\n",
              "</svg>\n",
              "  </button>\n",
              "\n",
              "<style>\n",
              "  .colab-df-quickchart {\n",
              "      --bg-color: #E8F0FE;\n",
              "      --fill-color: #1967D2;\n",
              "      --hover-bg-color: #E2EBFA;\n",
              "      --hover-fill-color: #174EA6;\n",
              "      --disabled-fill-color: #AAA;\n",
              "      --disabled-bg-color: #DDD;\n",
              "  }\n",
              "\n",
              "  [theme=dark] .colab-df-quickchart {\n",
              "      --bg-color: #3B4455;\n",
              "      --fill-color: #D2E3FC;\n",
              "      --hover-bg-color: #434B5C;\n",
              "      --hover-fill-color: #FFFFFF;\n",
              "      --disabled-bg-color: #3B4455;\n",
              "      --disabled-fill-color: #666;\n",
              "  }\n",
              "\n",
              "  .colab-df-quickchart {\n",
              "    background-color: var(--bg-color);\n",
              "    border: none;\n",
              "    border-radius: 50%;\n",
              "    cursor: pointer;\n",
              "    display: none;\n",
              "    fill: var(--fill-color);\n",
              "    height: 32px;\n",
              "    padding: 0;\n",
              "    width: 32px;\n",
              "  }\n",
              "\n",
              "  .colab-df-quickchart:hover {\n",
              "    background-color: var(--hover-bg-color);\n",
              "    box-shadow: 0 1px 2px rgba(60, 64, 67, 0.3), 0 1px 3px 1px rgba(60, 64, 67, 0.15);\n",
              "    fill: var(--button-hover-fill-color);\n",
              "  }\n",
              "\n",
              "  .colab-df-quickchart-complete:disabled,\n",
              "  .colab-df-quickchart-complete:disabled:hover {\n",
              "    background-color: var(--disabled-bg-color);\n",
              "    fill: var(--disabled-fill-color);\n",
              "    box-shadow: none;\n",
              "  }\n",
              "\n",
              "  .colab-df-spinner {\n",
              "    border: 2px solid var(--fill-color);\n",
              "    border-color: transparent;\n",
              "    border-bottom-color: var(--fill-color);\n",
              "    animation:\n",
              "      spin 1s steps(1) infinite;\n",
              "  }\n",
              "\n",
              "  @keyframes spin {\n",
              "    0% {\n",
              "      border-color: transparent;\n",
              "      border-bottom-color: var(--fill-color);\n",
              "      border-left-color: var(--fill-color);\n",
              "    }\n",
              "    20% {\n",
              "      border-color: transparent;\n",
              "      border-left-color: var(--fill-color);\n",
              "      border-top-color: var(--fill-color);\n",
              "    }\n",
              "    30% {\n",
              "      border-color: transparent;\n",
              "      border-left-color: var(--fill-color);\n",
              "      border-top-color: var(--fill-color);\n",
              "      border-right-color: var(--fill-color);\n",
              "    }\n",
              "    40% {\n",
              "      border-color: transparent;\n",
              "      border-right-color: var(--fill-color);\n",
              "      border-top-color: var(--fill-color);\n",
              "    }\n",
              "    60% {\n",
              "      border-color: transparent;\n",
              "      border-right-color: var(--fill-color);\n",
              "    }\n",
              "    80% {\n",
              "      border-color: transparent;\n",
              "      border-right-color: var(--fill-color);\n",
              "      border-bottom-color: var(--fill-color);\n",
              "    }\n",
              "    90% {\n",
              "      border-color: transparent;\n",
              "      border-bottom-color: var(--fill-color);\n",
              "    }\n",
              "  }\n",
              "</style>\n",
              "\n",
              "  <script>\n",
              "    async function quickchart(key) {\n",
              "      const quickchartButtonEl =\n",
              "        document.querySelector('#' + key + ' button');\n",
              "      quickchartButtonEl.disabled = true;  // To prevent multiple clicks.\n",
              "      quickchartButtonEl.classList.add('colab-df-spinner');\n",
              "      try {\n",
              "        const charts = await google.colab.kernel.invokeFunction(\n",
              "            'suggestCharts', [key], {});\n",
              "      } catch (error) {\n",
              "        console.error('Error during call to suggestCharts:', error);\n",
              "      }\n",
              "      quickchartButtonEl.classList.remove('colab-df-spinner');\n",
              "      quickchartButtonEl.classList.add('colab-df-quickchart-complete');\n",
              "    }\n",
              "    (() => {\n",
              "      let quickchartButtonEl =\n",
              "        document.querySelector('#df-73a0dafe-7963-4485-b529-4e22536eff02 button');\n",
              "      quickchartButtonEl.style.display =\n",
              "        google.colab.kernel.accessAllowed ? 'block' : 'none';\n",
              "    })();\n",
              "  </script>\n",
              "</div>\n",
              "\n",
              "    </div>\n",
              "  </div>\n"
            ],
            "application/vnd.google.colaboratory.intrinsic+json": {
              "type": "dataframe",
              "variable_name": "trainer_history_eval_df",
              "summary": "{\n  \"name\": \"trainer_history_eval_df\",\n  \"rows\": 10,\n  \"fields\": [\n    {\n      \"column\": \"eval_loss\",\n      \"properties\": {\n        \"dtype\": \"number\",\n        \"std\": 0.05220230781178825,\n        \"min\": 0.0004361069586593658,\n        \"max\": 0.16649629175662994,\n        \"num_unique_values\": 10,\n        \"samples\": [\n          0.00044250674545764923,\n          0.007810888346284628,\n          0.0005691694677807391\n        ],\n        \"semantic_type\": \"\",\n        \"description\": \"\"\n      }\n    },\n    {\n      \"column\": \"eval_accuracy\",\n      \"properties\": {\n        \"dtype\": \"number\",\n        \"std\": 0.012649110640673526,\n        \"min\": 0.96,\n        \"max\": 1.0,\n        \"num_unique_values\": 2,\n        \"samples\": [\n          1.0,\n          0.96\n        ],\n        \"semantic_type\": \"\",\n        \"description\": \"\"\n      }\n    },\n    {\n      \"column\": \"eval_runtime\",\n      \"properties\": {\n        \"dtype\": \"number\",\n        \"std\": 0.3707640849201371,\n        \"min\": 2.3253,\n        \"max\": 3.3647,\n        \"num_unique_values\": 10,\n        \"samples\": [\n          2.418,\n          2.3464\n        ],\n        \"semantic_type\": \"\",\n        \"description\": \"\"\n      }\n    },\n    {\n      \"column\": \"eval_samples_per_second\",\n      \"properties\": {\n        \"dtype\": \"number\",\n        \"std\": 2.4501331687164365,\n        \"min\": 14.86,\n        \"max\": 21.503,\n        \"num_unique_values\": 10,\n        \"samples\": [\n          20.678,\n          21.31\n        ],\n        \"semantic_type\": \"\",\n        \"description\": \"\"\n      }\n    },\n    {\n      \"column\": \"eval_steps_per_second\",\n      \"properties\": {\n        \"dtype\": \"number\",\n        \"std\": 0.09800731265233903,\n        \"min\": 0.594,\n        \"max\": 0.86,\n        \"num_unique_values\": 10,\n        \"samples\": [\n          0.827,\n          0.852\n        ],\n        \"semantic_type\": \"\",\n        \"description\": \"\"\n      }\n    },\n    {\n      \"column\": \"epoch\",\n      \"properties\": {\n        \"dtype\": \"number\",\n        \"std\": 3.0276503540974917,\n        \"min\": 1.0,\n        \"max\": 10.0,\n        \"num_unique_values\": 10,\n        \"samples\": [\n          9.0,\n          2.0\n        ],\n        \"semantic_type\": \"\",\n        \"description\": \"\"\n      }\n    },\n    {\n      \"column\": \"step\",\n      \"properties\": {\n        \"dtype\": \"number\",\n        \"std\": 21,\n        \"min\": 7,\n        \"max\": 70,\n        \"num_unique_values\": 10,\n        \"samples\": [\n          63,\n          14\n        ],\n        \"semantic_type\": \"\",\n        \"description\": \"\"\n      }\n    }\n  ]\n}"
            }
          },
          "metadata": {},
          "execution_count": 54
        }
      ]
    },
    {
      "cell_type": "code",
      "source": [
        "# Plot the loss curves\n",
        "import matplotlib.pyplot as plt\n",
        "\n",
        "plt.figure(figsize = (10,6))\n",
        "plt.plot(trainer_history_train_df['epoch'], trainer_history_train_df['loss'], label = 'Training loss')\n",
        "plt.plot(trainer_history_eval_df['epoch'], trainer_history_eval_df['eval_loss'], label = 'Eval loss')\n",
        "plt.xlabel('Epoch')\n",
        "plt.ylabel('Loss')\n",
        "plt.title('Text classification fine-tuning DistilBert training and evaluation loss over time')\n",
        "plt.legend()\n",
        "plt.show()"
      ],
      "metadata": {
        "colab": {
          "base_uri": "https://localhost:8080/",
          "height": 564
        },
        "id": "XbgqgLmWzJSp",
        "outputId": "41ba0601-9c3d-4bd7-b33f-6ceb8610d72a"
      },
      "execution_count": null,
      "outputs": [
        {
          "output_type": "display_data",
          "data": {
            "text/plain": [
              "<Figure size 1000x600 with 1 Axes>"
            ],
            "image/png": "[encoded data removed]"
          },
          "metadata": {}
        }
      ]
    },
    {
      "cell_type": "markdown",
      "source": [
        "To learn more about overfitting and underfitting, see: https://en.wikipedia.org/wiki/Overfitting"
      ],
      "metadata": {
        "id": "ANBjc59J2t_p"
      }
    },
    {
      "cell_type": "markdown",
      "source": [
        "### Pushing our model to the Hugging Face Hub\n",
        "\n",
        "Why do this?\n",
        "\n",
        "1. So we can share our model.\n",
        "\n",
        "2. Other people can try it out.\n",
        "\n",
        "3. We can keep a history of different model versions.\n",
        "\n",
        "To write to Hugging Face:\n",
        "- If on Google Colab: setup \"token\" with \" read and write\" access\n",
        "- If on local machine: setup 'huggingface-cli' (https://huggingface.co/docs/huggingface_hub/guides/cli)\n",
        "\n",
        "To save to the Huggin Face Hub, we can use the 'Trainer.push_to_hub' method: https://huggingface.co/docs/transformers/en/main_classes/trainer#transformers.Trainer.push_to_hub"
      ],
      "metadata": {
        "id": "vvJfQJ_K7ZEW"
      }
    },
    {
      "cell_type": "code",
      "source": [
        "# Save our model to Hugging Face Hub\n",
        "model_upload_url = trainer.push_to_hub(\n",
        "    commit_message = 'Uploading food not_food text classifier model',\n",
        "    # token = 'YOUR_TOKEN_HERE' # but not recommended, instead setup the HF token in your Colab\n",
        ")\n",
        "print(f'[INFO] Model successfully uploaded to the Hugging Face Hub with URL: {model_upload_url}')"
      ],
      "metadata": {
        "colab": {
          "base_uri": "https://localhost:8080/",
          "height": 130,
          "referenced_widgets": [
            "b53c53c6574a41fdb3a60e1d62788b2b",
            "18f848a3ab564276a55aeb57530e5046",
            "4259f0c45538417f8977ae921a3b3f97",
            "43a516f9ec2b422cb7c4ca76a8502602",
            "d51ed27ab41c4dd686b9091ee3b1197d",
            "1ab100e6b8f849d6a36594f2d8e45abc",
            "b2ffe2aefd514c2a8bf522e8e3eb0538",
            "50f11e42f31f432584ab08eea3366aad",
            "52beac899f4f48308f8ce1d2f7ec3e37",
            "6c26bde971a8469686c1ef07be890adc",
            "185ac0e4b60f4fec98cdfd0b05e08706",
            "4785fa1aaaed49e3990fb8af05e99b80",
            "46501ec6f0124d80a583a99d7da56bf1",
            "7114155482344805913200681bdb6a14",
            "0302bd1315ca4e2aadb9825aa4f6d453",
            "6de57039ccb0474193dd0001b049af84",
            "73a1ff28660e43eb90028e6a4d909660",
            "1a8c32468d884c9f91fcaa883d3ea46c",
            "b803bf92655c49b08088db0eb8a2a0dc",
            "3b8aae22bbf24ec787717e524a5f040f",
            "f8376bebf75145ff9e4504b451d115c5",
            "fb892041f44d4919ab65fb1819702e06",
            "6bd56f630b794fcfa60ca51512a19dd7",
            "63e24bcf048a4331a2412430d63ec7b0",
            "77ece8c7a44843198a05318a69ec5d12",
            "26c5ddb1ab6d45a8a6bdc0742f6b754a",
            "c6605e852c2e44f1a16948b4cd5efb98",
            "a654e14e19dc45e182a57f71723fac1c",
            "df9363fbbdc74a7bbf76b569eb7bf9e3",
            "f3113d7abde64a548be502254273fef4",
            "0b98e0e2e93342ce90a716e68796bf66",
            "9e842ad079a44adea6bd0ae9f0552076",
            "46c99374f9b641d4950a74e42ead4813"
          ]
        },
        "id": "ssnH0lCL7tkD",
        "outputId": "d7fc0b27-612d-4baf-d506-7e904bdcbb38"
      },
      "execution_count": null,
      "outputs": [
        {
          "output_type": "display_data",
          "data": {
            "text/plain": [
              "model.safetensors:   0%|          | 0.00/268M [00:00<?, ?B/s]"
            ],
            "application/vnd.jupyter.widget-view+json": {
              "version_major": 2,
              "version_minor": 0,
              "model_id": "b53c53c6574a41fdb3a60e1d62788b2b"
            }
          },
          "metadata": {}
        },
        {
          "output_type": "display_data",
          "data": {
            "text/plain": [
              "training_args.bin:   0%|          | 0.00/5.37k [00:00<?, ?B/s]"
            ],
            "application/vnd.jupyter.widget-view+json": {
              "version_major": 2,
              "version_minor": 0,
              "model_id": "4785fa1aaaed49e3990fb8af05e99b80"
            }
          },
          "metadata": {}
        },
        {
          "output_type": "display_data",
          "data": {
            "text/plain": [
              "Upload 2 LFS files:   0%|          | 0/2 [00:00<?, ?it/s]"
            ],
            "application/vnd.jupyter.widget-view+json": {
              "version_major": 2,
              "version_minor": 0,
              "model_id": "6bd56f630b794fcfa60ca51512a19dd7"
            }
          },
          "metadata": {}
        },
        {
          "output_type": "stream",
          "name": "stdout",
          "text": [
            "[INFO] Model successfully uploaded to the Hugging Face Hub with URL: https://huggingface.co/turtlemb/learn_hf_food_not_food_text_classifier-distilbert-base-uncased/tree/main/\n"
          ]
        }
      ]
    },
    {
      "cell_type": "markdown",
      "source": [
        "### Making and evaluating predictions on the test data\n",
        "\n",
        "1. ✅Create and preprocess data\n",
        "2. ✅Define the model we'd like to use for our problem: https://huggingface.co/models or see the \"task guides\" in HF Transformers docs: https://huggingface.co/docs/transformers/main/en/tasks/sequence_classification\n",
        "3. ✅Define our training arguments for training our model 'transformers.TrainingArguments'\n",
        "  * These are also known as \"hyperparameters\" = settings on your model that you can adjust\n",
        "  * Parameters = weights/patterns in the model that get updated automatically\n",
        "4. ✅Pass 'TrainingArguments' to an instance of 'transformers.Trainer'\n",
        "5. ✅Train the model by calling 'Trainer.train()'\n",
        "6. ✅Save the model (to our local machine or to the Hugging Face Hub)\n",
        "7. Evaluate the trained model by making and inspecting predictions on the test data (and our own custom data of course!)\n",
        "8. Turn the model into a shareable demo\n",
        "\n",
        "> **Note:** Evaluating a model is just as important as training a model.\n",
        "\n",
        "We can make predictions on the test data using the Trainer.predict method:\n",
        "https://huggingface.co/docs/transformers/en/main_classes/trainer#transformers.Trainer.predict"
      ],
      "metadata": {
        "id": "IRqdqKZfQui7"
      }
    },
    {
      "cell_type": "code",
      "source": [
        "# Perform predictions on the test data\n",
        "predictions_all = trainer.predict(tokenized_dataset['test'])\n",
        "prediction_values = predictions_all.predictions\n",
        "prediction_metrics = predictions_all.metrics\n",
        "\n",
        "print(f'[INFO] Prediction metrics on the test data:')\n",
        "prediction_metrics"
      ],
      "metadata": {
        "colab": {
          "base_uri": "https://localhost:8080/",
          "height": 119
        },
        "id": "AZqpZ7V4RjEu",
        "outputId": "94411b80-2555-48c0-a634-8f973d41d912"
      },
      "execution_count": null,
      "outputs": [
        {
          "output_type": "display_data",
          "data": {
            "text/plain": [
              "<IPython.core.display.HTML object>"
            ],
            "text/html": []
          },
          "metadata": {}
        },
        {
          "output_type": "stream",
          "name": "stdout",
          "text": [
            "[INFO] Prediction metrics on the test data:\n"
          ]
        },
        {
          "output_type": "execute_result",
          "data": {
            "text/plain": [
              "{'test_loss': 0.0004361069586593658,\n",
              " 'test_accuracy': 1.0,\n",
              " 'test_runtime': 3.2301,\n",
              " 'test_samples_per_second': 15.479,\n",
              " 'test_steps_per_second': 0.619}"
            ]
          },
          "metadata": {},
          "execution_count": 56
        }
      ]
    },
    {
      "cell_type": "code",
      "source": [
        "# Model outputs raw logits\n",
        "predictions_all.predictions[0]"
      ],
      "metadata": {
        "colab": {
          "base_uri": "https://localhost:8080/"
        },
        "id": "eA_YuiV25Djp",
        "outputId": "3736efc8-8ad9-44df-b17f-6e5721edfdbd"
      },
      "execution_count": null,
      "outputs": [
        {
          "output_type": "execute_result",
          "data": {
            "text/plain": [
              "array([-3.5225344,  4.2668843], dtype=float32)"
            ]
          },
          "metadata": {},
          "execution_count": 57
        }
      ]
    },
    {
      "cell_type": "code",
      "source": [
        "# Softmax gets all values to be between 0 & 1 and the total of the values sum to 1\n",
        "# This is what's known as a \"prediction probability\", as the model is assigning this value to how \"likely\" the prediction is given the sample\n",
        "\n",
        "torch.softmax(torch.tensor(predictions_all.predictions[0]), dim = 0)"
      ],
      "metadata": {
        "colab": {
          "base_uri": "https://localhost:8080/"
        },
        "id": "78HvyhGi7SpN",
        "outputId": "8b5a024c-d87c-4ba6-a444-af8822f0a3e7"
      },
      "execution_count": null,
      "outputs": [
        {
          "output_type": "execute_result",
          "data": {
            "text/plain": [
              "tensor([4.1392e-04, 9.9959e-01])"
            ]
          },
          "metadata": {},
          "execution_count": 58
        }
      ]
    },
    {
      "cell_type": "markdown",
      "source": [
        "> **Note**: If you want a good evaluation method, make predictions on your entire test dataset, then index on the predictions which are wrong but have high prediction probability. For example, get the top 100-1000 and go through all of the examples where the model's prediction had high probability but was incorrect -> this often leads to great insights into your data."
      ],
      "metadata": {
        "id": "QAyvkA5b8Zn2"
      }
    },
    {
      "cell_type": "code",
      "source": [
        "0.99964, 0.00036015 # Note: these values don't suggest how \"right\" the model is, because a model can have a high prediction probability but still be wrong"
      ],
      "metadata": {
        "id": "dT65_OUW34sm",
        "colab": {
          "base_uri": "https://localhost:8080/"
        },
        "outputId": "afcea310-e85a-4ace-a8bf-a3fbf7d9c97c"
      },
      "execution_count": null,
      "outputs": [
        {
          "output_type": "execute_result",
          "data": {
            "text/plain": [
              "(0.99964, 0.00036015)"
            ]
          },
          "metadata": {},
          "execution_count": 59
        }
      ]
    },
    {
      "cell_type": "markdown",
      "source": [
        "### Let's get prediction probabilities and evaluate by hand"
      ],
      "metadata": {
        "id": "VS9nKsvK3AcB"
      }
    },
    {
      "cell_type": "code",
      "source": [
        "# Predicted logits (neural network raw output called a logit) -> predictions, probabilities with torch.softmax -> predicted labels\n",
        "import torch\n",
        "from sklearn.metrics import accuracy_score\n",
        "\n",
        "# 1. Get prediction probabilities with torch.softmax\n",
        "pred_probs = torch.softmax(torch.tensor(prediction_values), dim = 1)\n",
        "pred_probs\n",
        "\n",
        "# 2. Get the predicted labels\n",
        "pred_labels = torch.argmax(pred_probs, dim = 1)\n",
        "pred_labels\n",
        "\n",
        "# 3. Get the true labels\n",
        "true_labels = tokenized_dataset[\"test\"]['label']\n",
        "true_labels\n",
        "\n",
        "# 4. Compute prediction labels to true labels and get the test accuracy\n",
        "test_accuracy = accuracy_score(y_true=true_labels,\n",
        "                               y_pred=pred_labels)\n",
        "\n",
        "print(f'[INFO] Test accuracy: {test_accuracy*100}')"
      ],
      "metadata": {
        "colab": {
          "base_uri": "https://localhost:8080/"
        },
        "id": "BnKJihDJ2RCr",
        "outputId": "cb52391e-b3d9-495f-9a1a-1d8f5962cd6f"
      },
      "execution_count": null,
      "outputs": [
        {
          "output_type": "stream",
          "name": "stdout",
          "text": [
            "[INFO] Test accuracy: 100.0\n"
          ]
        }
      ]
    },
    {
      "cell_type": "markdown",
      "source": [
        "### Exploring our models prediction probabilities\n",
        "\n",
        "It's a very good way to evaluate a model by sorting predictions by prediction probabilities and seeing where the model went wrong."
      ],
      "metadata": {
        "id": "vgo7mIwN90Z9"
      }
    },
    {
      "cell_type": "code",
      "source": [
        "# Make a DataFrame of test predictions\n",
        "test_predictions_df = pd.DataFrame({\n",
        "    'text': tokenized_dataset['test']['text'],\n",
        "    'true_label': true_labels,\n",
        "    'pred_label': pred_labels,\n",
        "    'pred_prob': torch.max(pred_probs, dim=1).values\n",
        "})\n",
        "\n",
        "test_predictions_df.head()"
      ],
      "metadata": {
        "colab": {
          "base_uri": "https://localhost:8080/",
          "height": 204
        },
        "id": "kxd_n5S7FiBo",
        "outputId": "2c3675d7-bf9f-4857-b192-40068b0578ef"
      },
      "execution_count": null,
      "outputs": [
        {
          "output_type": "execute_result",
          "data": {
            "text/plain": [
              "                                                text  true_label  pred_label  \\\n",
              "0  A slice of pepperoni pizza with a layer of mel...           1           1   \n",
              "1  Red brick fireplace with a mantel serving as a...           0           0   \n",
              "2  A bowl of sliced bell peppers with a sprinkle ...           1           1   \n",
              "3                      Set of mugs hanging on a hook           0           0   \n",
              "4  Standing floor lamp providing light next to an...           0           0   \n",
              "\n",
              "   pred_prob  \n",
              "0   0.999586  \n",
              "1   0.999568  \n",
              "2   0.999591  \n",
              "3   0.999646  \n",
              "4   0.999640  "
            ],
            "text/html": [
              "\n",
              "  <div id=\"df-9646d93d-9ba3-4e65-9f99-5a874aa562bc\" class=\"colab-df-container\">\n",
              "    <div>\n",
              "<style scoped>\n",
              "    .dataframe tbody tr th:only-of-type {\n",
              "        vertical-align: middle;\n",
              "    }\n",
              "\n",
              "    .dataframe tbody tr th {\n",
              "        vertical-align: top;\n",
              "    }\n",
              "\n",
              "    .dataframe thead th {\n",
              "        text-align: right;\n",
              "    }\n",
              "</style>\n",
              "<table border=\"1\" class=\"dataframe\">\n",
              "  <thead>\n",
              "    <tr style=\"text-align: right;\">\n",
              "      <th></th>\n",
              "      <th>text</th>\n",
              "      <th>true_label</th>\n",
              "      <th>pred_label</th>\n",
              "      <th>pred_prob</th>\n",
              "    </tr>\n",
              "  </thead>\n",
              "  <tbody>\n",
              "    <tr>\n",
              "      <th>0</th>\n",
              "      <td>A slice of pepperoni pizza with a layer of mel...</td>\n",
              "      <td>1</td>\n",
              "      <td>1</td>\n",
              "      <td>0.999586</td>\n",
              "    </tr>\n",
              "    <tr>\n",
              "      <th>1</th>\n",
              "      <td>Red brick fireplace with a mantel serving as a...</td>\n",
              "      <td>0</td>\n",
              "      <td>0</td>\n",
              "      <td>0.999568</td>\n",
              "    </tr>\n",
              "    <tr>\n",
              "      <th>2</th>\n",
              "      <td>A bowl of sliced bell peppers with a sprinkle ...</td>\n",
              "      <td>1</td>\n",
              "      <td>1</td>\n",
              "      <td>0.999591</td>\n",
              "    </tr>\n",
              "    <tr>\n",
              "      <th>3</th>\n",
              "      <td>Set of mugs hanging on a hook</td>\n",
              "      <td>0</td>\n",
              "      <td>0</td>\n",
              "      <td>0.999646</td>\n",
              "    </tr>\n",
              "    <tr>\n",
              "      <th>4</th>\n",
              "      <td>Standing floor lamp providing light next to an...</td>\n",
              "      <td>0</td>\n",
              "      <td>0</td>\n",
              "      <td>0.999640</td>\n",
              "    </tr>\n",
              "  </tbody>\n",
              "</table>\n",
              "</div>\n",
              "    <div class=\"colab-df-buttons\">\n",
              "\n",
              "  <div class=\"colab-df-container\">\n",
              "    <button class=\"colab-df-convert\" onclick=\"convertToInteractive('df-9646d93d-9ba3-4e65-9f99-5a874aa562bc')\"\n",
              "            title=\"Convert this dataframe to an interactive table.\"\n",
              "            style=\"display:none;\">\n",
              "\n",
              "  <svg xmlns=\"http://www.w3.org/2000/svg\" height=\"24px\" viewBox=\"0 -960 960 960\">\n",
              "    <path d=\"M120-120v-720h720v720H120Zm60-500h600v-160H180v160Zm220 220h160v-160H400v160Zm0 220h160v-160H400v160ZM180-400h160v-160H180v160Zm440 0h160v-160H620v160ZM180-180h160v-160H180v160Zm440 0h160v-160H620v160Z\"/>\n",
              "  </svg>\n",
              "    </button>\n",
              "\n",
              "  <style>\n",
              "    .colab-df-container {\n",
              "      display:flex;\n",
              "      gap: 12px;\n",
              "    }\n",
              "\n",
              "    .colab-df-convert {\n",
              "      background-color: #E8F0FE;\n",
              "      border: none;\n",
              "      border-radius: 50%;\n",
              "      cursor: pointer;\n",
              "      display: none;\n",
              "      fill: #1967D2;\n",
              "      height: 32px;\n",
              "      padding: 0 0 0 0;\n",
              "      width: 32px;\n",
              "    }\n",
              "\n",
              "    .colab-df-convert:hover {\n",
              "      background-color: #E2EBFA;\n",
              "      box-shadow: 0px 1px 2px rgba(60, 64, 67, 0.3), 0px 1px 3px 1px rgba(60, 64, 67, 0.15);\n",
              "      fill: #174EA6;\n",
              "    }\n",
              "\n",
              "    .colab-df-buttons div {\n",
              "      margin-bottom: 4px;\n",
              "    }\n",
              "\n",
              "    [theme=dark] .colab-df-convert {\n",
              "      background-color: #3B4455;\n",
              "      fill: #D2E3FC;\n",
              "    }\n",
              "\n",
              "    [theme=dark] .colab-df-convert:hover {\n",
              "      background-color: #434B5C;\n",
              "      box-shadow: 0px 1px 3px 1px rgba(0, 0, 0, 0.15);\n",
              "      filter: drop-shadow(0px 1px 2px rgba(0, 0, 0, 0.3));\n",
              "      fill: #FFFFFF;\n",
              "    }\n",
              "  </style>\n",
              "\n",
              "    <script>\n",
              "      const buttonEl =\n",
              "        document.querySelector('#df-9646d93d-9ba3-4e65-9f99-5a874aa562bc button.colab-df-convert');\n",
              "      buttonEl.style.display =\n",
              "        google.colab.kernel.accessAllowed ? 'block' : 'none';\n",
              "\n",
              "      async function convertToInteractive(key) {\n",
              "        const element = document.querySelector('#df-9646d93d-9ba3-4e65-9f99-5a874aa562bc');\n",
              "        const dataTable =\n",
              "          await google.colab.kernel.invokeFunction('convertToInteractive',\n",
              "                                                    [key], {});\n",
              "        if (!dataTable) return;\n",
              "\n",
              "        const docLinkHtml = 'Like what you see? Visit the ' +\n",
              "          '<a target=\"_blank\" href=https://colab.research.google.com/notebooks/data_table.ipynb>data table notebook</a>'\n",
              "          + ' to learn more about interactive tables.';\n",
              "        element.innerHTML = '';\n",
              "        dataTable['output_type'] = 'display_data';\n",
              "        await google.colab.output.renderOutput(dataTable, element);\n",
              "        const docLink = document.createElement('div');\n",
              "        docLink.innerHTML = docLinkHtml;\n",
              "        element.appendChild(docLink);\n",
              "      }\n",
              "    </script>\n",
              "  </div>\n",
              "\n",
              "\n",
              "<div id=\"df-c82cd43c-9715-4187-98ae-164826ca307b\">\n",
              "  <button class=\"colab-df-quickchart\" onclick=\"quickchart('df-c82cd43c-9715-4187-98ae-164826ca307b')\"\n",
              "            title=\"Suggest charts\"\n",
              "            style=\"display:none;\">\n",
              "\n",
              "<svg xmlns=\"http://www.w3.org/2000/svg\" height=\"24px\"viewBox=\"0 0 24 24\"\n",
              "     width=\"24px\">\n",
              "    <g>\n",
              "        <path d=\"M19 3H5c-1.1 0-2 .9-2 2v14c0 1.1.9 2 2 2h14c1.1 0 2-.9 2-2V5c0-1.1-.9-2-2-2zM9 17H7v-7h2v7zm4 0h-2V7h2v10zm4 0h-2v-4h2v4z\"/>\n",
              "    </g>\n",
              "</svg>\n",
              "  </button>\n",
              "\n",
              "<style>\n",
              "  .colab-df-quickchart {\n",
              "      --bg-color: #E8F0FE;\n",
              "      --fill-color: #1967D2;\n",
              "      --hover-bg-color: #E2EBFA;\n",
              "      --hover-fill-color: #174EA6;\n",
              "      --disabled-fill-color: #AAA;\n",
              "      --disabled-bg-color: #DDD;\n",
              "  }\n",
              "\n",
              "  [theme=dark] .colab-df-quickchart {\n",
              "      --bg-color: #3B4455;\n",
              "      --fill-color: #D2E3FC;\n",
              "      --hover-bg-color: #434B5C;\n",
              "      --hover-fill-color: #FFFFFF;\n",
              "      --disabled-bg-color: #3B4455;\n",
              "      --disabled-fill-color: #666;\n",
              "  }\n",
              "\n",
              "  .colab-df-quickchart {\n",
              "    background-color: var(--bg-color);\n",
              "    border: none;\n",
              "    border-radius: 50%;\n",
              "    cursor: pointer;\n",
              "    display: none;\n",
              "    fill: var(--fill-color);\n",
              "    height: 32px;\n",
              "    padding: 0;\n",
              "    width: 32px;\n",
              "  }\n",
              "\n",
              "  .colab-df-quickchart:hover {\n",
              "    background-color: var(--hover-bg-color);\n",
              "    box-shadow: 0 1px 2px rgba(60, 64, 67, 0.3), 0 1px 3px 1px rgba(60, 64, 67, 0.15);\n",
              "    fill: var(--button-hover-fill-color);\n",
              "  }\n",
              "\n",
              "  .colab-df-quickchart-complete:disabled,\n",
              "  .colab-df-quickchart-complete:disabled:hover {\n",
              "    background-color: var(--disabled-bg-color);\n",
              "    fill: var(--disabled-fill-color);\n",
              "    box-shadow: none;\n",
              "  }\n",
              "\n",
              "  .colab-df-spinner {\n",
              "    border: 2px solid var(--fill-color);\n",
              "    border-color: transparent;\n",
              "    border-bottom-color: var(--fill-color);\n",
              "    animation:\n",
              "      spin 1s steps(1) infinite;\n",
              "  }\n",
              "\n",
              "  @keyframes spin {\n",
              "    0% {\n",
              "      border-color: transparent;\n",
              "      border-bottom-color: var(--fill-color);\n",
              "      border-left-color: var(--fill-color);\n",
              "    }\n",
              "    20% {\n",
              "      border-color: transparent;\n",
              "      border-left-color: var(--fill-color);\n",
              "      border-top-color: var(--fill-color);\n",
              "    }\n",
              "    30% {\n",
              "      border-color: transparent;\n",
              "      border-left-color: var(--fill-color);\n",
              "      border-top-color: var(--fill-color);\n",
              "      border-right-color: var(--fill-color);\n",
              "    }\n",
              "    40% {\n",
              "      border-color: transparent;\n",
              "      border-right-color: var(--fill-color);\n",
              "      border-top-color: var(--fill-color);\n",
              "    }\n",
              "    60% {\n",
              "      border-color: transparent;\n",
              "      border-right-color: var(--fill-color);\n",
              "    }\n",
              "    80% {\n",
              "      border-color: transparent;\n",
              "      border-right-color: var(--fill-color);\n",
              "      border-bottom-color: var(--fill-color);\n",
              "    }\n",
              "    90% {\n",
              "      border-color: transparent;\n",
              "      border-bottom-color: var(--fill-color);\n",
              "    }\n",
              "  }\n",
              "</style>\n",
              "\n",
              "  <script>\n",
              "    async function quickchart(key) {\n",
              "      const quickchartButtonEl =\n",
              "        document.querySelector('#' + key + ' button');\n",
              "      quickchartButtonEl.disabled = true;  // To prevent multiple clicks.\n",
              "      quickchartButtonEl.classList.add('colab-df-spinner');\n",
              "      try {\n",
              "        const charts = await google.colab.kernel.invokeFunction(\n",
              "            'suggestCharts', [key], {});\n",
              "      } catch (error) {\n",
              "        console.error('Error during call to suggestCharts:', error);\n",
              "      }\n",
              "      quickchartButtonEl.classList.remove('colab-df-spinner');\n",
              "      quickchartButtonEl.classList.add('colab-df-quickchart-complete');\n",
              "    }\n",
              "    (() => {\n",
              "      let quickchartButtonEl =\n",
              "        document.querySelector('#df-c82cd43c-9715-4187-98ae-164826ca307b button');\n",
              "      quickchartButtonEl.style.display =\n",
              "        google.colab.kernel.accessAllowed ? 'block' : 'none';\n",
              "    })();\n",
              "  </script>\n",
              "</div>\n",
              "\n",
              "    </div>\n",
              "  </div>\n"
            ],
            "application/vnd.google.colaboratory.intrinsic+json": {
              "type": "dataframe",
              "variable_name": "test_predictions_df",
              "summary": "{\n  \"name\": \"test_predictions_df\",\n  \"rows\": 50,\n  \"fields\": [\n    {\n      \"column\": \"text\",\n      \"properties\": {\n        \"dtype\": \"string\",\n        \"num_unique_values\": 50,\n        \"samples\": [\n          \"Comforting lamb curry bowl, featuring tender lamb slow-cooked in a flavorful sauce with cumin and coriander, garnished with toasted cumin seeds.\",\n          \"A close-up of a woman practicing yoga in the living room while her dog mimics her poses\",\n          \"Robust beef curry in a hearty bowl, simmered with a medley of spices, tomatoes, and onions, garnished with chopped green onions.\"\n        ],\n        \"semantic_type\": \"\",\n        \"description\": \"\"\n      }\n    },\n    {\n      \"column\": \"true_label\",\n      \"properties\": {\n        \"dtype\": \"number\",\n        \"std\": 0,\n        \"min\": 0,\n        \"max\": 1,\n        \"num_unique_values\": 2,\n        \"samples\": [\n          0,\n          1\n        ],\n        \"semantic_type\": \"\",\n        \"description\": \"\"\n      }\n    },\n    {\n      \"column\": \"pred_label\",\n      \"properties\": {\n        \"dtype\": \"number\",\n        \"std\": 0,\n        \"min\": 0,\n        \"max\": 1,\n        \"num_unique_values\": 2,\n        \"samples\": [\n          0,\n          1\n        ],\n        \"semantic_type\": \"\",\n        \"description\": \"\"\n      }\n    },\n    {\n      \"column\": \"pred_prob\",\n      \"properties\": {\n        \"dtype\": \"float32\",\n        \"num_unique_values\": 41,\n        \"samples\": [\n          0.9996337890625,\n          0.9995842576026917\n        ],\n        \"semantic_type\": \"\",\n        \"description\": \"\"\n      }\n    }\n  ]\n}"
            }
          },
          "metadata": {},
          "execution_count": 61
        }
      ]
    },
    {
      "cell_type": "code",
      "source": [
        "# Show 10 examples with low prediction probability\n",
        "test_predictions_df.sort_values('pred_prob', ascending=True).head(10)"
      ],
      "metadata": {
        "colab": {
          "base_uri": "https://localhost:8080/",
          "height": 359
        },
        "id": "rHB5lCu8HTrl",
        "outputId": "1adaab7c-ad04-4c26-ce26-65ff9d29c289"
      },
      "execution_count": null,
      "outputs": [
        {
          "output_type": "execute_result",
          "data": {
            "text/plain": [
              "                                                 text  true_label  pred_label  \\\n",
              "43                Set of muffin tins stacked together           0           0   \n",
              "1   Red brick fireplace with a mantel serving as a...           0           0   \n",
              "11  A close-up shot of a cheesy pizza slice being ...           1           1   \n",
              "40  A bowl of cherries with a sprig of mint for ga...           1           1   \n",
              "46  A bowl of sliced kiwi with a sprinkle of sugar...           1           1   \n",
              "26  A fruit platter with a variety of exotic fruit...           1           1   \n",
              "42  Boxes of apples, pears, pineapple, manadrins a...           1           1   \n",
              "34  Mouthwatering mushroom curry, featuring shiita...           1           1   \n",
              "41  Sushi with a spicy kick, featuring jalapeno pe...           1           1   \n",
              "13  Comforting lamb curry bowl, featuring tender l...           1           1   \n",
              "\n",
              "    pred_prob  \n",
              "43   0.997793  \n",
              "1    0.999568  \n",
              "11   0.999570  \n",
              "40   0.999572  \n",
              "46   0.999580  \n",
              "26   0.999580  \n",
              "42   0.999581  \n",
              "34   0.999582  \n",
              "41   0.999583  \n",
              "13   0.999584  "
            ],
            "text/html": [
              "\n",
              "  <div id=\"df-27f3e19f-b7f9-4d74-a0d5-83bb5dbf11c8\" class=\"colab-df-container\">\n",
              "    <div>\n",
              "<style scoped>\n",
              "    .dataframe tbody tr th:only-of-type {\n",
              "        vertical-align: middle;\n",
              "    }\n",
              "\n",
              "    .dataframe tbody tr th {\n",
              "        vertical-align: top;\n",
              "    }\n",
              "\n",
              "    .dataframe thead th {\n",
              "        text-align: right;\n",
              "    }\n",
              "</style>\n",
              "<table border=\"1\" class=\"dataframe\">\n",
              "  <thead>\n",
              "    <tr style=\"text-align: right;\">\n",
              "      <th></th>\n",
              "      <th>text</th>\n",
              "      <th>true_label</th>\n",
              "      <th>pred_label</th>\n",
              "      <th>pred_prob</th>\n",
              "    </tr>\n",
              "  </thead>\n",
              "  <tbody>\n",
              "    <tr>\n",
              "      <th>43</th>\n",
              "      <td>Set of muffin tins stacked together</td>\n",
              "      <td>0</td>\n",
              "      <td>0</td>\n",
              "      <td>0.997793</td>\n",
              "    </tr>\n",
              "    <tr>\n",
              "      <th>1</th>\n",
              "      <td>Red brick fireplace with a mantel serving as a...</td>\n",
              "      <td>0</td>\n",
              "      <td>0</td>\n",
              "      <td>0.999568</td>\n",
              "    </tr>\n",
              "    <tr>\n",
              "      <th>11</th>\n",
              "      <td>A close-up shot of a cheesy pizza slice being ...</td>\n",
              "      <td>1</td>\n",
              "      <td>1</td>\n",
              "      <td>0.999570</td>\n",
              "    </tr>\n",
              "    <tr>\n",
              "      <th>40</th>\n",
              "      <td>A bowl of cherries with a sprig of mint for ga...</td>\n",
              "      <td>1</td>\n",
              "      <td>1</td>\n",
              "      <td>0.999572</td>\n",
              "    </tr>\n",
              "    <tr>\n",
              "      <th>46</th>\n",
              "      <td>A bowl of sliced kiwi with a sprinkle of sugar...</td>\n",
              "      <td>1</td>\n",
              "      <td>1</td>\n",
              "      <td>0.999580</td>\n",
              "    </tr>\n",
              "    <tr>\n",
              "      <th>26</th>\n",
              "      <td>A fruit platter with a variety of exotic fruit...</td>\n",
              "      <td>1</td>\n",
              "      <td>1</td>\n",
              "      <td>0.999580</td>\n",
              "    </tr>\n",
              "    <tr>\n",
              "      <th>42</th>\n",
              "      <td>Boxes of apples, pears, pineapple, manadrins a...</td>\n",
              "      <td>1</td>\n",
              "      <td>1</td>\n",
              "      <td>0.999581</td>\n",
              "    </tr>\n",
              "    <tr>\n",
              "      <th>34</th>\n",
              "      <td>Mouthwatering mushroom curry, featuring shiita...</td>\n",
              "      <td>1</td>\n",
              "      <td>1</td>\n",
              "      <td>0.999582</td>\n",
              "    </tr>\n",
              "    <tr>\n",
              "      <th>41</th>\n",
              "      <td>Sushi with a spicy kick, featuring jalapeno pe...</td>\n",
              "      <td>1</td>\n",
              "      <td>1</td>\n",
              "      <td>0.999583</td>\n",
              "    </tr>\n",
              "    <tr>\n",
              "      <th>13</th>\n",
              "      <td>Comforting lamb curry bowl, featuring tender l...</td>\n",
              "      <td>1</td>\n",
              "      <td>1</td>\n",
              "      <td>0.999584</td>\n",
              "    </tr>\n",
              "  </tbody>\n",
              "</table>\n",
              "</div>\n",
              "    <div class=\"colab-df-buttons\">\n",
              "\n",
              "  <div class=\"colab-df-container\">\n",
              "    <button class=\"colab-df-convert\" onclick=\"convertToInteractive('df-27f3e19f-b7f9-4d74-a0d5-83bb5dbf11c8')\"\n",
              "            title=\"Convert this dataframe to an interactive table.\"\n",
              "            style=\"display:none;\">\n",
              "\n",
              "  <svg xmlns=\"http://www.w3.org/2000/svg\" height=\"24px\" viewBox=\"0 -960 960 960\">\n",
              "    <path d=\"M120-120v-720h720v720H120Zm60-500h600v-160H180v160Zm220 220h160v-160H400v160Zm0 220h160v-160H400v160ZM180-400h160v-160H180v160Zm440 0h160v-160H620v160ZM180-180h160v-160H180v160Zm440 0h160v-160H620v160Z\"/>\n",
              "  </svg>\n",
              "    </button>\n",
              "\n",
              "  <style>\n",
              "    .colab-df-container {\n",
              "      display:flex;\n",
              "      gap: 12px;\n",
              "    }\n",
              "\n",
              "    .colab-df-convert {\n",
              "      background-color: #E8F0FE;\n",
              "      border: none;\n",
              "      border-radius: 50%;\n",
              "      cursor: pointer;\n",
              "      display: none;\n",
              "      fill: #1967D2;\n",
              "      height: 32px;\n",
              "      padding: 0 0 0 0;\n",
              "      width: 32px;\n",
              "    }\n",
              "\n",
              "    .colab-df-convert:hover {\n",
              "      background-color: #E2EBFA;\n",
              "      box-shadow: 0px 1px 2px rgba(60, 64, 67, 0.3), 0px 1px 3px 1px rgba(60, 64, 67, 0.15);\n",
              "      fill: #174EA6;\n",
              "    }\n",
              "\n",
              "    .colab-df-buttons div {\n",
              "      margin-bottom: 4px;\n",
              "    }\n",
              "\n",
              "    [theme=dark] .colab-df-convert {\n",
              "      background-color: #3B4455;\n",
              "      fill: #D2E3FC;\n",
              "    }\n",
              "\n",
              "    [theme=dark] .colab-df-convert:hover {\n",
              "      background-color: #434B5C;\n",
              "      box-shadow: 0px 1px 3px 1px rgba(0, 0, 0, 0.15);\n",
              "      filter: drop-shadow(0px 1px 2px rgba(0, 0, 0, 0.3));\n",
              "      fill: #FFFFFF;\n",
              "    }\n",
              "  </style>\n",
              "\n",
              "    <script>\n",
              "      const buttonEl =\n",
              "        document.querySelector('#df-27f3e19f-b7f9-4d74-a0d5-83bb5dbf11c8 button.colab-df-convert');\n",
              "      buttonEl.style.display =\n",
              "        google.colab.kernel.accessAllowed ? 'block' : 'none';\n",
              "\n",
              "      async function convertToInteractive(key) {\n",
              "        const element = document.querySelector('#df-27f3e19f-b7f9-4d74-a0d5-83bb5dbf11c8');\n",
              "        const dataTable =\n",
              "          await google.colab.kernel.invokeFunction('convertToInteractive',\n",
              "                                                    [key], {});\n",
              "        if (!dataTable) return;\n",
              "\n",
              "        const docLinkHtml = 'Like what you see? Visit the ' +\n",
              "          '<a target=\"_blank\" href=https://colab.research.google.com/notebooks/data_table.ipynb>data table notebook</a>'\n",
              "          + ' to learn more about interactive tables.';\n",
              "        element.innerHTML = '';\n",
              "        dataTable['output_type'] = 'display_data';\n",
              "        await google.colab.output.renderOutput(dataTable, element);\n",
              "        const docLink = document.createElement('div');\n",
              "        docLink.innerHTML = docLinkHtml;\n",
              "        element.appendChild(docLink);\n",
              "      }\n",
              "    </script>\n",
              "  </div>\n",
              "\n",
              "\n",
              "<div id=\"df-caeb5a0b-5f72-431b-a075-0993dc90c786\">\n",
              "  <button class=\"colab-df-quickchart\" onclick=\"quickchart('df-caeb5a0b-5f72-431b-a075-0993dc90c786')\"\n",
              "            title=\"Suggest charts\"\n",
              "            style=\"display:none;\">\n",
              "\n",
              "<svg xmlns=\"http://www.w3.org/2000/svg\" height=\"24px\"viewBox=\"0 0 24 24\"\n",
              "     width=\"24px\">\n",
              "    <g>\n",
              "        <path d=\"M19 3H5c-1.1 0-2 .9-2 2v14c0 1.1.9 2 2 2h14c1.1 0 2-.9 2-2V5c0-1.1-.9-2-2-2zM9 17H7v-7h2v7zm4 0h-2V7h2v10zm4 0h-2v-4h2v4z\"/>\n",
              "    </g>\n",
              "</svg>\n",
              "  </button>\n",
              "\n",
              "<style>\n",
              "  .colab-df-quickchart {\n",
              "      --bg-color: #E8F0FE;\n",
              "      --fill-color: #1967D2;\n",
              "      --hover-bg-color: #E2EBFA;\n",
              "      --hover-fill-color: #174EA6;\n",
              "      --disabled-fill-color: #AAA;\n",
              "      --disabled-bg-color: #DDD;\n",
              "  }\n",
              "\n",
              "  [theme=dark] .colab-df-quickchart {\n",
              "      --bg-color: #3B4455;\n",
              "      --fill-color: #D2E3FC;\n",
              "      --hover-bg-color: #434B5C;\n",
              "      --hover-fill-color: #FFFFFF;\n",
              "      --disabled-bg-color: #3B4455;\n",
              "      --disabled-fill-color: #666;\n",
              "  }\n",
              "\n",
              "  .colab-df-quickchart {\n",
              "    background-color: var(--bg-color);\n",
              "    border: none;\n",
              "    border-radius: 50%;\n",
              "    cursor: pointer;\n",
              "    display: none;\n",
              "    fill: var(--fill-color);\n",
              "    height: 32px;\n",
              "    padding: 0;\n",
              "    width: 32px;\n",
              "  }\n",
              "\n",
              "  .colab-df-quickchart:hover {\n",
              "    background-color: var(--hover-bg-color);\n",
              "    box-shadow: 0 1px 2px rgba(60, 64, 67, 0.3), 0 1px 3px 1px rgba(60, 64, 67, 0.15);\n",
              "    fill: var(--button-hover-fill-color);\n",
              "  }\n",
              "\n",
              "  .colab-df-quickchart-complete:disabled,\n",
              "  .colab-df-quickchart-complete:disabled:hover {\n",
              "    background-color: var(--disabled-bg-color);\n",
              "    fill: var(--disabled-fill-color);\n",
              "    box-shadow: none;\n",
              "  }\n",
              "\n",
              "  .colab-df-spinner {\n",
              "    border: 2px solid var(--fill-color);\n",
              "    border-color: transparent;\n",
              "    border-bottom-color: var(--fill-color);\n",
              "    animation:\n",
              "      spin 1s steps(1) infinite;\n",
              "  }\n",
              "\n",
              "  @keyframes spin {\n",
              "    0% {\n",
              "      border-color: transparent;\n",
              "      border-bottom-color: var(--fill-color);\n",
              "      border-left-color: var(--fill-color);\n",
              "    }\n",
              "    20% {\n",
              "      border-color: transparent;\n",
              "      border-left-color: var(--fill-color);\n",
              "      border-top-color: var(--fill-color);\n",
              "    }\n",
              "    30% {\n",
              "      border-color: transparent;\n",
              "      border-left-color: var(--fill-color);\n",
              "      border-top-color: var(--fill-color);\n",
              "      border-right-color: var(--fill-color);\n",
              "    }\n",
              "    40% {\n",
              "      border-color: transparent;\n",
              "      border-right-color: var(--fill-color);\n",
              "      border-top-color: var(--fill-color);\n",
              "    }\n",
              "    60% {\n",
              "      border-color: transparent;\n",
              "      border-right-color: var(--fill-color);\n",
              "    }\n",
              "    80% {\n",
              "      border-color: transparent;\n",
              "      border-right-color: var(--fill-color);\n",
              "      border-bottom-color: var(--fill-color);\n",
              "    }\n",
              "    90% {\n",
              "      border-color: transparent;\n",
              "      border-bottom-color: var(--fill-color);\n",
              "    }\n",
              "  }\n",
              "</style>\n",
              "\n",
              "  <script>\n",
              "    async function quickchart(key) {\n",
              "      const quickchartButtonEl =\n",
              "        document.querySelector('#' + key + ' button');\n",
              "      quickchartButtonEl.disabled = true;  // To prevent multiple clicks.\n",
              "      quickchartButtonEl.classList.add('colab-df-spinner');\n",
              "      try {\n",
              "        const charts = await google.colab.kernel.invokeFunction(\n",
              "            'suggestCharts', [key], {});\n",
              "      } catch (error) {\n",
              "        console.error('Error during call to suggestCharts:', error);\n",
              "      }\n",
              "      quickchartButtonEl.classList.remove('colab-df-spinner');\n",
              "      quickchartButtonEl.classList.add('colab-df-quickchart-complete');\n",
              "    }\n",
              "    (() => {\n",
              "      let quickchartButtonEl =\n",
              "        document.querySelector('#df-caeb5a0b-5f72-431b-a075-0993dc90c786 button');\n",
              "      quickchartButtonEl.style.display =\n",
              "        google.colab.kernel.accessAllowed ? 'block' : 'none';\n",
              "    })();\n",
              "  </script>\n",
              "</div>\n",
              "\n",
              "    </div>\n",
              "  </div>\n"
            ],
            "application/vnd.google.colaboratory.intrinsic+json": {
              "type": "dataframe",
              "summary": "{\n  \"name\": \"test_predictions_df\",\n  \"rows\": 10,\n  \"fields\": [\n    {\n      \"column\": \"text\",\n      \"properties\": {\n        \"dtype\": \"string\",\n        \"num_unique_values\": 10,\n        \"samples\": [\n          \"Sushi with a spicy kick, featuring jalapeno peppers or spicy mayo.\",\n          \"Red brick fireplace with a mantel serving as a centerpiece\",\n          \"A fruit platter with a variety of exotic fruits, such as dragon fruit, mangosteen, and durian\"\n        ],\n        \"semantic_type\": \"\",\n        \"description\": \"\"\n      }\n    },\n    {\n      \"column\": \"true_label\",\n      \"properties\": {\n        \"dtype\": \"number\",\n        \"std\": 0,\n        \"min\": 0,\n        \"max\": 1,\n        \"num_unique_values\": 2,\n        \"samples\": [\n          1,\n          0\n        ],\n        \"semantic_type\": \"\",\n        \"description\": \"\"\n      }\n    },\n    {\n      \"column\": \"pred_label\",\n      \"properties\": {\n        \"dtype\": \"number\",\n        \"std\": 0,\n        \"min\": 0,\n        \"max\": 1,\n        \"num_unique_values\": 2,\n        \"samples\": [\n          1,\n          0\n        ],\n        \"semantic_type\": \"\",\n        \"description\": \"\"\n      }\n    },\n    {\n      \"column\": \"pred_prob\",\n      \"properties\": {\n        \"dtype\": \"float32\",\n        \"num_unique_values\": 9,\n        \"samples\": [\n          0.9995830655097961,\n          0.9995681643486023\n        ],\n        \"semantic_type\": \"\",\n        \"description\": \"\"\n      }\n    }\n  ]\n}"
            }
          },
          "metadata": {},
          "execution_count": 62
        }
      ]
    },
    {
      "cell_type": "markdown",
      "source": [
        "## Making and inspecting predictions on custom text data"
      ],
      "metadata": {
        "id": "K2-4Fj_yLFbD"
      }
    },
    {
      "cell_type": "code",
      "source": [
        "local_model_path = '/content/models/learn_hf_food_not_food_text_classifier-distilbert-base-uncased'\n",
        "\n",
        "huggingface_model_path = 'turtlemb/learn_hf_food_not_food_text_classifier-distilbert-base-uncased'"
      ],
      "metadata": {
        "id": "VAADpqcqL0uB"
      },
      "execution_count": null,
      "outputs": []
    },
    {
      "cell_type": "markdown",
      "source": [
        "### Discussing ways to make predictions (inference)\n",
        "\n",
        "* Note: Whenever you hear the word 'inference' it means to use a model to make predictions on data.\n",
        "\n",
        "Two main ways to perform inference:\n",
        "\n",
        "1. **Pipeline mode** - Using 'transformers.pipeline' to load our model and perform text classification. See the docs: https://huggingface.co/docs/transformers/en/main_classes/pipelines#pipelines\n",
        "2. **PyTorch mode** - Using a combination of transformers.AutoTokenizer' and 'transformers.AutoModelForSequenceClassification' and passing each our target model name.\n",
        "\n",
        "Each mode supports:\n",
        "\n",
        "1. Predictions one at a time (fast but can be slower with many many samples).\n",
        "  * Helpful for say a comment system and comments happen sporadically, to predict whether the comment was \"spam\" or \"not spam\".\n",
        "2. Batches of predictions at a time (faster but up to a point, e.g. say you predict on 32 samples at a time, this may be way faster than one at a time but if you go to 128 at a time, you may not see many more speedups).\n",
        "  * Helpful for when you have a large static database or many samples coming in at once."
      ],
      "metadata": {
        "id": "7l7a1UlYLYZI"
      }
    },
    {
      "cell_type": "code",
      "source": [
        "# Setup our device for making predictions\n",
        "# Note: generally the faster the hardware accelerator, the faster the predictions.\n",
        "# For example if you have a dedicated GPU, you should use it over CPU.\n",
        "\n",
        "def set_device():\n",
        "  if torch.cuda.is_available():\n",
        "    device = torch.device('cuda')\n",
        "  elif torch.backends.mps.is_available() and torch.backend.mps.is_built(): # https://pytorch.org/docs/stable/notes/mps.html#mps-backend\n",
        "    device = torch.device('mps')\n",
        "  else:\n",
        "    device = torch.device('cpu')\n",
        "  return device\n",
        "\n",
        "DEVICE = set_device()\n",
        "print(f'[INFO] Using device: {DEVICE}')"
      ],
      "metadata": {
        "colab": {
          "base_uri": "https://localhost:8080/"
        },
        "id": "ymjkF4HyP8pz",
        "outputId": "c127899f-22f1-41cb-e3c5-491e5caded4a"
      },
      "execution_count": null,
      "outputs": [
        {
          "output_type": "stream",
          "name": "stdout",
          "text": [
            "[INFO] Using device: cpu\n"
          ]
        }
      ]
    },
    {
      "cell_type": "markdown",
      "source": [
        "### Making predictions with pipeline mode\n",
        "\n",
        "See docs: https://huggingface.co/docs/transformers/en/main_classes/pipelines#pipelines"
      ],
      "metadata": {
        "id": "OmRVYSStgQcJ"
      }
    },
    {
      "cell_type": "code",
      "source": [
        "import torch\n",
        "from transformers import pipeline\n",
        "\n",
        "# Set the batch size\n",
        "BATCH_SIZE = 32 # reminder: prediction speed often increases with higher batch size (e.g. 1 -> 32 but can saturate at even higher batch sizes)\n",
        "                #           the speed improvement at up to a maximum number in a batch depends on the hardware\n",
        "\n",
        "# Create an instance of transformers.pipeline\n",
        "food_not_food_classifier = pipeline(task='text-classification',\n",
        "                                    model=local_model_path,\n",
        "                                    device=DEVICE,\n",
        "                                    top_k=1,\n",
        "                                    batch_size=BATCH_SIZE)\n",
        "\n",
        "food_not_food_classifier"
      ],
      "metadata": {
        "colab": {
          "base_uri": "https://localhost:8080/"
        },
        "id": "5pFLaW6qKNH9",
        "outputId": "8d61d2ae-7cd1-418a-cc9f-4b0923dc34b0"
      },
      "execution_count": null,
      "outputs": [
        {
          "output_type": "stream",
          "name": "stderr",
          "text": [
            "Device set to use cpu\n"
          ]
        },
        {
          "output_type": "execute_result",
          "data": {
            "text/plain": [
              "<transformers.pipelines.text_classification.TextClassificationPipeline at 0x7dfd3bba2850>"
            ]
          },
          "metadata": {},
          "execution_count": 65
        }
      ]
    },
    {
      "cell_type": "code",
      "source": [
        "# test_custom_sentence = 'Text that we could make up like this!' # [[{'label': 'not_food', 'score': 0.9991686344146729}]]\n",
        "# test_custom_sentence = 'For breakfast I had rice cakes and fish!' # [[{'label': 'food', 'score': 0.9996045231819153}]]\n",
        "# test_custom_sentence = 'My local coffee shop has the best croissants!' # [[{'label': 'food', 'score': 0.8994234800338745}]]\n",
        "test_custom_sentence = 'A plate of croissants at the coffee shop!' # [[{'label': 'not_food', 'score': 0.9247922897338867}]]\n",
        "# test_custom_sentence = 'A plate of croissants.' # [[{'label': 'food', 'score': 0.9987552165985107}]]\n",
        "food_not_food_classifier(test_custom_sentence)"
      ],
      "metadata": {
        "colab": {
          "base_uri": "https://localhost:8080/"
        },
        "id": "bPgjzWU3kkTd",
        "outputId": "9772d276-d9ed-4e36-ae9d-6cc41d0e9c6e"
      },
      "execution_count": null,
      "outputs": [
        {
          "output_type": "execute_result",
          "data": {
            "text/plain": [
              "[[{'label': 'food', 'score': 0.9990780353546143}]]"
            ]
          },
          "metadata": {},
          "execution_count": 66
        }
      ]
    },
    {
      "cell_type": "code",
      "source": [
        "test_not_food_sentence = 'A yellow tractor driving over a hill.' # [[{'label': 'not_food', 'score': 0.9995410442352295}]]\n",
        "food_not_food_classifier(test_not_food_sentence)"
      ],
      "metadata": {
        "colab": {
          "base_uri": "https://localhost:8080/"
        },
        "id": "YMtjfVwnmx87",
        "outputId": "f2c77633-aacd-41fb-95f0-ae234b10a4d9"
      },
      "execution_count": null,
      "outputs": [
        {
          "output_type": "execute_result",
          "data": {
            "text/plain": [
              "[[{'label': 'not_food', 'score': 0.9992392063140869}]]"
            ]
          },
          "metadata": {},
          "execution_count": 67
        }
      ]
    },
    {
      "cell_type": "code",
      "source": [
        "del food_not_food_classifier"
      ],
      "metadata": {
        "id": "p5rJGPXxqIAI"
      },
      "execution_count": null,
      "outputs": []
    },
    {
      "cell_type": "code",
      "source": [
        "test_not_food_sentence_list = ['A yellow tractor driving over a hill.', 'What about that bird in the sky?', 'He tied his shoes.', 'I ate mixed nuts.']"
      ],
      "metadata": {
        "id": "r1gnGdymsAVe"
      },
      "execution_count": null,
      "outputs": []
    },
    {
      "cell_type": "code",
      "source": [
        "# Use pipeline with a model from Hugging Face\n",
        "food_not_food_classifier = pipeline(task = 'text-classification',\n",
        "                                    model = huggingface_model_path,\n",
        "                                    device = DEVICE,\n",
        "                                    top_k = 1, # if k = 2 we get probability for both food and not_food labels\n",
        "                                    batch_size = BATCH_SIZE)\n",
        "\n",
        "food_not_food_classifier(test_not_food_sentence_list)"
      ],
      "metadata": {
        "colab": {
          "base_uri": "https://localhost:8080/",
          "height": 294,
          "referenced_widgets": [
            "3384601563034ac6b030e562c5f494c3",
            "9b0ad18d9b58425d8581dd6035632990",
            "154ce2830f324f779ba4dba702e3db8c",
            "86853ab7f26740c9ae07103d74de441d",
            "465aae8cf3904901b0030f2878123cbe",
            "5d83ac16bd2c4679a3b457685cb76661",
            "ee89b41e87b847a4b49322ed3546242e",
            "dd2aa5184e3f4323857334fe0e19c0d6",
            "22196f6f55a34c34a3502946cbea1631",
            "31522a472cab40d892b90914328e71fb",
            "6e270e11a1044a0ea710b19431108d16",
            "0168fa2e61104b3ca3f46e1e6bc33d86",
            "8cd407126fa34332b6af85d9624fcbbb",
            "ffc307dc10b84cf69295cc30dedd72d3",
            "fc343aaaa7cc4baba18920b4a83c7e65",
            "43596600327b4b06956e271327c064e1",
            "d7f993c0639a44da8b20ca3897d3dc59",
            "4dfa0c11b3574b4892fd43907bebc99c",
            "c5974b1c06504e61b69809189a07d2d7",
            "2814d050d5f94ddcb670f8d035b61aba",
            "4d6965d6b9bc4bf783d07c075fb35cb1",
            "f1c8db3161d74bed9dd3e657c463b64e",
            "25554f37bb914d379ae02fd42a543598",
            "0c8b5a29c1244089a81e36107fbb6a88",
            "5ad93259668941fe844f7ececdbb46b4",
            "a24fa92d3a1e46a0807f44629602f884",
            "e789306013ed4e8cb0abe4cc8df7f370",
            "4b0f36a4796449e59a91cb0375693516",
            "ce276ffc07da45eb94783ec31e20f1a3",
            "008cdfa53cf74a3199611231beaff7b8",
            "f1ccdb97ecaf4157b5d90785109e638f",
            "a1fcfc3dbda54153bdfcde1553c60a25",
            "ffeedcd49ee04caa9feb299285b0ae1f",
            "d4ace18abdb940cfa0436370bcdcc2e2",
            "b9a4f716da014cec91fe4ad38fd5848b",
            "b67719b8b78847ad8bb6a52d47242df6",
            "07bdfa56fd17493985261b30525f796b",
            "02c0ae34f08744df947fee6cb85cebac",
            "9a182ddb198745f6b41131a18c955b04",
            "cf33719c437d4ed388713ae3e59d0574",
            "595316e01f0e43b8ba98a668132a3894",
            "5fd7149840614930989f7c71bfff3d6d",
            "273e0581e05b4977b1db6ab8d80d3262",
            "05b172e3abeb4f9a9e5ed93271eabf4c",
            "2e7a2af2bb4e43c2bf8ade7b16d4a549",
            "75eca116aa1248d0ac0fd62e7bb038ba",
            "31e1bab512984100b0c388e8a5e7e72c",
            "de0d3713b0564ad2910b6fc4a5e38780",
            "07a8ae5542ad4a09aee6244a33e51cfa",
            "4619ec7d6edf464f82293b2bff1ef72b",
            "8d037fcda9af47e7a1e6d0142d3e7e68",
            "e76fae2a7ada44a4a1d61a712aa0a4a7",
            "81236ea5e7534cd19e55206310ad5682",
            "a773b0daabd846feb50ba2729a9141e9",
            "99cea5bc625541c8a9c2f8f89c76515e",
            "6b1b553a8e24497a9c32430523f27d59",
            "37d0a50b504f4b38b6ed4e5662c3acb6",
            "a03f5aa493104033aa58a4de52b19cd1",
            "d1e1b6f2dccf48c89d4aff3732209456",
            "9281514c31d84e41802092413336797d",
            "eea3b2c420814cfd96d9fcbe5daf144f",
            "338a4b6a233946778e4bb20c8a7a7c12",
            "4e5297714636462a8e58648fae1de871",
            "694264edb5974c6bb02bfed93657f7e8",
            "4c6477f791fd4169b896baa2f0369dc1",
            "e6ff01606b614358a993d48e8b62d7cd"
          ]
        },
        "id": "NwatyOs5nnvI",
        "outputId": "bd742e89-c472-406e-bed9-16b723eb810e"
      },
      "execution_count": null,
      "outputs": [
        {
          "output_type": "display_data",
          "data": {
            "text/plain": [
              "config.json:   0%|          | 0.00/738 [00:00<?, ?B/s]"
            ],
            "application/vnd.jupyter.widget-view+json": {
              "version_major": 2,
              "version_minor": 0,
              "model_id": "3384601563034ac6b030e562c5f494c3"
            }
          },
          "metadata": {}
        },
        {
          "output_type": "display_data",
          "data": {
            "text/plain": [
              "model.safetensors:   0%|          | 0.00/268M [00:00<?, ?B/s]"
            ],
            "application/vnd.jupyter.widget-view+json": {
              "version_major": 2,
              "version_minor": 0,
              "model_id": "0168fa2e61104b3ca3f46e1e6bc33d86"
            }
          },
          "metadata": {}
        },
        {
          "output_type": "display_data",
          "data": {
            "text/plain": [
              "tokenizer_config.json:   0%|          | 0.00/1.23k [00:00<?, ?B/s]"
            ],
            "application/vnd.jupyter.widget-view+json": {
              "version_major": 2,
              "version_minor": 0,
              "model_id": "25554f37bb914d379ae02fd42a543598"
            }
          },
          "metadata": {}
        },
        {
          "output_type": "display_data",
          "data": {
            "text/plain": [
              "vocab.txt:   0%|          | 0.00/232k [00:00<?, ?B/s]"
            ],
            "application/vnd.jupyter.widget-view+json": {
              "version_major": 2,
              "version_minor": 0,
              "model_id": "d4ace18abdb940cfa0436370bcdcc2e2"
            }
          },
          "metadata": {}
        },
        {
          "output_type": "display_data",
          "data": {
            "text/plain": [
              "tokenizer.json:   0%|          | 0.00/712k [00:00<?, ?B/s]"
            ],
            "application/vnd.jupyter.widget-view+json": {
              "version_major": 2,
              "version_minor": 0,
              "model_id": "2e7a2af2bb4e43c2bf8ade7b16d4a549"
            }
          },
          "metadata": {}
        },
        {
          "output_type": "display_data",
          "data": {
            "text/plain": [
              "special_tokens_map.json:   0%|          | 0.00/125 [00:00<?, ?B/s]"
            ],
            "application/vnd.jupyter.widget-view+json": {
              "version_major": 2,
              "version_minor": 0,
              "model_id": "6b1b553a8e24497a9c32430523f27d59"
            }
          },
          "metadata": {}
        },
        {
          "output_type": "stream",
          "name": "stderr",
          "text": [
            "Device set to use cpu\n"
          ]
        },
        {
          "output_type": "execute_result",
          "data": {
            "text/plain": [
              "[[{'label': 'not_food', 'score': 0.999692440032959}],\n",
              " [{'label': 'not_food', 'score': 0.9995161294937134}],\n",
              " [{'label': 'not_food', 'score': 0.9997140765190125}],\n",
              " [{'label': 'food', 'score': 0.9992584586143494}]]"
            ]
          },
          "metadata": {},
          "execution_count": 69
        }
      ]
    },
    {
      "cell_type": "markdown",
      "source": [
        "### Making multiple predictions at the same time with batch prediction"
      ],
      "metadata": {
        "id": "BgHBD7HP-F25"
      }
    },
    {
      "cell_type": "code",
      "source": [
        "# Create a list of sentences to make predictions on\n",
        "sentences = [\n",
        "    \"I whipped up a fresh batch of code, but it seems to have a syntax error.\",\n",
        "    \"We need to marinate these ideas overnight before presenting them to the client.\",\n",
        "    \"The new software is definitely a spicy upgrade, taking some time to get used to.\",\n",
        "    \"Her social media post was the perfect recipe for a viral sensation.\",\n",
        "    \"He served up a rebuttal full of facts, leaving his opponent speechless.\",\n",
        "    \"The team needs to simmer down a bit before tackling the next challenge.\",\n",
        "    \"The presentation was a delicious blend of humor and information, keeping the audience engaged.\",\n",
        "    \"A beautiful array of fake wax foods (shokuhin sampuru) in the front of a Japanese restaurant.\",\n",
        "    \"Daniel Bourke is really cool :D\",\n",
        "    \"My favoruite food is biltong!\"\n",
        "]\n",
        "\n",
        "food_not_food_classifier(sentences)"
      ],
      "metadata": {
        "colab": {
          "base_uri": "https://localhost:8080/"
        },
        "id": "Hw0rFMVs-MfP",
        "outputId": "94e0efc6-94a4-4c78-e174-a0a4ada7ccde"
      },
      "execution_count": null,
      "outputs": [
        {
          "output_type": "execute_result",
          "data": {
            "text/plain": [
              "[[{'label': 'not_food', 'score': 0.9989030361175537}],\n",
              " [{'label': 'not_food', 'score': 0.9990255832672119}],\n",
              " [{'label': 'not_food', 'score': 0.9934919476509094}],\n",
              " [{'label': 'not_food', 'score': 0.9984013438224792}],\n",
              " [{'label': 'not_food', 'score': 0.9981721639633179}],\n",
              " [{'label': 'not_food', 'score': 0.9991656541824341}],\n",
              " [{'label': 'not_food', 'score': 0.9690424203872681}],\n",
              " [{'label': 'food', 'score': 0.9994465708732605}],\n",
              " [{'label': 'not_food', 'score': 0.9992844462394714}],\n",
              " [{'label': 'food', 'score': 0.993065595626831}]]"
            ]
          },
          "metadata": {},
          "execution_count": 70
        }
      ]
    },
    {
      "cell_type": "code",
      "source": [
        "# From Meta AI, we ask to generate 10 examples of food and not_food based on the sentences in previous cell.\n",
        "\n",
        "food_captions = [\n",
        "    \"My favorite food is biltong!\",\n",
        "    \"A juicy burger topped with cheese, bacon, and caramelized onions.\",\n",
        "    \"Freshly baked pizza with melted mozzarella and marinara sauce.\",\n",
        "    \"A steaming bowl of ramen noodles with pork and boiled egg.\",\n",
        "    \"Grilled shrimp skewers with a side of tangy BBQ sauce.\",\n",
        "    \"A colorful salad with mixed greens, cherry tomatoes, and a citrus vinaigrette.\",\n",
        "    \"A decadent chocolate cake with rich frosting and sprinkles.\",\n",
        "    \"Crispy fried chicken wings tossed in spicy buffalo sauce.\",\n",
        "    \"A warm, flaky croissant with a hint of butter and jam.\",\n",
        "    \"A refreshing glass of lemonade with a twist of mint.\"\n",
        "]\n",
        "\n",
        "food_not_food_classifier(food_captions)"
      ],
      "metadata": {
        "colab": {
          "base_uri": "https://localhost:8080/"
        },
        "id": "FdGhNJX7BYE5",
        "outputId": "6cc9b6cd-d26e-4ad9-b32d-30ac6aedc1fa"
      },
      "execution_count": null,
      "outputs": [
        {
          "output_type": "execute_result",
          "data": {
            "text/plain": [
              "[[{'label': 'food', 'score': 0.7084446549415588}],\n",
              " [{'label': 'food', 'score': 0.9994638562202454}],\n",
              " [{'label': 'food', 'score': 0.9994679093360901}],\n",
              " [{'label': 'food', 'score': 0.9994710087776184}],\n",
              " [{'label': 'food', 'score': 0.9994696974754333}],\n",
              " [{'label': 'food', 'score': 0.999459445476532}],\n",
              " [{'label': 'food', 'score': 0.9994646906852722}],\n",
              " [{'label': 'food', 'score': 0.999470055103302}],\n",
              " [{'label': 'food', 'score': 0.9994727969169617}],\n",
              " [{'label': 'food', 'score': 0.9994589686393738}]]"
            ]
          },
          "metadata": {},
          "execution_count": 71
        }
      ]
    },
    {
      "cell_type": "code",
      "source": [
        "not_food_captions = [\n",
        "    \"He served up a rebuttal full of facts, leaving his opponent speechless.\",\n",
        "    \"The team needs to simmer down a bit before tackling the next challenge.\",\n",
        "    \"The presentation was a delicious blend of humor and information, keeping the audience engaged.\",\n",
        "    \"A beautiful array of fake wax foods in the front of a Japanese restaurant.\",\n",
        "    \"Daniel Bourke is really cool :D\",\n",
        "    \"The sunset over the ocean was breathtakingly beautiful.\",\n",
        "    \"The new smartphone features a sleek design and advanced camera.\",\n",
        "    \"The city skyline was bustling with energy and activity.\",\n",
        "    \"The ancient ruins held secrets and stories of a long-lost civilization.\",\n",
        "    \"The sound of the ocean waves was calming and soothing.\"\n",
        "]\n",
        "\n",
        "food_not_food_classifier(not_food_captions)"
      ],
      "metadata": {
        "colab": {
          "base_uri": "https://localhost:8080/"
        },
        "id": "VcWFO-kfByWP",
        "outputId": "d7027a7d-3c56-4b18-ee92-84886e8dea1a"
      },
      "execution_count": null,
      "outputs": [
        {
          "output_type": "execute_result",
          "data": {
            "text/plain": [
              "[[{'label': 'not_food', 'score': 0.9981721639633179}],\n",
              " [{'label': 'not_food', 'score': 0.9991656541824341}],\n",
              " [{'label': 'not_food', 'score': 0.9690424203872681}],\n",
              " [{'label': 'food', 'score': 0.9991528987884521}],\n",
              " [{'label': 'not_food', 'score': 0.9992844462394714}],\n",
              " [{'label': 'not_food', 'score': 0.9996522665023804}],\n",
              " [{'label': 'not_food', 'score': 0.9994373917579651}],\n",
              " [{'label': 'not_food', 'score': 0.9996379613876343}],\n",
              " [{'label': 'not_food', 'score': 0.9996461868286133}],\n",
              " [{'label': 'not_food', 'score': 0.9995900988578796}]]"
            ]
          },
          "metadata": {},
          "execution_count": 72
        }
      ]
    },
    {
      "cell_type": "code",
      "source": [
        "confusing_captions = [\n",
        "    \"The new policy was a tough nut to crack.\",\n",
        "    \"The city's infrastructure was a recipe for disaster.\",\n",
        "    \"The teacher's words were a bitter pill to swallow.\",\n",
        "    \"The company's financial struggles were a real meat grinder.\",\n",
        "    \"The beautiful view was the icing on the cake.\",\n",
        "    \"The politician's speech was a hollow shell.\",\n",
        "    \"The team's performance was a mixed bag.\",\n",
        "    \"The artist's latest sculpture was a real feast for the eyes.\",\n",
        "    \"The new employee was a breath of fresh air.\",\n",
        "    \"The complex math problem was a real brain twister.\"\n",
        "]\n",
        "\n",
        "food_not_food_classifier(confusing_captions)"
      ],
      "metadata": {
        "colab": {
          "base_uri": "https://localhost:8080/"
        },
        "id": "Gz3WuFzZCc03",
        "outputId": "bc9de98f-7875-4ccb-d9dc-bd002ac210ca"
      },
      "execution_count": null,
      "outputs": [
        {
          "output_type": "execute_result",
          "data": {
            "text/plain": [
              "[[{'label': 'food', 'score': 0.826659083366394}],\n",
              " [{'label': 'not_food', 'score': 0.9993372559547424}],\n",
              " [{'label': 'not_food', 'score': 0.9969276785850525}],\n",
              " [{'label': 'not_food', 'score': 0.9959283471107483}],\n",
              " [{'label': 'not_food', 'score': 0.9987799525260925}],\n",
              " [{'label': 'not_food', 'score': 0.9995203018188477}],\n",
              " [{'label': 'not_food', 'score': 0.9992450475692749}],\n",
              " [{'label': 'not_food', 'score': 0.9995777010917664}],\n",
              " [{'label': 'not_food', 'score': 0.9996836185455322}],\n",
              " [{'label': 'not_food', 'score': 0.9994303584098816}]]"
            ]
          },
          "metadata": {},
          "execution_count": 77
        }
      ]
    },
    {
      "cell_type": "markdown",
      "source": [
        "### Time our model across larger sample sizes"
      ],
      "metadata": {
        "id": "DdXbdpbmEzq-"
      }
    },
    {
      "cell_type": "code",
      "source": [
        "import time\n",
        "\n",
        "# Create 1000 sentences\n",
        "sentences_1000 = sentences * 100\n",
        "\n",
        "# len(sentences_1000)\n",
        "\n",
        "# Time how long it will take to make predictions on all sentences (one at a time)\n",
        "print(f'[INFO] Number of sentences: {len(sentences_1000)}')\n",
        "start_time_one_at_a_time = time.time()\n",
        "for sentence in sentences_1000:\n",
        "  # Make a prediction\n",
        "  food_not_food_classifier(sentence)\n",
        "end_time_one_at_a_time = time.time()\n",
        "\n",
        "total_time_one_at_a_time = end_time_one_at_a_time - start_time_one_at_a_time\n",
        "avg_time_per_pred = total_time_one_at_a_time / len(sentences_1000)\n",
        "print(f'[INFO] Total time for making predictions {len(sentences_1000)} samples one at a time: {total_time_one_at_a_time} s')\n",
        "print(f'[INFO] Avg time per prediction one at a time: {avg_time_per_pred} s')"
      ],
      "metadata": {
        "colab": {
          "base_uri": "https://localhost:8080/"
        },
        "id": "Lct33ZnfE2Gp",
        "outputId": "d7c35054-ec15-4264-9f2f-7dcad20f900c"
      },
      "execution_count": null,
      "outputs": [
        {
          "output_type": "stream",
          "name": "stdout",
          "text": [
            "[INFO] Number of sentences: 1000\n",
            "[INFO] Total time for making predictions 1000 samples one at a time: 58.120312452316284 s\n",
            "[INFO] Avg time per prediction one at a time: 0.05812031245231628 s\n"
          ]
        }
      ]
    },
    {
      "cell_type": "code",
      "source": [
        "# Let's now use pipeline in batches\n",
        "for i in [10, 100]:\n",
        "  sentences_big = sentences * i\n",
        "  print(f'[INFO] Number of sentences: {len(sentences_big)}')\n",
        "\n",
        "  start_time = time.time()\n",
        "  # Predict on all sentences in batch mode\n",
        "  food_not_food_classifier(sentences_big)\n",
        "  end_time = time.time()\n",
        "\n",
        "  tot_time_all_sentences_batch_mode = end_time - start_time\n",
        "  avg_time_per_sentence_batch_mode = tot_time_all_sentences_batch_mode / len(sentences_big)\n",
        "\n",
        "  print(f'[INFO] Inference time for {len(sentences_big)} sentences batch mode: {round(tot_time_all_sentences_batch_mode, 6)}')\n",
        "  print(f'[INFO] Avg inference time per sentence: {round(avg_time_per_sentence_batch_mode, 8)}')\n",
        "  print()"
      ],
      "metadata": {
        "colab": {
          "base_uri": "https://localhost:8080/"
        },
        "id": "loYhmv6fHJas",
        "outputId": "934d5cee-e517-4729-f4ec-41ad9dbb0763"
      },
      "execution_count": null,
      "outputs": [
        {
          "output_type": "stream",
          "name": "stdout",
          "text": [
            "[INFO] Number of sentences: 100\n",
            "[INFO] Inference time for 100 sentences batch mode: 4.980158\n",
            "[INFO] Avg inference time per sentence: 0.04980158\n",
            "\n",
            "[INFO] Number of sentences: 1000\n",
            "[INFO] Inference time for 1000 sentences batch mode: 35.653338\n",
            "[INFO] Avg inference time per sentence: 0.03565334\n",
            "\n"
          ]
        }
      ]
    },
    {
      "cell_type": "markdown",
      "source": [
        "### Making predictions with PyTorch\n",
        "\n",
        "Steps with PyTorch predictions:\n",
        "\n",
        "1. Create the tokenizer with 'AutoTokenizer'\n",
        "2. Create the model with 'AutoModel' ('AutoModelForSequenceClassification')\n",
        "3. Tokenize test with 1\n",
        "4. Make prediction with 2\n",
        "5. Format prediction"
      ],
      "metadata": {
        "id": "l0YujAzq_Zk0"
      }
    },
    {
      "cell_type": "code",
      "source": [
        "from transformers import AutoTokenizer\n",
        "\n",
        "# Setup the model path\n",
        "model_path = 'turtlemb/learn_hf_food_not_food_text_classifier-distilbert-base-uncased'\n",
        "\n",
        "# Create an example to predict on\n",
        "sample_food_text = 'A delicious photo of a plate of scrambled eggs, toast, and bacon.'\n",
        "\n",
        "# Prepare the tokenizer\n",
        "tokenizer = AutoTokenizer.from_pretrained(pretrained_model_name_or_path = model_path)\n",
        "inputs = tokenizer(sample_food_text,\n",
        "                   return_tensors = 'pt') # 'pt' stands for PyTorch\n",
        "inputs"
      ],
      "metadata": {
        "colab": {
          "base_uri": "https://localhost:8080/"
        },
        "id": "vlCXKZTx_YgI",
        "outputId": "a54c5e02-2636-4d9c-cca2-f7c546b1b19f"
      },
      "execution_count": null,
      "outputs": [
        {
          "output_type": "execute_result",
          "data": {
            "text/plain": [
              "{'input_ids': tensor([[  101,  1037, 12090,  6302,  1997,  1037,  5127,  1997, 13501,  6763,\n",
              "          1010, 15174,  1010,  1998, 11611,  1012,   102]]), 'attention_mask': tensor([[1, 1, 1, 1, 1, 1, 1, 1, 1, 1, 1, 1, 1, 1, 1, 1, 1]])}"
            ]
          },
          "metadata": {},
          "execution_count": 81
        }
      ]
    },
    {
      "cell_type": "code",
      "source": [
        "from transformers import AutoModelForSequenceClassification\n",
        "\n",
        "# Load our text classification model\n",
        "model = AutoModelForSequenceClassification.from_pretrained(pretrained_model_name_or_path = model_path)\n",
        "# model"
      ],
      "metadata": {
        "id": "QjWvLmy9HFPK"
      },
      "execution_count": null,
      "outputs": []
    },
    {
      "cell_type": "code",
      "source": [
        "import torch\n",
        "\n",
        "model.eval()\n",
        "# with torch.no_grad():\n",
        "with torch.inference_mode():\n",
        "  outputs = model(**inputs) # '**' means input all of the dictionary keys as named arguments/parameters\n",
        "  outputs_verbose = model(input_ids = inputs['input_ids'],\n",
        "                          attention_mask = inputs['attention_mask'])\n",
        "outputs"
      ],
      "metadata": {
        "colab": {
          "base_uri": "https://localhost:8080/"
        },
        "id": "rOVKQaSwJT1W",
        "outputId": "fa2ff306-802a-4891-ec0e-a66ecefeadc2"
      },
      "execution_count": null,
      "outputs": [
        {
          "output_type": "execute_result",
          "data": {
            "text/plain": [
              "SequenceClassifierOutput(loss=None, logits=tensor([[-3.6713,  3.8804]]), hidden_states=None, attentions=None)"
            ]
          },
          "metadata": {},
          "execution_count": 85
        }
      ]
    },
    {
      "cell_type": "code",
      "source": [
        "outputs_verbose"
      ],
      "metadata": {
        "colab": {
          "base_uri": "https://localhost:8080/"
        },
        "id": "9BJ0CFqLMIRd",
        "outputId": "6615ae8a-aa99-492c-9a9d-7075f8ecea50"
      },
      "execution_count": null,
      "outputs": [
        {
          "output_type": "execute_result",
          "data": {
            "text/plain": [
              "SequenceClassifierOutput(loss=None, logits=tensor([[-3.6713,  3.8804]]), hidden_states=None, attentions=None)"
            ]
          },
          "metadata": {},
          "execution_count": 86
        }
      ]
    },
    {
      "cell_type": "code",
      "source": [
        "model.config.id2label"
      ],
      "metadata": {
        "colab": {
          "base_uri": "https://localhost:8080/"
        },
        "id": "z2n7YxEbRBtY",
        "outputId": "01b0fe51-4d35-49d4-b73e-1c9257f44c4d"
      },
      "execution_count": null,
      "outputs": [
        {
          "output_type": "execute_result",
          "data": {
            "text/plain": [
              "{0: 'not_food', 1: 'food'}"
            ]
          },
          "metadata": {},
          "execution_count": 89
        }
      ]
    },
    {
      "cell_type": "code",
      "source": [
        "# Convert logits to prediction probability + label\n",
        "predicted_class_id = outputs.logits.argmax().item()\n",
        "prediction_probability = torch.softmax(outputs.logits, dim = 1).max().item()\n",
        "\n",
        "print(f'Text: {sample_food_text}')\n",
        "print(f'Predicted label: {model.config.id2label[predicted_class_id]}')\n",
        "print(f'Prediction probability: {prediction_probability}')"
      ],
      "metadata": {
        "colab": {
          "base_uri": "https://localhost:8080/"
        },
        "id": "0NOaFwEWMUok",
        "outputId": "b0c7ae75-1dd0-4bad-ba2a-c1194af3602a"
      },
      "execution_count": null,
      "outputs": [
        {
          "output_type": "stream",
          "name": "stdout",
          "text": [
            "Text: A delicious photo of a plate of scrambled eggs, toast, and bacon.\n",
            "Predicted label: food\n",
            "Prediction probability: 0.9994750618934631\n"
          ]
        }
      ]
    },
    {
      "cell_type": "code",
      "source": [
        "food_not_food_classifier(sample_food_text)"
      ],
      "metadata": {
        "colab": {
          "base_uri": "https://localhost:8080/"
        },
        "id": "Tt2CM1TsUlDL",
        "outputId": "b4ec872a-dea4-4d14-ccdd-bef5b56621ed"
      },
      "execution_count": null,
      "outputs": [
        {
          "output_type": "execute_result",
          "data": {
            "text/plain": [
              "[[{'label': 'food', 'score': 0.9994750618934631}]]"
            ]
          },
          "metadata": {},
          "execution_count": 93
        }
      ]
    },
    {
      "cell_type": "markdown",
      "source": [
        "## Putting it all together\n",
        "\n",
        "Let's go end-to-end.\n",
        "\n",
        "From data import, to model building, to model evaluation, to model saving for our text classification project."
      ],
      "metadata": {
        "id": "7Al58UY4Xbcn"
      }
    },
    {
      "cell_type": "code",
      "source": [
        "# Create my own enhanced food/not_food caption list\n",
        "\n",
        "# food\n",
        "pizza_captions = [\n",
        "    \"A slice of pepperoni pizza with a layer of melted cheese\",\n",
        "    \"Margherita pizza topped with fresh basil leaves and juicy tomatoes\",\n",
        "    \"Pizza with a variety of toppings including mushrooms, olives, and bell peppers\",\n",
        "    \"A close-up shot of a cheesy pizza slice being pulled away from the pie\",\n",
        "    \"A whole pizza pie with a thin and crispy crust\",\n",
        "    \"Pizza with a unique topping combination of pineapple and ham\",\n",
        "    \"A slice of veggie pizza loaded with colorful and nutritious vegetables\",\n",
        "    \"Pizza with a stuffed crust, oozing with cheese\",\n",
        "    \"A pair of slices from a barbecue chicken pizza\",\n",
        "    \"Pizza with a white sauce base, topped with spinach and artichokes\",\n",
        "    \"A square slice of Sicilian-style pizza with a thick and fluffy crust\",\n",
        "    \"Pizza with a gluten-free crust, suitable for those with dietary restrictions\",\n",
        "    \"A slice of pizza with a spicy kick, featuring jalapeno peppers\",\n",
        "    \"Pizza with a meat lover's theme, including sausage, bacon, and pepperoni\",\n",
        "    \"A gourmet pizza with a pesto base, topped with grilled chicken and sun-dried tomatoes\",\n",
        "    \"Pizza with a unique, round-shaped crust hole in the middle\",\n",
        "    \"A slice of pizza with a generous amount of shredded parmesan cheese on top\",\n",
        "    \"Pizza with a seasonal theme, featuring toppings like butternut squash and kale\",\n",
        "    \"A slice of pizza from a Detroit-style pie, with a thick, rectangular crust\",\n",
        "    \"Pizza with a dessert twist, featuring a sweet Nutella base and fresh strawberries on top\",\n",
        "    \"Pizza with a Mediterranean twist, featuring toppings like feta cheese, kalamata olives, and roasted red peppers\",\n",
        "    \"A slice of pizza with a pesto base, topped with grilled vegetables and a balsamic glaze\",\n",
        "    \"Pizza with a unique crust, such as cauliflower or zucchini, for a healthier option\",\n",
        "    \"A slice of pizza with a spicy buffalo chicken topping and a drizzle of ranch dressing\",\n",
        "    \"Pizza with a seafood theme, featuring toppings like shrimp, clams, and calamari\"\n",
        "]\n",
        "\n",
        "sushi_captions = [\n",
        "    \"Assorted sushi rolls on a plate, featuring California rolls and spicy tuna rolls.\",\n",
        "    \"Nigiri sushi topped with fresh salmon and tuna slices on vinegared rice.\",\n",
        "    \"Sushi platter showcasing a variety of colorful rolls and garnishes.\",\n",
        "    \"Close-up of a sushi roll with avocado, cucumber, and salmon.\",\n",
        "    \"Bowl of sashimi with thin slices of raw fish.\",\n",
        "    \"Sushi with unique toppings like seared tuna or eel sauce.\",\n",
        "    \"Vegetarian sushi roll with avocado and pickled radish filling.\",\n",
        "    \"Plate of sushi served with pickled ginger and wasabi.\",\n",
        "    \"Sushi with a spicy kick, featuring jalapeno peppers or spicy mayo.\",\n",
        "    \"Crunchy sushi roll with tempura flakes or panko breadcrumbs.\",\n",
        "    \"Sushi platter featuring a rainbow of colors with salmon, tuna, and avocado.\",\n",
        "    \"Sweet and savory sushi roll with ingredients like mango and shrimp.\",\n",
        "    \"Uniquely shaped sushi roll, such as a heart or flower.\",\n",
        "    \"Gluten-free sushi roll using tamari sauce instead of soy sauce.\",\n",
        "    \"Low-carb sushi roll with cucumber or seaweed wraps instead of rice.\",\n",
        "    \"Fusion sushi roll with ingredients like cream cheese or teriyaki sauce.\",\n",
        "    \"Seasonal sushi roll with ingredients like persimmon or pumpkin.\",\n",
        "    \"Smoky flavored sushi roll with smoked salmon or grilled eel.\",\n",
        "    \"Vegan sushi roll with ingredients like tofu or grilled vegetables.\",\n",
        "    \"Spicy tuna sushi roll with a crispy tempura coating.\",\n",
        "    \"Sweet and spicy sushi roll with ingredients like mango and jalapeno.\",\n",
        "    \"Crunchy sushi roll with a creamy filling, featuring shrimp tempura and avocado.\",\n",
        "    \"Uniquely presented sushi roll, such as a hand roll or sushi burrito.\",\n",
        "    \"Sushi roll with premium ingredients like uni or wagyu beef.\",\n",
        "    \"Traditional Japanese flavored sushi roll with pickled plum or fermented soybeans.\"\n",
        "]\n",
        "\n",
        "curry_captions = [\n",
        "    \"A steaming bowl of fiery chicken curry, infused with a blend of aromatic spices and topped with fresh cilantro leaves.\",\n",
        "    \"Luxurious coconut shrimp curry on a generous plate, featuring succulent shrimp in a rich coconut milk sauce, served with jasmine rice.\",\n",
        "    \"Robust beef curry in a hearty bowl, simmered with a medley of spices, tomatoes, and onions, garnished with chopped green onions.\",\n",
        "    \"Colorful vegetable curry plate, showcasing a vibrant mix of carrots, peas, and potatoes in a spiced sauce, perfect for a healthy meal.\",\n",
        "    \"Comforting lamb curry bowl, featuring tender lamb slow-cooked in a flavorful sauce with cumin and coriander, garnished with toasted cumin seeds.\",\n",
        "    \"Creamy mild korma curry, featuring tender chicken chunks in a rich sauce made with yogurt and cream, sprinkled with sliced almonds.\",\n",
        "    \"Tangy fish curry bowl, featuring delicate fish pieces in a zesty sauce made with tamarind and curry leaves, ideal for a light meal.\",\n",
        "    \"Mouthwatering paneer tikka masala, featuring juicy paneer in a rich tomato-based sauce, garnished with fresh coriander leaves.\",\n",
        "    \"Spicy chickpea curry bowl, featuring nutty chickpeas in a flavorful sauce with onions and tomatoes, finished with a wedge of lemon.\",\n",
        "    \"Fragrant Thai green curry, featuring vegetables and chicken or tofu in a rich coconut milk sauce with lemongrass, served with jasmine rice.\",\n",
        "    \"Vibrant red curry with tofu and bell peppers, featuring tofu and sweet bell peppers in a rich coconut milk sauce.\",\n",
        "    \"Decadent butter chicken curry, featuring tender chicken in a velvety sauce made with butter and tomatoes, served with warm naan bread.\",\n",
        "    \"Comforting lentil dal curry, featuring nutty lentils in a spiced sauce with onions and tomatoes, garnished with fresh cilantro leaves.\",\n",
        "    \"Spicy vindaloo curry with tender pork pieces, featuring a fiery sauce made with vinegar and chili peppers, perfect for bold flavor lovers.\",\n",
        "    \"Fragrant vegetable curry with coconut milk and spices, featuring a mix of tender vegetables in a rich, aromatic sauce.\",\n",
        "    \"Sweet and savory mango curry with chicken and bell peppers, featuring a flavorful sauce made with ripe mangoes and coconut milk.\",\n",
        "    \"Spicy eggplant curry with fresh basil, featuring tender eggplant in a rich sauce with onions and tomatoes, finished with basil leaves.\",\n",
        "    \"Aromatic goat curry, featuring tender goat pieces in a flavorful sauce with spices, served with steamed basmati rice.\",\n",
        "    \"Creamy spinach and potato curry, featuring fluffy potatoes and nutritious spinach in a rich sauce with cream and garam masala.\",\n",
        "    \"Mouthwatering mushroom curry, featuring shiitake and button mushrooms in a rich coconut milk sauce with spices and herbs.\",\n",
        "    \"Tangy tomato curry with chicken, featuring tender chicken pieces in a zesty tomato-based sauce with onions and spices.\",\n",
        "    \"Spicy prawn curry with fresh mint garnish, featuring juicy prawns in a fiery sauce with onions and tomatoes, finished with mint leaves.\",\n",
        "    \"Hearty pumpkin curry with toasted pumpkin seeds, featuring sweet pumpkin pieces in a creamy coconut milk sauce, finished with toasted seeds.\",\n",
        "    \"Creamy cauliflower curry with garlic naan, featuring tender cauliflower in a rich sauce with cream and spices, served with garlic naan bread.\",\n",
        "    \"Rich and spicy lamb rogan josh with yogurt garnish, featuring tender lamb pieces in a bold sauce with spices, finished with creamy yogurt.\"\n",
        "]\n",
        "\n",
        "fruit_captions = [\n",
        "    \"A basket of fresh strawberries with a sprinkle of powdered sugar\",\n",
        "    \"A slice of juicy watermelon with a sprinkle of chili powder and lime juice\",\n",
        "    \"A bowl of mixed berries, including blueberries, raspberries, and blackberries\",\n",
        "    \"A close-up shot of a ripe and juicy peach with a sprinkle of cinnamon\",\n",
        "    \"A plate of sliced pineapple with a side of whipped cream and a cherry on top\",\n",
        "    \"A bowl of cherries with a sprig of mint for garnish\",\n",
        "    \"A fruit platter with a variety of exotic fruits, such as dragon fruit, mangosteen, and durian\",\n",
        "    \"A bowl of sliced mango with a drizzle of honey and a sprinkle of Tajin seasoning\",\n",
        "    \"A fruit kabob with a variety of fruits, such as grapes, melon, and berries\",\n",
        "    \"A bowl of pomegranate seeds with a sprinkle of lime zest and a drizzle of agave nectar\",\n",
        "    \"A whole papaya on a white plate with two apples on the side\",\n",
        "    \"A bowl of sliced dragon fruit with a sprinkle of coconut flakes and a drizzle of lime juice\",\n",
        "    \"A bowl of sliced kiwi with a sprinkle of sugar and a side of yogurt\",\n",
        "    \"A bowl of sliced cantaloupe with a sprinkle of cinnamon and a side of cottage cheese\",\n",
        "    \"A bowl of sliced honeydew with a sprinkle of salt and a side of prosciutto\",\n",
        "    \"Grapefruit slides on top of yoghurt in a green bowl with a metal spoon in the side\",\n",
        "    \"A bowl of sliced oranges with a sprinkle of cinnamon and a side of cloves\",\n",
        "    \"Three apples and two oranges next to each other on a kitchen table\",\n",
        "    \"A bowl of sliced pears with a sprinkle of ginger and a side of honey\",\n",
        "    \"A bowl of sliced bananas with a sprinkle of cocoa powder and a side of peanut butter\",\n",
        "    \"Two handfuls of bananas in a fruit bowl with grapes on the side, the fruit bowl is blue\",\n",
        "    \"A bowl of sliced tomatoes with a sprinkle of basil and a side of mozzarella cheese\",\n",
        "    \"A bowl of sliced cucumbers with a sprinkle of dill and a side of sour cream\",\n",
        "    \"A bowl of sliced bell peppers with a sprinkle of paprika and a side of hummus\",\n",
        "    \"Boxes of apples, pears, pineapple, manadrins and oranges at a fruit market\"\n",
        "]\n",
        "\n",
        "vegetable_captions = [\n",
        "    \"Fresh cherry tomatoes in a basket, sprinkled with sea salt for a savory snack.\",\n",
        "    \"Cucumbers on a plate, served with a side of tangy tzatziki sauce.\",\n",
        "    \"A colorful bowl of mixed carrots, including orange and purple.\",\n",
        "    \"A close-up shot of a big orange pumpkin with a face cut out of the side for Halloween.\",\n",
        "    \"Carrots on a plate, served with a side of creamy hummus and a sprinkle of paprika.\",\n",
        "    \"Cherry tomatoes and mozzarella balls in a bowl, drizzled with balsamic glaze for a tasty appetizer.\",\n",
        "    \"A platter of raw vegetables, including broccoli, cauliflower, and snap peas, perfect for a healthy snack.\",\n",
        "    \"Radishes in a bowl, sprinkled with salt and served with a side of butter.\",\n",
        "    \"A kabob of grilled vegetables, including zucchini, squash, and onion, perfect for a summer barbecue.\",\n",
        "    \"Jicama in a bowl, sprinkled with chili powder and served with a side of lime wedges for a refreshing snack.\",\n",
        "    \"Celery in a bowl, served with a side of peanut butter and a sprinkle of raisins for a classic, tasty snack.\",\n",
        "    \"Beets in a bowl, sprinkled with goat cheese and served with a side of arugula for a sophisticated, flavorful dish.\",\n",
        "    \"Fennel in a bowl, sprinkled with lemon zest and served with a side of olive oil for a light, refreshing dish.\",\n",
        "    \"Kohlrabi in a bowl, sprinkled with salt and served with a side of yogurt dip for a tasty, unique snack.\",\n",
        "    \"Turnips in a bowl, sprinkled with pepper and served with a side of mustard sauce for a hearty, flavorful dish.\",\n",
        "    \"Rutabaga in a bowl, sprinkled with nutmeg and served with a side of brown sugar for a sweet, comforting dish.\",\n",
        "    \"Parsnips in a bowl, sprinkled with thyme and served with a side of honey for a tasty, unique snack.\",\n",
        "    \"Brussels sprouts in a bowl, sprinkled with bacon bits and served with a side of maple syrup for a savory, sweet dish.\",\n",
        "    \"Artichokes in a bowl, sprinkled with garlic and served with a side of lemon aioli for a tasty, sophisticated dish.\",\n",
        "    \"Asparagus in a bowl, sprinkled with Parmesan cheese and served with a side of hollandaise sauce for a classic, flavorful dish.\",\n",
        "    \"Green beans in a bowl, sprinkled with almonds and served with a side of lemon vinaigrette for a healthy, tasty dish.\",\n",
        "    \"Eggplant in a bowl, sprinkled with feta cheese and served with a side of tomato sauce for a tasty, Mediterranean-inspired dish.\",\n",
        "    \"Zucchini in a bowl, sprinkled with basil and served with a side of marinara sauce for a classic, Italian-inspired dish.\",\n",
        "    \"Yellow squash in a bowl, sprinkled with oregano and served with a side of pesto sauce for a tasty, flavorful dish.\",\n",
        "    \"Potatoes, onions, garlic, cauliflower, and broccolini in boxes at the market, ready for a tasty, healthy meal.\"\n",
        "]\n",
        "\n",
        "mixed_food_captions = [\n",
        "    \"My favorite food is biltong!\",\n",
        "    \"A juicy burger topped with cheese, bacon, and caramelized onions.\",\n",
        "    \"Freshly baked pizza with melted mozzarella and marinara sauce.\",\n",
        "    \"A steaming bowl of ramen noodles with pork and boiled egg.\",\n",
        "    \"Grilled shrimp skewers with a side of tangy BBQ sauce.\",\n",
        "    \"A colorful salad with mixed greens, cherry tomatoes, and a citrus vinaigrette.\",\n",
        "    \"A decadent chocolate cake with rich frosting and sprinkles.\",\n",
        "    \"Crispy fried chicken wings tossed in spicy buffalo sauce.\",\n",
        "    \"A warm, flaky croissant with a hint of butter and jam.\",\n",
        "    \"A refreshing glass of lemonade with a twist of mint.\"\n",
        "]\n",
        "\n",
        "food_captions = pizza_captions + sushi_captions + curry_captions + fruit_captions + vegetable_captions + mixed_food_captions\n",
        "\n",
        "# not_food\n",
        "\n",
        "not_food_captions_1 = [\n",
        "    \"Sleek silver laptop resting on a wooden desk\",\n",
        "    \"Remote control placed on a couch cushion\",\n",
        "    \"Stainless steel refrigerator with a convenient water dispenser\",\n",
        "    \"Red ceramic mug sitting next to a coffee maker\",\n",
        "    \"Flat screen TV neatly mounted on a wall\",\n",
        "    \"Pair of reading glasses left open on a book\",\n",
        "    \"Black leather couch adding elegance to a living room\",\n",
        "    \"White porcelain sink with a shiny chrome faucet\",\n",
        "    \"Wooden cutting board with a chef's knife ready for use\",\n",
        "    \"Vintage record player spinning a vinyl record\",\n",
        "    \"Set of stainless steel utensils arranged on a kitchen table\",\n",
        "    \"Colorful area rug brightening up a living room\",\n",
        "    \"Standing floor lamp providing light next to an armchair\",\n",
        "    \"Silver toaster oven sitting on a kitchen counter\",\n",
        "    \"Set of keys hanging on a hook by the door\",\n",
        "    \"Potted plant adding greenery to a windowsill\",\n",
        "    \"Stack of books waiting to be read on a bookshelf\",\n",
        "    \"Red brick fireplace with a mantel serving as a centerpiece\",\n",
        "    \"King-size bed with a white comforter inviting a good night's sleep\",\n",
        "    \"Round wooden dining table with chairs gathered around\",\n",
        "    \"White ceramic vase holding fresh flowers\",\n",
        "    \"Black and white checkered kitchen floor adding a classic touch\",\n",
        "    \"Microwave oven ready for use on a kitchen counter\",\n",
        "    \"Washing machine and dryer side by side in a laundry room\",\n",
        "    \"Set of wine glasses hanging on a rack\",\n",
        "    \"Vintage telephone sitting on a desk\",\n",
        "    \"Wooden hanger holding clothes on a rack\",\n",
        "    \"Ceiling fan with lights illuminating a bedroom\",\n",
        "    \"Set of pots and pans hanging from a kitchen rack\",\n",
        "    \"White bathtub with a shower curtain ready for a soak\",\n",
        "    \"Coffee table cluttered with magazines\",\n",
        "    \"Silverware organizer keeping cutlery tidy in a kitchen drawer\",\n",
        "    \"Wall clock ticking away in a living room\",\n",
        "    \"Set of headphones resting on a desk\",\n",
        "    \"Vacuum cleaner stored in a closet\",\n",
        "    \"Wooden dresser with a mirror reflecting the room\",\n",
        "    \"Set of curtains draped over a window\",\n",
        "    \"Chandelier casting light in a dining room\",\n",
        "    \"Garage door with a remote control ready for use\",\n",
        "    \"Set of speakers perched on a shelf\",\n",
        "    \"Dishwasher installed in a kitchen\",\n",
        "    \"Set of candles arranged on a mantel\",\n",
        "    \"Garden hose rolled up and ready in a yard\",\n",
        "    \"Set of tools organized in a garage\",\n",
        "    \"Bicycle leaning casually against a wall\",\n",
        "    \"Lawn mower stored in a shed\",\n",
        "    \"Barbecue grill waiting on a patio\",\n",
        "    \"Swimming pool sparkling in a backyard\",\n",
        "    \"Hammock swaying between two trees\",\n",
        "    \"Mailbox standing by a front door\",\n",
        "    \"Birdhouse hanging from a tree\",\n",
        "    \"Set of golf clubs stored in a bag\",\n",
        "    \"Basketball hoop set up in a driveway\",\n",
        "    \"Skateboard leaning against a bench\",\n",
        "    \"Set of dumbbells stacked in a gym\",\n",
        "    \"Yoga mat rolled up and ready in a corner\",\n",
        "    \"Treadmill available in a home gym\",\n",
        "    \"Set of skis leaning against a wall\",\n",
        "    \"Surfboard leaning against a fence\",\n",
        "    \"Fishing rod propped against a dock\",\n",
        "    \"Camping tent pitched in a backyard\",\n",
        "    \"Set of binoculars placed on a table\",\n",
        "    \"Drone resting on a desk\",\n",
        "    \"Set of paintbrushes stored in a jar\",\n",
        "    \"Guitar leaning casually against a couch\",\n",
        "    \"Set of board games stacked on a shelf\",\n",
        "    \"Sewing machine ready for use on a table\",\n",
        "    \"Set of knitting needles with yarn waiting to be knitted\",\n",
        "    \"Camera mounted on a tripod\",\n",
        "    \"Set of books stacked on a desk\",\n",
        "    \"Telescope positioned on a balcony\",\n",
        "    \"Microscope set up on a table\",\n",
        "    \"Set of test tubes arranged in a rack\",\n",
        "    \"Set of headphones placed on a desk\",\n",
        "    \"Set of candles lit on a table\",\n",
        "    \"Set of plates stacked in a cupboard\",\n",
        "    \"Set of pillows arranged on a couch\",\n",
        "    \"Set of glasses gleaming in a cabinet\",\n",
        "    \"Set of bowls stacked on a shelf\",\n",
        "    \"Set of mugs hanging on a hook\",\n",
        "    \"Set of spoons stored in a drawer\",\n",
        "    \"Set of forks kept in a holder\",\n",
        "    \"Set of napkins arranged in a ring\",\n",
        "    \"Set of tea towels folded in a kitchen\",\n",
        "    \"Set of potholders stored in a drawer\",\n",
        "    \"Set of oven mitts hanging on a hook\",\n",
        "    \"Set of measuring cups nested in a drawer\",\n",
        "    \"Set of measuring spoons hung on a rack\",\n",
        "    \"Set of mixing bowls perched on a shelf\",\n",
        "    \"Set of baking sheets stacked in a cabinet\",\n",
        "    \"Set of muffin tins stacked together\",\n",
        "    \"Set of cake pans tucked in a drawer\",\n",
        "    \"Set of cookie cutters collected in a jar\",\n",
        "    \"Set of spatulas kept in a holder\",\n",
        "    \"Set of tongs stored in a drawer\",\n",
        "    \"Set of napkins dispensed from a dispenser\",\n",
        "    \"Set of straws held in a holder\",\n",
        "    \"A girl feeding her rabbit in the garden\",\n",
        "    \"Cuddling with a cat on her lap, a woman enjoys her morning coffee\",\n",
        "    \"Walking in the park, a man jogs with his energetic dog\",\n",
        "    \"Watching TV together, a family has their dog stretched out on the floor\",\n",
        "    \"A boy building a fort in the living room with his curious cat watching\",\n",
        "    \"A close-up of a woman practicing yoga in the living room while her dog mimics her poses\",\n",
        "    \"A couple enjoying a movie night on the couch with their pets snuggled close\",\n",
        "    \"A close-up of a girl feeding her rabbit in the garden\",\n",
        "    \"A close-up of a cat lounging on a windowsill with a child reading nearby\",\n",
        "    \"A close-up of a man and his dog sharing a quiet moment on the porch\",\n",
        "    \"A boy giving his dog a bath in the backyard\",\n",
        "    \"A close-up of a family playing a board game with their pets watching intently\",\n",
        "    \"A child playing with a golden retriever in the backyard\",\n",
        "    \"Reading a book on the couch, a woman has a cat curled up beside her\",\n",
        "    \"Cooking dinner in the kitchen, a man has a dog eagerly watching\",\n",
        "    \"Family gathered around a dining table, laughing and eating\",\n",
        "    \"Relaxing on the porch, a couple enjoys the company of their two dogs by their feet\",\n",
        "    \"Brushing her cat's fur in her bedroom, a young girl concentrates\",\n",
        "    \"Playing video games in the living room, a boy has a dog lying next to him\",\n",
        "    \"Working from home at her desk, a woman deals with a cat sitting on the keyboard\",\n",
        "    \"Taking a nap on a hammock, a man has his dog snuggled up next to him\",\n",
        "    \"Friends having a barbecue in the backyard while pets play nearby\"\n",
        "    \"A collection of cleaning products under the sink\",\n",
        "    \"Computer desk with laptop and computer monitor on it with a mousepad and keyboard\",\n",
        "    \"Two dogs laying on a rug\",\n",
        "    \"A cat and a dog sitting on a couch\",\n",
        "    \"Three black dogs laying on the garage floor with a blue car in the background\",\n",
        "    \"A white car parked in a driveway with a wooden fence behind it\",\n",
        "    \"Two people sitting at a dining room table with a newspaper on it\"\n",
        "]\n",
        "\n",
        "not_food_captions_2 = [\n",
        "    \"I whipped up a fresh batch of code, but it seems to have a syntax error.\",\n",
        "    \"We need to marinate these ideas overnight before presenting them to the client.\",\n",
        "    \"The new software is definitely a spicy upgrade, taking some time to get used to.\",\n",
        "    \"Her social media post was the perfect recipe for a viral sensation.\",\n",
        "    \"He served up a rebuttal full of facts, leaving his opponent speechless.\",\n",
        "    \"The team needs to simmer down a bit before tackling the next challenge.\",\n",
        "    \"The presentation was a delicious blend of humor and information, keeping the audience engaged.\",\n",
        "    \"A beautiful array of fake wax foods (shokuhin sampuru) in the front of a Japanese restaurant.\",\n",
        "    \"Daniel Bourke is really cool :D\",\n",
        "    \"The beautiful view was the icing on the cake.\"\n",
        "]\n",
        "\n",
        "not_food_captions = not_food_captions_1 + not_food_captions_2\n",
        "\n",
        "\n",
        "food_items = [{'text': caption, 'label': 'food'} for caption in food_captions]\n",
        "not_food_items = [{'text': caption, 'label': 'not_food'} for caption in not_food_captions]\n",
        "all_items = food_items + not_food_items\n",
        "\n",
        "# Make a data frame with all_items using Pandas\n",
        "import pandas as pd\n",
        "df = pd.DataFrame(all_items)\n",
        "\n",
        "# Shuffle the data frame\n",
        "df = df.sample(frac = 1).reset_index(drop = True)\n",
        "df.sample(6)\n",
        "\n",
        "# Create a dataset to upload to Hugging Face from the Pandas DataFrame, df\n",
        "try:\n",
        "  import datasets\n",
        "except:\n",
        "  !pip install datasets\n",
        "  import datasets\n",
        "\n",
        "from datasets import Dataset\n",
        "dataset = Dataset.from_pandas(df)\n",
        "dataset[0]\n",
        "\n",
        "# Check a random sample from your dataset\n",
        "import random\n",
        "rand_idx = random.randint(0,len(dataset))\n",
        "print(f'Showing sample {rand_idx}\\n {dataset[rand_idx]}')\n",
        "\n",
        "# Push the dataset of food/not_food captions and labels to Hugging Face Hub\n",
        "from google.colab import userdata\n",
        "HF_WRITE_TOKEN = userdata.get('HF_TOKEN')\n",
        "dataset.push_to_hub('turtlemb/hf_extended_food_not_food_image_captions', token = HF_WRITE_TOKEN)"
      ],
      "metadata": {
        "colab": {
          "base_uri": "https://localhost:8080/",
          "height": 183,
          "referenced_widgets": [
            "295c497cb2ad43c987e0ff9a181b4bfa",
            "c70cacd9681c49e5bcec2edd4d2ffe02",
            "1bf9c819ab78479f86fb7914f4341a05",
            "31ccd4ef11c2460ab68cd7f63570b416",
            "c886ac307ce5490dae6e7307933bb3ea",
            "b8c60d232e6848c7aa59bfd0afb8880f",
            "95edd4b2a1fe450f81937ea30f19d8b7",
            "8ba2b96817404aeb91e12e6100ff293c",
            "8016ab5daf6449dba85b781512a3f518",
            "2a20700bac334724aa25530587aa66a6",
            "dd9b4d3c212f430ba9c6bb137e836831",
            "e3dabd0b85cd4e04ac186fe08ed81c5e",
            "f2f9dcb8dda34727b84382ced317a26e",
            "11d5a3f422634fb5bdc6a7f1458f42f1",
            "df3b8d9952224a4d8f39e2a3ea7f415c",
            "acd9effd5aeb42ff8b5485805ffd886d",
            "6752a193b2ed497c99763c526dbf1bd3",
            "34d6e5c357574d35bb46ee1bf7d89d79",
            "bb7488926e794440b830e6314c08ac60",
            "a7d77da550e14b4898e3058c32a2ccfd",
            "58c18adf4c0b4ce793082312f62c4b51",
            "40bd1e10fd50453cad12b76d7517b573"
          ]
        },
        "id": "UBjbtzzEUqYi",
        "outputId": "12531e4a-e4a3-401a-8638-00c78516052e"
      },
      "execution_count": null,
      "outputs": [
        {
          "output_type": "stream",
          "name": "stdout",
          "text": [
            "Showing sample 152\n",
            " {'text': 'Creamy spinach and potato curry, featuring fluffy potatoes and nutritious spinach in a rich sauce with cream and garam masala.', 'label': 'food'}\n"
          ]
        },
        {
          "output_type": "display_data",
          "data": {
            "text/plain": [
              "Uploading the dataset shards:   0%|          | 0/1 [00:00<?, ?it/s]"
            ],
            "application/vnd.jupyter.widget-view+json": {
              "version_major": 2,
              "version_minor": 0,
              "model_id": "295c497cb2ad43c987e0ff9a181b4bfa"
            }
          },
          "metadata": {}
        },
        {
          "output_type": "display_data",
          "data": {
            "text/plain": [
              "Creating parquet from Arrow format:   0%|          | 0/1 [00:00<?, ?ba/s]"
            ],
            "application/vnd.jupyter.widget-view+json": {
              "version_major": 2,
              "version_minor": 0,
              "model_id": "e3dabd0b85cd4e04ac186fe08ed81c5e"
            }
          },
          "metadata": {}
        },
        {
          "output_type": "execute_result",
          "data": {
            "text/plain": [
              "CommitInfo(commit_url='https://huggingface.co/datasets/turtlemb/hf_extended_food_not_food_image_captions/commit/2f284d5060b2d300578690035e3bd25a3dc05df4', commit_message='Upload dataset', commit_description='', oid='2f284d5060b2d300578690035e3bd25a3dc05df4', pr_url=None, repo_url=RepoUrl('https://huggingface.co/datasets/turtlemb/hf_extended_food_not_food_image_captions', endpoint='https://huggingface.co', repo_type='dataset', repo_id='turtlemb/hf_extended_food_not_food_image_captions'), pr_revision=None, pr_num=None)"
            ],
            "application/vnd.google.colaboratory.intrinsic+json": {
              "type": "string"
            }
          },
          "metadata": {},
          "execution_count": 19
        }
      ]
    },
    {
      "cell_type": "code",
      "source": [
        "# 1. Import necessary packages\n",
        "\n",
        "import pprint\n",
        "from pathlib import Path\n",
        "\n",
        "import numpy as np\n",
        "import torch\n",
        "\n",
        "try:\n",
        "  import evaluate, datasets\n",
        "except ModuleNotFoundError:\n",
        "  !pip install -U evaluate datasets\n",
        "  import evaluate, datasets\n",
        "\n",
        "from datasets import load_dataset\n",
        "from transformers import pipeline\n",
        "from transformers import TrainingArguments, Trainer\n",
        "from transformers import AutoTokenizer, AutoModelForSequenceClassification\n",
        "\n",
        "\n",
        "# 2. Setup variables for model training and saving pipeline\n",
        "DATASET_NAME = 'turtlemb/hf_extended_food_not_food_image_captions'\n",
        "MODEL_NAME = 'distilbert/distilbert-base-uncased'\n",
        "MODEL_SAVE_DIR_NAME = 'models/hf_extended_food_not_food_text_classifier-distilbert-base-uncased'\n",
        "\n",
        "\n",
        "# 3. Create a directory for saving models\n",
        "print(f'[INFO] Creating directory for saving models: {MODEL_SAVE_DIR_NAME}')\n",
        "model_save_dir = Path(MODEL_SAVE_DIR_NAME)\n",
        "model_save_dir.mkdir(parents = True, exist_ok = True)\n",
        "\n",
        "# 4. Load and preprocess the dataset from Hugging Face Hub\n",
        "print(f'[INFO] Downloading dataset from Hugging Face Hub, name: {DATASET_NAME}')\n",
        "dataset = load_dataset(DATASET_NAME)\n",
        "\n",
        "# Create mapping from label2id and id2label\n",
        "id2label = {idx: label for idx, label in enumerate(dataset['train'].unique('label')[::-1])} # because the dataset list start with a food, we reverse the item order to get not_food first to assing it to index 0\n",
        "label2id = {label: idx for idx, label in id2label.items()}\n",
        "\n",
        "# Create a function to map IDs to labels in dataset\n",
        "def map_label_to_number(example):\n",
        "  example['label'] = label2id[example['label']]\n",
        "  return example\n",
        "\n",
        "# Map our preprocessing function to our dataset\n",
        "dataset = dataset['train'].map(map_label_to_number)\n",
        "\n",
        "# Split the dataset into train/test sets\n",
        "dataset = dataset.train_test_split(test_size = 0.2, seed = 42)\n",
        "dataset\n",
        "\n",
        "# 5. Import a tokenizer and map it to our dataset\n",
        "print(f'[INFO] Tokenizing text for model training with tokenizer: {MODEL_NAME}')\n",
        "tokenizer = AutoTokenizer.from_pretrained(pretrained_model_name_or_path = MODEL_NAME,\n",
        "                                          use_fast = True)\n",
        "\n",
        "# Create function to tokenize text samples (turn text into numbers)\n",
        "def tokenize_text(examples):\n",
        "  return tokenizer(examples['text'],\n",
        "                   padding = True,\n",
        "                   truncation = True)\n",
        "\n",
        "tokenized_dataset = dataset.map(function = tokenize_text,\n",
        "                                batched = True,\n",
        "                                batch_size = 1000)\n",
        "\n",
        "# 6. Set up an evaluation metric\n",
        "accuracy_metric = evaluate.load('accuracy')\n",
        "\n",
        "def compute_accuracy(predictions_and_labels):\n",
        "  predictions, labels = predictions_and_labels\n",
        "\n",
        "  # Model will output logits in the form ([[item_1, item_2, item_3], [item_1, item_2, item_3]]) # depending on number of classes you have\n",
        "  # But we want to compare labels which are in the format ([0, 0, 0, 0, 1])\n",
        "  if len(predictions.shape) >= 2:\n",
        "    predictions = np.argmax(predictions, axis = 1)\n",
        "\n",
        "  return accuracy_metric.compute(predictions = predictions, references = labels)\n",
        "\n",
        "# 7. Set up a model\n",
        "print(f'[INFO] Loading model: {MODEL_NAME}')\n",
        "model = AutoModelForSequenceClassification.from_pretrained(\n",
        "    pretrained_model_name_or_path = MODEL_NAME,\n",
        "    num_labels = 2,\n",
        "    id2label = id2label,\n",
        "    label2id = label2id\n",
        ")\n",
        "\n",
        "print(f'[INFO] Model loading complete!')\n",
        "\n",
        "# Set up TrainArguments (these are hyperparameters for our model)\n",
        "# Hyperparameters = settings that we can set as developers\n",
        "# Parameters = settings/weights our model learns on its own\n",
        "\n",
        "training_args = TrainingArguments(\n",
        "    output_dir = model_save_dir,\n",
        "    learning_rate = 0.0001,\n",
        "    per_device_train_batch_size = 32,\n",
        "    per_device_eval_batch_size = 32,\n",
        "    num_train_epochs = 10,\n",
        "    eval_strategy = \"epoch\",\n",
        "    save_strategy = 'epoch',\n",
        "    save_total_limit = 3,\n",
        "    use_cpu = False,\n",
        "    seed = 42,\n",
        "    load_best_model_at_end = True,\n",
        "    logging_strategy = 'epoch',\n",
        "    report_to = 'none',\n",
        "    push_to_hub = False,\n",
        "    hub_private_repo = False # Note: this will make our model public (default)\n",
        ")\n",
        "\n",
        "# Create Trainer instance\n",
        "trainer = Trainer(\n",
        "    model = model,\n",
        "    args = training_args,\n",
        "    train_dataset = tokenized_dataset['train'],\n",
        "    eval_dataset = tokenized_dataset['test'],\n",
        "    tokenizer = tokenizer,\n",
        "    compute_metrics = compute_accuracy\n",
        ")\n",
        "\n",
        "trainer\n",
        "\n",
        "# 8. Train the model\n",
        "print(f'[INFO] Commencing model training...')\n",
        "results = trainer.train()\n",
        "\n",
        "# 9. Save the trained model (to a local directory)\n",
        "print(f'[INFO] Model training complete, saving model to local path: {model_save_dir}')\n",
        "trainer.save_model(output_dir = model_save_dir)\n",
        "\n",
        "# 10. Push the model to the Hugging Face Hub\n",
        "print(f'[INFO] Uploading model to Hugging Face Hub...')\n",
        "model_upload_url = trainer.push_to_hub(\n",
        "    commit_message = 'Uploading food not food text classifier model (smarter version)',\n",
        "    # token = 'YOUR_TOKEN_HERE' # no recommended -> instead, activate the Hugging Face Token Key access for Colab\n",
        ")\n",
        "print(f'[INFO] Model upload complete, model available at: {model_upload_url}')\n",
        "\n",
        "# 11. Evaluate the model on the test data\n",
        "print(f'[INFO] Performing evaluation with test dataset...')\n",
        "predictions_all = trainer.predict(tokenized_dataset['test'])\n",
        "prediction_values = predictions_all.predictions\n",
        "prediction_metrics = predictions_all.metrics\n",
        "\n",
        "print(f'[INFO] Prediction metrics on test data:')\n",
        "pprint.pprint(prediction_metrics)"
      ],
      "metadata": {
        "colab": {
          "base_uri": "https://localhost:8080/",
          "height": 841,
          "referenced_widgets": [
            "b24855629b254b168b2a8e7555737e46",
            "13c25de04b5b4a46b211bc0332e9bd49",
            "26ccde4073d646498a56ca37b58f39ed",
            "0e1f1ec8f7fe413ab3eea70b636ba156",
            "a9e743b778ca4804935613b8b3f40020",
            "c075a7ffafa14a96979f4173dcb35c8e",
            "73dc31b9deed4463b8724c56ac41e429",
            "d9dc1001e3534849ba5af11833e0463d",
            "7f46ca3fd5674a6a8e4fabfeb110be35",
            "01c722d3c953424198b1e0056ba97185",
            "c1513f4e1b3a4e14a8e4fd3ca3a0f3bf",
            "d127ef93fe7c4423ba6b5ce4bf6d747e",
            "5fa32b8bd4734736bdf90c990b03ea79",
            "f8de928abe484dd49b842eea8da53777",
            "2e1eb4f20d0345139035432d23035d0d",
            "a5909eb7546c4e64bdfa18503fc996f2",
            "d9dc9fabcf164caca161e34fc0b4fc99",
            "f1d4057a12b1413e8be56f754b702165",
            "1ad7316e0de346f7af5dd75a83d28abb",
            "660d54f49f794d9988b0f55a21bda45a",
            "d784259f8f154b3fb30eca9751ad262b",
            "677024b2b1b0491182cfb6eea348df35",
            "b093ffdeb0c34282bd6fc9dfeedc43db",
            "72e000c873754a8ebee32a1fc5c23768",
            "6cc2fda0741940d29fe7862af112eefe",
            "e5a9234debb3454e910d648a9fb1a366",
            "c3d8739f2d4b4f5ea5b841c66da70169",
            "aed8d3b8c9824033afea88270b3fe2f3",
            "da562e2154de4fe18f64e1cf9db0507f",
            "47239e52d45445e49cb4ba9fb646bdfc",
            "6150dc4b8fed472394de528e8b98e943",
            "d08d02b505414738a566dfbfeb153349",
            "b5eb16e8b3b3465f88274d194d37a40f"
          ]
        },
        "id": "FvVeTgT9Xasg",
        "outputId": "41f89f20-2460-4a15-a3b3-c7866746691d"
      },
      "execution_count": null,
      "outputs": [
        {
          "output_type": "stream",
          "name": "stdout",
          "text": [
            "[INFO] Creating directory for saving models: models/hf_extended_food_not_food_text_classifier-distilbert-base-uncased\n",
            "[INFO] Downloading dataset from Hugging Face Hub, name: turtlemb/hf_extended_food_not_food_image_captions\n",
            "[INFO] Tokenizing text for model training with tokenizer: distilbert/distilbert-base-uncased\n"
          ]
        },
        {
          "output_type": "stream",
          "name": "stderr",
          "text": [
            "Some weights of DistilBertForSequenceClassification were not initialized from the model checkpoint at distilbert/distilbert-base-uncased and are newly initialized: ['classifier.bias', 'classifier.weight', 'pre_classifier.bias', 'pre_classifier.weight']\n",
            "You should probably TRAIN this model on a down-stream task to be able to use it for predictions and inference.\n"
          ]
        },
        {
          "output_type": "stream",
          "name": "stdout",
          "text": [
            "[INFO] Loading model: distilbert/distilbert-base-uncased\n",
            "[INFO] Model loading complete!\n"
          ]
        },
        {
          "output_type": "stream",
          "name": "stderr",
          "text": [
            "<ipython-input-28-25627f6bc14c>:114: FutureWarning: `tokenizer` is deprecated and will be removed in version 5.0.0 for `Trainer.__init__`. Use `processing_class` instead.\n",
            "  trainer = Trainer(\n"
          ]
        },
        {
          "output_type": "stream",
          "name": "stdout",
          "text": [
            "[INFO] Commencing model training...\n"
          ]
        },
        {
          "output_type": "display_data",
          "data": {
            "text/plain": [
              "<IPython.core.display.HTML object>"
            ],
            "text/html": [
              "\n",
              "    <div>\n",
              "      \n",
              "      <progress value='70' max='70' style='width:300px; height:20px; vertical-align: middle;'></progress>\n",
              "      [70/70 08:52, Epoch 10/10]\n",
              "    </div>\n",
              "    <table border=\"1\" class=\"dataframe\">\n",
              "  <thead>\n",
              " <tr style=\"text-align: left;\">\n",
              "      <th>Epoch</th>\n",
              "      <th>Training Loss</th>\n",
              "      <th>Validation Loss</th>\n",
              "      <th>Accuracy</th>\n",
              "    </tr>\n",
              "  </thead>\n",
              "  <tbody>\n",
              "    <tr>\n",
              "      <td>1</td>\n",
              "      <td>0.494200</td>\n",
              "      <td>0.197407</td>\n",
              "      <td>1.000000</td>\n",
              "    </tr>\n",
              "    <tr>\n",
              "      <td>2</td>\n",
              "      <td>0.088700</td>\n",
              "      <td>0.036065</td>\n",
              "      <td>0.981481</td>\n",
              "    </tr>\n",
              "    <tr>\n",
              "      <td>3</td>\n",
              "      <td>0.010600</td>\n",
              "      <td>0.002946</td>\n",
              "      <td>1.000000</td>\n",
              "    </tr>\n",
              "    <tr>\n",
              "      <td>4</td>\n",
              "      <td>0.002500</td>\n",
              "      <td>0.001504</td>\n",
              "      <td>1.000000</td>\n",
              "    </tr>\n",
              "    <tr>\n",
              "      <td>5</td>\n",
              "      <td>0.002200</td>\n",
              "      <td>0.001185</td>\n",
              "      <td>1.000000</td>\n",
              "    </tr>\n",
              "    <tr>\n",
              "      <td>6</td>\n",
              "      <td>0.001000</td>\n",
              "      <td>0.000715</td>\n",
              "      <td>1.000000</td>\n",
              "    </tr>\n",
              "    <tr>\n",
              "      <td>7</td>\n",
              "      <td>0.000800</td>\n",
              "      <td>0.000602</td>\n",
              "      <td>1.000000</td>\n",
              "    </tr>\n",
              "    <tr>\n",
              "      <td>8</td>\n",
              "      <td>0.000700</td>\n",
              "      <td>0.000549</td>\n",
              "      <td>1.000000</td>\n",
              "    </tr>\n",
              "    <tr>\n",
              "      <td>9</td>\n",
              "      <td>0.000700</td>\n",
              "      <td>0.000523</td>\n",
              "      <td>1.000000</td>\n",
              "    </tr>\n",
              "    <tr>\n",
              "      <td>10</td>\n",
              "      <td>0.000600</td>\n",
              "      <td>0.000514</td>\n",
              "      <td>1.000000</td>\n",
              "    </tr>\n",
              "  </tbody>\n",
              "</table><p>"
            ]
          },
          "metadata": {}
        },
        {
          "output_type": "stream",
          "name": "stdout",
          "text": [
            "[INFO] Model training complete, saving model to local path: models/hf_extended_food_not_food_text_classifier-distilbert-base-uncased\n",
            "[INFO] Uploading model to Hugging Face Hub...\n"
          ]
        },
        {
          "output_type": "display_data",
          "data": {
            "text/plain": [
              "training_args.bin:   0%|          | 0.00/5.43k [00:00<?, ?B/s]"
            ],
            "application/vnd.jupyter.widget-view+json": {
              "version_major": 2,
              "version_minor": 0,
              "model_id": "b24855629b254b168b2a8e7555737e46"
            }
          },
          "metadata": {}
        },
        {
          "output_type": "display_data",
          "data": {
            "text/plain": [
              "model.safetensors:   0%|          | 0.00/268M [00:00<?, ?B/s]"
            ],
            "application/vnd.jupyter.widget-view+json": {
              "version_major": 2,
              "version_minor": 0,
              "model_id": "d127ef93fe7c4423ba6b5ce4bf6d747e"
            }
          },
          "metadata": {}
        },
        {
          "output_type": "display_data",
          "data": {
            "text/plain": [
              "Upload 2 LFS files:   0%|          | 0/2 [00:00<?, ?it/s]"
            ],
            "application/vnd.jupyter.widget-view+json": {
              "version_major": 2,
              "version_minor": 0,
              "model_id": "b093ffdeb0c34282bd6fc9dfeedc43db"
            }
          },
          "metadata": {}
        },
        {
          "output_type": "stream",
          "name": "stdout",
          "text": [
            "[INFO] Model upload complete, model available at: https://huggingface.co/turtlemb/hf_extended_food_not_food_text_classifier-distilbert-base-uncased/tree/main/\n",
            "[INFO] Performing evaluation with test dataset...\n"
          ]
        },
        {
          "output_type": "display_data",
          "data": {
            "text/plain": [
              "<IPython.core.display.HTML object>"
            ],
            "text/html": []
          },
          "metadata": {}
        },
        {
          "output_type": "stream",
          "name": "stdout",
          "text": [
            "[INFO] Prediction metrics on test data:\n",
            "{'test_accuracy': 1.0,\n",
            " 'test_loss': 0.0005140290595591068,\n",
            " 'test_runtime': 2.3477,\n",
            " 'test_samples_per_second': 23.001,\n",
            " 'test_steps_per_second': 0.852}\n"
          ]
        }
      ]
    },
    {
      "cell_type": "code",
      "source": [
        "# 12. Make sure the model works by testing it on a custom sample\n",
        "from transformers import pipeline\n",
        "food_not_food_classifier = pipeline(task = 'text-classification',\n",
        "                                    model = model_save_dir,\n",
        "                                    device = torch.device('cuda') if torch.cuda.is_available() else torch.device('cpu'),\n",
        "                                    top_k = 1,\n",
        "                                    batch_size = 32\n",
        "                                    )\n",
        "\n",
        "food_not_food_classifier('Yo!!! We just trained a food not food text classifier in ~150 lines of code in a single Google Colab cell!!!')"
      ],
      "metadata": {
        "colab": {
          "base_uri": "https://localhost:8080/"
        },
        "id": "fK0KelOBYiN4",
        "outputId": "2f86f66b-7860-4bf6-a7f1-532830136299"
      },
      "execution_count": null,
      "outputs": [
        {
          "output_type": "stream",
          "name": "stderr",
          "text": [
            "Device set to use cpu\n"
          ]
        },
        {
          "output_type": "execute_result",
          "data": {
            "text/plain": [
              "[[{'label': 'not_food', 'score': 0.9988805651664734}]]"
            ]
          },
          "metadata": {},
          "execution_count": 30
        }
      ]
    },
    {
      "cell_type": "markdown",
      "source": [
        "## Turning our model into a demo\n",
        "\n",
        "Turning a model into a demo helps you share it with others so they can try it out.\n",
        "\n",
        "It can potentially shed some insights into how your model could be improved.\n",
        "\n",
        "We'll create a machine learning model demo with Gradio: https://www.gradio.app/docs.\n",
        "\n",
        "Gradio helps to create the workflow: inputs -> model/function -> outputs\n",
        "\n",
        "1. ✅Create and preprocess data\n",
        "2. ✅Define the model we'd like to use for our problem: https://huggingface.co/models or see the \"task guides\" in HF Transformers docs: https://huggingface.co/docs/transformers/main/en/tasks/sequence_classification\n",
        "3. ✅Define our training arguments for training our model 'transformers.TrainingArguments'\n",
        "  * These are also known as \"hyperparameters\" = settings on your model that you can adjust\n",
        "  * Parameters = weights/patterns in the model that get updated automatically\n",
        "4. ✅Pass 'TrainingArguments' to an instance of 'transformers.Trainer'\n",
        "5. ✅Train the model by calling 'Trainer.train()'\n",
        "6. ✅Save the model (to our local machine or to the Hugging Face Hub)\n",
        "7. ✅Evaluate the trained model by making and inspecting predictions on the test data (and our own custom data of course!)\n",
        "8. Turn the model into a shareable demo"
      ],
      "metadata": {
        "id": "CqFMtHYGehur"
      }
    },
    {
      "cell_type": "markdown",
      "source": [
        "### Creating a function to perform inference\n",
        "\n",
        "1. Take an input of string.\n",
        "2. Set up a text classification pipeline.\n",
        "3. Get the output from the pipeline.\n",
        "4. Return the output from the pipeline in step 3 as a dictionary with the format: {'label_1': probability_1, 'label_2': probability_2}\n"
      ],
      "metadata": {
        "id": "BdfdnODQT4ML"
      }
    },
    {
      "cell_type": "code",
      "source": [
        "hugging_face_model_path = 'turtlemb/hf_extended_food_not_food_text_classifier-distilbert-base-uncased'"
      ],
      "metadata": {
        "id": "-nLlagwsahW_"
      },
      "execution_count": 37,
      "outputs": []
    },
    {
      "cell_type": "code",
      "source": [
        "from typing import Dict\n",
        "from transformers import pipeline\n",
        "import torch\n",
        "\n",
        "# 1. Create a function to take a string input\n",
        "def food_not_food_classifier(text: str) -> Dict[str, float]:\n",
        "  # 2. Setup food not food text classifier\n",
        "  food_not_food_classifier_pipeline = pipeline(task = 'text-classification',\n",
        "                                      model = hugging_face_model_path,\n",
        "                                      batch_size = 32,\n",
        "                                      device = 'cuda' if torch.cuda.is_available() else 'cpu',\n",
        "                                      top_k = None) # top_k = None => return all possible labels\n",
        "\n",
        "  # 3. Get the outputs from our pipeline\n",
        "  outputs = food_not_food_classifier_pipeline(text)[0]\n",
        "\n",
        "\n",
        "  # 4. Format output for Gradio\n",
        "  output_dict = {}\n",
        "  output_dict_all = {}\n",
        "  for item in outputs:\n",
        "    output_dict[item['label']] = item['score']\n",
        "    output_dict_all = item\n",
        "  return output_dict, output_dict_all\n",
        "\n",
        "\n",
        "\n",
        "food_not_food_classifier(text = 'Yo we\\'re building a local')\n"
      ],
      "metadata": {
        "colab": {
          "base_uri": "https://localhost:8080/"
        },
        "id": "2oRE6CPqeg8I",
        "outputId": "aa5d17f9-5429-4728-8068-ce1f9aeb01b3"
      },
      "execution_count": 38,
      "outputs": [
        {
          "output_type": "stream",
          "name": "stderr",
          "text": [
            "Device set to use cuda\n"
          ]
        },
        {
          "output_type": "execute_result",
          "data": {
            "text/plain": [
              "({'not_food': 0.998228132724762, 'food': 0.0017719040624797344},\n",
              " {'label': 'food', 'score': 0.0017719040624797344})"
            ]
          },
          "metadata": {},
          "execution_count": 38
        }
      ]
    },
    {
      "cell_type": "markdown",
      "source": [
        "### Building a small Gradio demo to run locally"
      ],
      "metadata": {
        "id": "A_bUXG_l75rG"
      }
    },
    {
      "cell_type": "code",
      "source": [
        "# 1. Import Gradio\n",
        "try:\n",
        "  import gradio as gr\n",
        "except ModuleNotFoundError:\n",
        "  !pip install -U gradio\n",
        "  import gradio as gr\n",
        "\n",
        "# 2. Create a gradio interface - https://www.gradio.app/docs/gradio/interface\n",
        "demo = gr.Interface(\n",
        "    fn = food_not_food_classifier,\n",
        "    inputs = 'text',\n",
        "    outputs = gr.Label(num_top_classes = 2),\n",
        "    title = 'Food Not Food Classifier',\n",
        "    description = 'A text classifier to determine if a sentence is about food or not.',\n",
        "    examples = [['I whipped up a fresh batch of code, but it seems to have syntax errors.'],\n",
        "                ['A plate of pancakes and strawberry icing.']]\n",
        ")\n",
        "\n",
        "# 3. Launch the interface\n",
        "demo.launch()"
      ],
      "metadata": {
        "colab": {
          "base_uri": "https://localhost:8080/",
          "height": 643
        },
        "id": "N8atpEBi7_F3",
        "outputId": "5a139d85-caf2-4f25-e5c5-23e8decdb5fa"
      },
      "execution_count": 39,
      "outputs": [
        {
          "output_type": "stream",
          "name": "stdout",
          "text": [
            "Running Gradio in a Colab notebook requires sharing enabled. Automatically setting `share=True` (you can turn this off by setting `share=False` in `launch()` explicitly).\n",
            "\n",
            "Colab notebook detected. To show errors in colab notebook, set debug=True in launch()\n",
            "* Running on public URL: https://5a5b228744d0930d41.gradio.live\n",
            "\n",
            "This share link expires in 72 hours. For free permanent hosting and GPU upgrades, run `gradio deploy` from the terminal in the working directory to deploy to Hugging Face Spaces (https://huggingface.co/spaces)\n"
          ]
        },
        {
          "output_type": "display_data",
          "data": {
            "text/plain": [
              "<IPython.core.display.HTML object>"
            ],
            "text/html": [
              "<div><iframe src=\"https://5a5b228744d0930d41.gradio.live\" width=\"100%\" height=\"500\" allow=\"autoplay; camera; microphone; clipboard-read; clipboard-write;\" frameborder=\"0\" allowfullscreen></iframe></div>"
            ]
          },
          "metadata": {}
        },
        {
          "output_type": "execute_result",
          "data": {
            "text/plain": []
          },
          "metadata": {},
          "execution_count": 39
        }
      ]
    },
    {
      "cell_type": "markdown",
      "source": [
        "## Making our demo publicly accessible\n",
        "\n",
        "There are two main ways to make our demo publicly accessible with Hugging Face Spaces:\n",
        "\n",
        "1. Manually - We can go to huggingface.co/spaces -> 'Create new space' -> add our files and publish!\n",
        "\n",
        "2. Programmatically - We can use the Hugging Face Hub Python API and add our files to a Space with code.\n",
        "\n",
        "To create a Space programmatically we're going to need three files:\n",
        "\n",
        "1. 'app.py' - This is the main app with functionality of our demo.\n",
        "2. 'requirements.txt' - These are the dependencies which our app will require.\n",
        "3. 'README.md' - This will explain what our project/demo is about. And will also add some metadata in YAML format.\n",
        "\n",
        "To create these we'll use the following file structure:\n",
        "\n",
        "```\n",
        "demos/\n",
        "└── food_not_food_text_classifier/\n",
        "    ├── app.py\n",
        "    ├── README.md\n",
        "    └── requirements.txt\n",
        "```"
      ],
      "metadata": {
        "id": "IXjRInJEDRFP"
      }
    },
    {
      "cell_type": "markdown",
      "source": [
        "### Making a directory to store our demo"
      ],
      "metadata": {
        "id": "r82Cpum-Iham"
      }
    },
    {
      "cell_type": "code",
      "source": [
        "from pathlib import Path\n",
        "\n",
        "# Make directory for demos\n",
        "demos_dir = Path('../demos')\n",
        "demos_dir.mkdir(exist_ok = True)\n",
        "\n",
        "# Create a folder for the food_not_food_text_classifier demo\n",
        "food_not_food_text_classifier_demo_dir = Path(demos_dir, 'food_not_food_text_classifier')\n",
        "food_not_food_text_classifier_demo_dir.mkdir(exist_ok = True)"
      ],
      "metadata": {
        "id": "zoa6vWb9EcHC"
      },
      "execution_count": 40,
      "outputs": []
    },
    {
      "cell_type": "markdown",
      "source": [
        "### Making an app.py file\n",
        "\n",
        "Our 'app.py' will contain the main logic of our application to run.\n",
        "\n",
        "When we upload it to Hugging Face Spaces, Spaces will try to run app.py automatically.\n",
        "\n",
        "In our 'app.py' file we want to:\n",
        "\n",
        "1. Import packages.\n",
        "2. Define our function to use our model (this will work with Gradio).\n",
        "3. Create a demo with Gradio.\n",
        "4. Run the demo with demo.launch().\n",
        "\n",
        "To create each of our files, we're going to use the magic command %%writefile - https://ipython.readthedocs.io/en/stable/interactive/magics.html#cellmagic-writefile\n",
        "\n",
        "To see all the files we're making, go here:\n"
      ],
      "metadata": {
        "id": "Aay4qp35K-x_"
      }
    },
    {
      "cell_type": "code",
      "source": [
        "%%writefile ../demos/food_not_food_text_classifier/app.py\n",
        "# 1. Import the required packages\n",
        "import torch\n",
        "import gradio as gr\n",
        "\n",
        "from typing import Dict\n",
        "from transformers import pipeline\n",
        "\n",
        "# 2. Define our function to use with our model.\n",
        "def food_not_food_classifier(text: str) -> Dict[str, float]:\n",
        "  # 2. Setup food not food text classifier\n",
        "  food_not_food_classifier_pipeline = pipeline(task = 'text-classification',\n",
        "                                      model = 'turtlemb/hf_extended_food_not_food_text_classifier-distilbert-base-uncased',\n",
        "                                      batch_size = 32,\n",
        "                                      device = 'cuda' if torch.cuda.is_available() else 'cpu',\n",
        "                                      top_k = None) # top_k = None => return all possible labels\n",
        "\n",
        "  # 3. Get the outputs from our pipeline\n",
        "  outputs = food_not_food_classifier_pipeline(text)[0]\n",
        "\n",
        "\n",
        "  # 4. Format output for Gradio\n",
        "  output_dict = {}\n",
        "  for item in outputs:\n",
        "    output_dict[item['label']] = item['score']\n",
        "\n",
        "  return output_dict\n",
        "\n",
        "# 5. Create a Gradio interface\n",
        "description = '''\n",
        "A text classifier to determine if a sentence is about food or not food.\n",
        "\n",
        "Fined-tuned from [DistilBERT](https://huggingface.co/distilbert/distilbert-base-uncased) a [dataset of LLM generated food/not_food image captions](https://huggingface.co/datasets/turtlemb/hf_extended_food_not_food_image_captions).\n",
        "\n",
        "See [source code](https://github.com/turtlemb/hugging_face/blob/main/notebooks/hugging_face_text_classification_AI_model.ipynb)\n",
        "'''\n",
        "\n",
        "demo = gr.Interface(\n",
        "    fn = food_not_food_classifier,\n",
        "    inputs = 'text',\n",
        "    outputs = gr.Label(num_top_classes = 2),\n",
        "    title = '🍎🚫🍓 Food or Not Food Text Classifier',\n",
        "    description = description,\n",
        "    examples = [['I whipped up a fresh batch of code, but it seems to have syntax errors.'],\n",
        "                ['A plate of pancakes and strawberry icing.']]\n",
        ")\n",
        "\n",
        "# 6. Launch the interface\n",
        "if __name__ == '__main__':\n",
        "  demo.launch()"
      ],
      "metadata": {
        "colab": {
          "base_uri": "https://localhost:8080/"
        },
        "id": "y6Mx0Aa1LBmZ",
        "outputId": "f0d33251-45cf-44a1-b658-bb9f49c03613"
      },
      "execution_count": 41,
      "outputs": [
        {
          "output_type": "stream",
          "name": "stdout",
          "text": [
            "Overwriting ../demos/food_not_food_text_classifier/app.py\n"
          ]
        }
      ]
    },
    {
      "cell_type": "markdown",
      "source": [
        "### Making a README file\n",
        "\n",
        "This file is in markdown format.\n",
        "\n",
        "With a special YAML block at the top.\n",
        "\n",
        "The YAML block at the top is used for metadata + settings, see an example here: https://huggingface.co/docs/hub/en/spaces-config-reference#spaces-configuration-reference"
      ],
      "metadata": {
        "id": "6ZRZsvIHHcyU"
      }
    },
    {
      "cell_type": "code",
      "source": [
        "%%writefile ../demos/food_not_food_text_classifier/README.md\n",
        "---\n",
        "title: Food Not Food Text Classifier\n",
        "emoji: 🍎🚫🍓\n",
        "colorFrom: green\n",
        "colorTo: indigo\n",
        "sdk: gradio\n",
        "sdk_version: 5.20.0\n",
        "app_file: app.py\n",
        "pinned: true\n",
        "license: apache-2.0\n",
        "---\n",
        "\n",
        "# 🍎🚫🍓 Food or Not Food Text Classifier\n",
        "\n",
        "Small text classifier demo that determines if a sentence is about food or not.\n",
        "\n",
        "DistilBERT model fine-tuned on a small dataset of [270 LLM generated food/not_food image captions](https://huggingface.co/datasets/turtlemb/hf_extended_food_not_food_image_captions).\n",
        "\n",
        "See [source code notebook](https://github.com/turtlemb/hugging_face/blob/main/notebooks/hugging_face_text_classification_AI_model.ipynb)\n"
      ],
      "metadata": {
        "colab": {
          "base_uri": "https://localhost:8080/"
        },
        "id": "3Xpvp_j2Huzy",
        "outputId": "2c84e74a-741a-42b7-fe6f-24becbd6c52c"
      },
      "execution_count": 42,
      "outputs": [
        {
          "output_type": "stream",
          "name": "stdout",
          "text": [
            "Overwriting ../demos/food_not_food_text_classifier/README.md\n"
          ]
        }
      ]
    },
    {
      "cell_type": "markdown",
      "source": [
        "### Making a requirements file\n",
        "\n",
        "This file is going to tell our Hugging Face Space which packages and versions to use.\n",
        "\n",
        "If we don't create this file, we may get an error such as:\n",
        "\n",
        "```\n",
        "===== Application Startup at 2024-06-13 05:37:21 =====\n",
        "\n",
        "Traceback (most recent call last):\n",
        "  File \"/home/user/app/app.py\", line 1, in <module>\n",
        "    import torch\n",
        "ModuleNotFoundError: No module named 'torch'\n",
        "```"
      ],
      "metadata": {
        "id": "dLD4LCFbBp2_"
      }
    },
    {
      "cell_type": "code",
      "source": [
        "import transformers"
      ],
      "metadata": {
        "id": "-js_HqaDGKWI"
      },
      "execution_count": 12,
      "outputs": []
    },
    {
      "cell_type": "code",
      "source": [
        "transformers.__version__"
      ],
      "metadata": {
        "colab": {
          "base_uri": "https://localhost:8080/",
          "height": 35
        },
        "id": "wASW1UuDGOE7",
        "outputId": "5d895534-28b2-4758-c4a5-d75a9d7b2373"
      },
      "execution_count": 13,
      "outputs": [
        {
          "output_type": "execute_result",
          "data": {
            "text/plain": [
              "'4.48.3'"
            ],
            "application/vnd.google.colaboratory.intrinsic+json": {
              "type": "string"
            }
          },
          "metadata": {},
          "execution_count": 13
        }
      ]
    },
    {
      "cell_type": "code",
      "source": [
        "import gradio\n",
        "gradio.__version__"
      ],
      "metadata": {
        "colab": {
          "base_uri": "https://localhost:8080/",
          "height": 35
        },
        "id": "GrWYX-9gGdyW",
        "outputId": "74271bd2-8149-4ad9-fbb8-c087e7c78247"
      },
      "execution_count": 14,
      "outputs": [
        {
          "output_type": "execute_result",
          "data": {
            "text/plain": [
              "'5.20.1'"
            ],
            "application/vnd.google.colaboratory.intrinsic+json": {
              "type": "string"
            }
          },
          "metadata": {},
          "execution_count": 14
        }
      ]
    },
    {
      "cell_type": "code",
      "source": [
        "import torch\n",
        "torch.__version__"
      ],
      "metadata": {
        "colab": {
          "base_uri": "https://localhost:8080/",
          "height": 35
        },
        "id": "ThmiSbRRGvTq",
        "outputId": "1325e58f-1549-411f-f190-1e3b8673fa82"
      },
      "execution_count": 44,
      "outputs": [
        {
          "output_type": "execute_result",
          "data": {
            "text/plain": [
              "'2.5.1+cu124'"
            ],
            "application/vnd.google.colaboratory.intrinsic+json": {
              "type": "string"
            }
          },
          "metadata": {},
          "execution_count": 44
        }
      ]
    },
    {
      "cell_type": "code",
      "source": [
        "%%writefile ../demos/food_not_food_text_classifier/requirements.txt\n",
        "gradio == 5.20.0\n",
        "torch == 2.6.0\n",
        "transformers == 4.48.3"
      ],
      "metadata": {
        "colab": {
          "base_uri": "https://localhost:8080/"
        },
        "id": "FRjxfjOlIw61",
        "outputId": "7b9218d5-76d9-411c-e63b-d86fde0ec6f1"
      },
      "execution_count": 45,
      "outputs": [
        {
          "output_type": "stream",
          "name": "stdout",
          "text": [
            "Overwriting ../demos/food_not_food_text_classifier/requirements.txt\n"
          ]
        }
      ]
    },
    {
      "cell_type": "markdown",
      "source": [
        "### Uploading our demo to Hugging Face Spaces\n",
        "\n",
        "To do so, we'll use the Hugging Face Python API.\n",
        "\n",
        "* Hub Python API - https://huggingface.co/docs/huggingface_hub/index\n",
        "* Hugging Face with git - https://huggingface.co/docs/hub/index\n",
        "\n",
        "To get our demo on HF Spaces, we can do the following:\n",
        "\n",
        "1. Import necessary functions\n",
        "2. Define what we want to upload + different file names\n",
        "3. Create a repo: https://huggingface.co/docs/huggingface_hub/guides/repository\n",
        "4. Get the name of our repo from the upload: https://huggingface.co/docs/huggingface_hub/v0.29.2/en/package_reference/hf_api#huggingface_hub.HfApi.get_full_repo_name\n",
        "5. Upload the contents of our `../demos/food_not_food_text_classifier/` to our Hugging Face Hub repo: https://huggingface.co/docs/huggingface_hub/guides/upload\n",
        "6. Hope it all works and inspect the results!"
      ],
      "metadata": {
        "id": "z3LKsnBiHSVa"
      }
    },
    {
      "cell_type": "code",
      "source": [
        "# 1. Import the required methods for uploading to the HF Hub\n",
        "from huggingface_hub import (\n",
        "    create_repo,\n",
        "    get_full_repo_name,\n",
        "    upload_file,\n",
        "    upload_folder\n",
        ")\n",
        "\n",
        "# 2. Define the parameters we'd like to use for uploading our Space\n",
        "LOCAL_DEMO_FOLDER_PATH_TO_UPLOAD = '../demos/food_not_food_text_classifier'\n",
        "HF_TARGET_SPACE_NAME = 'hf_extended_food_not_food_text_classifier'\n",
        "HF_REPO_TYPE = 'space'\n",
        "HF_SPACE_SDK = 'gradio'\n",
        "# HF_TOKEN = 'YOUR_HUGGING_FACE_TOKEN_HERE'\n",
        "\n",
        "# 3. Create a Space repo on Hugging Face Hub\n",
        "print(f'[INFO] Creating repo on Hugging Face Hub with name: {HF_TARGET_SPACE_NAME}')\n",
        "create_repo(\n",
        "    repo_id = HF_TARGET_SPACE_NAME,\n",
        "    # token = HF_TOKEN,\n",
        "    repo_type = HF_REPO_TYPE,\n",
        "    private = False, # set to True if you want your repo to be private\n",
        "    space_sdk = HF_SPACE_SDK,\n",
        "    exist_ok = True # will overwrite an existing repo with the same name, choose False to prevent overwrite\n",
        ")\n",
        "\n",
        "# 4. Get the full repo name (e.g. {username}/{repo_name})\n",
        "hf_full_repo_name = get_full_repo_name(model_id = HF_TARGET_SPACE_NAME)\n",
        "print(f'[INFO] Full Hugging Face Hub repo name: {hf_full_repo_name}')\n",
        "\n",
        "# 5. Upload our demo folder\n",
        "print(f'[INFO] Uploading {LOCAL_DEMO_FOLDER_PATH_TO_UPLOAD} to repo: {hf_full_repo_name}')\n",
        "folder_upload_url = upload_folder(\n",
        "    repo_id = hf_full_repo_name,\n",
        "    folder_path = LOCAL_DEMO_FOLDER_PATH_TO_UPLOAD,\n",
        "    path_in_repo = '.', # save to root directory\n",
        "    # token = HF_TOKEN,\n",
        "    repo_type = HF_REPO_TYPE,\n",
        "    commit_message = 'Uploading our food not food text classifier demo from Colab notebook!'\n",
        ")\n",
        "print(f'[INFO] Demo folder successfully uploaded with commit URL: {folder_upload_url}')"
      ],
      "metadata": {
        "colab": {
          "base_uri": "https://localhost:8080/"
        },
        "id": "yhrpfLZVHmk6",
        "outputId": "8edf587b-6b2e-4bf4-b523-5fad049f736d"
      },
      "execution_count": 46,
      "outputs": [
        {
          "output_type": "stream",
          "name": "stdout",
          "text": [
            "[INFO] Creating repo on Hugging Face Hub with name: hf_extended_food_not_food_text_classifier\n",
            "[INFO] Full Hugging Face Hub repo name: turtlemb/hf_extended_food_not_food_text_classifier\n",
            "[INFO] Uploading ../demos/food_not_food_text_classifier to repo: turtlemb/hf_extended_food_not_food_text_classifier\n",
            "[INFO] Demo folder successfully uploaded with commit URL: https://huggingface.co/spaces/turtlemb/hf_extended_food_not_food_text_classifier/tree/main/.\n"
          ]
        }
      ]
    }
  ]
}